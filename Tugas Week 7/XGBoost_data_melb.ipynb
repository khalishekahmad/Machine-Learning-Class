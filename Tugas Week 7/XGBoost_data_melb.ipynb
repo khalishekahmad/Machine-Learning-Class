{
  "nbformat": 4,
  "nbformat_minor": 0,
  "metadata": {
    "colab": {
      "provenance": []
    },
    "kernelspec": {
      "name": "python3",
      "display_name": "Python 3"
    },
    "language_info": {
      "name": "python"
    }
  },
  "cells": [
    {
      "cell_type": "markdown",
      "source": [
        "# Daffa Asyqar Ahmad Khalisheka\n",
        "\n",
        "# 1103200034\n",
        "\n",
        "# Machine Learning Class\n",
        "\n",
        "# Telkom University"
      ],
      "metadata": {
        "id": "mXhdUQOnFyTK"
      }
    },
    {
      "cell_type": "code",
      "execution_count": 49,
      "metadata": {
        "colab": {
          "base_uri": "https://localhost:8080/"
        },
        "id": "f3jbvl9_E5by",
        "outputId": "082cd854-ef81-49df-8f72-f7835f55d89c"
      },
      "outputs": [
        {
          "output_type": "stream",
          "name": "stdout",
          "text": [
            "Drive already mounted at /content/drive; to attempt to forcibly remount, call drive.mount(\"/content/drive\", force_remount=True).\n"
          ]
        }
      ],
      "source": [
        "# Import library Google Colab untuk mengakses Google Drive\n",
        "from google.colab import drive\n",
        "\n",
        "# Mount (pasang) Google Drive pada direktori /content/drive\n",
        "drive.mount('/content/drive')"
      ]
    },
    {
      "cell_type": "markdown",
      "source": [
        "Kode di atas digunakan dalam lingkungan Google Colab untuk mengakses Google Drive. Berikut penjelasan dari setiap baris kode:\n",
        "\n",
        "1. `from google.colab import drive`: Ini adalah pernyataan impor yang mengimpor modul `drive` dari pustaka `google.colab`. Modul ini digunakan untuk mengakses Google Drive dari lingkungan Google Colab.\n",
        "\n",
        "2. `drive.mount('/content/drive')`: Pada baris ini, kita memanggil metode `mount` dari modul `drive` yang telah diimpor sebelumnya. Metode ini digunakan untuk \"mount\" atau \"pasang\" Google Drive ke dalam direktori tertentu dalam lingkungan Google Colab. Di sini, Google Drive akan di-\"mount\" pada direktori `/content/drive`.\n",
        "\n",
        "Dengan kata lain, kode ini menghubungkan Google Drive pengguna dengan lingkungan Google Colab, sehingga pengguna dapat mengakses dan mengelola file dan folder di Google Drive mereka langsung dari lingkungan Colab tersebut. Setelah menjalankan kode ini, Anda akan diminta untuk memberikan izin dan mengautentikasi akun Google Anda agar dapat mengakses Google Drive dari Colab."
      ],
      "metadata": {
        "id": "6g8h3-GS5SKx"
      }
    },
    {
      "cell_type": "code",
      "source": [
        "# Import library Pandas dan menggantikan 'pd' sebagai alias untuk penggunaan lebih lanjut\n",
        "import pandas as pd"
      ],
      "metadata": {
        "id": "gnhsc-XkI4G-"
      },
      "execution_count": 50,
      "outputs": []
    },
    {
      "cell_type": "markdown",
      "source": [
        "Kode di atas adalah contoh penggunaan perintah Python yang mengimpor perpustakaan Pandas ke dalam program. Pandas adalah perpustakaan yang digunakan untuk melakukan analisis dan manipulasi data dalam Python. Pada kode tersebut, perintah `import pandas as pd` digunakan untuk mengimpor perpustakaan Pandas dan memberikan alias \"pd\" ke perpustakaan tersebut. Alias ini digunakan untuk memudahkan penggunaan Pandas di seluruh program, karena dengan menggunakan \"pd,\" kita dapat mengakses berbagai fungsi dan objek Pandas tanpa harus mengetik \"pandas\" secara penuh setiap kali.\n",
        "\n",
        "Dengan kata lain, kode di atas mengimpor Pandas dan menggantikan \"pandas\" dengan \"pd\" sehingga kita dapat mengakses fungsi-fungsi Pandas dengan lebih mudah, misalnya dengan menuliskan `pd.read_csv()` untuk membaca file CSV atau `pd.DataFrame()` untuk membuat kerangka data (dataframe) Pandas."
      ],
      "metadata": {
        "id": "mz2SqolR5UKK"
      }
    },
    {
      "cell_type": "code",
      "source": [
        "#Membaca file CSV yang berisi data ke dalam sebuah DataFrame\n",
        "data = pd.read_csv('/content/drive/MyDrive/Dataset/melb_data.csv')"
      ],
      "metadata": {
        "id": "crHGgnnZI6Qk"
      },
      "execution_count": 51,
      "outputs": []
    },
    {
      "cell_type": "markdown",
      "source": [
        "Kode di atas digunakan untuk membaca file CSV yang berisi data ke dalam sebuah DataFrame menggunakan library pandas (yang diasumsikan sudah diimpor sebelumnya).\n",
        "\n",
        "- `data` adalah nama variabel yang digunakan untuk menyimpan DataFrame yang akan dibaca dari file CSV.\n",
        "- `pd.read_csv()` adalah fungsi dari library pandas yang digunakan untuk membaca file CSV. Fungsi ini mengambil satu argumen yaitu lokasi/path dari file CSV yang akan dibaca.\n",
        "- `'/content/drive/MyDrive/Dataset/melb_data.csv'` adalah argumen yang diberikan kepada fungsi `pd.read_csv()`, yang merupakan lokasi file CSV yang akan dibaca. Lokasi ini mungkin berbeda tergantung pada sistem penyimpanan file yang digunakan, dalam kasus ini asumsi bahwa file berada di direktori \"/content/drive/MyDrive/Dataset/melb_data.csv\".\n",
        "\n",
        "Jadi, kode ini akan membaca data dari file CSV yang disebut \"melb_data.csv\" dan menyimpannya dalam bentuk DataFrame dengan nama \"data\" sehingga data tersebut dapat diakses dan diolah lebih lanjut menggunakan pandas."
      ],
      "metadata": {
        "id": "Qo9hfUAA5eTB"
      }
    },
    {
      "cell_type": "code",
      "source": [
        "#Menampilkan isi dari dataset\n",
        "data"
      ],
      "metadata": {
        "colab": {
          "base_uri": "https://localhost:8080/",
          "height": 669
        },
        "id": "2HBcw4SuJPyG",
        "outputId": "62f317fa-a4bd-4688-89e7-361eae9d7981"
      },
      "execution_count": 52,
      "outputs": [
        {
          "output_type": "execute_result",
          "data": {
            "text/plain": [
              "              Suburb           Address  Rooms Type      Price Method  \\\n",
              "0         Abbotsford      85 Turner St      2    h  1480000.0      S   \n",
              "1         Abbotsford   25 Bloomburg St      2    h  1035000.0      S   \n",
              "2         Abbotsford      5 Charles St      3    h  1465000.0     SP   \n",
              "3         Abbotsford  40 Federation La      3    h   850000.0     PI   \n",
              "4         Abbotsford       55a Park St      4    h  1600000.0     VB   \n",
              "...              ...               ...    ...  ...        ...    ...   \n",
              "13575  Wheelers Hill      12 Strada Cr      4    h  1245000.0      S   \n",
              "13576   Williamstown     77 Merrett Dr      3    h  1031000.0     SP   \n",
              "13577   Williamstown       83 Power St      3    h  1170000.0      S   \n",
              "13578   Williamstown      96 Verdon St      4    h  2500000.0     PI   \n",
              "13579     Yarraville        6 Agnes St      4    h  1285000.0     SP   \n",
              "\n",
              "        SellerG        Date  Distance  Postcode  ...  Bathroom  Car  Landsize  \\\n",
              "0        Biggin   3/12/2016       2.5    3067.0  ...       1.0  1.0     202.0   \n",
              "1        Biggin   4/02/2016       2.5    3067.0  ...       1.0  0.0     156.0   \n",
              "2        Biggin   4/03/2017       2.5    3067.0  ...       2.0  0.0     134.0   \n",
              "3        Biggin   4/03/2017       2.5    3067.0  ...       2.0  1.0      94.0   \n",
              "4        Nelson   4/06/2016       2.5    3067.0  ...       1.0  2.0     120.0   \n",
              "...         ...         ...       ...       ...  ...       ...  ...       ...   \n",
              "13575     Barry  26/08/2017      16.7    3150.0  ...       2.0  2.0     652.0   \n",
              "13576  Williams  26/08/2017       6.8    3016.0  ...       2.0  2.0     333.0   \n",
              "13577     Raine  26/08/2017       6.8    3016.0  ...       2.0  4.0     436.0   \n",
              "13578   Sweeney  26/08/2017       6.8    3016.0  ...       1.0  5.0     866.0   \n",
              "13579   Village  26/08/2017       6.3    3013.0  ...       1.0  1.0     362.0   \n",
              "\n",
              "       BuildingArea  YearBuilt  CouncilArea Lattitude  Longtitude  \\\n",
              "0               NaN        NaN        Yarra -37.79960   144.99840   \n",
              "1              79.0     1900.0        Yarra -37.80790   144.99340   \n",
              "2             150.0     1900.0        Yarra -37.80930   144.99440   \n",
              "3               NaN        NaN        Yarra -37.79690   144.99690   \n",
              "4             142.0     2014.0        Yarra -37.80720   144.99410   \n",
              "...             ...        ...          ...       ...         ...   \n",
              "13575           NaN     1981.0          NaN -37.90562   145.16761   \n",
              "13576         133.0     1995.0          NaN -37.85927   144.87904   \n",
              "13577           NaN     1997.0          NaN -37.85274   144.88738   \n",
              "13578         157.0     1920.0          NaN -37.85908   144.89299   \n",
              "13579         112.0     1920.0          NaN -37.81188   144.88449   \n",
              "\n",
              "                       Regionname Propertycount  \n",
              "0           Northern Metropolitan        4019.0  \n",
              "1           Northern Metropolitan        4019.0  \n",
              "2           Northern Metropolitan        4019.0  \n",
              "3           Northern Metropolitan        4019.0  \n",
              "4           Northern Metropolitan        4019.0  \n",
              "...                           ...           ...  \n",
              "13575  South-Eastern Metropolitan        7392.0  \n",
              "13576        Western Metropolitan        6380.0  \n",
              "13577        Western Metropolitan        6380.0  \n",
              "13578        Western Metropolitan        6380.0  \n",
              "13579        Western Metropolitan        6543.0  \n",
              "\n",
              "[13580 rows x 21 columns]"
            ],
            "text/html": [
              "\n",
              "  <div id=\"df-412c0f4b-10ab-448e-919e-155c962cc7bb\" class=\"colab-df-container\">\n",
              "    <div>\n",
              "<style scoped>\n",
              "    .dataframe tbody tr th:only-of-type {\n",
              "        vertical-align: middle;\n",
              "    }\n",
              "\n",
              "    .dataframe tbody tr th {\n",
              "        vertical-align: top;\n",
              "    }\n",
              "\n",
              "    .dataframe thead th {\n",
              "        text-align: right;\n",
              "    }\n",
              "</style>\n",
              "<table border=\"1\" class=\"dataframe\">\n",
              "  <thead>\n",
              "    <tr style=\"text-align: right;\">\n",
              "      <th></th>\n",
              "      <th>Suburb</th>\n",
              "      <th>Address</th>\n",
              "      <th>Rooms</th>\n",
              "      <th>Type</th>\n",
              "      <th>Price</th>\n",
              "      <th>Method</th>\n",
              "      <th>SellerG</th>\n",
              "      <th>Date</th>\n",
              "      <th>Distance</th>\n",
              "      <th>Postcode</th>\n",
              "      <th>...</th>\n",
              "      <th>Bathroom</th>\n",
              "      <th>Car</th>\n",
              "      <th>Landsize</th>\n",
              "      <th>BuildingArea</th>\n",
              "      <th>YearBuilt</th>\n",
              "      <th>CouncilArea</th>\n",
              "      <th>Lattitude</th>\n",
              "      <th>Longtitude</th>\n",
              "      <th>Regionname</th>\n",
              "      <th>Propertycount</th>\n",
              "    </tr>\n",
              "  </thead>\n",
              "  <tbody>\n",
              "    <tr>\n",
              "      <th>0</th>\n",
              "      <td>Abbotsford</td>\n",
              "      <td>85 Turner St</td>\n",
              "      <td>2</td>\n",
              "      <td>h</td>\n",
              "      <td>1480000.0</td>\n",
              "      <td>S</td>\n",
              "      <td>Biggin</td>\n",
              "      <td>3/12/2016</td>\n",
              "      <td>2.5</td>\n",
              "      <td>3067.0</td>\n",
              "      <td>...</td>\n",
              "      <td>1.0</td>\n",
              "      <td>1.0</td>\n",
              "      <td>202.0</td>\n",
              "      <td>NaN</td>\n",
              "      <td>NaN</td>\n",
              "      <td>Yarra</td>\n",
              "      <td>-37.79960</td>\n",
              "      <td>144.99840</td>\n",
              "      <td>Northern Metropolitan</td>\n",
              "      <td>4019.0</td>\n",
              "    </tr>\n",
              "    <tr>\n",
              "      <th>1</th>\n",
              "      <td>Abbotsford</td>\n",
              "      <td>25 Bloomburg St</td>\n",
              "      <td>2</td>\n",
              "      <td>h</td>\n",
              "      <td>1035000.0</td>\n",
              "      <td>S</td>\n",
              "      <td>Biggin</td>\n",
              "      <td>4/02/2016</td>\n",
              "      <td>2.5</td>\n",
              "      <td>3067.0</td>\n",
              "      <td>...</td>\n",
              "      <td>1.0</td>\n",
              "      <td>0.0</td>\n",
              "      <td>156.0</td>\n",
              "      <td>79.0</td>\n",
              "      <td>1900.0</td>\n",
              "      <td>Yarra</td>\n",
              "      <td>-37.80790</td>\n",
              "      <td>144.99340</td>\n",
              "      <td>Northern Metropolitan</td>\n",
              "      <td>4019.0</td>\n",
              "    </tr>\n",
              "    <tr>\n",
              "      <th>2</th>\n",
              "      <td>Abbotsford</td>\n",
              "      <td>5 Charles St</td>\n",
              "      <td>3</td>\n",
              "      <td>h</td>\n",
              "      <td>1465000.0</td>\n",
              "      <td>SP</td>\n",
              "      <td>Biggin</td>\n",
              "      <td>4/03/2017</td>\n",
              "      <td>2.5</td>\n",
              "      <td>3067.0</td>\n",
              "      <td>...</td>\n",
              "      <td>2.0</td>\n",
              "      <td>0.0</td>\n",
              "      <td>134.0</td>\n",
              "      <td>150.0</td>\n",
              "      <td>1900.0</td>\n",
              "      <td>Yarra</td>\n",
              "      <td>-37.80930</td>\n",
              "      <td>144.99440</td>\n",
              "      <td>Northern Metropolitan</td>\n",
              "      <td>4019.0</td>\n",
              "    </tr>\n",
              "    <tr>\n",
              "      <th>3</th>\n",
              "      <td>Abbotsford</td>\n",
              "      <td>40 Federation La</td>\n",
              "      <td>3</td>\n",
              "      <td>h</td>\n",
              "      <td>850000.0</td>\n",
              "      <td>PI</td>\n",
              "      <td>Biggin</td>\n",
              "      <td>4/03/2017</td>\n",
              "      <td>2.5</td>\n",
              "      <td>3067.0</td>\n",
              "      <td>...</td>\n",
              "      <td>2.0</td>\n",
              "      <td>1.0</td>\n",
              "      <td>94.0</td>\n",
              "      <td>NaN</td>\n",
              "      <td>NaN</td>\n",
              "      <td>Yarra</td>\n",
              "      <td>-37.79690</td>\n",
              "      <td>144.99690</td>\n",
              "      <td>Northern Metropolitan</td>\n",
              "      <td>4019.0</td>\n",
              "    </tr>\n",
              "    <tr>\n",
              "      <th>4</th>\n",
              "      <td>Abbotsford</td>\n",
              "      <td>55a Park St</td>\n",
              "      <td>4</td>\n",
              "      <td>h</td>\n",
              "      <td>1600000.0</td>\n",
              "      <td>VB</td>\n",
              "      <td>Nelson</td>\n",
              "      <td>4/06/2016</td>\n",
              "      <td>2.5</td>\n",
              "      <td>3067.0</td>\n",
              "      <td>...</td>\n",
              "      <td>1.0</td>\n",
              "      <td>2.0</td>\n",
              "      <td>120.0</td>\n",
              "      <td>142.0</td>\n",
              "      <td>2014.0</td>\n",
              "      <td>Yarra</td>\n",
              "      <td>-37.80720</td>\n",
              "      <td>144.99410</td>\n",
              "      <td>Northern Metropolitan</td>\n",
              "      <td>4019.0</td>\n",
              "    </tr>\n",
              "    <tr>\n",
              "      <th>...</th>\n",
              "      <td>...</td>\n",
              "      <td>...</td>\n",
              "      <td>...</td>\n",
              "      <td>...</td>\n",
              "      <td>...</td>\n",
              "      <td>...</td>\n",
              "      <td>...</td>\n",
              "      <td>...</td>\n",
              "      <td>...</td>\n",
              "      <td>...</td>\n",
              "      <td>...</td>\n",
              "      <td>...</td>\n",
              "      <td>...</td>\n",
              "      <td>...</td>\n",
              "      <td>...</td>\n",
              "      <td>...</td>\n",
              "      <td>...</td>\n",
              "      <td>...</td>\n",
              "      <td>...</td>\n",
              "      <td>...</td>\n",
              "      <td>...</td>\n",
              "    </tr>\n",
              "    <tr>\n",
              "      <th>13575</th>\n",
              "      <td>Wheelers Hill</td>\n",
              "      <td>12 Strada Cr</td>\n",
              "      <td>4</td>\n",
              "      <td>h</td>\n",
              "      <td>1245000.0</td>\n",
              "      <td>S</td>\n",
              "      <td>Barry</td>\n",
              "      <td>26/08/2017</td>\n",
              "      <td>16.7</td>\n",
              "      <td>3150.0</td>\n",
              "      <td>...</td>\n",
              "      <td>2.0</td>\n",
              "      <td>2.0</td>\n",
              "      <td>652.0</td>\n",
              "      <td>NaN</td>\n",
              "      <td>1981.0</td>\n",
              "      <td>NaN</td>\n",
              "      <td>-37.90562</td>\n",
              "      <td>145.16761</td>\n",
              "      <td>South-Eastern Metropolitan</td>\n",
              "      <td>7392.0</td>\n",
              "    </tr>\n",
              "    <tr>\n",
              "      <th>13576</th>\n",
              "      <td>Williamstown</td>\n",
              "      <td>77 Merrett Dr</td>\n",
              "      <td>3</td>\n",
              "      <td>h</td>\n",
              "      <td>1031000.0</td>\n",
              "      <td>SP</td>\n",
              "      <td>Williams</td>\n",
              "      <td>26/08/2017</td>\n",
              "      <td>6.8</td>\n",
              "      <td>3016.0</td>\n",
              "      <td>...</td>\n",
              "      <td>2.0</td>\n",
              "      <td>2.0</td>\n",
              "      <td>333.0</td>\n",
              "      <td>133.0</td>\n",
              "      <td>1995.0</td>\n",
              "      <td>NaN</td>\n",
              "      <td>-37.85927</td>\n",
              "      <td>144.87904</td>\n",
              "      <td>Western Metropolitan</td>\n",
              "      <td>6380.0</td>\n",
              "    </tr>\n",
              "    <tr>\n",
              "      <th>13577</th>\n",
              "      <td>Williamstown</td>\n",
              "      <td>83 Power St</td>\n",
              "      <td>3</td>\n",
              "      <td>h</td>\n",
              "      <td>1170000.0</td>\n",
              "      <td>S</td>\n",
              "      <td>Raine</td>\n",
              "      <td>26/08/2017</td>\n",
              "      <td>6.8</td>\n",
              "      <td>3016.0</td>\n",
              "      <td>...</td>\n",
              "      <td>2.0</td>\n",
              "      <td>4.0</td>\n",
              "      <td>436.0</td>\n",
              "      <td>NaN</td>\n",
              "      <td>1997.0</td>\n",
              "      <td>NaN</td>\n",
              "      <td>-37.85274</td>\n",
              "      <td>144.88738</td>\n",
              "      <td>Western Metropolitan</td>\n",
              "      <td>6380.0</td>\n",
              "    </tr>\n",
              "    <tr>\n",
              "      <th>13578</th>\n",
              "      <td>Williamstown</td>\n",
              "      <td>96 Verdon St</td>\n",
              "      <td>4</td>\n",
              "      <td>h</td>\n",
              "      <td>2500000.0</td>\n",
              "      <td>PI</td>\n",
              "      <td>Sweeney</td>\n",
              "      <td>26/08/2017</td>\n",
              "      <td>6.8</td>\n",
              "      <td>3016.0</td>\n",
              "      <td>...</td>\n",
              "      <td>1.0</td>\n",
              "      <td>5.0</td>\n",
              "      <td>866.0</td>\n",
              "      <td>157.0</td>\n",
              "      <td>1920.0</td>\n",
              "      <td>NaN</td>\n",
              "      <td>-37.85908</td>\n",
              "      <td>144.89299</td>\n",
              "      <td>Western Metropolitan</td>\n",
              "      <td>6380.0</td>\n",
              "    </tr>\n",
              "    <tr>\n",
              "      <th>13579</th>\n",
              "      <td>Yarraville</td>\n",
              "      <td>6 Agnes St</td>\n",
              "      <td>4</td>\n",
              "      <td>h</td>\n",
              "      <td>1285000.0</td>\n",
              "      <td>SP</td>\n",
              "      <td>Village</td>\n",
              "      <td>26/08/2017</td>\n",
              "      <td>6.3</td>\n",
              "      <td>3013.0</td>\n",
              "      <td>...</td>\n",
              "      <td>1.0</td>\n",
              "      <td>1.0</td>\n",
              "      <td>362.0</td>\n",
              "      <td>112.0</td>\n",
              "      <td>1920.0</td>\n",
              "      <td>NaN</td>\n",
              "      <td>-37.81188</td>\n",
              "      <td>144.88449</td>\n",
              "      <td>Western Metropolitan</td>\n",
              "      <td>6543.0</td>\n",
              "    </tr>\n",
              "  </tbody>\n",
              "</table>\n",
              "<p>13580 rows × 21 columns</p>\n",
              "</div>\n",
              "    <div class=\"colab-df-buttons\">\n",
              "\n",
              "  <div class=\"colab-df-container\">\n",
              "    <button class=\"colab-df-convert\" onclick=\"convertToInteractive('df-412c0f4b-10ab-448e-919e-155c962cc7bb')\"\n",
              "            title=\"Convert this dataframe to an interactive table.\"\n",
              "            style=\"display:none;\">\n",
              "\n",
              "  <svg xmlns=\"http://www.w3.org/2000/svg\" height=\"24px\" viewBox=\"0 -960 960 960\">\n",
              "    <path d=\"M120-120v-720h720v720H120Zm60-500h600v-160H180v160Zm220 220h160v-160H400v160Zm0 220h160v-160H400v160ZM180-400h160v-160H180v160Zm440 0h160v-160H620v160ZM180-180h160v-160H180v160Zm440 0h160v-160H620v160Z\"/>\n",
              "  </svg>\n",
              "    </button>\n",
              "\n",
              "  <style>\n",
              "    .colab-df-container {\n",
              "      display:flex;\n",
              "      gap: 12px;\n",
              "    }\n",
              "\n",
              "    .colab-df-convert {\n",
              "      background-color: #E8F0FE;\n",
              "      border: none;\n",
              "      border-radius: 50%;\n",
              "      cursor: pointer;\n",
              "      display: none;\n",
              "      fill: #1967D2;\n",
              "      height: 32px;\n",
              "      padding: 0 0 0 0;\n",
              "      width: 32px;\n",
              "    }\n",
              "\n",
              "    .colab-df-convert:hover {\n",
              "      background-color: #E2EBFA;\n",
              "      box-shadow: 0px 1px 2px rgba(60, 64, 67, 0.3), 0px 1px 3px 1px rgba(60, 64, 67, 0.15);\n",
              "      fill: #174EA6;\n",
              "    }\n",
              "\n",
              "    .colab-df-buttons div {\n",
              "      margin-bottom: 4px;\n",
              "    }\n",
              "\n",
              "    [theme=dark] .colab-df-convert {\n",
              "      background-color: #3B4455;\n",
              "      fill: #D2E3FC;\n",
              "    }\n",
              "\n",
              "    [theme=dark] .colab-df-convert:hover {\n",
              "      background-color: #434B5C;\n",
              "      box-shadow: 0px 1px 3px 1px rgba(0, 0, 0, 0.15);\n",
              "      filter: drop-shadow(0px 1px 2px rgba(0, 0, 0, 0.3));\n",
              "      fill: #FFFFFF;\n",
              "    }\n",
              "  </style>\n",
              "\n",
              "    <script>\n",
              "      const buttonEl =\n",
              "        document.querySelector('#df-412c0f4b-10ab-448e-919e-155c962cc7bb button.colab-df-convert');\n",
              "      buttonEl.style.display =\n",
              "        google.colab.kernel.accessAllowed ? 'block' : 'none';\n",
              "\n",
              "      async function convertToInteractive(key) {\n",
              "        const element = document.querySelector('#df-412c0f4b-10ab-448e-919e-155c962cc7bb');\n",
              "        const dataTable =\n",
              "          await google.colab.kernel.invokeFunction('convertToInteractive',\n",
              "                                                    [key], {});\n",
              "        if (!dataTable) return;\n",
              "\n",
              "        const docLinkHtml = 'Like what you see? Visit the ' +\n",
              "          '<a target=\"_blank\" href=https://colab.research.google.com/notebooks/data_table.ipynb>data table notebook</a>'\n",
              "          + ' to learn more about interactive tables.';\n",
              "        element.innerHTML = '';\n",
              "        dataTable['output_type'] = 'display_data';\n",
              "        await google.colab.output.renderOutput(dataTable, element);\n",
              "        const docLink = document.createElement('div');\n",
              "        docLink.innerHTML = docLinkHtml;\n",
              "        element.appendChild(docLink);\n",
              "      }\n",
              "    </script>\n",
              "  </div>\n",
              "\n",
              "\n",
              "<div id=\"df-4d68f485-e953-409f-b7f0-f8ad9f6cc075\">\n",
              "  <button class=\"colab-df-quickchart\" onclick=\"quickchart('df-4d68f485-e953-409f-b7f0-f8ad9f6cc075')\"\n",
              "            title=\"Suggest charts.\"\n",
              "            style=\"display:none;\">\n",
              "\n",
              "<svg xmlns=\"http://www.w3.org/2000/svg\" height=\"24px\"viewBox=\"0 0 24 24\"\n",
              "     width=\"24px\">\n",
              "    <g>\n",
              "        <path d=\"M19 3H5c-1.1 0-2 .9-2 2v14c0 1.1.9 2 2 2h14c1.1 0 2-.9 2-2V5c0-1.1-.9-2-2-2zM9 17H7v-7h2v7zm4 0h-2V7h2v10zm4 0h-2v-4h2v4z\"/>\n",
              "    </g>\n",
              "</svg>\n",
              "  </button>\n",
              "\n",
              "<style>\n",
              "  .colab-df-quickchart {\n",
              "      --bg-color: #E8F0FE;\n",
              "      --fill-color: #1967D2;\n",
              "      --hover-bg-color: #E2EBFA;\n",
              "      --hover-fill-color: #174EA6;\n",
              "      --disabled-fill-color: #AAA;\n",
              "      --disabled-bg-color: #DDD;\n",
              "  }\n",
              "\n",
              "  [theme=dark] .colab-df-quickchart {\n",
              "      --bg-color: #3B4455;\n",
              "      --fill-color: #D2E3FC;\n",
              "      --hover-bg-color: #434B5C;\n",
              "      --hover-fill-color: #FFFFFF;\n",
              "      --disabled-bg-color: #3B4455;\n",
              "      --disabled-fill-color: #666;\n",
              "  }\n",
              "\n",
              "  .colab-df-quickchart {\n",
              "    background-color: var(--bg-color);\n",
              "    border: none;\n",
              "    border-radius: 50%;\n",
              "    cursor: pointer;\n",
              "    display: none;\n",
              "    fill: var(--fill-color);\n",
              "    height: 32px;\n",
              "    padding: 0;\n",
              "    width: 32px;\n",
              "  }\n",
              "\n",
              "  .colab-df-quickchart:hover {\n",
              "    background-color: var(--hover-bg-color);\n",
              "    box-shadow: 0 1px 2px rgba(60, 64, 67, 0.3), 0 1px 3px 1px rgba(60, 64, 67, 0.15);\n",
              "    fill: var(--button-hover-fill-color);\n",
              "  }\n",
              "\n",
              "  .colab-df-quickchart-complete:disabled,\n",
              "  .colab-df-quickchart-complete:disabled:hover {\n",
              "    background-color: var(--disabled-bg-color);\n",
              "    fill: var(--disabled-fill-color);\n",
              "    box-shadow: none;\n",
              "  }\n",
              "\n",
              "  .colab-df-spinner {\n",
              "    border: 2px solid var(--fill-color);\n",
              "    border-color: transparent;\n",
              "    border-bottom-color: var(--fill-color);\n",
              "    animation:\n",
              "      spin 1s steps(1) infinite;\n",
              "  }\n",
              "\n",
              "  @keyframes spin {\n",
              "    0% {\n",
              "      border-color: transparent;\n",
              "      border-bottom-color: var(--fill-color);\n",
              "      border-left-color: var(--fill-color);\n",
              "    }\n",
              "    20% {\n",
              "      border-color: transparent;\n",
              "      border-left-color: var(--fill-color);\n",
              "      border-top-color: var(--fill-color);\n",
              "    }\n",
              "    30% {\n",
              "      border-color: transparent;\n",
              "      border-left-color: var(--fill-color);\n",
              "      border-top-color: var(--fill-color);\n",
              "      border-right-color: var(--fill-color);\n",
              "    }\n",
              "    40% {\n",
              "      border-color: transparent;\n",
              "      border-right-color: var(--fill-color);\n",
              "      border-top-color: var(--fill-color);\n",
              "    }\n",
              "    60% {\n",
              "      border-color: transparent;\n",
              "      border-right-color: var(--fill-color);\n",
              "    }\n",
              "    80% {\n",
              "      border-color: transparent;\n",
              "      border-right-color: var(--fill-color);\n",
              "      border-bottom-color: var(--fill-color);\n",
              "    }\n",
              "    90% {\n",
              "      border-color: transparent;\n",
              "      border-bottom-color: var(--fill-color);\n",
              "    }\n",
              "  }\n",
              "</style>\n",
              "\n",
              "  <script>\n",
              "    async function quickchart(key) {\n",
              "      const quickchartButtonEl =\n",
              "        document.querySelector('#' + key + ' button');\n",
              "      quickchartButtonEl.disabled = true;  // To prevent multiple clicks.\n",
              "      quickchartButtonEl.classList.add('colab-df-spinner');\n",
              "      try {\n",
              "        const charts = await google.colab.kernel.invokeFunction(\n",
              "            'suggestCharts', [key], {});\n",
              "      } catch (error) {\n",
              "        console.error('Error during call to suggestCharts:', error);\n",
              "      }\n",
              "      quickchartButtonEl.classList.remove('colab-df-spinner');\n",
              "      quickchartButtonEl.classList.add('colab-df-quickchart-complete');\n",
              "    }\n",
              "    (() => {\n",
              "      let quickchartButtonEl =\n",
              "        document.querySelector('#df-4d68f485-e953-409f-b7f0-f8ad9f6cc075 button');\n",
              "      quickchartButtonEl.style.display =\n",
              "        google.colab.kernel.accessAllowed ? 'block' : 'none';\n",
              "    })();\n",
              "  </script>\n",
              "</div>\n",
              "    </div>\n",
              "  </div>\n"
            ]
          },
          "metadata": {},
          "execution_count": 52
        }
      ]
    },
    {
      "cell_type": "markdown",
      "source": [
        "Kode di atas merupakan contoh tampilan data dalam bentuk tabel atau dataframe. Data ini mungkin merupakan dataset yang digunakan dalam analisis data atau tugas pemrograman.\n",
        "\n",
        "Dataset ini memiliki berbagai kolom dengan berbagai informasi seperti:\n",
        "- Suburb: Nama daerah atau kota\n",
        "- Address: Alamat properti\n",
        "- Rooms: Jumlah kamar di dalam properti\n",
        "- Type: Jenis properti (misalnya, 'h' mungkin mengacu pada rumah)\n",
        "- Price: Harga properti\n",
        "- Method: Metode penjualan properti (misalnya, 'S' untuk penjualan langsung atau 'SP' untuk penjualan pribadi)\n",
        "- SellerG: Nama agen properti\n",
        "- Date: Tanggal penjualan properti\n",
        "- Distance: Jarak ke pusat kota\n",
        "- Postcode: Kode pos properti\n",
        "- ... (Ada kolom-kolom lainnya yang tidak ditampilkan dalam potongan kode ini)\n",
        "\n",
        "Data ini dapat digunakan untuk berbagai analisis, seperti memprediksi harga properti berdasarkan fitur-fiturnya atau menjalankan statistik deskriptif untuk memahami karakteristik dataset ini."
      ],
      "metadata": {
        "id": "1g9IFr955iI5"
      }
    },
    {
      "cell_type": "code",
      "source": [
        "# Ini adalah kode untuk menampilkan informasi tentang objek 'data'\n",
        "data.info()\n"
      ],
      "metadata": {
        "colab": {
          "base_uri": "https://localhost:8080/"
        },
        "id": "LoAurjWsJfUM",
        "outputId": "2e0f9a98-b65d-40d4-de2e-4dcace7a768f"
      },
      "execution_count": 53,
      "outputs": [
        {
          "output_type": "stream",
          "name": "stdout",
          "text": [
            "<class 'pandas.core.frame.DataFrame'>\n",
            "RangeIndex: 13580 entries, 0 to 13579\n",
            "Data columns (total 21 columns):\n",
            " #   Column         Non-Null Count  Dtype  \n",
            "---  ------         --------------  -----  \n",
            " 0   Suburb         13580 non-null  object \n",
            " 1   Address        13580 non-null  object \n",
            " 2   Rooms          13580 non-null  int64  \n",
            " 3   Type           13580 non-null  object \n",
            " 4   Price          13580 non-null  float64\n",
            " 5   Method         13580 non-null  object \n",
            " 6   SellerG        13580 non-null  object \n",
            " 7   Date           13580 non-null  object \n",
            " 8   Distance       13580 non-null  float64\n",
            " 9   Postcode       13580 non-null  float64\n",
            " 10  Bedroom2       13580 non-null  float64\n",
            " 11  Bathroom       13580 non-null  float64\n",
            " 12  Car            13518 non-null  float64\n",
            " 13  Landsize       13580 non-null  float64\n",
            " 14  BuildingArea   7130 non-null   float64\n",
            " 15  YearBuilt      8205 non-null   float64\n",
            " 16  CouncilArea    12211 non-null  object \n",
            " 17  Lattitude      13580 non-null  float64\n",
            " 18  Longtitude     13580 non-null  float64\n",
            " 19  Regionname     13580 non-null  object \n",
            " 20  Propertycount  13580 non-null  float64\n",
            "dtypes: float64(12), int64(1), object(8)\n",
            "memory usage: 2.2+ MB\n"
          ]
        }
      ]
    },
    {
      "cell_type": "markdown",
      "source": [
        "Kode di atas adalah potongan dari Python yang menggunakan pustaka Pandas untuk menampilkan informasi tentang sebuah DataFrame yang disimpan dalam variabel 'data'. DataFrame ini tampaknya berisi data tentang properti-properti, mungkin dalam konteks penjualan properti. Berikut adalah penjelasan dari hasil keluaran yang ditampilkan oleh kode tersebut:\n",
        "\n",
        "- `data.info()`: Ini adalah panggilan fungsi yang digunakan untuk menampilkan informasi tentang DataFrame 'data'. Fungsi ini akan memberikan informasi tentang jumlah baris, nama kolom, jumlah nilai non-null, tipe data kolom, dan penggunaan memori yang terkait dengan DataFrame ini.\n",
        "\n",
        "Hasil keluaran dari kode tersebut menjelaskan hal-hal berikut:\n",
        "\n",
        "1. `RangeIndex: 13580 entries, 0 to 13579`: Ini mengindikasikan bahwa DataFrame memiliki 13,580 baris (entri) dengan indeks (index) yang berkisar dari 0 hingga 13,579.\n",
        "\n",
        "2. `Data columns (total 21 columns)`: Menunjukkan bahwa DataFrame ini memiliki 21 kolom.\n",
        "\n",
        "3. Daftar kolom:\n",
        "   - 'Suburb', 'Address', 'Type', 'Method', 'SellerG', 'Date', 'CouncilArea', dan 'Regionname' adalah kolom dengan tipe data objek (teks atau string).\n",
        "   - 'Rooms', 'Postcode', 'Bedroom2', 'Bathroom', 'Car', 'Landsize', 'BuildingArea', 'YearBuilt', 'Lattitude', 'Longtitude', dan 'Propertycount' adalah kolom dengan tipe data numerik (int atau float).\n",
        "   - 'Price' adalah kolom dengan tipe data float.\n",
        "   \n",
        "4. 'Non-Null Count': Menunjukkan jumlah nilai non-null (tidak ada yang hilang) dalam setiap kolom. Kolom 'Car', 'BuildingArea', 'YearBuilt', dan 'CouncilArea' memiliki beberapa nilai yang hilang (NaN).\n",
        "\n",
        "5. 'Dtypes': Menunjukkan tipe data yang digunakan untuk setiap kolom dalam DataFrame.\n",
        "\n",
        "6. 'Memory usage': Menunjukkan estimasi penggunaan memori untuk DataFrame ini, yaitu sekitar 2.2+ MB.\n",
        "\n",
        "Kode ini memberikan informasi dasar tentang struktur dan tipe data dalam DataFrame 'data', yang dapat membantu dalam analisis dan pemrosesan lebih lanjut terhadap data properti ini."
      ],
      "metadata": {
        "id": "4r_M-_KD51UN"
      }
    },
    {
      "cell_type": "code",
      "source": [
        "# Menghitung jumlah nilai NaN (Not a Number) pada kolom 'Bedroom2'\n",
        "nan_count_bedroom2 = data['Bedroom2'].isna().sum()\n",
        "\n",
        "# Menghitung jumlah nilai NaN pada kolom 'Bathroom'\n",
        "nan_count_bathroom = data['Bathroom'].isna().sum()\n",
        "\n",
        "# Menghitung jumlah nilai NaN pada kolom 'Car'\n",
        "nan_count_car = data['Car'].isna().sum()\n",
        "\n",
        "# Menampilkan jumlah NaN pada kolom 'Bedroom2' ke layar\n",
        "print(f\"Jumlah NaN pada kolom Bedroom2: {nan_count_bedroom2}\")\n",
        "\n",
        "# Menampilkan jumlah NaN pada kolom 'Bathroom' ke layar\n",
        "print(f\"Jumlah NaN pada kolom Bathroom: {nan_count_bathroom}\")\n",
        "\n",
        "# Menampilkan jumlah NaN pada kolom 'Car' ke layar\n",
        "print(f\"Jumlah NaN pada kolom Car: {nan_count_car}\")\n"
      ],
      "metadata": {
        "colab": {
          "base_uri": "https://localhost:8080/"
        },
        "id": "kGcmh0VkLkHX",
        "outputId": "0a88df39-6d0f-4da6-a753-5dea9a609759"
      },
      "execution_count": 55,
      "outputs": [
        {
          "output_type": "stream",
          "name": "stdout",
          "text": [
            "Jumlah NaN pada kolom Bedroom2: 0\n",
            "Jumlah NaN pada kolom Bathroom: 0\n",
            "Jumlah NaN pada kolom Car: 62\n"
          ]
        }
      ]
    },
    {
      "cell_type": "markdown",
      "source": [
        "Kode di atas digunakan untuk menghitung jumlah nilai NaN (Not a Number) pada tiga kolom berbeda ('Bedroom2', 'Bathroom', dan 'Car') dalam sebuah dataset. Penghitungan dilakukan dengan menggunakan metode `.isna()` yang mengidentifikasi apakah setiap entri dalam kolom tersebut adalah NaN atau bukan, dan kemudian `.sum()` digunakan untuk menghitung total jumlah NaN dalam kolom tersebut.\n",
        "\n",
        "Hasil dari perhitungan tersebut kemudian dicetak ke layar menggunakan perintah `print()` untuk masing-masing kolom, sehingga pengguna dapat melihat berapa banyak nilai NaN yang ada dalam setiap kolom tersebut.\n",
        "\n",
        "Hasil dari perhitungan tersebut menunjukkan bahwa:\n",
        "- Jumlah NaN pada kolom 'Bedroom2' adalah 0.\n",
        "- Jumlah NaN pada kolom 'Bathroom' adalah 0.\n",
        "- Jumlah NaN pada kolom 'Car' adalah 62."
      ],
      "metadata": {
        "id": "zI6AptY_5_c1"
      }
    },
    {
      "cell_type": "code",
      "source": [
        "# Menghapus baris (data) yang memiliki nilai yang hilang (NaN) dalam kolom 'Car'\n",
        "data.dropna(subset=['Car'], inplace=True)\n"
      ],
      "metadata": {
        "id": "TvjNPQ8HOBbt"
      },
      "execution_count": 56,
      "outputs": []
    },
    {
      "cell_type": "markdown",
      "source": [
        "Kode di atas digunakan untuk menghapus baris (data) yang memiliki nilai yang hilang (NaN) dalam kolom 'Car' pada suatu dataframe atau dataset.\n",
        "\n",
        "- `data` adalah nama dataframe yang digunakan.\n",
        "- `.dropna()` adalah metode yang digunakan untuk menghapus baris-baris yang memiliki nilai yang hilang (NaN).\n",
        "- `subset=['Car']` mengindikasikan bahwa penghapusan hanya akan dilakukan pada kolom 'Car'.\n",
        "- `inplace=True` digunakan untuk mengubah dataframe `data` tanpa perlu membuat dataframe baru, sehingga perubahan tersebut akan dilakukan pada dataframe yang sama.\n",
        "\n",
        "Dengan demikian, kode di atas akan menghasilkan dataframe yang telah dimodifikasi, di mana semua baris yang memiliki nilai yang hilang (NaN) pada kolom 'Car' telah dihapus."
      ],
      "metadata": {
        "id": "nSU0BtGC6A74"
      }
    },
    {
      "cell_type": "code",
      "source": [
        "# Menghitung jumlah nilai NaN (missing values) dalam kolom 'Car' dari DataFrame 'data'\n",
        "nan_count_car = data['Car'].isna().sum()\n",
        "\n",
        "# Menampilkan jumlah nilai NaN dalam kolom 'Car' menggunakan f-string\n",
        "print(f\"Jumlah nilai NaN dalam kolom Car: {nan_count_car}\")\n"
      ],
      "metadata": {
        "colab": {
          "base_uri": "https://localhost:8080/"
        },
        "id": "uQo_qFJYOEUL",
        "outputId": "b5c4f26f-97bc-427e-fd73-320b3e40671a"
      },
      "execution_count": 59,
      "outputs": [
        {
          "output_type": "stream",
          "name": "stdout",
          "text": [
            "Jumlah nilai NaN dalam kolom Car: 0\n"
          ]
        }
      ]
    },
    {
      "cell_type": "markdown",
      "source": [
        "Kode di atas digunakan untuk menghitung jumlah nilai NaN (missing values) dalam kolom 'Car' dari suatu DataFrame yang disebut 'data'. Langkah-langkah yang dilakukan dalam kode tersebut adalah sebagai berikut:\n",
        "\n",
        "1. `nan_count_car = data['Car'].isna().sum()`: Di sini, kita mengambil kolom 'Car' dari DataFrame 'data' menggunakan `data['Car']`. Kemudian, kita menggunakan metode `.isna()` untuk menghasilkan Series yang berisi nilai True atau False, yang menunjukkan apakah setiap entri dalam kolom 'Car' adalah NaN atau tidak. Terakhir, kita menggunakan `.sum()` untuk menjumlahkan jumlah True (yang mewakili nilai NaN) dalam Series tersebut. Hasil perhitungan ini akan disimpan dalam variabel `nan_count_car`.\n",
        "\n",
        "2. `print(f\"Jumlah nilai NaN dalam kolom Car: {nan_count_car}\")`: Pada langkah ini, kita menggunakan f-string untuk mencetak hasil perhitungan di atas dalam bentuk pesan. Pesan ini akan mencetak jumlah nilai NaN dalam kolom 'Car' ke layar.\n",
        "\n",
        "Hasil dari kode ini adalah pesan \"Jumlah nilai NaN dalam kolom Car: 0\" yang menunjukkan bahwa dalam kolom 'Car' tidak ada nilai NaN, atau semua entri dalam kolom tersebut memiliki nilai yang valid."
      ],
      "metadata": {
        "id": "W9n9kw9-6fc5"
      }
    },
    {
      "cell_type": "code",
      "source": [
        "# Mengambil bentuk (shape) dari data\n",
        "data.shape\n"
      ],
      "metadata": {
        "colab": {
          "base_uri": "https://localhost:8080/"
        },
        "id": "kB2ioPhOOTlD",
        "outputId": "347a11b9-e7fd-43e6-e651-5fa9dbb66f0d"
      },
      "execution_count": 61,
      "outputs": [
        {
          "output_type": "execute_result",
          "data": {
            "text/plain": [
              "(13518, 21)"
            ]
          },
          "metadata": {},
          "execution_count": 61
        }
      ]
    },
    {
      "cell_type": "markdown",
      "source": [
        "Kode di atas adalah perintah dalam bahasa pemrograman Python yang digunakan untuk mengambil bentuk (shape) dari sebuah variabel yang disebut \"data.\" Bentuk data ini mengacu pada jumlah baris dan kolom yang ada dalam variabel tersebut. Dalam kasus ini, bentuk data \"data\" adalah (13518, 21), yang berarti variabel \"data\" memiliki 13.518 baris dan 21 kolom."
      ],
      "metadata": {
        "id": "P28fyMQT6nGu"
      }
    },
    {
      "cell_type": "code",
      "source": [
        "# Mengubah kolom 'Bedroom2' menjadi tipe data integer\n",
        "data['Bedroom2'] = data['Bedroom2'].astype(int)\n",
        "\n",
        "# Mengubah kolom 'Bathroom' menjadi tipe data integer\n",
        "data['Bathroom'] = data['Bathroom'].astype(int)\n",
        "\n",
        "# Mengubah kolom 'Car' menjadi tipe data integer\n",
        "data['Car'] = data['Car'].astype(int)\n"
      ],
      "metadata": {
        "id": "bJI3GCpkKV4R"
      },
      "execution_count": 62,
      "outputs": []
    },
    {
      "cell_type": "markdown",
      "source": [
        "Kode di atas digunakan untuk mengubah tipe data dari kolom-kolom tertentu dalam suatu dataframe yang disebut 'data'. Kolom-kolom yang diubah tipe datanya adalah 'Bedroom2', 'Bathroom', dan 'Car', yang semula mungkin memiliki tipe data yang berbeda menjadi tipe data integer (bilangan bulat).\n",
        "\n",
        "Langkah-langkah yang diambil dalam kode tersebut adalah sebagai berikut:\n",
        "\n",
        "1. `data['Bedroom2'] = data['Bedroom2'].astype(int)`: Kode ini mengambil kolom 'Bedroom2' dalam dataframe 'data' dan kemudian menggunakan metode `astype(int)` untuk mengubah tipe data dari kolom tersebut menjadi tipe data integer. Dengan demikian, kolom 'Bedroom2' akan hanya berisi bilangan bulat.\n",
        "\n",
        "2. `data['Bathroom'] = data['Bathroom'].astype(int)`: Kode ini melakukan hal yang sama dengan langkah sebelumnya, tetapi pada kolom 'Bathroom'. Kolom 'Bathroom' yang semula mungkin memiliki tipe data lain akan diubah menjadi tipe data integer.\n",
        "\n",
        "3. `data['Car'] = data['Car'].astype(int)`: Langkah ini juga mirip dengan langkah sebelumnya, tetapi diterapkan pada kolom 'Car'. Tipe data kolom 'Car' akan diubah menjadi integer.\n",
        "\n",
        "Dengan mengubah tipe data kolom-kolom ini menjadi integer, Anda dapat melakukan operasi matematika atau analisis data yang melibatkan kolom-kolom ini dengan lebih mudah, karena tipe data integer sesuai untuk operasi aritmatika, perbandingan, dan analisis statistik."
      ],
      "metadata": {
        "id": "-zzFCwoY6wyo"
      }
    },
    {
      "cell_type": "code",
      "source": [
        "# Pilih subset dari predictor (variabel independen) yang akan digunakan dalam analisis.\n",
        "cols_to_use = ['Rooms', 'Distance', 'Landsize', 'BuildingArea', 'YearBuilt']\n",
        "\n",
        "# Buat dataframe 'X' yang hanya berisi kolom-kolom yang terdapat dalam 'cols_to_use'.\n",
        "X = data[cols_to_use]\n"
      ],
      "metadata": {
        "id": "nU-crpvWKmJr"
      },
      "execution_count": 63,
      "outputs": []
    },
    {
      "cell_type": "markdown",
      "source": [
        "Kode di atas digunakan untuk memilih subset dari variabel independen (prediktor) yang akan digunakan dalam analisis data. Variabel independen ini disimpan dalam sebuah DataFrame yang diberi nama 'X'. Berikut penjelasan lebih detailnya:\n",
        "\n",
        "1. `cols_to_use` adalah sebuah daftar yang berisi nama-nama kolom yang akan digunakan sebagai prediktor dalam analisis. Dalam contoh ini, kita memilih lima kolom, yaitu 'Rooms', 'Distance', 'Landsize', 'BuildingArea', dan 'YearBuilt'.\n",
        "\n",
        "2. Kemudian, kita membuat sebuah DataFrame baru yang disebut 'X' dengan menggunakan data dari DataFrame yang sudah ada (disebut 'data') dan hanya memilih kolom-kolom yang terdapat dalam daftar `cols_to_use`. Ini dilakukan dengan menggunakan tanda kurung siku dan nama kolom yang ingin dipilih.\n",
        "\n",
        "Sebagai hasilnya, 'X' akan berisi hanya kolom-kolom yang tercantum dalam 'cols_to_use', dan ini akan menjadi subset dari data yang digunakan dalam analisis lebih lanjut. Ini berguna ketika Anda ingin fokus pada variabel-variabel tertentu dalam analisis statistik atau pembuatan model."
      ],
      "metadata": {
        "id": "tVXgr11V61uP"
      }
    },
    {
      "cell_type": "code",
      "source": [
        "# Select target\n",
        "y = data.Price\n"
      ],
      "metadata": {
        "id": "FJG72bZQOjcK"
      },
      "execution_count": 64,
      "outputs": []
    },
    {
      "cell_type": "markdown",
      "source": [
        "Kode di atas adalah potongan kode dalam bahasa pemrograman Python yang mengasumsikan ada variabel bernama `data` yang telah didefinisikan sebelumnya. Kode tersebut melakukan operasi berikut:\n",
        "\n",
        "1. Mengambil nilai dari kolom atau atribut yang disebut \"Price\" dari variabel `data` dan menyimpannya dalam variabel baru yang dinamakan `y`. Ini mengasumsikan bahwa `data` adalah suatu struktur data yang berisi beberapa jenis data, seperti dataframe atau dictionary, yang memiliki atribut \"Price\" yang berisi data harga.\n",
        "\n",
        "Hasil dari kode di atas adalah variabel `y` akan berisi data harga yang diambil dari `data`. Kode tersebut dapat digunakan untuk menganalisis atau memproses data harga lebih lanjut dalam konteks yang lebih luas."
      ],
      "metadata": {
        "id": "H4pq5q9T67Nh"
      }
    },
    {
      "cell_type": "code",
      "source": [
        "from sklearn.model_selection import train_test_split\n",
        "\n",
        "# Memisahkan data menjadi set pelatihan dan validasi\n",
        "X_train, X_valid, y_train, y_valid = train_test_split(X, y, random_state=42, test_size=0.3)\n"
      ],
      "metadata": {
        "id": "nlI79aH5PYVz"
      },
      "execution_count": 65,
      "outputs": []
    },
    {
      "cell_type": "markdown",
      "source": [
        "Kode di atas menggunakan modul `train_test_split` dari pustaka scikit-learn (sklearn) untuk memisahkan dataset menjadi dua bagian: set pelatihan (training set) dan set validasi (validation set).\n",
        "\n",
        "- `X` dan `y` adalah dua array atau matriks yang berisi fitur-fitur dan label-label dari dataset yang ingin dipisahkan.\n",
        "- `random_state=42` digunakan untuk mengatur generator angka acak agar hasil pemisahan data menjadi set pelatihan dan validasi konsisten jika kode dieksekusi ulang dengan parameter yang sama.\n",
        "- `test_size=0.3` mengindikasikan bahwa sekitar 30% dari data akan dialokasikan sebagai set validasi, sementara sisanya (70%) akan menjadi set pelatihan. Persentase pembagian ini dapat disesuaikan sesuai kebutuhan.\n",
        "\n",
        "Hasil dari pemisahan ini adalah:\n",
        "- `X_train` berisi data fitur dari set pelatihan.\n",
        "- `X_valid` berisi data fitur dari set validasi.\n",
        "- `y_train` berisi label-label yang sesuai dengan data fitur di set pelatihan.\n",
        "- `y_valid` berisi label-label yang sesuai dengan data fitur di set validasi.\n",
        "\n",
        "Dengan memisahkan dataset menjadi set pelatihan dan validasi, ini memungkinkan pengguna untuk melatih model machine learning pada set pelatihan dan mengukur kinerja model tersebut pada set validasi untuk menghindari overfitting dan mendapatkan perkiraan yang lebih baik tentang seberapa baik model akan berperform pada data yang belum pernah dilihat sebelumnya."
      ],
      "metadata": {
        "id": "nBiwLkW77ApI"
      }
    },
    {
      "cell_type": "code",
      "source": [
        "# Import library XGBRegressor dari XGBoost\n",
        "from xgboost import XGBRegressor\n",
        "\n",
        "# Membuat objek model XGBoost\n",
        "my_model = XGBRegressor()\n",
        "\n",
        "# Melatih model dengan data pelatihan X_train dan target y_train\n",
        "my_model.fit(X_train, y_train)\n"
      ],
      "metadata": {
        "colab": {
          "base_uri": "https://localhost:8080/",
          "height": 248
        },
        "id": "1ysEmuqEPqpa",
        "outputId": "31acc1f7-4d82-48b9-96b2-83353d061d27"
      },
      "execution_count": 66,
      "outputs": [
        {
          "output_type": "execute_result",
          "data": {
            "text/plain": [
              "XGBRegressor(base_score=None, booster=None, callbacks=None,\n",
              "             colsample_bylevel=None, colsample_bynode=None,\n",
              "             colsample_bytree=None, device=None, early_stopping_rounds=None,\n",
              "             enable_categorical=False, eval_metric=None, feature_types=None,\n",
              "             gamma=None, grow_policy=None, importance_type=None,\n",
              "             interaction_constraints=None, learning_rate=None, max_bin=None,\n",
              "             max_cat_threshold=None, max_cat_to_onehot=None,\n",
              "             max_delta_step=None, max_depth=None, max_leaves=None,\n",
              "             min_child_weight=None, missing=nan, monotone_constraints=None,\n",
              "             multi_strategy=None, n_estimators=None, n_jobs=None,\n",
              "             num_parallel_tree=None, random_state=None, ...)"
            ],
            "text/html": [
              "<style>#sk-container-id-5 {color: black;background-color: white;}#sk-container-id-5 pre{padding: 0;}#sk-container-id-5 div.sk-toggleable {background-color: white;}#sk-container-id-5 label.sk-toggleable__label {cursor: pointer;display: block;width: 100%;margin-bottom: 0;padding: 0.3em;box-sizing: border-box;text-align: center;}#sk-container-id-5 label.sk-toggleable__label-arrow:before {content: \"▸\";float: left;margin-right: 0.25em;color: #696969;}#sk-container-id-5 label.sk-toggleable__label-arrow:hover:before {color: black;}#sk-container-id-5 div.sk-estimator:hover label.sk-toggleable__label-arrow:before {color: black;}#sk-container-id-5 div.sk-toggleable__content {max-height: 0;max-width: 0;overflow: hidden;text-align: left;background-color: #f0f8ff;}#sk-container-id-5 div.sk-toggleable__content pre {margin: 0.2em;color: black;border-radius: 0.25em;background-color: #f0f8ff;}#sk-container-id-5 input.sk-toggleable__control:checked~div.sk-toggleable__content {max-height: 200px;max-width: 100%;overflow: auto;}#sk-container-id-5 input.sk-toggleable__control:checked~label.sk-toggleable__label-arrow:before {content: \"▾\";}#sk-container-id-5 div.sk-estimator input.sk-toggleable__control:checked~label.sk-toggleable__label {background-color: #d4ebff;}#sk-container-id-5 div.sk-label input.sk-toggleable__control:checked~label.sk-toggleable__label {background-color: #d4ebff;}#sk-container-id-5 input.sk-hidden--visually {border: 0;clip: rect(1px 1px 1px 1px);clip: rect(1px, 1px, 1px, 1px);height: 1px;margin: -1px;overflow: hidden;padding: 0;position: absolute;width: 1px;}#sk-container-id-5 div.sk-estimator {font-family: monospace;background-color: #f0f8ff;border: 1px dotted black;border-radius: 0.25em;box-sizing: border-box;margin-bottom: 0.5em;}#sk-container-id-5 div.sk-estimator:hover {background-color: #d4ebff;}#sk-container-id-5 div.sk-parallel-item::after {content: \"\";width: 100%;border-bottom: 1px solid gray;flex-grow: 1;}#sk-container-id-5 div.sk-label:hover label.sk-toggleable__label {background-color: #d4ebff;}#sk-container-id-5 div.sk-serial::before {content: \"\";position: absolute;border-left: 1px solid gray;box-sizing: border-box;top: 0;bottom: 0;left: 50%;z-index: 0;}#sk-container-id-5 div.sk-serial {display: flex;flex-direction: column;align-items: center;background-color: white;padding-right: 0.2em;padding-left: 0.2em;position: relative;}#sk-container-id-5 div.sk-item {position: relative;z-index: 1;}#sk-container-id-5 div.sk-parallel {display: flex;align-items: stretch;justify-content: center;background-color: white;position: relative;}#sk-container-id-5 div.sk-item::before, #sk-container-id-5 div.sk-parallel-item::before {content: \"\";position: absolute;border-left: 1px solid gray;box-sizing: border-box;top: 0;bottom: 0;left: 50%;z-index: -1;}#sk-container-id-5 div.sk-parallel-item {display: flex;flex-direction: column;z-index: 1;position: relative;background-color: white;}#sk-container-id-5 div.sk-parallel-item:first-child::after {align-self: flex-end;width: 50%;}#sk-container-id-5 div.sk-parallel-item:last-child::after {align-self: flex-start;width: 50%;}#sk-container-id-5 div.sk-parallel-item:only-child::after {width: 0;}#sk-container-id-5 div.sk-dashed-wrapped {border: 1px dashed gray;margin: 0 0.4em 0.5em 0.4em;box-sizing: border-box;padding-bottom: 0.4em;background-color: white;}#sk-container-id-5 div.sk-label label {font-family: monospace;font-weight: bold;display: inline-block;line-height: 1.2em;}#sk-container-id-5 div.sk-label-container {text-align: center;}#sk-container-id-5 div.sk-container {/* jupyter's `normalize.less` sets `[hidden] { display: none; }` but bootstrap.min.css set `[hidden] { display: none !important; }` so we also need the `!important` here to be able to override the default hidden behavior on the sphinx rendered scikit-learn.org. See: https://github.com/scikit-learn/scikit-learn/issues/21755 */display: inline-block !important;position: relative;}#sk-container-id-5 div.sk-text-repr-fallback {display: none;}</style><div id=\"sk-container-id-5\" class=\"sk-top-container\"><div class=\"sk-text-repr-fallback\"><pre>XGBRegressor(base_score=None, booster=None, callbacks=None,\n",
              "             colsample_bylevel=None, colsample_bynode=None,\n",
              "             colsample_bytree=None, device=None, early_stopping_rounds=None,\n",
              "             enable_categorical=False, eval_metric=None, feature_types=None,\n",
              "             gamma=None, grow_policy=None, importance_type=None,\n",
              "             interaction_constraints=None, learning_rate=None, max_bin=None,\n",
              "             max_cat_threshold=None, max_cat_to_onehot=None,\n",
              "             max_delta_step=None, max_depth=None, max_leaves=None,\n",
              "             min_child_weight=None, missing=nan, monotone_constraints=None,\n",
              "             multi_strategy=None, n_estimators=None, n_jobs=None,\n",
              "             num_parallel_tree=None, random_state=None, ...)</pre><b>In a Jupyter environment, please rerun this cell to show the HTML representation or trust the notebook. <br />On GitHub, the HTML representation is unable to render, please try loading this page with nbviewer.org.</b></div><div class=\"sk-container\" hidden><div class=\"sk-item\"><div class=\"sk-estimator sk-toggleable\"><input class=\"sk-toggleable__control sk-hidden--visually\" id=\"sk-estimator-id-5\" type=\"checkbox\" checked><label for=\"sk-estimator-id-5\" class=\"sk-toggleable__label sk-toggleable__label-arrow\">XGBRegressor</label><div class=\"sk-toggleable__content\"><pre>XGBRegressor(base_score=None, booster=None, callbacks=None,\n",
              "             colsample_bylevel=None, colsample_bynode=None,\n",
              "             colsample_bytree=None, device=None, early_stopping_rounds=None,\n",
              "             enable_categorical=False, eval_metric=None, feature_types=None,\n",
              "             gamma=None, grow_policy=None, importance_type=None,\n",
              "             interaction_constraints=None, learning_rate=None, max_bin=None,\n",
              "             max_cat_threshold=None, max_cat_to_onehot=None,\n",
              "             max_delta_step=None, max_depth=None, max_leaves=None,\n",
              "             min_child_weight=None, missing=nan, monotone_constraints=None,\n",
              "             multi_strategy=None, n_estimators=None, n_jobs=None,\n",
              "             num_parallel_tree=None, random_state=None, ...)</pre></div></div></div></div></div>"
            ]
          },
          "metadata": {},
          "execution_count": 66
        }
      ]
    },
    {
      "cell_type": "markdown",
      "source": [
        "Kode di atas adalah contoh penggunaan library XGBoost dalam Python untuk membuat dan melatih model regresi menggunakan algoritma XGBoost. Berikut adalah penjelasan singkat dari setiap baris kode:\n",
        "\n",
        "1. Import library XGBRegressor dari XGBoost:\n",
        "   - Pada baris pertama, kita mengimpor kelas `XGBRegressor` dari library XGBoost. Ini adalah salah satu estimator yang disediakan oleh XGBoost untuk tugas regresi.\n",
        "\n",
        "2. Membuat objek model XGBoost:\n",
        "   - Pada baris kedua, kita membuat objek `my_model` yang akan digunakan untuk menampung model regresi XGBoost yang akan kita latih.\n",
        "\n",
        "3. Melatih model dengan data pelatihan X_train dan target y_train:\n",
        "   - Pada baris ketiga, kita menggunakan metode `fit()` pada objek `my_model` untuk melatih model XGBoost dengan menggunakan data pelatihan yang disimpan dalam `X_train` dan target yang disimpan dalam `y_train`. Proses pelatihan ini akan menghasilkan model regresi yang siap digunakan untuk melakukan prediksi.\n",
        "\n",
        "Setelah kode ini dijalankan, `my_model` akan berisi model regresi XGBoost yang telah dilatih dengan data pelatihan yang sesuai. Model ini kemudian dapat digunakan untuk membuat prediksi pada data baru."
      ],
      "metadata": {
        "id": "5V7Q-a8U7Hax"
      }
    },
    {
      "cell_type": "code",
      "source": [
        "# Mengimpor modul mean_absolute_error dari sklearn.metrics\n",
        "from sklearn.metrics import mean_absolute_error\n",
        "\n",
        "# Melakukan prediksi menggunakan model (my_model) pada data validasi (X_valid)\n",
        "predictions = my_model.predict(X_valid)\n",
        "\n",
        "# Menghitung Mean Absolute Error (MAE) antara prediksi dan nilai target aktual (y_valid)\n",
        "# dan mencetak hasilnya\n",
        "print(\"Mean Absolute Error: \" + str(mean_absolute_error(predictions, y_valid)))\n"
      ],
      "metadata": {
        "colab": {
          "base_uri": "https://localhost:8080/"
        },
        "id": "0wT_O2PfP07i",
        "outputId": "98f1ea77-230e-4e24-8b50-5c7877715388"
      },
      "execution_count": 67,
      "outputs": [
        {
          "output_type": "stream",
          "name": "stdout",
          "text": [
            "Mean Absolute Error: 241637.14228920118\n"
          ]
        }
      ]
    },
    {
      "cell_type": "markdown",
      "source": [
        "Kode di atas mengimpor modul `mean_absolute_error` dari pustaka `sklearn.metrics`. Kemudian, menggunakan model yang disimpan dalam variabel `my_model`, melakukan prediksi pada data validasi yang tersimpan dalam variabel `X_valid`. Setelah prediksi selesai, kode menghitung Mean Absolute Error (MAE) antara prediksi yang dihasilkan oleh model dan nilai target aktual yang disimpan dalam variabel `y_valid`. Hasil MAE kemudian dicetak ke layar sebagai keluaran, sehingga kita dapat melihat seberapa besar kesalahan rata-rata prediksi model terhadap data validasi. Dalam kasus ini, MAE sebesar 241637.14228920118 menunjukkan rata-rata kesalahan absolut sekitar 241637.14228920118 antara prediksi model dan nilai target aktual pada data validasi."
      ],
      "metadata": {
        "id": "gEuvTqcD7QKH"
      }
    },
    {
      "cell_type": "code",
      "source": [
        "# Membuat model XGBoost Regressor dengan 500 pohon keputusan (n_estimators=500)\n",
        "my_model_0 = XGBRegressor(n_estimators=500)\n",
        "\n",
        "# Melatih model menggunakan data pelatihan X_train dan label y_train\n",
        "my_model_0.fit(X_train, y_train)\n"
      ],
      "metadata": {
        "colab": {
          "base_uri": "https://localhost:8080/",
          "height": 248
        },
        "id": "Au9dkrg1RknS",
        "outputId": "aeffe2fc-ab89-4dbc-ea0d-cb7fedfbe370"
      },
      "execution_count": 68,
      "outputs": [
        {
          "output_type": "execute_result",
          "data": {
            "text/plain": [
              "XGBRegressor(base_score=None, booster=None, callbacks=None,\n",
              "             colsample_bylevel=None, colsample_bynode=None,\n",
              "             colsample_bytree=None, device=None, early_stopping_rounds=None,\n",
              "             enable_categorical=False, eval_metric=None, feature_types=None,\n",
              "             gamma=None, grow_policy=None, importance_type=None,\n",
              "             interaction_constraints=None, learning_rate=None, max_bin=None,\n",
              "             max_cat_threshold=None, max_cat_to_onehot=None,\n",
              "             max_delta_step=None, max_depth=None, max_leaves=None,\n",
              "             min_child_weight=None, missing=nan, monotone_constraints=None,\n",
              "             multi_strategy=None, n_estimators=500, n_jobs=None,\n",
              "             num_parallel_tree=None, random_state=None, ...)"
            ],
            "text/html": [
              "<style>#sk-container-id-6 {color: black;background-color: white;}#sk-container-id-6 pre{padding: 0;}#sk-container-id-6 div.sk-toggleable {background-color: white;}#sk-container-id-6 label.sk-toggleable__label {cursor: pointer;display: block;width: 100%;margin-bottom: 0;padding: 0.3em;box-sizing: border-box;text-align: center;}#sk-container-id-6 label.sk-toggleable__label-arrow:before {content: \"▸\";float: left;margin-right: 0.25em;color: #696969;}#sk-container-id-6 label.sk-toggleable__label-arrow:hover:before {color: black;}#sk-container-id-6 div.sk-estimator:hover label.sk-toggleable__label-arrow:before {color: black;}#sk-container-id-6 div.sk-toggleable__content {max-height: 0;max-width: 0;overflow: hidden;text-align: left;background-color: #f0f8ff;}#sk-container-id-6 div.sk-toggleable__content pre {margin: 0.2em;color: black;border-radius: 0.25em;background-color: #f0f8ff;}#sk-container-id-6 input.sk-toggleable__control:checked~div.sk-toggleable__content {max-height: 200px;max-width: 100%;overflow: auto;}#sk-container-id-6 input.sk-toggleable__control:checked~label.sk-toggleable__label-arrow:before {content: \"▾\";}#sk-container-id-6 div.sk-estimator input.sk-toggleable__control:checked~label.sk-toggleable__label {background-color: #d4ebff;}#sk-container-id-6 div.sk-label input.sk-toggleable__control:checked~label.sk-toggleable__label {background-color: #d4ebff;}#sk-container-id-6 input.sk-hidden--visually {border: 0;clip: rect(1px 1px 1px 1px);clip: rect(1px, 1px, 1px, 1px);height: 1px;margin: -1px;overflow: hidden;padding: 0;position: absolute;width: 1px;}#sk-container-id-6 div.sk-estimator {font-family: monospace;background-color: #f0f8ff;border: 1px dotted black;border-radius: 0.25em;box-sizing: border-box;margin-bottom: 0.5em;}#sk-container-id-6 div.sk-estimator:hover {background-color: #d4ebff;}#sk-container-id-6 div.sk-parallel-item::after {content: \"\";width: 100%;border-bottom: 1px solid gray;flex-grow: 1;}#sk-container-id-6 div.sk-label:hover label.sk-toggleable__label {background-color: #d4ebff;}#sk-container-id-6 div.sk-serial::before {content: \"\";position: absolute;border-left: 1px solid gray;box-sizing: border-box;top: 0;bottom: 0;left: 50%;z-index: 0;}#sk-container-id-6 div.sk-serial {display: flex;flex-direction: column;align-items: center;background-color: white;padding-right: 0.2em;padding-left: 0.2em;position: relative;}#sk-container-id-6 div.sk-item {position: relative;z-index: 1;}#sk-container-id-6 div.sk-parallel {display: flex;align-items: stretch;justify-content: center;background-color: white;position: relative;}#sk-container-id-6 div.sk-item::before, #sk-container-id-6 div.sk-parallel-item::before {content: \"\";position: absolute;border-left: 1px solid gray;box-sizing: border-box;top: 0;bottom: 0;left: 50%;z-index: -1;}#sk-container-id-6 div.sk-parallel-item {display: flex;flex-direction: column;z-index: 1;position: relative;background-color: white;}#sk-container-id-6 div.sk-parallel-item:first-child::after {align-self: flex-end;width: 50%;}#sk-container-id-6 div.sk-parallel-item:last-child::after {align-self: flex-start;width: 50%;}#sk-container-id-6 div.sk-parallel-item:only-child::after {width: 0;}#sk-container-id-6 div.sk-dashed-wrapped {border: 1px dashed gray;margin: 0 0.4em 0.5em 0.4em;box-sizing: border-box;padding-bottom: 0.4em;background-color: white;}#sk-container-id-6 div.sk-label label {font-family: monospace;font-weight: bold;display: inline-block;line-height: 1.2em;}#sk-container-id-6 div.sk-label-container {text-align: center;}#sk-container-id-6 div.sk-container {/* jupyter's `normalize.less` sets `[hidden] { display: none; }` but bootstrap.min.css set `[hidden] { display: none !important; }` so we also need the `!important` here to be able to override the default hidden behavior on the sphinx rendered scikit-learn.org. See: https://github.com/scikit-learn/scikit-learn/issues/21755 */display: inline-block !important;position: relative;}#sk-container-id-6 div.sk-text-repr-fallback {display: none;}</style><div id=\"sk-container-id-6\" class=\"sk-top-container\"><div class=\"sk-text-repr-fallback\"><pre>XGBRegressor(base_score=None, booster=None, callbacks=None,\n",
              "             colsample_bylevel=None, colsample_bynode=None,\n",
              "             colsample_bytree=None, device=None, early_stopping_rounds=None,\n",
              "             enable_categorical=False, eval_metric=None, feature_types=None,\n",
              "             gamma=None, grow_policy=None, importance_type=None,\n",
              "             interaction_constraints=None, learning_rate=None, max_bin=None,\n",
              "             max_cat_threshold=None, max_cat_to_onehot=None,\n",
              "             max_delta_step=None, max_depth=None, max_leaves=None,\n",
              "             min_child_weight=None, missing=nan, monotone_constraints=None,\n",
              "             multi_strategy=None, n_estimators=500, n_jobs=None,\n",
              "             num_parallel_tree=None, random_state=None, ...)</pre><b>In a Jupyter environment, please rerun this cell to show the HTML representation or trust the notebook. <br />On GitHub, the HTML representation is unable to render, please try loading this page with nbviewer.org.</b></div><div class=\"sk-container\" hidden><div class=\"sk-item\"><div class=\"sk-estimator sk-toggleable\"><input class=\"sk-toggleable__control sk-hidden--visually\" id=\"sk-estimator-id-6\" type=\"checkbox\" checked><label for=\"sk-estimator-id-6\" class=\"sk-toggleable__label sk-toggleable__label-arrow\">XGBRegressor</label><div class=\"sk-toggleable__content\"><pre>XGBRegressor(base_score=None, booster=None, callbacks=None,\n",
              "             colsample_bylevel=None, colsample_bynode=None,\n",
              "             colsample_bytree=None, device=None, early_stopping_rounds=None,\n",
              "             enable_categorical=False, eval_metric=None, feature_types=None,\n",
              "             gamma=None, grow_policy=None, importance_type=None,\n",
              "             interaction_constraints=None, learning_rate=None, max_bin=None,\n",
              "             max_cat_threshold=None, max_cat_to_onehot=None,\n",
              "             max_delta_step=None, max_depth=None, max_leaves=None,\n",
              "             min_child_weight=None, missing=nan, monotone_constraints=None,\n",
              "             multi_strategy=None, n_estimators=500, n_jobs=None,\n",
              "             num_parallel_tree=None, random_state=None, ...)</pre></div></div></div></div></div>"
            ]
          },
          "metadata": {},
          "execution_count": 68
        }
      ]
    },
    {
      "cell_type": "markdown",
      "source": [
        "Kode di atas menciptakan sebuah model XGBoost Regressor dengan 500 pohon keputusan (n_estimators=500) menggunakan library XGBoost. Model ini kemudian dilatih (fit) dengan data pelatihan yang disimpan dalam variabel X_train dan labelnya y_train. Model XGBoost Regressor ini memiliki berbagai parameter dan konfigurasi yang dapat diatur, meskipun dalam kode tersebut parameter-parameter tersebut tidak dijelaskan dengan rinci.\n",
        "\n",
        "Berikut beberapa parameter utama yang dapat ditemukan dalam model XGBoost Regressor:\n",
        "\n",
        "- n_estimators: Parameter ini mengatur jumlah pohon keputusan yang akan digunakan dalam model. Dalam kode di atas, n_estimators diatur ke 500, yang berarti model ini akan menggunakan 500 pohon keputusan dalam proses pembelajarannya.\n",
        "\n",
        "- X_train: Ini adalah dataset yang digunakan untuk melatih model. Dataset ini berisi fitur-fitur yang digunakan untuk memprediksi target (y_train).\n",
        "\n",
        "- y_train: Ini adalah label atau target yang digunakan dalam proses pelatihan. Model akan belajar untuk memprediksi nilai-nilai yang sesuai dengan data pelatihan ini.\n",
        "\n",
        "Pada dasarnya, kode tersebut menciptakan dan melatih model regresi XGBoost dengan 500 pohon keputusan menggunakan data pelatihan X_train dan y_train. Model ini dapat digunakan untuk melakukan prediksi regresi pada data baru setelah dilatih."
      ],
      "metadata": {
        "id": "VKar2kkR7frF"
      }
    },
    {
      "cell_type": "code",
      "source": [
        "# Melakukan prediksi menggunakan model 'my_model_0' pada data validasi 'X_valid'\n",
        "predictions_0 = my_model_0.predict(X_valid)\n",
        "\n",
        "# Menghitung Mean Absolute Error (MAE) antara prediksi dan target sebenarnya 'y_valid'\n",
        "mae = mean_absolute_error(predictions_0, y_valid)\n",
        "\n",
        "# Menampilkan MAE ke layar\n",
        "print(\"Mean Absolute Error: \" + str(mae))\n"
      ],
      "metadata": {
        "colab": {
          "base_uri": "https://localhost:8080/"
        },
        "id": "WYct2XppRwEm",
        "outputId": "80ffd3f8-58bf-4dbf-b36b-2558d73edbd3"
      },
      "execution_count": 70,
      "outputs": [
        {
          "output_type": "stream",
          "name": "stdout",
          "text": [
            "Mean Absolute Error: 254079.60437854414\n"
          ]
        }
      ]
    },
    {
      "cell_type": "markdown",
      "source": [
        "Kode di atas merupakan contoh penggunaan sebuah model yang disebut 'my_model_0' untuk melakukan prediksi pada data validasi 'X_valid'. Setelah melakukan prediksi, kode tersebut menghitung Mean Absolute Error (MAE) antara prediksi yang dihasilkan oleh model dan nilai target sebenarnya yang ada dalam 'y_valid'. Hasil MAE kemudian ditampilkan di layar sebagai nilai numerik.\n",
        "\n",
        "MAE merupakan metrik evaluasi yang digunakan untuk mengukur seberapa besar kesalahan rata-rata antara prediksi model dan nilai target sebenarnya. Dalam konteks ini, MAE bernilai sekitar 254,079.60, yang menunjukkan rata-rata kesalahan prediksi model 'my_model_0' terhadap data validasi 'X_valid' sekitar 254,079.60. Semakin kecil nilai MAE, semakin baik kualitas model dalam melakukan prediksi, karena nilai kesalahan yang lebih rendah menunjukkan bahwa prediksi lebih mendekati nilai sebenarnya."
      ],
      "metadata": {
        "id": "8CrSIC_T7orV"
      }
    },
    {
      "cell_type": "code",
      "source": [
        "from sklearn.model_selection import GridSearchCV\n",
        "\n",
        "# Tentukan model XGBoost\n",
        "model_grid = XGBRegressor()\n",
        "\n",
        "# Tentukan parameter grid\n",
        "param_grid = {\n",
        "    'n_estimators': [150, 200, 250, 300, 1000]  # Ganti dengan rentang nilai yang ingin Anda coba\n",
        "}\n",
        "\n",
        "# Inisialisasi GridSearchCV\n",
        "grid_search = GridSearchCV(estimator=model_grid, param_grid=param_grid, cv=5, scoring='neg_mean_absolute_error')\n",
        "\n",
        "# Lakukan fitting menggunakan data training\n",
        "grid_search.fit(X_train, y_train)\n",
        "\n",
        "# Dapatkan parameter terbaik\n",
        "best_n_estimators = grid_search.best_params_['n_estimators']\n",
        "\n",
        "print(\"Nilai n_estimators terbaik:\", best_n_estimators)\n",
        "# Tentukan range nilai n_estimators yang akan diuji\n",
        "n_estimators_list = [100, 150, 200, 250, 300]\n",
        "\n",
        "# Inisialisasi sebuah list untuk menyimpan hasil MAE\n",
        "mae_results = []\n",
        "\n",
        "# Loop melalui setiap nilai n_estimators\n",
        "for n_estimators in n_estimators_list:\n",
        "    # Inisialisasi model dengan n_estimators tertentu\n",
        "    model_grid = XGBRegressor(n_estimators=n_estimators)\n",
        "\n",
        "    # Fitting model menggunakan data training\n",
        "    model_grid.fit(X_train, y_train)\n",
        "\n",
        "    # Lakukan prediksi pada data validasi\n",
        "    predictions = model_grid.predict(X_valid)\n",
        "\n",
        "    # Hitung Mean Absolute Error\n",
        "    mae = mean_absolute_error(predictions, y_valid)\n",
        "\n",
        "    # Tampilkan nilai n_estimators dan MAE\n",
        "    print(f\"n_estimators: {n_estimators}, Mean Absolute Error: {mae}\")\n",
        "\n",
        "    # Tambahkan nilai MAE ke dalam list\n",
        "    mae_results.append(mae)"
      ],
      "metadata": {
        "colab": {
          "base_uri": "https://localhost:8080/"
        },
        "id": "a5vzkSp7S-Sl",
        "outputId": "5b9c92cb-5a27-4872-842d-e47fceb6d1d9"
      },
      "execution_count": 71,
      "outputs": [
        {
          "output_type": "stream",
          "name": "stdout",
          "text": [
            "Nilai n_estimators terbaik: 150\n",
            "n_estimators: 100, Mean Absolute Error: 241637.14228920118\n",
            "n_estimators: 150, Mean Absolute Error: 243228.3698976054\n",
            "n_estimators: 200, Mean Absolute Error: 245296.04482749323\n",
            "n_estimators: 250, Mean Absolute Error: 247178.43902937006\n",
            "n_estimators: 300, Mean Absolute Error: 249329.28532189966\n"
          ]
        }
      ]
    },
    {
      "cell_type": "markdown",
      "source": [
        "Kode di atas merupakan contoh penggunaan GridSearchCV dari library scikit-learn (sklearn) untuk melakukan pencarian parameter terbaik pada model XGBoost. GridSearchCV adalah metode untuk melakukan pencarian hiperparameter terbaik dari suatu model dengan mencoba berbagai kombinasi nilai parameter yang telah ditentukan sebelumnya.\n",
        "\n",
        "1. Import modul yang dibutuhkan:\n",
        "   ```python\n",
        "   from sklearn.model_selection import GridSearchCV\n",
        "   ```\n",
        "\n",
        "2. Tentukan model XGBoost:\n",
        "   ```python\n",
        "   model_grid = XGBRegressor()\n",
        "   ```\n",
        "\n",
        "3. Tentukan parameter grid yang akan diuji dalam pencarian hiperparameter. Dalam kode ini, hanya satu parameter yang diuji, yaitu 'n_estimators', dengan beberapa nilai yang mungkin.\n",
        "   ```python\n",
        "   param_grid = {\n",
        "       'n_estimators': [150, 200, 250, 300, 1000]\n",
        "   }\n",
        "   ```\n",
        "\n",
        "4. Inisialisasi objek GridSearchCV dengan model, parameter grid, metode validasi silang (cross-validation), dan metrik evaluasi (scoring) yang ingin digunakan (dalam kasus ini, 'neg_mean_absolute_error' digunakan sebagai metrik untuk evaluasi).\n",
        "   ```python\n",
        "   grid_search = GridSearchCV(estimator=model_grid, param_grid=param_grid, cv=5, scoring='neg_mean_absolute_error')\n",
        "   ```\n",
        "\n",
        "5. Lakukan fitting (pelatihan) menggunakan data training (X_train dan y_train) untuk mencari parameter terbaik.\n",
        "   ```python\n",
        "   grid_search.fit(X_train, y_train)\n",
        "   ```\n",
        "\n",
        "6. Dapatkan parameter terbaik dari hasil pencarian GridSearchCV.\n",
        "   ```python\n",
        "   best_n_estimators = grid_search.best_params_['n_estimators']\n",
        "   ```\n",
        "\n",
        "7. Cetak nilai 'n_estimators' terbaik.\n",
        "   ```python\n",
        "   print(\"Nilai n_estimators terbaik:\", best_n_estimators)\n",
        "   ```\n",
        "\n",
        "8. Selanjutnya, kode melakukan pencarian parameter 'n_estimators' dengan nilai tertentu di luar GridSearchCV. Ini digunakan untuk membandingkan kinerja model XGBoost dengan berbagai nilai 'n_estimators'.\n",
        "   ```python\n",
        "   n_estimators_list = [100, 150, 200, 250, 300]\n",
        "   ```\n",
        "\n",
        "9. Inisialisasi list 'mae_results' untuk menyimpan hasil Mean Absolute Error (MAE) dari setiap percobaan nilai 'n_estimators'.\n",
        "   ```python\n",
        "   mae_results = []\n",
        "   ```\n",
        "\n",
        "10. Dilakukan loop untuk masing-masing nilai 'n_estimators'. Dalam setiap iterasi, model XGBoost diinisialisasi dengan 'n_estimators' tertentu, kemudian dilakukan fitting menggunakan data training.\n",
        "   ```python\n",
        "   for n_estimators in n_estimators_list:\n",
        "       model_grid = XGBRegressor(n_estimators=n_estimators)\n",
        "       model_grid.fit(X_train, y_train)\n",
        "   ```\n",
        "\n",
        "11. Setelah model difitting, dilakukan prediksi pada data validasi (X_valid) dan dihitung MAE dari prediksi tersebut.\n",
        "   ```python\n",
        "   predictions = model_grid.predict(X_valid)\n",
        "   mae = mean_absolute_error(predictions, y_valid)\n",
        "   ```\n",
        "\n",
        "12. Hasil 'n_estimators' dan MAE dari setiap iterasi dicetak.\n",
        "   ```python\n",
        "   print(f\"n_estimators: {n_estimators}, Mean Absolute Error: {mae}\")\n",
        "   ```\n",
        "\n",
        "13. Nilai MAE dari setiap percobaan disimpan dalam list 'mae_results' untuk analisis lebih lanjut.\n",
        "   ```python\n",
        "   mae_results.append(mae)\n",
        "   ```"
      ],
      "metadata": {
        "id": "bNlinTR17yZQ"
      }
    },
    {
      "cell_type": "code",
      "source": [
        "# Membuat model XGBoost Regressor dengan 100 pohon keputusan (n_estimators=100)\n",
        "my_model_2 = XGBRegressor(n_estimators=100)\n",
        "\n",
        "# Melatih model menggunakan data pelatihan (X_train, y_train) dengan early stopping\n",
        "# untuk menghentikan pelatihan jika tidak ada perbaikan dalam 5 iterasi\n",
        "# dan menggunakan data validasi (X_valid, y_valid) untuk evaluasi\n",
        "my_model_2.fit(X_train, y_train, early_stopping_rounds=5, eval_set=[(X_valid, y_valid)], verbose=False)\n",
        "\n",
        "# Melakukan prediksi pada data validasi menggunakan model yang telah dilatih\n",
        "predictions_2 = my_model_2.predict(X_valid)\n",
        "\n",
        "# Menghitung Mean Absolute Error (MAE) antara prediksi dan nilai sebenarnya pada data validasi\n",
        "print(\"Mean Absolute Error: \" + str(mean_absolute_error(predictions_2, y_valid)))\n"
      ],
      "metadata": {
        "colab": {
          "base_uri": "https://localhost:8080/"
        },
        "id": "5Wx-gk6eUEKm",
        "outputId": "55dbb92d-df61-4c17-d3a0-f04de536370a"
      },
      "execution_count": 72,
      "outputs": [
        {
          "output_type": "stream",
          "name": "stderr",
          "text": [
            "/usr/local/lib/python3.10/dist-packages/xgboost/sklearn.py:885: UserWarning: `early_stopping_rounds` in `fit` method is deprecated for better compatibility with scikit-learn, use `early_stopping_rounds` in constructor or`set_params` instead.\n",
            "  warnings.warn(\n"
          ]
        },
        {
          "output_type": "stream",
          "name": "stdout",
          "text": [
            "Mean Absolute Error: 246166.56518602843\n"
          ]
        }
      ]
    },
    {
      "cell_type": "markdown",
      "source": [
        "Kode di atas adalah contoh penggunaan model XGBoost Regressor untuk melakukan prediksi pada data validasi dan mengukur kinerja model menggunakan metrik Mean Absolute Error (MAE). Berikut penjelasan dari setiap langkah dalam kode tersebut:\n",
        "\n",
        "1. Membuat model XGBoost Regressor dengan 100 pohon keputusan (n_estimators=100). Model ini akan digunakan untuk melakukan prediksi pada data.\n",
        "\n",
        "2. Melatih model menggunakan data pelatihan (X_train, y_train) dengan parameter tambahan `early_stopping_rounds=5`. Ini mengindikasikan bahwa pelatihan model akan berhenti jika tidak ada perbaikan dalam nilai evaluasi pada data validasi selama 5 iterasi. Data validasi digunakan untuk mengevaluasi kinerja model selama pelatihan.\n",
        "\n",
        "3. Melakukan prediksi pada data validasi (X_valid) menggunakan model yang telah dilatih. Hasil prediksi disimpan dalam variabel `predictions_2`.\n",
        "\n",
        "4. Menghitung Mean Absolute Error (MAE) antara hasil prediksi (predictions_2) dan nilai sebenarnya (y_valid) pada data validasi. MAE adalah metrik yang mengukur sejauh mana prediksi model dari nilai sebenarnya dalam satuan absolut. Hasil MAE dicetak ke layar sebagai keluaran.\n",
        "\n",
        "Selain itu, pesan peringatan dalam output yang mengatakan \"early_stopping_rounds\" dalam metode \"fit\" sudah tidak direkomendasikan dan harus digunakan dalam konstruktor atau \"set_params\" adalah peringatan yang menginformasikan bahwa penggunaan parameter `early_stopping_rounds` dalam metode `fit` di XGBoost sudah tidak disarankan dan seharusnya digunakan dalam konstruktor atau `set_params` untuk lebih baik kompatibilitas dengan scikit-learn."
      ],
      "metadata": {
        "id": "zToAVhKZ768e"
      }
    },
    {
      "cell_type": "code",
      "source": [
        "# Import library XGBRegressor untuk mengembangkan model XGBoost\n",
        "my_model_1 = XGBRegressor(n_estimators=100)\n",
        "\n",
        "# Melatih model menggunakan data pelatihan\n",
        "my_model_1.fit(X_train, y_train)\n",
        "\n",
        "# Membuat prediksi menggunakan model yang telah dilatih pada data validasi\n",
        "predictions_1 = my_model_1.predict(X_valid)\n",
        "\n",
        "# Menghitung dan mencetak Mean Absolute Error (MAE) dari prediksi model\n",
        "print(\"Mean Absolute Error: \" + str(mean_absolute_error(predictions_1, y_valid)))\n"
      ],
      "metadata": {
        "colab": {
          "base_uri": "https://localhost:8080/"
        },
        "id": "8C95PzlzUfst",
        "outputId": "598678d1-728e-4382-b4d7-ab85001fc47c"
      },
      "execution_count": 73,
      "outputs": [
        {
          "output_type": "stream",
          "name": "stdout",
          "text": [
            "Mean Absolute Error: 241637.14228920118\n"
          ]
        }
      ]
    },
    {
      "cell_type": "markdown",
      "source": [
        "Kode di atas adalah contoh penggunaan library XGBoost untuk mengembangkan model regresi dengan XGBRegressor. Berikut adalah penjelasan langkah-langkahnya:\n",
        "\n",
        "1. Pertama-tama, library XGBRegressor diimpor ke dalam program. Ini adalah library yang digunakan untuk mengembangkan model regresi dengan algoritma XGBoost.\n",
        "\n",
        "2. Model regresi XGBoost didefinisikan dengan menggunakan `XGBRegressor(n_estimators=100)`. `n_estimators` adalah parameter yang menentukan jumlah pohon keputusan yang akan digunakan dalam model. Dalam kasus ini, model akan terdiri dari 100 pohon keputusan.\n",
        "\n",
        "3. Selanjutnya, model tersebut dilatih dengan menggunakan data pelatihan. Data pelatihan diberikan dalam bentuk `X_train` (fitur) dan `y_train` (label/target).\n",
        "\n",
        "4. Setelah model dilatih, digunakan untuk membuat prediksi pada data validasi (`X_valid`).\n",
        "\n",
        "5. Mean Absolute Error (MAE) dihitung dengan membandingkan prediksi yang dihasilkan oleh model (`predictions_1`) dengan data validasi (`y_valid`). MAE adalah metrik evaluasi yang mengukur seberapa dekat prediksi model dengan nilai sebenarnya. Semakin rendah MAE, semakin baik kualitas model regresi.\n",
        "\n",
        "6. Hasil MAE dicetak ke layar untuk memberikan informasi tentang sejauh mana model dapat memprediksi data validasi dengan akurasi.\n",
        "\n",
        "Hasil keluaran dari kode di atas adalah nilai MAE yang mengindikasikan tingkat kesalahan prediksi model terhadap data validasi. Dalam contoh ini, MAE memiliki nilai sekitar 241,637.14, yang menunjukkan sejauh mana model dapat memprediksi data validasi dengan rata-rata kesalahan sekitar 241,637.14 unit. Semakin rendah nilai MAE, semakin baik kinerja model dalam memprediksi data."
      ],
      "metadata": {
        "id": "eRSPVPSS8EJ8"
      }
    },
    {
      "cell_type": "code",
      "source": [
        "# Membuat model XGBoost Regressor dengan 100 pohon keputusan (n_estimators=100).\n",
        "# Model ini akan digunakan untuk memprediksi variabel target berdasarkan fitur-fitur dalam dataset.\n",
        "my_model_3 = XGBRegressor(n_estimators=100, learning_rate=0.05, n_jobs=6)\n",
        "\n",
        "# Melatih model dengan menggunakan data pelatihan (X_train) dan target (y_train).\n",
        "my_model_3.fit(X_train, y_train)\n",
        "\n"
      ],
      "metadata": {
        "colab": {
          "base_uri": "https://localhost:8080/",
          "height": 248
        },
        "id": "NmFlZMZWVcdo",
        "outputId": "7a5b1449-a77b-4d56-bb0c-049ecdc01a8c"
      },
      "execution_count": 74,
      "outputs": [
        {
          "output_type": "execute_result",
          "data": {
            "text/plain": [
              "XGBRegressor(base_score=None, booster=None, callbacks=None,\n",
              "             colsample_bylevel=None, colsample_bynode=None,\n",
              "             colsample_bytree=None, device=None, early_stopping_rounds=None,\n",
              "             enable_categorical=False, eval_metric=None, feature_types=None,\n",
              "             gamma=None, grow_policy=None, importance_type=None,\n",
              "             interaction_constraints=None, learning_rate=0.05, max_bin=None,\n",
              "             max_cat_threshold=None, max_cat_to_onehot=None,\n",
              "             max_delta_step=None, max_depth=None, max_leaves=None,\n",
              "             min_child_weight=None, missing=nan, monotone_constraints=None,\n",
              "             multi_strategy=None, n_estimators=100, n_jobs=6,\n",
              "             num_parallel_tree=None, random_state=None, ...)"
            ],
            "text/html": [
              "<style>#sk-container-id-7 {color: black;background-color: white;}#sk-container-id-7 pre{padding: 0;}#sk-container-id-7 div.sk-toggleable {background-color: white;}#sk-container-id-7 label.sk-toggleable__label {cursor: pointer;display: block;width: 100%;margin-bottom: 0;padding: 0.3em;box-sizing: border-box;text-align: center;}#sk-container-id-7 label.sk-toggleable__label-arrow:before {content: \"▸\";float: left;margin-right: 0.25em;color: #696969;}#sk-container-id-7 label.sk-toggleable__label-arrow:hover:before {color: black;}#sk-container-id-7 div.sk-estimator:hover label.sk-toggleable__label-arrow:before {color: black;}#sk-container-id-7 div.sk-toggleable__content {max-height: 0;max-width: 0;overflow: hidden;text-align: left;background-color: #f0f8ff;}#sk-container-id-7 div.sk-toggleable__content pre {margin: 0.2em;color: black;border-radius: 0.25em;background-color: #f0f8ff;}#sk-container-id-7 input.sk-toggleable__control:checked~div.sk-toggleable__content {max-height: 200px;max-width: 100%;overflow: auto;}#sk-container-id-7 input.sk-toggleable__control:checked~label.sk-toggleable__label-arrow:before {content: \"▾\";}#sk-container-id-7 div.sk-estimator input.sk-toggleable__control:checked~label.sk-toggleable__label {background-color: #d4ebff;}#sk-container-id-7 div.sk-label input.sk-toggleable__control:checked~label.sk-toggleable__label {background-color: #d4ebff;}#sk-container-id-7 input.sk-hidden--visually {border: 0;clip: rect(1px 1px 1px 1px);clip: rect(1px, 1px, 1px, 1px);height: 1px;margin: -1px;overflow: hidden;padding: 0;position: absolute;width: 1px;}#sk-container-id-7 div.sk-estimator {font-family: monospace;background-color: #f0f8ff;border: 1px dotted black;border-radius: 0.25em;box-sizing: border-box;margin-bottom: 0.5em;}#sk-container-id-7 div.sk-estimator:hover {background-color: #d4ebff;}#sk-container-id-7 div.sk-parallel-item::after {content: \"\";width: 100%;border-bottom: 1px solid gray;flex-grow: 1;}#sk-container-id-7 div.sk-label:hover label.sk-toggleable__label {background-color: #d4ebff;}#sk-container-id-7 div.sk-serial::before {content: \"\";position: absolute;border-left: 1px solid gray;box-sizing: border-box;top: 0;bottom: 0;left: 50%;z-index: 0;}#sk-container-id-7 div.sk-serial {display: flex;flex-direction: column;align-items: center;background-color: white;padding-right: 0.2em;padding-left: 0.2em;position: relative;}#sk-container-id-7 div.sk-item {position: relative;z-index: 1;}#sk-container-id-7 div.sk-parallel {display: flex;align-items: stretch;justify-content: center;background-color: white;position: relative;}#sk-container-id-7 div.sk-item::before, #sk-container-id-7 div.sk-parallel-item::before {content: \"\";position: absolute;border-left: 1px solid gray;box-sizing: border-box;top: 0;bottom: 0;left: 50%;z-index: -1;}#sk-container-id-7 div.sk-parallel-item {display: flex;flex-direction: column;z-index: 1;position: relative;background-color: white;}#sk-container-id-7 div.sk-parallel-item:first-child::after {align-self: flex-end;width: 50%;}#sk-container-id-7 div.sk-parallel-item:last-child::after {align-self: flex-start;width: 50%;}#sk-container-id-7 div.sk-parallel-item:only-child::after {width: 0;}#sk-container-id-7 div.sk-dashed-wrapped {border: 1px dashed gray;margin: 0 0.4em 0.5em 0.4em;box-sizing: border-box;padding-bottom: 0.4em;background-color: white;}#sk-container-id-7 div.sk-label label {font-family: monospace;font-weight: bold;display: inline-block;line-height: 1.2em;}#sk-container-id-7 div.sk-label-container {text-align: center;}#sk-container-id-7 div.sk-container {/* jupyter's `normalize.less` sets `[hidden] { display: none; }` but bootstrap.min.css set `[hidden] { display: none !important; }` so we also need the `!important` here to be able to override the default hidden behavior on the sphinx rendered scikit-learn.org. See: https://github.com/scikit-learn/scikit-learn/issues/21755 */display: inline-block !important;position: relative;}#sk-container-id-7 div.sk-text-repr-fallback {display: none;}</style><div id=\"sk-container-id-7\" class=\"sk-top-container\"><div class=\"sk-text-repr-fallback\"><pre>XGBRegressor(base_score=None, booster=None, callbacks=None,\n",
              "             colsample_bylevel=None, colsample_bynode=None,\n",
              "             colsample_bytree=None, device=None, early_stopping_rounds=None,\n",
              "             enable_categorical=False, eval_metric=None, feature_types=None,\n",
              "             gamma=None, grow_policy=None, importance_type=None,\n",
              "             interaction_constraints=None, learning_rate=0.05, max_bin=None,\n",
              "             max_cat_threshold=None, max_cat_to_onehot=None,\n",
              "             max_delta_step=None, max_depth=None, max_leaves=None,\n",
              "             min_child_weight=None, missing=nan, monotone_constraints=None,\n",
              "             multi_strategy=None, n_estimators=100, n_jobs=6,\n",
              "             num_parallel_tree=None, random_state=None, ...)</pre><b>In a Jupyter environment, please rerun this cell to show the HTML representation or trust the notebook. <br />On GitHub, the HTML representation is unable to render, please try loading this page with nbviewer.org.</b></div><div class=\"sk-container\" hidden><div class=\"sk-item\"><div class=\"sk-estimator sk-toggleable\"><input class=\"sk-toggleable__control sk-hidden--visually\" id=\"sk-estimator-id-7\" type=\"checkbox\" checked><label for=\"sk-estimator-id-7\" class=\"sk-toggleable__label sk-toggleable__label-arrow\">XGBRegressor</label><div class=\"sk-toggleable__content\"><pre>XGBRegressor(base_score=None, booster=None, callbacks=None,\n",
              "             colsample_bylevel=None, colsample_bynode=None,\n",
              "             colsample_bytree=None, device=None, early_stopping_rounds=None,\n",
              "             enable_categorical=False, eval_metric=None, feature_types=None,\n",
              "             gamma=None, grow_policy=None, importance_type=None,\n",
              "             interaction_constraints=None, learning_rate=0.05, max_bin=None,\n",
              "             max_cat_threshold=None, max_cat_to_onehot=None,\n",
              "             max_delta_step=None, max_depth=None, max_leaves=None,\n",
              "             min_child_weight=None, missing=nan, monotone_constraints=None,\n",
              "             multi_strategy=None, n_estimators=100, n_jobs=6,\n",
              "             num_parallel_tree=None, random_state=None, ...)</pre></div></div></div></div></div>"
            ]
          },
          "metadata": {},
          "execution_count": 74
        }
      ]
    },
    {
      "cell_type": "markdown",
      "source": [
        "Kode di atas menciptakan sebuah model regresi menggunakan algoritma XGBoost dengan 100 pohon keputusan (n_estimators=100) yang akan digunakan untuk memprediksi variabel target berdasarkan fitur-fitur dalam dataset. Model ini ditentukan dengan konfigurasi berikut:\n",
        "\n",
        "1. `XGBRegressor(n_estimators=100, learning_rate=0.05, n_jobs=6)`: Model XGBoost Regressor dibuat dengan beberapa parameter konfigurasi, termasuk:\n",
        "   - `n_estimators=100`: Model ini akan terdiri dari 100 pohon keputusan yang akan digunakan dalam proses prediksi.\n",
        "   - `learning_rate=0.05`: Tingkat pembelajaran yang digunakan dalam algoritma XGBoost. Ini mengontrol sejauh mana setiap pohon keputusan memperbarui prediksi model sebelumnya.\n",
        "   - `n_jobs=6`: Jumlah pekerjaan paralel yang akan digunakan dalam pelatihan model. Dalam hal ini, 6 pekerjaan akan digunakan untuk melatih model.\n",
        "\n",
        "2. `my_model_3.fit(X_train, y_train)`: Model XGBoost ini dilatih menggunakan data pelatihan yang diberikan dalam `X_train` dan target yang diberikan dalam `y_train`. Proses pelatihan ini akan menghasilkan model yang dapat digunakan untuk membuat prediksi berdasarkan data yang tidak terlihat sebelumnya.\n",
        "\n",
        "Selain parameter-parameter yang disebutkan di atas, terdapat juga parameter lain yang bisa dikustomisasi dalam model XGBoost, seperti `max_depth`, `gamma`, `colsample_bytree`, dan banyak lagi. Model ini diarahkan untuk melakukan regresi, yaitu memprediksi nilai berkelanjutan, dan akan mencoba memahami pola dalam data pelatihan untuk melakukan prediksi yang akurat terhadap target yang diberikan."
      ],
      "metadata": {
        "id": "CpgFqAKP8L5V"
      }
    },
    {
      "cell_type": "code",
      "source": [
        "# predictions_3 adalah prediksi yang dihasilkan oleh model (my_model_3) terhadap data validasi (X_valid).\n",
        "predictions_3 = my_model_3.predict(X_valid)\n",
        "\n",
        "# mean_absolute_error adalah fungsi untuk menghitung Mean Absolute Error (MAE) antara prediksi (predictions_3) dan nilai sebenarnya (y_valid).\n",
        "# Hasil MAE ini mengukur sejauh mana prediksi model berbeda dari nilai sebenarnya dalam skala absolut.\n",
        "# Hasil MAE kemudian dicetak sebagai teks.\n",
        "print(\"Mean Absolute Error: \" + str(mean_absolute_error(predictions_3, y_valid)))\n"
      ],
      "metadata": {
        "colab": {
          "base_uri": "https://localhost:8080/"
        },
        "id": "P_zhRt9FVxf1",
        "outputId": "7cabf9bf-4178-4899-a22f-3fe8853cae61"
      },
      "execution_count": 75,
      "outputs": [
        {
          "output_type": "stream",
          "name": "stdout",
          "text": [
            "Mean Absolute Error: 254714.15406958826\n"
          ]
        }
      ]
    },
    {
      "cell_type": "markdown",
      "source": [
        "Kode di atas digunakan untuk menghitung Mean Absolute Error (MAE) antara prediksi yang dihasilkan oleh model (my_model_3) terhadap data validasi (X_valid) dan nilai sebenarnya (y_valid). Hasil MAE ini mengukur sejauh mana prediksi model berbeda dari nilai sebenarnya dalam skala absolut. Hasil MAE kemudian dicetak sebagai teks, yang dalam contoh ini adalah sekitar 254714.15406958826."
      ],
      "metadata": {
        "id": "v7_lxoGF8S_F"
      }
    }
  ]
}