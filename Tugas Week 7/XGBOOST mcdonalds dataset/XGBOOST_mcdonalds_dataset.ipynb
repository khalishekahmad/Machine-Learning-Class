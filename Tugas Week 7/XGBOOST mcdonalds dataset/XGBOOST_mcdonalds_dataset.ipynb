{
  "nbformat": 4,
  "nbformat_minor": 0,
  "metadata": {
    "colab": {
      "provenance": []
    },
    "kernelspec": {
      "name": "python3",
      "display_name": "Python 3"
    },
    "language_info": {
      "name": "python"
    }
  },
  "cells": [
    {
      "cell_type": "markdown",
      "source": [
        "# Daffa Asyqar Ahmad Khalisheka\n",
        "\n",
        "# 1103200034\n",
        "\n",
        "# Machine Learning Class\n",
        "\n",
        "# Telkom University"
      ],
      "metadata": {
        "id": "mXhdUQOnFyTK"
      }
    },
    {
      "cell_type": "code",
      "execution_count": 125,
      "metadata": {
        "colab": {
          "base_uri": "https://localhost:8080/"
        },
        "id": "f3jbvl9_E5by",
        "outputId": "66051e7c-5431-489f-a0f6-91e5464fccfd"
      },
      "outputs": [
        {
          "output_type": "stream",
          "name": "stdout",
          "text": [
            "Drive already mounted at /content/drive; to attempt to forcibly remount, call drive.mount(\"/content/drive\", force_remount=True).\n"
          ]
        }
      ],
      "source": [
        "# Import library Google Colab untuk mengakses Google Drive\n",
        "from google.colab import drive\n",
        "\n",
        "# Mount (pasang) Google Drive pada direktori /content/drive\n",
        "drive.mount('/content/drive')"
      ]
    },
    {
      "cell_type": "markdown",
      "source": [
        "Kode di atas digunakan dalam lingkungan Google Colab untuk mengakses Google Drive. Berikut penjelasan dari setiap baris kode:\n",
        "\n",
        "1. `from google.colab import drive`: Ini adalah pernyataan impor yang mengimpor modul `drive` dari pustaka `google.colab`. Modul ini digunakan untuk mengakses Google Drive dari lingkungan Google Colab.\n",
        "\n",
        "2. `drive.mount('/content/drive')`: Pada baris ini, kita memanggil metode `mount` dari modul `drive` yang telah diimpor sebelumnya. Metode ini digunakan untuk \"mount\" atau \"pasang\" Google Drive ke dalam direktori tertentu dalam lingkungan Google Colab. Di sini, Google Drive akan di-\"mount\" pada direktori `/content/drive`.\n",
        "\n",
        "Dengan kata lain, kode ini menghubungkan Google Drive pengguna dengan lingkungan Google Colab, sehingga pengguna dapat mengakses dan mengelola file dan folder di Google Drive mereka langsung dari lingkungan Colab tersebut. Setelah menjalankan kode ini, Anda akan diminta untuk memberikan izin dan mengautentikasi akun Google Anda agar dapat mengakses Google Drive dari Colab."
      ],
      "metadata": {
        "id": "6g8h3-GS5SKx"
      }
    },
    {
      "cell_type": "code",
      "source": [
        "# Import library Pandas dan menggantikan 'pd' sebagai alias untuk penggunaan lebih lanjut\n",
        "import pandas as pd"
      ],
      "metadata": {
        "id": "gnhsc-XkI4G-"
      },
      "execution_count": 126,
      "outputs": []
    },
    {
      "cell_type": "markdown",
      "source": [
        "Kode di atas adalah contoh penggunaan perintah Python yang mengimpor perpustakaan Pandas ke dalam program. Pandas adalah perpustakaan yang digunakan untuk melakukan analisis dan manipulasi data dalam Python. Pada kode tersebut, perintah `import pandas as pd` digunakan untuk mengimpor perpustakaan Pandas dan memberikan alias \"pd\" ke perpustakaan tersebut. Alias ini digunakan untuk memudahkan penggunaan Pandas di seluruh program, karena dengan menggunakan \"pd,\" kita dapat mengakses berbagai fungsi dan objek Pandas tanpa harus mengetik \"pandas\" secara penuh setiap kali.\n",
        "\n",
        "Dengan kata lain, kode di atas mengimpor Pandas dan menggantikan \"pandas\" dengan \"pd\" sehingga kita dapat mengakses fungsi-fungsi Pandas dengan lebih mudah, misalnya dengan menuliskan `pd.read_csv()` untuk membaca file CSV atau `pd.DataFrame()` untuk membuat kerangka data (dataframe) Pandas."
      ],
      "metadata": {
        "id": "mz2SqolR5UKK"
      }
    },
    {
      "cell_type": "code",
      "source": [
        "#Membaca file CSV yang berisi data ke dalam sebuah DataFrame\n",
        "data = pd.read_csv('/content/drive/MyDrive/Dataset/mcdonalds_dataset.csv')"
      ],
      "metadata": {
        "id": "crHGgnnZI6Qk"
      },
      "execution_count": 127,
      "outputs": []
    },
    {
      "cell_type": "markdown",
      "source": [
        "Kode di atas digunakan untuk membaca file CSV yang berisi data dan memuatnya ke dalam sebuah DataFrame menggunakan library Python pandas. Berikut adalah penjelasan dari setiap baris kode:\n",
        "\n",
        "1. `data = pd.read_csv('/content/drive/MyDrive/Dataset/mcdonalds_dataset.csv')`: Pada baris ini, kita menggunakan modul `pd` yang sebelumnya telah diimpor (biasanya sebagai `import pandas as pd`) untuk membaca file CSV. Fungsi `read_csv` dari pandas digunakan untuk membaca data dari file CSV. Dalam kasus ini, alamat file CSV yang akan dibaca adalah `'/content/drive/MyDrive/Dataset/mcdonalds_dataset.csv'`.\n",
        "\n",
        "   Hasil dari fungsi `read_csv` akan menjadi DataFrame yang berisi data dari file CSV, dan DataFrame ini disimpan dalam variabel `data`. Sehingga, kita dapat mengakses dan memanipulasi data tersebut menggunakan variabel `data`."
      ],
      "metadata": {
        "id": "G1AnPS4vVYjq"
      }
    },
    {
      "cell_type": "code",
      "source": [
        "#Menampilkan isi dari dataset\n",
        "data"
      ],
      "metadata": {
        "colab": {
          "base_uri": "https://localhost:8080/",
          "height": 721
        },
        "id": "2HBcw4SuJPyG",
        "outputId": "bb60e422-dc31-424f-ebf4-638046cb98b4"
      },
      "execution_count": 128,
      "outputs": [
        {
          "output_type": "execute_result",
          "data": {
            "text/plain": [
              "     Unnamed: 0                                    url_for_product  \\\n",
              "0             0   https://mcdonalds-menu.co.uk/bacon-mayo-chicken/   \n",
              "1             1         https://mcdonalds-menu.co.uk/mayo-chicken/   \n",
              "2             2            https://mcdonalds-menu.co.uk/hamburger/   \n",
              "3             3                https://mcdonalds-menu.co.uk/fries/   \n",
              "4             4         https://mcdonalds-menu.co.uk/cheeseburger/   \n",
              "..          ...                                                ...   \n",
              "147         147      https://mcdonalds-menu.co.uk/muffin-with-jam/   \n",
              "148         148           https://mcdonalds-menu.co.uk/hash-brown/   \n",
              "149         149       https://mcdonalds-menu.co.uk/pancakes-syrup/   \n",
              "150         150  https://mcdonalds-menu.co.uk/pancakes-sausage-...   \n",
              "151         151             https://mcdonalds-menu.co.uk/porridge/   \n",
              "\n",
              "                      product_name  product_availability product_calories  \\\n",
              "0               Bacon Mayo Chicken                     1        kcal: 332   \n",
              "1                     Mayo Chicken                     1        kcal: 285   \n",
              "2                        Hamburger                     1        kcal: 251   \n",
              "3                            Fries                     1        kcal: 237   \n",
              "4                     Cheeseburger                     1        kcal: 298   \n",
              "..                             ...                   ...              ...   \n",
              "147                Muffin with Jam                     1        kcal: 214   \n",
              "148                     Hash Brown                     1        kcal: 127   \n",
              "149               Pancakes & Syrup                     1        kcal: 477   \n",
              "150  Pancakes & Sausage with Syrup                     1        kcal: 612   \n",
              "151                       Porridge                     1        kcal: 154   \n",
              "\n",
              "    product_price  have_sizes  Protein  Carbs   Fat  Salt  Saturates  Sugars  \n",
              "0          £ 1.99           1     17.0   38.0  12.0  1.40        2.2     4.6  \n",
              "1          £ 1.39           1     12.0   38.0   9.1  1.00        1.1     4.4  \n",
              "2           £1.19           1     13.0   30.0   8.3  1.20        3.3     6.3  \n",
              "3          £ 1.19           3      2.3   29.0  12.0  0.44        1.1     0.4  \n",
              "4           £1.39           1     16.0   31.0  12.0  1.70        5.5     7.0  \n",
              "..            ...         ...      ...    ...   ...   ...        ...     ...  \n",
              "147        £ 1.49           1      5.5   35.0   5.6  0.44        1.4    11.0  \n",
              "148        £ 1.19           1      1.1   13.0   7.4  0.64        0.7     0.2  \n",
              "149        £ 3.29           1     10.0   95.0   5.6  1.50        0.9    41.0  \n",
              "150        £ 3.29           1     20.0   96.0  16.0  2.30        4.6    41.0  \n",
              "151        £ 1.99           1      7.8   23.0   3.0  0.17        1.3     6.4  \n",
              "\n",
              "[152 rows x 13 columns]"
            ],
            "text/html": [
              "\n",
              "  <div id=\"df-c1891ea1-392e-4229-a42e-4bd5f62a292c\" class=\"colab-df-container\">\n",
              "    <div>\n",
              "<style scoped>\n",
              "    .dataframe tbody tr th:only-of-type {\n",
              "        vertical-align: middle;\n",
              "    }\n",
              "\n",
              "    .dataframe tbody tr th {\n",
              "        vertical-align: top;\n",
              "    }\n",
              "\n",
              "    .dataframe thead th {\n",
              "        text-align: right;\n",
              "    }\n",
              "</style>\n",
              "<table border=\"1\" class=\"dataframe\">\n",
              "  <thead>\n",
              "    <tr style=\"text-align: right;\">\n",
              "      <th></th>\n",
              "      <th>Unnamed: 0</th>\n",
              "      <th>url_for_product</th>\n",
              "      <th>product_name</th>\n",
              "      <th>product_availability</th>\n",
              "      <th>product_calories</th>\n",
              "      <th>product_price</th>\n",
              "      <th>have_sizes</th>\n",
              "      <th>Protein</th>\n",
              "      <th>Carbs</th>\n",
              "      <th>Fat</th>\n",
              "      <th>Salt</th>\n",
              "      <th>Saturates</th>\n",
              "      <th>Sugars</th>\n",
              "    </tr>\n",
              "  </thead>\n",
              "  <tbody>\n",
              "    <tr>\n",
              "      <th>0</th>\n",
              "      <td>0</td>\n",
              "      <td>https://mcdonalds-menu.co.uk/bacon-mayo-chicken/</td>\n",
              "      <td>Bacon Mayo Chicken</td>\n",
              "      <td>1</td>\n",
              "      <td>kcal: 332</td>\n",
              "      <td>£ 1.99</td>\n",
              "      <td>1</td>\n",
              "      <td>17.0</td>\n",
              "      <td>38.0</td>\n",
              "      <td>12.0</td>\n",
              "      <td>1.40</td>\n",
              "      <td>2.2</td>\n",
              "      <td>4.6</td>\n",
              "    </tr>\n",
              "    <tr>\n",
              "      <th>1</th>\n",
              "      <td>1</td>\n",
              "      <td>https://mcdonalds-menu.co.uk/mayo-chicken/</td>\n",
              "      <td>Mayo Chicken</td>\n",
              "      <td>1</td>\n",
              "      <td>kcal: 285</td>\n",
              "      <td>£ 1.39</td>\n",
              "      <td>1</td>\n",
              "      <td>12.0</td>\n",
              "      <td>38.0</td>\n",
              "      <td>9.1</td>\n",
              "      <td>1.00</td>\n",
              "      <td>1.1</td>\n",
              "      <td>4.4</td>\n",
              "    </tr>\n",
              "    <tr>\n",
              "      <th>2</th>\n",
              "      <td>2</td>\n",
              "      <td>https://mcdonalds-menu.co.uk/hamburger/</td>\n",
              "      <td>Hamburger</td>\n",
              "      <td>1</td>\n",
              "      <td>kcal: 251</td>\n",
              "      <td>£1.19</td>\n",
              "      <td>1</td>\n",
              "      <td>13.0</td>\n",
              "      <td>30.0</td>\n",
              "      <td>8.3</td>\n",
              "      <td>1.20</td>\n",
              "      <td>3.3</td>\n",
              "      <td>6.3</td>\n",
              "    </tr>\n",
              "    <tr>\n",
              "      <th>3</th>\n",
              "      <td>3</td>\n",
              "      <td>https://mcdonalds-menu.co.uk/fries/</td>\n",
              "      <td>Fries</td>\n",
              "      <td>1</td>\n",
              "      <td>kcal: 237</td>\n",
              "      <td>£ 1.19</td>\n",
              "      <td>3</td>\n",
              "      <td>2.3</td>\n",
              "      <td>29.0</td>\n",
              "      <td>12.0</td>\n",
              "      <td>0.44</td>\n",
              "      <td>1.1</td>\n",
              "      <td>0.4</td>\n",
              "    </tr>\n",
              "    <tr>\n",
              "      <th>4</th>\n",
              "      <td>4</td>\n",
              "      <td>https://mcdonalds-menu.co.uk/cheeseburger/</td>\n",
              "      <td>Cheeseburger</td>\n",
              "      <td>1</td>\n",
              "      <td>kcal: 298</td>\n",
              "      <td>£1.39</td>\n",
              "      <td>1</td>\n",
              "      <td>16.0</td>\n",
              "      <td>31.0</td>\n",
              "      <td>12.0</td>\n",
              "      <td>1.70</td>\n",
              "      <td>5.5</td>\n",
              "      <td>7.0</td>\n",
              "    </tr>\n",
              "    <tr>\n",
              "      <th>...</th>\n",
              "      <td>...</td>\n",
              "      <td>...</td>\n",
              "      <td>...</td>\n",
              "      <td>...</td>\n",
              "      <td>...</td>\n",
              "      <td>...</td>\n",
              "      <td>...</td>\n",
              "      <td>...</td>\n",
              "      <td>...</td>\n",
              "      <td>...</td>\n",
              "      <td>...</td>\n",
              "      <td>...</td>\n",
              "      <td>...</td>\n",
              "    </tr>\n",
              "    <tr>\n",
              "      <th>147</th>\n",
              "      <td>147</td>\n",
              "      <td>https://mcdonalds-menu.co.uk/muffin-with-jam/</td>\n",
              "      <td>Muffin with Jam</td>\n",
              "      <td>1</td>\n",
              "      <td>kcal: 214</td>\n",
              "      <td>£ 1.49</td>\n",
              "      <td>1</td>\n",
              "      <td>5.5</td>\n",
              "      <td>35.0</td>\n",
              "      <td>5.6</td>\n",
              "      <td>0.44</td>\n",
              "      <td>1.4</td>\n",
              "      <td>11.0</td>\n",
              "    </tr>\n",
              "    <tr>\n",
              "      <th>148</th>\n",
              "      <td>148</td>\n",
              "      <td>https://mcdonalds-menu.co.uk/hash-brown/</td>\n",
              "      <td>Hash Brown</td>\n",
              "      <td>1</td>\n",
              "      <td>kcal: 127</td>\n",
              "      <td>£ 1.19</td>\n",
              "      <td>1</td>\n",
              "      <td>1.1</td>\n",
              "      <td>13.0</td>\n",
              "      <td>7.4</td>\n",
              "      <td>0.64</td>\n",
              "      <td>0.7</td>\n",
              "      <td>0.2</td>\n",
              "    </tr>\n",
              "    <tr>\n",
              "      <th>149</th>\n",
              "      <td>149</td>\n",
              "      <td>https://mcdonalds-menu.co.uk/pancakes-syrup/</td>\n",
              "      <td>Pancakes &amp; Syrup</td>\n",
              "      <td>1</td>\n",
              "      <td>kcal: 477</td>\n",
              "      <td>£ 3.29</td>\n",
              "      <td>1</td>\n",
              "      <td>10.0</td>\n",
              "      <td>95.0</td>\n",
              "      <td>5.6</td>\n",
              "      <td>1.50</td>\n",
              "      <td>0.9</td>\n",
              "      <td>41.0</td>\n",
              "    </tr>\n",
              "    <tr>\n",
              "      <th>150</th>\n",
              "      <td>150</td>\n",
              "      <td>https://mcdonalds-menu.co.uk/pancakes-sausage-...</td>\n",
              "      <td>Pancakes &amp; Sausage with Syrup</td>\n",
              "      <td>1</td>\n",
              "      <td>kcal: 612</td>\n",
              "      <td>£ 3.29</td>\n",
              "      <td>1</td>\n",
              "      <td>20.0</td>\n",
              "      <td>96.0</td>\n",
              "      <td>16.0</td>\n",
              "      <td>2.30</td>\n",
              "      <td>4.6</td>\n",
              "      <td>41.0</td>\n",
              "    </tr>\n",
              "    <tr>\n",
              "      <th>151</th>\n",
              "      <td>151</td>\n",
              "      <td>https://mcdonalds-menu.co.uk/porridge/</td>\n",
              "      <td>Porridge</td>\n",
              "      <td>1</td>\n",
              "      <td>kcal: 154</td>\n",
              "      <td>£ 1.99</td>\n",
              "      <td>1</td>\n",
              "      <td>7.8</td>\n",
              "      <td>23.0</td>\n",
              "      <td>3.0</td>\n",
              "      <td>0.17</td>\n",
              "      <td>1.3</td>\n",
              "      <td>6.4</td>\n",
              "    </tr>\n",
              "  </tbody>\n",
              "</table>\n",
              "<p>152 rows × 13 columns</p>\n",
              "</div>\n",
              "    <div class=\"colab-df-buttons\">\n",
              "\n",
              "  <div class=\"colab-df-container\">\n",
              "    <button class=\"colab-df-convert\" onclick=\"convertToInteractive('df-c1891ea1-392e-4229-a42e-4bd5f62a292c')\"\n",
              "            title=\"Convert this dataframe to an interactive table.\"\n",
              "            style=\"display:none;\">\n",
              "\n",
              "  <svg xmlns=\"http://www.w3.org/2000/svg\" height=\"24px\" viewBox=\"0 -960 960 960\">\n",
              "    <path d=\"M120-120v-720h720v720H120Zm60-500h600v-160H180v160Zm220 220h160v-160H400v160Zm0 220h160v-160H400v160ZM180-400h160v-160H180v160Zm440 0h160v-160H620v160ZM180-180h160v-160H180v160Zm440 0h160v-160H620v160Z\"/>\n",
              "  </svg>\n",
              "    </button>\n",
              "\n",
              "  <style>\n",
              "    .colab-df-container {\n",
              "      display:flex;\n",
              "      gap: 12px;\n",
              "    }\n",
              "\n",
              "    .colab-df-convert {\n",
              "      background-color: #E8F0FE;\n",
              "      border: none;\n",
              "      border-radius: 50%;\n",
              "      cursor: pointer;\n",
              "      display: none;\n",
              "      fill: #1967D2;\n",
              "      height: 32px;\n",
              "      padding: 0 0 0 0;\n",
              "      width: 32px;\n",
              "    }\n",
              "\n",
              "    .colab-df-convert:hover {\n",
              "      background-color: #E2EBFA;\n",
              "      box-shadow: 0px 1px 2px rgba(60, 64, 67, 0.3), 0px 1px 3px 1px rgba(60, 64, 67, 0.15);\n",
              "      fill: #174EA6;\n",
              "    }\n",
              "\n",
              "    .colab-df-buttons div {\n",
              "      margin-bottom: 4px;\n",
              "    }\n",
              "\n",
              "    [theme=dark] .colab-df-convert {\n",
              "      background-color: #3B4455;\n",
              "      fill: #D2E3FC;\n",
              "    }\n",
              "\n",
              "    [theme=dark] .colab-df-convert:hover {\n",
              "      background-color: #434B5C;\n",
              "      box-shadow: 0px 1px 3px 1px rgba(0, 0, 0, 0.15);\n",
              "      filter: drop-shadow(0px 1px 2px rgba(0, 0, 0, 0.3));\n",
              "      fill: #FFFFFF;\n",
              "    }\n",
              "  </style>\n",
              "\n",
              "    <script>\n",
              "      const buttonEl =\n",
              "        document.querySelector('#df-c1891ea1-392e-4229-a42e-4bd5f62a292c button.colab-df-convert');\n",
              "      buttonEl.style.display =\n",
              "        google.colab.kernel.accessAllowed ? 'block' : 'none';\n",
              "\n",
              "      async function convertToInteractive(key) {\n",
              "        const element = document.querySelector('#df-c1891ea1-392e-4229-a42e-4bd5f62a292c');\n",
              "        const dataTable =\n",
              "          await google.colab.kernel.invokeFunction('convertToInteractive',\n",
              "                                                    [key], {});\n",
              "        if (!dataTable) return;\n",
              "\n",
              "        const docLinkHtml = 'Like what you see? Visit the ' +\n",
              "          '<a target=\"_blank\" href=https://colab.research.google.com/notebooks/data_table.ipynb>data table notebook</a>'\n",
              "          + ' to learn more about interactive tables.';\n",
              "        element.innerHTML = '';\n",
              "        dataTable['output_type'] = 'display_data';\n",
              "        await google.colab.output.renderOutput(dataTable, element);\n",
              "        const docLink = document.createElement('div');\n",
              "        docLink.innerHTML = docLinkHtml;\n",
              "        element.appendChild(docLink);\n",
              "      }\n",
              "    </script>\n",
              "  </div>\n",
              "\n",
              "\n",
              "<div id=\"df-c489a8ec-2aea-4b72-8488-de672431f302\">\n",
              "  <button class=\"colab-df-quickchart\" onclick=\"quickchart('df-c489a8ec-2aea-4b72-8488-de672431f302')\"\n",
              "            title=\"Suggest charts.\"\n",
              "            style=\"display:none;\">\n",
              "\n",
              "<svg xmlns=\"http://www.w3.org/2000/svg\" height=\"24px\"viewBox=\"0 0 24 24\"\n",
              "     width=\"24px\">\n",
              "    <g>\n",
              "        <path d=\"M19 3H5c-1.1 0-2 .9-2 2v14c0 1.1.9 2 2 2h14c1.1 0 2-.9 2-2V5c0-1.1-.9-2-2-2zM9 17H7v-7h2v7zm4 0h-2V7h2v10zm4 0h-2v-4h2v4z\"/>\n",
              "    </g>\n",
              "</svg>\n",
              "  </button>\n",
              "\n",
              "<style>\n",
              "  .colab-df-quickchart {\n",
              "      --bg-color: #E8F0FE;\n",
              "      --fill-color: #1967D2;\n",
              "      --hover-bg-color: #E2EBFA;\n",
              "      --hover-fill-color: #174EA6;\n",
              "      --disabled-fill-color: #AAA;\n",
              "      --disabled-bg-color: #DDD;\n",
              "  }\n",
              "\n",
              "  [theme=dark] .colab-df-quickchart {\n",
              "      --bg-color: #3B4455;\n",
              "      --fill-color: #D2E3FC;\n",
              "      --hover-bg-color: #434B5C;\n",
              "      --hover-fill-color: #FFFFFF;\n",
              "      --disabled-bg-color: #3B4455;\n",
              "      --disabled-fill-color: #666;\n",
              "  }\n",
              "\n",
              "  .colab-df-quickchart {\n",
              "    background-color: var(--bg-color);\n",
              "    border: none;\n",
              "    border-radius: 50%;\n",
              "    cursor: pointer;\n",
              "    display: none;\n",
              "    fill: var(--fill-color);\n",
              "    height: 32px;\n",
              "    padding: 0;\n",
              "    width: 32px;\n",
              "  }\n",
              "\n",
              "  .colab-df-quickchart:hover {\n",
              "    background-color: var(--hover-bg-color);\n",
              "    box-shadow: 0 1px 2px rgba(60, 64, 67, 0.3), 0 1px 3px 1px rgba(60, 64, 67, 0.15);\n",
              "    fill: var(--button-hover-fill-color);\n",
              "  }\n",
              "\n",
              "  .colab-df-quickchart-complete:disabled,\n",
              "  .colab-df-quickchart-complete:disabled:hover {\n",
              "    background-color: var(--disabled-bg-color);\n",
              "    fill: var(--disabled-fill-color);\n",
              "    box-shadow: none;\n",
              "  }\n",
              "\n",
              "  .colab-df-spinner {\n",
              "    border: 2px solid var(--fill-color);\n",
              "    border-color: transparent;\n",
              "    border-bottom-color: var(--fill-color);\n",
              "    animation:\n",
              "      spin 1s steps(1) infinite;\n",
              "  }\n",
              "\n",
              "  @keyframes spin {\n",
              "    0% {\n",
              "      border-color: transparent;\n",
              "      border-bottom-color: var(--fill-color);\n",
              "      border-left-color: var(--fill-color);\n",
              "    }\n",
              "    20% {\n",
              "      border-color: transparent;\n",
              "      border-left-color: var(--fill-color);\n",
              "      border-top-color: var(--fill-color);\n",
              "    }\n",
              "    30% {\n",
              "      border-color: transparent;\n",
              "      border-left-color: var(--fill-color);\n",
              "      border-top-color: var(--fill-color);\n",
              "      border-right-color: var(--fill-color);\n",
              "    }\n",
              "    40% {\n",
              "      border-color: transparent;\n",
              "      border-right-color: var(--fill-color);\n",
              "      border-top-color: var(--fill-color);\n",
              "    }\n",
              "    60% {\n",
              "      border-color: transparent;\n",
              "      border-right-color: var(--fill-color);\n",
              "    }\n",
              "    80% {\n",
              "      border-color: transparent;\n",
              "      border-right-color: var(--fill-color);\n",
              "      border-bottom-color: var(--fill-color);\n",
              "    }\n",
              "    90% {\n",
              "      border-color: transparent;\n",
              "      border-bottom-color: var(--fill-color);\n",
              "    }\n",
              "  }\n",
              "</style>\n",
              "\n",
              "  <script>\n",
              "    async function quickchart(key) {\n",
              "      const quickchartButtonEl =\n",
              "        document.querySelector('#' + key + ' button');\n",
              "      quickchartButtonEl.disabled = true;  // To prevent multiple clicks.\n",
              "      quickchartButtonEl.classList.add('colab-df-spinner');\n",
              "      try {\n",
              "        const charts = await google.colab.kernel.invokeFunction(\n",
              "            'suggestCharts', [key], {});\n",
              "      } catch (error) {\n",
              "        console.error('Error during call to suggestCharts:', error);\n",
              "      }\n",
              "      quickchartButtonEl.classList.remove('colab-df-spinner');\n",
              "      quickchartButtonEl.classList.add('colab-df-quickchart-complete');\n",
              "    }\n",
              "    (() => {\n",
              "      let quickchartButtonEl =\n",
              "        document.querySelector('#df-c489a8ec-2aea-4b72-8488-de672431f302 button');\n",
              "      quickchartButtonEl.style.display =\n",
              "        google.colab.kernel.accessAllowed ? 'block' : 'none';\n",
              "    })();\n",
              "  </script>\n",
              "</div>\n",
              "    </div>\n",
              "  </div>\n"
            ]
          },
          "metadata": {},
          "execution_count": 128
        }
      ]
    },
    {
      "cell_type": "markdown",
      "source": [
        "Kode di atas adalah perintah dalam bahasa pemrograman Python untuk menampilkan isi dari suatu dataset yang disebut \"data.\" Dataset ini terdiri dari 152 baris dan 13 kolom. Berikut adalah penjelasan singkat untuk setiap kolom dataset ini:\n",
        "\n",
        "1. `Unnamed: 0`: Ini adalah indeks baris dataset yang tidak memiliki label kolom. Ini adalah nomor baris dari 0 hingga 151.\n",
        "\n",
        "2. `url_for_product`: Kolom ini berisi URL produk makanan dari situs web mcdonalds-menu.co.uk. Ini adalah tautan ke halaman produk tertentu.\n",
        "\n",
        "3. `product_name`: Ini adalah nama produk makanan yang tersedia di menu McDonald's.\n",
        "\n",
        "4. `product_availability`: Menunjukkan ketersediaan produk (1 berarti tersedia).\n",
        "\n",
        "5. `product_calories`: Berisi informasi tentang jumlah kalori dalam produk makanan. Nilai ini disajikan dalam format \"kcal: X\" di mana X adalah jumlah kalori.\n",
        "\n",
        "6. `product_price`: Harga produk dalam poundsterling (£).\n",
        "\n",
        "7. `have_sizes`: Menunjukkan apakah produk ini memiliki opsi ukuran (1 berarti ada).\n",
        "\n",
        "8. `Protein`: Kandungan protein dalam produk makanan.\n",
        "\n",
        "9. `Carbs`: Kandungan karbohidrat dalam produk makanan.\n",
        "\n",
        "10. `Fat`: Kandungan lemak dalam produk makanan.\n",
        "\n",
        "11. `Salt`: Kandungan garam dalam produk makanan.\n",
        "\n",
        "12. `Saturates`: Kandungan lemak jenuh dalam produk makanan.\n",
        "\n",
        "13. `Sugars`: Kandungan gula dalam produk makanan.\n",
        "\n",
        "Dataset ini mungkin digunakan untuk menganalisis nutrisi, harga, atau ketersediaan produk makanan di menu McDonald's berdasarkan informasi yang diberikan dalam kolom-kolom tersebut."
      ],
      "metadata": {
        "id": "nmahdsjIVaBz"
      }
    },
    {
      "cell_type": "code",
      "source": [
        "# Bersihkan kolom 'product_price' dengan menghapus semua karakter yang bukan angka atau desimal\n",
        "data['product_price'] = data['product_price'].str.replace('[^\\d.]', '', regex=True)\n",
        "\n",
        "# Konversi kolom 'product_price' yang sudah dibersihkan menjadi tipe data float\n",
        "data['product_price'] = data['product_price'].astype(float)\n",
        "\n",
        "# Periksa tipe data semua kolom untuk memastikan mereka adalah numerik (kecuali URL dan nama produk)\n",
        "data.dtypes\n",
        "\n"
      ],
      "metadata": {
        "colab": {
          "base_uri": "https://localhost:8080/"
        },
        "id": "UrRGJIWASIVA",
        "outputId": "ff3ed172-570e-426e-e779-38f763aea070"
      },
      "execution_count": 129,
      "outputs": [
        {
          "output_type": "execute_result",
          "data": {
            "text/plain": [
              "Unnamed: 0                int64\n",
              "url_for_product          object\n",
              "product_name             object\n",
              "product_availability      int64\n",
              "product_calories         object\n",
              "product_price           float64\n",
              "have_sizes                int64\n",
              "Protein                 float64\n",
              "Carbs                   float64\n",
              "Fat                     float64\n",
              "Salt                    float64\n",
              "Saturates               float64\n",
              "Sugars                  float64\n",
              "dtype: object"
            ]
          },
          "metadata": {},
          "execution_count": 129
        }
      ]
    },
    {
      "cell_type": "markdown",
      "source": [
        "Kode di atas digunakan untuk membersihkan kolom 'product_price' dalam suatu DataFrame (disebut 'data') dan mengubahnya menjadi tipe data float. Berikut penjelasan dari setiap baris kode:\n",
        "\n",
        "1. `data['product_price'] = data['product_price'].str.replace('[^\\d.]', '', regex=True)`:\n",
        "   - Pada baris pertama, kita mengambil kolom 'product_price' dari DataFrame 'data'.\n",
        "   - Kemudian, kita menggunakan metode `str.replace()` pada kolom ini. Metode ini digunakan untuk mengganti teks dalam setiap sel data dengan teks baru.\n",
        "   - Pada parameter pertama metode `str.replace()`, kita menggunakan regular expression `[^\\d.]` untuk mencari semua karakter yang bukan angka (`\\d`) atau tanda desimal (`.`).\n",
        "   - Pada parameter kedua metode `str.replace()`, kita menggantikan karakter-karakter yang ditemukan dengan string kosong (`''`), yang artinya kita menghapus karakter-karakter tersebut dari setiap sel dalam kolom 'product_price'.\n",
        "   - `regex=True` digunakan untuk mengaktifkan penggunaan regular expression.\n",
        "\n",
        "2. `data['product_price'] = data['product_price'].astype(float)`:\n",
        "   - Pada baris kedua, setelah membersihkan kolom 'product_price' dari karakter-karakter yang tidak diinginkan, kita mengubah seluruh isi kolom ini menjadi tipe data float.\n",
        "   - Metode `astype(float)` digunakan untuk melakukan konversi tipe data.\n",
        "\n",
        "3. `data.dtypes`:\n",
        "   - Baris terakhir digunakan untuk menampilkan tipe data dari semua kolom dalam DataFrame 'data' setelah proses pembersihan dan konversi. Tujuannya adalah untuk memastikan bahwa semua kolom, kecuali kolom yang berisi URL dan nama produk, memiliki tipe data numerik, khususnya tipe data float dalam hal ini.\n",
        "\n",
        "Dengan demikian, kode ini membantu memastikan bahwa kolom 'product_price' dalam DataFrame 'data' sekarang berisi nilai numerik yang siap digunakan untuk analisis data lebih lanjut."
      ],
      "metadata": {
        "id": "aP4n3g0dVlEb"
      }
    },
    {
      "cell_type": "code",
      "source": [
        "# Ini adalah kode untuk menampilkan informasi tentang objek 'data'\n",
        "data.info()\n"
      ],
      "metadata": {
        "colab": {
          "base_uri": "https://localhost:8080/"
        },
        "id": "LoAurjWsJfUM",
        "outputId": "90891e33-3706-44e1-b6e0-b172e3fdb7f2"
      },
      "execution_count": 130,
      "outputs": [
        {
          "output_type": "stream",
          "name": "stdout",
          "text": [
            "<class 'pandas.core.frame.DataFrame'>\n",
            "RangeIndex: 152 entries, 0 to 151\n",
            "Data columns (total 13 columns):\n",
            " #   Column                Non-Null Count  Dtype  \n",
            "---  ------                --------------  -----  \n",
            " 0   Unnamed: 0            152 non-null    int64  \n",
            " 1   url_for_product       134 non-null    object \n",
            " 2   product_name          152 non-null    object \n",
            " 3   product_availability  152 non-null    int64  \n",
            " 4   product_calories      152 non-null    object \n",
            " 5   product_price         152 non-null    float64\n",
            " 6   have_sizes            152 non-null    int64  \n",
            " 7   Protein               132 non-null    float64\n",
            " 8   Carbs                 133 non-null    float64\n",
            " 9   Fat                   133 non-null    float64\n",
            " 10  Salt                  132 non-null    float64\n",
            " 11  Saturates             132 non-null    float64\n",
            " 12  Sugars                129 non-null    float64\n",
            "dtypes: float64(7), int64(3), object(3)\n",
            "memory usage: 15.6+ KB\n"
          ]
        }
      ]
    },
    {
      "cell_type": "markdown",
      "source": [
        "Kode di atas merupakan contoh dari pemanggilan metode `info()` pada sebuah objek DataFrame yang berasal dari pustaka Pandas dalam bahasa pemrograman Python. Kode ini digunakan untuk menampilkan informasi tentang struktur dan karakteristik dari objek DataFrame yang disebut 'data'. Berikut penjelasan dari hasil output yang diberikan oleh metode `info()`:\n",
        "\n",
        "1. `class 'pandas.core.frame.DataFrame'`: Ini menunjukkan bahwa objek 'data' adalah sebuah DataFrame, yaitu struktur data tabular yang digunakan untuk menyimpan dan mengelola data dalam bentuk tabel.\n",
        "\n",
        "2. `RangeIndex: 152 entries, 0 to 151`: Ini menunjukkan bahwa DataFrame 'data' memiliki 152 baris (entries) dengan indeks yang berjalan dari 0 hingga 151. RangeIndex adalah jenis indeks bawaan yang digunakan jika tidak ada indeks yang diberikan secara eksplisit.\n",
        "\n",
        "3. `Data columns (total 13 columns)`: Ini memberikan informasi bahwa DataFrame 'data' terdiri dari 13 kolom (columns).\n",
        "\n",
        "4. Informasi pada setiap kolom:\n",
        "   - `Unnamed: 0`: Terdapat 152 data non-null dengan tipe data int64.\n",
        "   - `url_for_product`: Terdapat 134 data non-null dengan tipe data object (string).\n",
        "   - `product_name`: Terdapat 152 data non-null dengan tipe data object (string).\n",
        "   - `product_availability`: Terdapat 152 data non-null dengan tipe data int64.\n",
        "   - `product_calories`: Terdapat 152 data non-null dengan tipe data object (string).\n",
        "   - `product_price`: Terdapat 152 data non-null dengan tipe data float64.\n",
        "   - `have_sizes`: Terdapat 152 data non-null dengan tipe data int64.\n",
        "   - `Protein`: Terdapat 132 data non-null dengan tipe data float64.\n",
        "   - `Carbs`: Terdapat 133 data non-null dengan tipe data float64.\n",
        "   - `Fat`: Terdapat 133 data non-null dengan tipe data float64.\n",
        "   - `Salt`: Terdapat 132 data non-null dengan tipe data float64.\n",
        "   - `Saturates`: Terdapat 132 data non-null dengan tipe data float64.\n",
        "   - `Sugars`: Terdapat 129 data non-null dengan tipe data float64.\n",
        "\n",
        "5. `dtypes`: Ini memberikan informasi tentang tipe data dari setiap kolom dalam DataFrame, yaitu terdapat 7 kolom dengan tipe data float64, 3 kolom dengan tipe data int64, dan 3 kolom dengan tipe data object (string).\n",
        "\n",
        "6. `memory usage: 15.6+ KB`: Ini menunjukkan perkiraan penggunaan memori yang digunakan oleh DataFrame 'data', sekitar 15.6 kilobyte."
      ],
      "metadata": {
        "id": "CR1_0YBGWVwo"
      }
    },
    {
      "cell_type": "code",
      "source": [
        "# Menghitung jumlah nilai NaN (Not a Number) pada kolom 'Protein'\n",
        "nan_count_Protein = data['Protein'].isna().sum()\n",
        "\n",
        "# Menghitung jumlah nilai NaN pada kolom ' Carbs  '\n",
        "nan_count_Carbs = data['Carbs'].isna().sum()\n",
        "\n",
        "# Menghitung jumlah nilai NaN pada kolom 'Fat'\n",
        "nan_count_Fat = data['Fat'].isna().sum()\n",
        "\n",
        "# Menghitung jumlah nilai NaN pada kolom 'Salt'\n",
        "nan_count_Salt = data['Salt'].isna().sum()\n",
        "\n",
        "# Menghitung jumlah nilai NaN pada kolom ' Saturates'\n",
        "nan_count_Saturates = data['Saturates'].isna().sum()\n",
        "\n",
        "# Menghitung jumlah nilai NaN pada kolom 'Sugars'\n",
        "nan_count_Sugars = data['Sugars'].isna().sum()\n",
        "\n",
        "# Menampilkan jumlah NaN pada kolom 'Protein' ke layar\n",
        "print(f\"Jumlah NaN pada kolom Protein: {nan_count_Protein}\")\n",
        "\n",
        "# Menampilkan jumlah NaN pada kolom 'Carbs' ke layar\n",
        "print(f\"Jumlah NaN pada kolom Carbs: {nan_count_Carbs}\")\n",
        "\n",
        "# Menampilkan jumlah NaN pada kolom 'Fat' ke layar\n",
        "print(f\"Jumlah NaN pada kolom Fat: {nan_count_Fat}\")\n",
        "\n",
        "# Menampilkan jumlah NaN pada kolom 'Salt' ke layar\n",
        "print(f\"Jumlah NaN pada kolom Salt: {nan_count_Salt}\")\n",
        "\n",
        "# Menampilkan jumlah NaN pada kolom 'Bedroom2' ke layar\n",
        "print(f\"Jumlah NaN pada kolom Saturates: {nan_count_Saturates}\")\n",
        "\n",
        "# Menampilkan jumlah NaN pada kolom 'Bedroom2' ke layar\n",
        "print(f\"Jumlah NaN pada kolom Sugars: {nan_count_Sugars}\")\n"
      ],
      "metadata": {
        "colab": {
          "base_uri": "https://localhost:8080/"
        },
        "id": "kGcmh0VkLkHX",
        "outputId": "20ad53e2-d581-42f8-a70c-2c729f0110f6"
      },
      "execution_count": 131,
      "outputs": [
        {
          "output_type": "stream",
          "name": "stdout",
          "text": [
            "Jumlah NaN pada kolom Protein: 20\n",
            "Jumlah NaN pada kolom Carbs: 19\n",
            "Jumlah NaN pada kolom Fat: 19\n",
            "Jumlah NaN pada kolom Salt: 20\n",
            "Jumlah NaN pada kolom Saturates: 20\n",
            "Jumlah NaN pada kolom Sugars: 23\n"
          ]
        }
      ]
    },
    {
      "cell_type": "markdown",
      "source": [
        "Kode di atas digunakan untuk menghitung jumlah nilai NaN (Not a Number) dalam berbagai kolom data tertentu, dan kemudian menampilkan jumlah NaN tersebut ke layar. Di bawah ini adalah penjelasan singkat tentang setiap bagian kode:\n",
        "\n",
        "1. `nan_count_Protein = data['Protein'].isna().sum()`: Ini adalah perintah untuk menghitung jumlah nilai NaN dalam kolom 'Protein' dari DataFrame yang disebut 'data'. Hasil perhitungan disimpan dalam variabel 'nan_count_Protein'.\n",
        "\n",
        "2. `nan_count_Carbs = data['Carbs'].isna().sum()`: Ini adalah perintah yang serupa dengan yang pertama, tetapi kali ini digunakan untuk menghitung jumlah nilai NaN dalam kolom 'Carbs' dan hasilnya disimpan dalam variabel 'nan_count_Carbs'.\n",
        "\n",
        "3. `nan_count_Fat = data['Fat'].isna().sum()`: Ini adalah perintah yang serupa dengan yang pertama, tetapi digunakan untuk menghitung jumlah nilai NaN dalam kolom 'Fat' dan hasilnya disimpan dalam variabel 'nan_count_Fat'.\n",
        "\n",
        "4. `nan_count_Salt = data['Salt'].isna().sum()`: Ini adalah perintah yang serupa dengan yang pertama, tetapi digunakan untuk menghitung jumlah nilai NaN dalam kolom 'Salt' dan hasilnya disimpan dalam variabel 'nan_count_Salt'.\n",
        "\n",
        "5. `nan_count_Saturates = data['Saturates'].isna().sum()`: Ini adalah perintah yang serupa dengan yang pertama, tetapi digunakan untuk menghitung jumlah nilai NaN dalam kolom 'Saturates' dan hasilnya disimpan dalam variabel 'nan_count_Saturates'.\n",
        "\n",
        "6. `nan_count_Sugars = data['Sugars'].isna().sum()`: Ini adalah perintah yang serupa dengan yang pertama, tetapi digunakan untuk menghitung jumlah nilai NaN dalam kolom 'Sugars' dan hasilnya disimpan dalam variabel 'nan_count_Sugars'.\n",
        "\n",
        "7. `print(f\"Jumlah NaN pada kolom Protein: {nan_count_Protein}\")`: Ini adalah perintah untuk mencetak jumlah nilai NaN dalam kolom 'Protein' ke layar.\n",
        "\n",
        "8. `print(f\"Jumlah NaN pada kolom Carbs: {nan_count_Carbs}\")`: Ini adalah perintah untuk mencetak jumlah nilai NaN dalam kolom 'Carbs' ke layar.\n",
        "\n",
        "9. `print(f\"Jumlah NaN pada kolom Fat: {nan_count_Fat}\")`: Ini adalah perintah untuk mencetak jumlah nilai NaN dalam kolom 'Fat' ke layar.\n",
        "\n",
        "10. `print(f\"Jumlah NaN pada kolom Salt: {nan_count_Salt}\")`: Ini adalah perintah untuk mencetak jumlah nilai NaN dalam kolom 'Salt' ke layar.\n",
        "\n",
        "11. `print(f\"Jumlah NaN pada kolom Saturates: {nan_count_Saturates}\")`: Ini adalah perintah untuk mencetak jumlah nilai NaN dalam kolom 'Saturates' ke layar.\n",
        "\n",
        "12. `print(f\"Jumlah NaN pada kolom Sugars: {nan_count_Sugars}\")`: Ini adalah perintah untuk mencetak jumlah nilai NaN dalam kolom 'Sugars' ke layar.\n",
        "\n",
        "Hasil dari eksekusi kode ini adalah jumlah nilai NaN yang ditemukan dalam masing-masing kolom yang disebutkan, yang akan dicetak ke layar. Jumlah NaN adalah informasi penting dalam analisis data, karena dapat mengindikasikan data yang hilang atau perlu diimputasi."
      ],
      "metadata": {
        "id": "SB-5magsWbGb"
      }
    },
    {
      "cell_type": "code",
      "source": [
        "# Menghapus baris (data) yang memiliki nilai yang hilang (NaN) dalam kolom 'Protein'\n",
        "data.dropna(subset=['Protein'], inplace=True)\n",
        "\n",
        "# Menghapus baris (data) yang memiliki nilai yang hilang (NaN) dalam kolom 'Carbs'\n",
        "data.dropna(subset=['Carbs'], inplace=True)\n",
        "\n",
        "# Menghapus baris (data) yang memiliki nilai yang hilang (NaN) dalam kolom 'Fat'\n",
        "data.dropna(subset=['Fat'], inplace=True)\n",
        "\n",
        "# Menghapus baris (data) yang memiliki nilai yang hilang (NaN) dalam kolom 'Salt'\n",
        "data.dropna(subset=['Salt'], inplace=True)\n",
        "\n",
        "# Menghapus baris (data) yang memiliki nilai yang hilang (NaN) dalam kolom 'Saturates'\n",
        "data.dropna(subset=['Saturates'], inplace=True)\n",
        "\n",
        "# Menghapus baris (data) yang memiliki nilai yang hilang (NaN) dalam kolom 'Sugars'\n",
        "data.dropna(subset=['Sugars'], inplace=True)"
      ],
      "metadata": {
        "id": "TvjNPQ8HOBbt"
      },
      "execution_count": 132,
      "outputs": []
    },
    {
      "cell_type": "markdown",
      "source": [
        "Kode di atas adalah contoh kode yang digunakan untuk menghapus baris (data) yang memiliki nilai yang hilang (NaN) dalam beberapa kolom tertentu dalam suatu dataset. Kode tersebut dilakukan untuk berbagai kolom berbeda secara berurutan, yaitu 'Protein', 'Carbs', 'Fat', 'Salt', 'Saturates', dan 'Sugars'. Setiap bagian kode memiliki tujuan yang sama, yaitu:\n",
        "\n",
        "1. `data.dropna(subset=['Protein'], inplace=True)`: Ini menghapus baris dalam dataset 'data' di mana kolom 'Protein' memiliki nilai yang hilang (NaN). `dropna` adalah metode yang digunakan untuk menghapus baris dengan nilai NaN, dan `subset=['Protein']` mengidentifikasi kolom yang harus diperiksa. Parameter `inplace=True` mengindikasikan bahwa perubahan harus diterapkan langsung pada dataset yang ada.\n",
        "\n",
        "2. Kode yang sama seperti di atas diulang untuk kolom 'Carbs', 'Fat', 'Salt', 'Saturates', dan 'Sugars'. Setiap baris kode ini memiliki tujuan yang sama, yaitu menghilangkan baris-baris dengan nilai NaN dalam kolom yang sesuai."
      ],
      "metadata": {
        "id": "rSB_xVl1WlJv"
      }
    },
    {
      "cell_type": "code",
      "source": [
        "# Menghitung jumlah nilai NaN (missing values) dalam kolom 'Car' dari DataFrame 'data'\n",
        "nan_count_Protein = data['Protein'].isna().sum()\n",
        "\n",
        "# Menghitung jumlah nilai NaN (missing values) dalam kolom 'Carbs' dari DataFrame 'data'\n",
        "nan_count_Carbs = data['Carbs'].isna().sum()\n",
        "\n",
        "# Menghitung jumlah nilai NaN (missing values) dalam kolom 'Fat' dari DataFrame 'data'\n",
        "nan_count_Fat = data['Fat'].isna().sum()\n",
        "\n",
        "# Menghitung jumlah nilai NaN (missing values) dalam kolom 'Salt' dari DataFrame 'data'\n",
        "nan_count_Salt = data['Salt'].isna().sum()\n",
        "\n",
        "# Menghitung jumlah nilai NaN (missing values) dalam kolom 'Saturates' dari DataFrame 'data'\n",
        "nan_count_Saturates = data['Saturates'].isna().sum()\n",
        "\n",
        "# Menghitung jumlah nilai NaN (missing values) dalam kolom 'Sugars' dari DataFrame 'data'\n",
        "nan_count_Sugars = data['Sugars'].isna().sum()\n",
        "\n",
        "\n",
        "# Menampilkan jumlah nilai NaN dalam kolom 'Protein' menggunakan f-string\n",
        "print(f\"Jumlah nilai NaN dalam kolom Protein: {nan_count_Protein}\")\n",
        "\n",
        "# Menampilkan jumlah nilai NaN dalam kolom 'Carbs' menggunakan f-string\n",
        "print(f\"Jumlah nilai NaN dalam kolom Carbs: {nan_count_Carbs}\")\n",
        "\n",
        "# Menampilkan jumlah nilai NaN dalam kolom 'Fat' menggunakan f-string\n",
        "print(f\"Jumlah nilai NaN dalam kolom Fat: {nan_count_Fat}\")\n",
        "\n",
        "# Menampilkan jumlah nilai NaN dalam kolom 'Salt' menggunakan f-string\n",
        "print(f\"Jumlah nilai NaN dalam kolom Salt: {nan_count_Salt}\")\n",
        "\n",
        "# Menampilkan jumlah nilai NaN dalam kolom 'Saturates' menggunakan f-string\n",
        "print(f\"Jumlah nilai NaN dalam kolom Saturates: {nan_count_Saturates}\")\n",
        "\n",
        "# Menampilkan jumlah nilai NaN dalam kolom 'Sugars' menggunakan f-string\n",
        "print(f\"Jumlah nilai NaN dalam kolom Sugars: {nan_count_Sugars}\")"
      ],
      "metadata": {
        "colab": {
          "base_uri": "https://localhost:8080/"
        },
        "id": "uQo_qFJYOEUL",
        "outputId": "6be8660f-1b83-40bb-8d5e-1805e279302c"
      },
      "execution_count": 133,
      "outputs": [
        {
          "output_type": "stream",
          "name": "stdout",
          "text": [
            "Jumlah nilai NaN dalam kolom Protein: 0\n",
            "Jumlah nilai NaN dalam kolom Carbs: 0\n",
            "Jumlah nilai NaN dalam kolom Fat: 0\n",
            "Jumlah nilai NaN dalam kolom Salt: 0\n",
            "Jumlah nilai NaN dalam kolom Saturates: 0\n",
            "Jumlah nilai NaN dalam kolom Sugars: 0\n"
          ]
        }
      ]
    },
    {
      "cell_type": "markdown",
      "source": [
        "Kode di atas adalah contoh penggunaan Python dan library pandas untuk menghitung jumlah nilai NaN (missing values) dalam beberapa kolom tertentu dari sebuah DataFrame yang disebut 'data'. Berikut adalah penjelasan dari kode tersebut:\n",
        "\n",
        "1. `nan_count_Protein = data['Protein'].isna().sum()`: Dalam baris ini, kita menghitung jumlah nilai NaN dalam kolom 'Protein' dari DataFrame 'data' dengan menggunakan metode `.isna()` untuk mengidentifikasi nilai-nilai yang hilang (NaN) dalam kolom 'Protein', dan kemudian kita menggunakan `.sum()` untuk menghitung total jumlah nilai NaN dalam kolom tersebut.\n",
        "\n",
        "2. `nan_count_Carbs = data['Carbs'].isna().sum()`: Langkah ini sama seperti langkah pertama, tetapi kali ini kita menghitung jumlah nilai NaN dalam kolom 'Carbs'.\n",
        "\n",
        "3. `nan_count_Fat = data['Fat'].isna().sum()`: Seperti langkah sebelumnya, di sini kita menghitung jumlah nilai NaN dalam kolom 'Fat'.\n",
        "\n",
        "4. `nan_count_Salt = data['Salt'].isna().sum()`: Sama seperti sebelumnya, ini menghitung jumlah nilai NaN dalam kolom 'Salt'.\n",
        "\n",
        "5. `nan_count_Saturates = data['Saturates'].isna().sum()`: Ini menghitung jumlah nilai NaN dalam kolom 'Saturates'.\n",
        "\n",
        "6. `nan_count_Sugars = data['Sugars'].isna().sum()`: Langkah terakhir ini menghitung jumlah nilai NaN dalam kolom 'Sugars'.\n",
        "\n",
        "Setelah menghitung jumlah nilai NaN dalam masing-masing kolom, kode kemudian menggunakan f-string untuk mencetak hasilnya. Misalnya, `print(f\"Jumlah nilai NaN dalam kolom Protein: {nan_count_Protein}\")` digunakan untuk mencetak jumlah nilai NaN dalam kolom 'Protein', dan langkah serupa dilakukan untuk kolom lainnya. Dalam contoh yang diberikan, semua kolom tersebut memiliki jumlah nilai NaN yang sama, yaitu 0, yang berarti tidak ada nilai NaN dalam kolom tersebut."
      ],
      "metadata": {
        "id": "_4Fl9CsMW19X"
      }
    },
    {
      "cell_type": "code",
      "source": [
        "# Mengambil bentuk (shape) dari data\n",
        "data.shape\n"
      ],
      "metadata": {
        "colab": {
          "base_uri": "https://localhost:8080/"
        },
        "id": "kB2ioPhOOTlD",
        "outputId": "4f49a20e-6485-4f01-de67-10cc11cd6e58"
      },
      "execution_count": 134,
      "outputs": [
        {
          "output_type": "execute_result",
          "data": {
            "text/plain": [
              "(129, 13)"
            ]
          },
          "metadata": {},
          "execution_count": 134
        }
      ]
    },
    {
      "cell_type": "markdown",
      "source": [
        "Kode di atas digunakan untuk mengambil bentuk (shape) dari data yang disimpan dalam suatu variabel yang tidak ditampilkan di dalam pertanyaan. Hasil dari kode tersebut adalah (129, 13), yang mengindikasikan bahwa data tersebut memiliki 129 baris dan 13 kolom."
      ],
      "metadata": {
        "id": "m9P1s92DXuu0"
      }
    },
    {
      "cell_type": "code",
      "source": [
        "# Mengubah kolom 'Protein' menjadi tipe data integer\n",
        "data['Protein'] = data['Protein'].astype(int)\n",
        "\n",
        "# Mengubah kolom 'Carbs' menjadi tipe data integer\n",
        "data['Carbs'] = data['Carbs'].astype(int)\n",
        "\n",
        "# Mengubah kolom 'Fat' menjadi tipe data integer\n",
        "data['Fat'] = data['Fat'].astype(int)\n",
        "\n",
        "# Mengubah kolom 'Salt' menjadi tipe data integer\n",
        "data['Salt'] = data['Salt'].astype(int)\n",
        "\n",
        "# Mengubah kolom 'Saturates' menjadi tipe data integer\n",
        "data['Saturates'] = data['Saturates'].astype(int)\n",
        "\n",
        "# Mengubah kolom 'Sugars' menjadi tipe data integer\n",
        "data['Sugars'] = data['Sugars'].astype(int)"
      ],
      "metadata": {
        "id": "bJI3GCpkKV4R"
      },
      "execution_count": 135,
      "outputs": []
    },
    {
      "cell_type": "markdown",
      "source": [
        "Kode di atas digunakan untuk mengubah tipe data dari beberapa kolom dalam sebuah DataFrame (mungkin dari library seperti pandas) menjadi tipe data integer. Ini dilakukan dengan menggunakan metode `.astype(int)` pada setiap kolom yang diinginkan, dan kolom yang diubah termasuk 'Protein', 'Carbs', 'Fat', 'Salt', 'Saturates', dan 'Sugars'. Hasilnya adalah bahwa semua nilai dalam kolom-kolom ini akan menjadi bilangan bulat (integer) daripada tipe data sebelumnya yang mungkin merupakan tipe data lain seperti float atau string."
      ],
      "metadata": {
        "id": "nNpKYTfyX7kx"
      }
    },
    {
      "cell_type": "code",
      "source": [
        "# Pilih subset dari predictor (variabel independen) yang akan digunakan dalam analisis.\n",
        "cols_to_use = ['product_availability', 'have_sizes', 'Protein', 'Carbs', 'Fat', 'Salt', 'Saturates', 'Sugars']\n",
        "\n",
        "# Buat dataframe 'X' yang hanya berisi kolom-kolom yang terdapat dalam 'cols_to_use'.\n",
        "X = data[cols_to_use]\n"
      ],
      "metadata": {
        "id": "nU-crpvWKmJr"
      },
      "execution_count": 136,
      "outputs": []
    },
    {
      "cell_type": "markdown",
      "source": [
        "Kode di atas adalah bagian dari sebuah analisis data yang menggunakan Python, mungkin dalam konteks ilmu data atau statistik. Kode tersebut melakukan langkah-langkah berikut:\n",
        "\n",
        "1. Terlebih dahulu, ada sebuah list bernama `cols_to_use` yang berisi nama-nama kolom (predictor atau variabel independen) yang akan digunakan dalam analisis selanjutnya. Kolom-kolom ini tampaknya berasal dari sebuah dataframe yang diberi nama `data`.\n",
        "\n",
        "2. Kemudian, kode menciptakan sebuah dataframe baru yang disebut `X`. Dataframe ini hanya akan berisi kolom-kolom yang terdapat dalam list `cols_to_use`. Dengan kata lain, kode ini memilih subset dari predictor yang ingin digunakan dalam analisis dan menyimpannya dalam dataframe `X` untuk penggunaan selanjutnya.\n",
        "\n",
        "Dengan menggunakan subset ini, analisis selanjutnya mungkin akan fokus pada hubungan atau pola yang mungkin ada antara variabel-variabel ini dengan variabel target atau tujuan analisis."
      ],
      "metadata": {
        "id": "H4IHrqlHYA3g"
      }
    },
    {
      "cell_type": "code",
      "source": [
        "# Select target\n",
        "y = data.product_price\n"
      ],
      "metadata": {
        "id": "FJG72bZQOjcK"
      },
      "execution_count": 137,
      "outputs": []
    },
    {
      "cell_type": "markdown",
      "source": [
        "Kode di atas merupakan potongan kode dalam bahasa pemrograman Python yang digunakan untuk mengatur variabel target dalam suatu analisis data atau pemodelan statistik/machine learning. Dalam kode tersebut:\n",
        "\n",
        "- `y`: Ini adalah nama variabel yang digunakan untuk menyimpan target data atau variabel yang ingin diprediksi. Dalam kasus ini, targetnya adalah `product_price` yang merupakan harga produk. Variabel `y` akan digunakan dalam berbagai analisis data atau pemodelan untuk memprediksi atau menganalisis hubungan dengan fitur-fitur lainnya.\n",
        "\n",
        "Namun, untuk memberikan penjelasan lebih detail, perlu informasi tambahan tentang konteks kode tersebut, seperti bagaimana variabel `data` dan `product_price` didefinisikan dan digunakan dalam konteks yang lebih luas."
      ],
      "metadata": {
        "id": "y6copPO5YFFx"
      }
    },
    {
      "cell_type": "code",
      "source": [
        "from sklearn.model_selection import train_test_split\n",
        "\n",
        "# Memisahkan data menjadi set pelatihan dan validasi\n",
        "X_train, X_valid, y_train, y_valid = train_test_split(X, y, random_state=86, test_size=0.100)\n"
      ],
      "metadata": {
        "id": "nlI79aH5PYVz"
      },
      "execution_count": 138,
      "outputs": []
    },
    {
      "cell_type": "markdown",
      "source": [
        "Kode di atas mengimport fungsi `train_test_split` dari pustaka `sklearn.model_selection`. Fungsi ini digunakan untuk memisahkan dataset menjadi dua bagian, yaitu set pelatihan (train set) dan set validasi (validation set), sehingga kita dapat menguji kinerja model pada data yang tidak digunakan dalam proses pelatihan.\n",
        "\n",
        "Penjelasan lebih rinci dari kode tersebut adalah sebagai berikut:\n",
        "- `X_train` adalah variabel yang akan menyimpan fitur (features) dari set pelatihan.\n",
        "- `X_valid` adalah variabel yang akan menyimpan fitur dari set validasi.\n",
        "- `y_train` adalah variabel yang akan menyimpan target (labels) dari set pelatihan.\n",
        "- `y_valid` adalah variabel yang akan menyimpan target dari set validasi.\n",
        "\n",
        "Fungsi `train_test_split` menerima beberapa argumen:\n",
        "- `X` adalah matriks fitur lengkap.\n",
        "- `y` adalah vektor target yang sesuai dengan matriks fitur.\n",
        "- `random_state` adalah argumen yang digunakan untuk mengontrol randomization ketika memisahkan data. Dengan mengatur nilai ini, Anda dapat memastikan bahwa pemisahan data akan konsisten jika Anda perlu menjalankan kode ini beberapa kali.\n",
        "- `test_size` adalah argumen yang menentukan seberapa besar proporsi data yang akan dialokasikan untuk set validasi. Dalam kasus ini, 0.10 (atau 10%) dari data akan digunakan sebagai set validasi.\n",
        "\n",
        "Setelah menjalankan kode ini, Anda akan memiliki empat variabel yang berisi data yang telah dipisahkan dengan cara yang sesuai untuk pelatihan dan validasi model machine learning."
      ],
      "metadata": {
        "id": "-S9eLVhBYHrY"
      }
    },
    {
      "cell_type": "code",
      "source": [
        "# Mengidentifikasi kolom dengan data string\n",
        "string_columns = ['product_availability', 'have_sizes', 'Protein', 'Carbs', 'Fat', 'Salt', 'Saturates', 'Sugars']\n",
        "\n",
        "# Mengkonversi kolom yang memiliki data string menjadi tipe data numerik (contoh: one-hot encoding)\n",
        "X_train_encoded = pd.get_dummies(X_train, columns=string_columns)"
      ],
      "metadata": {
        "id": "5fZlKr6HPvYb"
      },
      "execution_count": 139,
      "outputs": []
    },
    {
      "cell_type": "markdown",
      "source": [
        "Kode di atas bertujuan untuk mengidentifikasi kolom-kolom dalam sebuah DataFrame yang memiliki data string, kemudian mengkonversi kolom-kolom tersebut menjadi tipe data numerik dengan teknik one-hot encoding. Inilah penjelasan lebih detailnya:\n",
        "\n",
        "1. `string_columns` adalah sebuah daftar (list) yang berisi nama-nama kolom yang terdapat dalam DataFrame `X_train` dan memiliki data string. Kolom-kolom ini mungkin berisi informasi seperti teks atau kategori yang perlu diubah menjadi bentuk numerik agar dapat digunakan dalam model pemodelan data.\n",
        "\n",
        "2. `pd.get_dummies(X_train, columns=string_columns)` adalah panggilan fungsi dari pustaka pandas (disingkat sebagai `pd`) yang digunakan untuk melakukan one-hot encoding pada DataFrame `X_train`. One-hot encoding adalah teknik yang digunakan untuk mengubah kolom-kolom kategori menjadi kolom-kolom biner (0 dan 1) yang merepresentasikan keberadaan atau ketiadaan setiap kategori.\n",
        "\n",
        "   - `X_train` adalah DataFrame yang akan diubah.\n",
        "   - `columns=string_columns` adalah argumen yang digunakan untuk menentukan kolom-kolom mana yang akan diubah menjadi one-hot encoding. Kolom-kolom yang terdapat dalam `string_columns` akan diubah, sedangkan kolom-kolom lainnya akan tetap dalam bentuk aslinya.\n",
        "\n",
        "Hasil dari operasi ini adalah DataFrame baru yang sudah diubah, di mana kolom-kolom yang terdapat dalam `string_columns` telah di-one-hot encoding, dan kolom-kolom tersebut sekarang berbentuk biner yang merepresentasikan nilai-nilai yang terdapat dalam kolom tersebut. Ini memungkinkan penggunaan data tersebut dalam model-machine learning yang memerlukan data numerik, seperti regresi atau klasifikasi."
      ],
      "metadata": {
        "id": "PDxQHcqYYXwb"
      }
    },
    {
      "cell_type": "code",
      "source": [
        "# Import library yang diperlukan\n",
        "from xgboost import XGBRegressor\n",
        "\n",
        "# Membuat objek model XGBoost\n",
        "my_model = XGBRegressor()\n",
        "\n",
        "# Melatih model dengan data pelatihan X_train dan target y_train\n",
        "my_model.fit(X_train, y_train)\n"
      ],
      "metadata": {
        "colab": {
          "base_uri": "https://localhost:8080/",
          "height": 248
        },
        "id": "1ysEmuqEPqpa",
        "outputId": "fbbcaef9-e498-42e5-e3f2-94e057f82a9e"
      },
      "execution_count": 140,
      "outputs": [
        {
          "output_type": "execute_result",
          "data": {
            "text/plain": [
              "XGBRegressor(base_score=None, booster=None, callbacks=None,\n",
              "             colsample_bylevel=None, colsample_bynode=None,\n",
              "             colsample_bytree=None, device=None, early_stopping_rounds=None,\n",
              "             enable_categorical=False, eval_metric=None, feature_types=None,\n",
              "             gamma=None, grow_policy=None, importance_type=None,\n",
              "             interaction_constraints=None, learning_rate=None, max_bin=None,\n",
              "             max_cat_threshold=None, max_cat_to_onehot=None,\n",
              "             max_delta_step=None, max_depth=None, max_leaves=None,\n",
              "             min_child_weight=None, missing=nan, monotone_constraints=None,\n",
              "             multi_strategy=None, n_estimators=None, n_jobs=None,\n",
              "             num_parallel_tree=None, random_state=None, ...)"
            ],
            "text/html": [
              "<style>#sk-container-id-8 {color: black;background-color: white;}#sk-container-id-8 pre{padding: 0;}#sk-container-id-8 div.sk-toggleable {background-color: white;}#sk-container-id-8 label.sk-toggleable__label {cursor: pointer;display: block;width: 100%;margin-bottom: 0;padding: 0.3em;box-sizing: border-box;text-align: center;}#sk-container-id-8 label.sk-toggleable__label-arrow:before {content: \"▸\";float: left;margin-right: 0.25em;color: #696969;}#sk-container-id-8 label.sk-toggleable__label-arrow:hover:before {color: black;}#sk-container-id-8 div.sk-estimator:hover label.sk-toggleable__label-arrow:before {color: black;}#sk-container-id-8 div.sk-toggleable__content {max-height: 0;max-width: 0;overflow: hidden;text-align: left;background-color: #f0f8ff;}#sk-container-id-8 div.sk-toggleable__content pre {margin: 0.2em;color: black;border-radius: 0.25em;background-color: #f0f8ff;}#sk-container-id-8 input.sk-toggleable__control:checked~div.sk-toggleable__content {max-height: 200px;max-width: 100%;overflow: auto;}#sk-container-id-8 input.sk-toggleable__control:checked~label.sk-toggleable__label-arrow:before {content: \"▾\";}#sk-container-id-8 div.sk-estimator input.sk-toggleable__control:checked~label.sk-toggleable__label {background-color: #d4ebff;}#sk-container-id-8 div.sk-label input.sk-toggleable__control:checked~label.sk-toggleable__label {background-color: #d4ebff;}#sk-container-id-8 input.sk-hidden--visually {border: 0;clip: rect(1px 1px 1px 1px);clip: rect(1px, 1px, 1px, 1px);height: 1px;margin: -1px;overflow: hidden;padding: 0;position: absolute;width: 1px;}#sk-container-id-8 div.sk-estimator {font-family: monospace;background-color: #f0f8ff;border: 1px dotted black;border-radius: 0.25em;box-sizing: border-box;margin-bottom: 0.5em;}#sk-container-id-8 div.sk-estimator:hover {background-color: #d4ebff;}#sk-container-id-8 div.sk-parallel-item::after {content: \"\";width: 100%;border-bottom: 1px solid gray;flex-grow: 1;}#sk-container-id-8 div.sk-label:hover label.sk-toggleable__label {background-color: #d4ebff;}#sk-container-id-8 div.sk-serial::before {content: \"\";position: absolute;border-left: 1px solid gray;box-sizing: border-box;top: 0;bottom: 0;left: 50%;z-index: 0;}#sk-container-id-8 div.sk-serial {display: flex;flex-direction: column;align-items: center;background-color: white;padding-right: 0.2em;padding-left: 0.2em;position: relative;}#sk-container-id-8 div.sk-item {position: relative;z-index: 1;}#sk-container-id-8 div.sk-parallel {display: flex;align-items: stretch;justify-content: center;background-color: white;position: relative;}#sk-container-id-8 div.sk-item::before, #sk-container-id-8 div.sk-parallel-item::before {content: \"\";position: absolute;border-left: 1px solid gray;box-sizing: border-box;top: 0;bottom: 0;left: 50%;z-index: -1;}#sk-container-id-8 div.sk-parallel-item {display: flex;flex-direction: column;z-index: 1;position: relative;background-color: white;}#sk-container-id-8 div.sk-parallel-item:first-child::after {align-self: flex-end;width: 50%;}#sk-container-id-8 div.sk-parallel-item:last-child::after {align-self: flex-start;width: 50%;}#sk-container-id-8 div.sk-parallel-item:only-child::after {width: 0;}#sk-container-id-8 div.sk-dashed-wrapped {border: 1px dashed gray;margin: 0 0.4em 0.5em 0.4em;box-sizing: border-box;padding-bottom: 0.4em;background-color: white;}#sk-container-id-8 div.sk-label label {font-family: monospace;font-weight: bold;display: inline-block;line-height: 1.2em;}#sk-container-id-8 div.sk-label-container {text-align: center;}#sk-container-id-8 div.sk-container {/* jupyter's `normalize.less` sets `[hidden] { display: none; }` but bootstrap.min.css set `[hidden] { display: none !important; }` so we also need the `!important` here to be able to override the default hidden behavior on the sphinx rendered scikit-learn.org. See: https://github.com/scikit-learn/scikit-learn/issues/21755 */display: inline-block !important;position: relative;}#sk-container-id-8 div.sk-text-repr-fallback {display: none;}</style><div id=\"sk-container-id-8\" class=\"sk-top-container\"><div class=\"sk-text-repr-fallback\"><pre>XGBRegressor(base_score=None, booster=None, callbacks=None,\n",
              "             colsample_bylevel=None, colsample_bynode=None,\n",
              "             colsample_bytree=None, device=None, early_stopping_rounds=None,\n",
              "             enable_categorical=False, eval_metric=None, feature_types=None,\n",
              "             gamma=None, grow_policy=None, importance_type=None,\n",
              "             interaction_constraints=None, learning_rate=None, max_bin=None,\n",
              "             max_cat_threshold=None, max_cat_to_onehot=None,\n",
              "             max_delta_step=None, max_depth=None, max_leaves=None,\n",
              "             min_child_weight=None, missing=nan, monotone_constraints=None,\n",
              "             multi_strategy=None, n_estimators=None, n_jobs=None,\n",
              "             num_parallel_tree=None, random_state=None, ...)</pre><b>In a Jupyter environment, please rerun this cell to show the HTML representation or trust the notebook. <br />On GitHub, the HTML representation is unable to render, please try loading this page with nbviewer.org.</b></div><div class=\"sk-container\" hidden><div class=\"sk-item\"><div class=\"sk-estimator sk-toggleable\"><input class=\"sk-toggleable__control sk-hidden--visually\" id=\"sk-estimator-id-8\" type=\"checkbox\" checked><label for=\"sk-estimator-id-8\" class=\"sk-toggleable__label sk-toggleable__label-arrow\">XGBRegressor</label><div class=\"sk-toggleable__content\"><pre>XGBRegressor(base_score=None, booster=None, callbacks=None,\n",
              "             colsample_bylevel=None, colsample_bynode=None,\n",
              "             colsample_bytree=None, device=None, early_stopping_rounds=None,\n",
              "             enable_categorical=False, eval_metric=None, feature_types=None,\n",
              "             gamma=None, grow_policy=None, importance_type=None,\n",
              "             interaction_constraints=None, learning_rate=None, max_bin=None,\n",
              "             max_cat_threshold=None, max_cat_to_onehot=None,\n",
              "             max_delta_step=None, max_depth=None, max_leaves=None,\n",
              "             min_child_weight=None, missing=nan, monotone_constraints=None,\n",
              "             multi_strategy=None, n_estimators=None, n_jobs=None,\n",
              "             num_parallel_tree=None, random_state=None, ...)</pre></div></div></div></div></div>"
            ]
          },
          "metadata": {},
          "execution_count": 140
        }
      ]
    },
    {
      "cell_type": "markdown",
      "source": [
        "Kode di atas adalah contoh penggunaan library XGBoost untuk membuat dan melatih model regresi menggunakan `XGBRegressor`. Berikut penjelasan dari kode tersebut:\n",
        "\n",
        "1. Baris pertama mengimpor library yang diperlukan, yaitu `XGBRegressor` dari library XGBoost. Library ini digunakan untuk membangun model regresi dengan algoritma XGBoost.\n",
        "\n",
        "2. Baris kedua menciptakan objek model `my_model` menggunakan `XGBRegressor()`. Ini adalah langkah awal untuk membuat model regresi yang akan digunakan untuk memprediksi data.\n",
        "\n",
        "3. Baris ketiga melatih model dengan data pelatihan. `my_model.fit(X_train, y_train)` akan melatih model dengan data yang disimpan dalam `X_train` sebagai fitur (features) dan `y_train` sebagai target (target values). Hasil dari pelatihan ini adalah model XGBoost yang siap digunakan untuk membuat prediksi.\n",
        "\n",
        "4. Di bawah kode tersebut, terdapat informasi tentang parameter yang dapat dikonfigurasi ketika membuat objek `XGBRegressor`. Ini mencakup berbagai parameter yang dapat disesuaikan, seperti learning rate, jumlah pohon (n_estimators), kedalaman maksimum pohon (max_depth), dan banyak parameter lainnya yang memengaruhi perilaku model XGBoost.\n",
        "\n",
        "Kode di atas adalah contoh dasar untuk melatih model regresi menggunakan XGBoost. Untuk penggunaan yang lebih kompleks, biasanya akan melakukan penyetelan parameter dan evaluasi model lebih lanjut."
      ],
      "metadata": {
        "id": "Uz20EM2jYkoT"
      }
    },
    {
      "cell_type": "code",
      "source": [
        "# Mengimpor modul mean_absolute_error dari sklearn.metrics\n",
        "from sklearn.metrics import mean_absolute_error\n",
        "\n",
        "# Melakukan prediksi menggunakan model (my_model) pada data validasi (X_valid)\n",
        "predictions = my_model.predict(X_valid)\n",
        "\n",
        "# Menghitung Mean Absolute Error (MAE) antara prediksi dan nilai target aktual (y_valid)\n",
        "# dan mencetak hasilnya\n",
        "print(\"Mean Absolute Error: \" + str(mean_absolute_error(predictions, y_valid)))\n"
      ],
      "metadata": {
        "colab": {
          "base_uri": "https://localhost:8080/"
        },
        "id": "0wT_O2PfP07i",
        "outputId": "169f995f-9192-4eb1-fb6b-ff465b3c3482"
      },
      "execution_count": 141,
      "outputs": [
        {
          "output_type": "stream",
          "name": "stdout",
          "text": [
            "Mean Absolute Error: 0.24468636732835045\n"
          ]
        }
      ]
    },
    {
      "cell_type": "markdown",
      "source": [
        "Kode di atas adalah contoh penggunaan modul `mean_absolute_error` dari pustaka scikit-learn (sklearn) dalam bahasa pemrograman Python. Berikut penjelasan singkat dari setiap baris kode:\n",
        "\n",
        "1. Import modul `mean_absolute_error` dari `sklearn.metrics`:\n",
        "   ```python\n",
        "   from sklearn.metrics import mean_absolute_error\n",
        "   ```\n",
        "   Dalam baris ini, kita mengimpor fungsi `mean_absolute_error` dari pustaka scikit-learn (sklearn) yang akan digunakan untuk menghitung Mean Absolute Error (MAE) antara prediksi dan nilai target aktual.\n",
        "\n",
        "2. Melakukan prediksi menggunakan model (my_model) pada data validasi (X_valid):\n",
        "   ```python\n",
        "   predictions = my_model.predict(X_valid)\n",
        "   ```\n",
        "   Di sini, model yang disimpan dalam variabel `my_model` digunakan untuk membuat prediksi pada data validasi yang disimpan dalam variabel `X_valid`. Hasil prediksi disimpan dalam variabel `predictions`.\n",
        "\n",
        "3. Menghitung Mean Absolute Error (MAE) antara prediksi dan nilai target aktual (y_valid):\n",
        "   ```python\n",
        "   print(\"Mean Absolute Error: \" + str(mean_absolute_error(predictions, y_valid)))\n",
        "   ```\n",
        "   Baris ini mencetak MAE antara prediksi yang telah dihasilkan oleh model dan nilai target aktual yang disimpan dalam variabel `y_valid`. Hasil MAE ditampilkan sebagai teks di layar.\n",
        "\n",
        "Hasil yang dicetak merupakan nilai MAE yang mengukur seberapa besar kesalahan rata-rata (dalam nilai absolut) antara prediksi model dengan data target aktual. Semakin kecil nilai MAE, semakin baik kinerja model dalam melakukan prediksi. Nilai MAE sekitar 0.2447 dalam contoh ini, yang menunjukkan bahwa model memiliki kesalahan rata-rata sekitar 0.2447 unit dari nilai target aktual."
      ],
      "metadata": {
        "id": "ogKcWu-EYnpd"
      }
    },
    {
      "cell_type": "code",
      "source": [
        "# Membuat model XGBoost Regressor dengan 1000 pohon keputusan (n_estimators=1000)\n",
        "my_model_0 = XGBRegressor(n_estimators=1000)\n",
        "\n",
        "# Melatih model menggunakan data pelatihan X_train dan label y_train\n",
        "my_model_0.fit(X_train, y_train)\n"
      ],
      "metadata": {
        "colab": {
          "base_uri": "https://localhost:8080/",
          "height": 248
        },
        "id": "Au9dkrg1RknS",
        "outputId": "6cf26862-5f69-4bf8-c1b3-969807dfe7c1"
      },
      "execution_count": 142,
      "outputs": [
        {
          "output_type": "execute_result",
          "data": {
            "text/plain": [
              "XGBRegressor(base_score=None, booster=None, callbacks=None,\n",
              "             colsample_bylevel=None, colsample_bynode=None,\n",
              "             colsample_bytree=None, device=None, early_stopping_rounds=None,\n",
              "             enable_categorical=False, eval_metric=None, feature_types=None,\n",
              "             gamma=None, grow_policy=None, importance_type=None,\n",
              "             interaction_constraints=None, learning_rate=None, max_bin=None,\n",
              "             max_cat_threshold=None, max_cat_to_onehot=None,\n",
              "             max_delta_step=None, max_depth=None, max_leaves=None,\n",
              "             min_child_weight=None, missing=nan, monotone_constraints=None,\n",
              "             multi_strategy=None, n_estimators=1000, n_jobs=None,\n",
              "             num_parallel_tree=None, random_state=None, ...)"
            ],
            "text/html": [
              "<style>#sk-container-id-9 {color: black;background-color: white;}#sk-container-id-9 pre{padding: 0;}#sk-container-id-9 div.sk-toggleable {background-color: white;}#sk-container-id-9 label.sk-toggleable__label {cursor: pointer;display: block;width: 100%;margin-bottom: 0;padding: 0.3em;box-sizing: border-box;text-align: center;}#sk-container-id-9 label.sk-toggleable__label-arrow:before {content: \"▸\";float: left;margin-right: 0.25em;color: #696969;}#sk-container-id-9 label.sk-toggleable__label-arrow:hover:before {color: black;}#sk-container-id-9 div.sk-estimator:hover label.sk-toggleable__label-arrow:before {color: black;}#sk-container-id-9 div.sk-toggleable__content {max-height: 0;max-width: 0;overflow: hidden;text-align: left;background-color: #f0f8ff;}#sk-container-id-9 div.sk-toggleable__content pre {margin: 0.2em;color: black;border-radius: 0.25em;background-color: #f0f8ff;}#sk-container-id-9 input.sk-toggleable__control:checked~div.sk-toggleable__content {max-height: 200px;max-width: 100%;overflow: auto;}#sk-container-id-9 input.sk-toggleable__control:checked~label.sk-toggleable__label-arrow:before {content: \"▾\";}#sk-container-id-9 div.sk-estimator input.sk-toggleable__control:checked~label.sk-toggleable__label {background-color: #d4ebff;}#sk-container-id-9 div.sk-label input.sk-toggleable__control:checked~label.sk-toggleable__label {background-color: #d4ebff;}#sk-container-id-9 input.sk-hidden--visually {border: 0;clip: rect(1px 1px 1px 1px);clip: rect(1px, 1px, 1px, 1px);height: 1px;margin: -1px;overflow: hidden;padding: 0;position: absolute;width: 1px;}#sk-container-id-9 div.sk-estimator {font-family: monospace;background-color: #f0f8ff;border: 1px dotted black;border-radius: 0.25em;box-sizing: border-box;margin-bottom: 0.5em;}#sk-container-id-9 div.sk-estimator:hover {background-color: #d4ebff;}#sk-container-id-9 div.sk-parallel-item::after {content: \"\";width: 100%;border-bottom: 1px solid gray;flex-grow: 1;}#sk-container-id-9 div.sk-label:hover label.sk-toggleable__label {background-color: #d4ebff;}#sk-container-id-9 div.sk-serial::before {content: \"\";position: absolute;border-left: 1px solid gray;box-sizing: border-box;top: 0;bottom: 0;left: 50%;z-index: 0;}#sk-container-id-9 div.sk-serial {display: flex;flex-direction: column;align-items: center;background-color: white;padding-right: 0.2em;padding-left: 0.2em;position: relative;}#sk-container-id-9 div.sk-item {position: relative;z-index: 1;}#sk-container-id-9 div.sk-parallel {display: flex;align-items: stretch;justify-content: center;background-color: white;position: relative;}#sk-container-id-9 div.sk-item::before, #sk-container-id-9 div.sk-parallel-item::before {content: \"\";position: absolute;border-left: 1px solid gray;box-sizing: border-box;top: 0;bottom: 0;left: 50%;z-index: -1;}#sk-container-id-9 div.sk-parallel-item {display: flex;flex-direction: column;z-index: 1;position: relative;background-color: white;}#sk-container-id-9 div.sk-parallel-item:first-child::after {align-self: flex-end;width: 50%;}#sk-container-id-9 div.sk-parallel-item:last-child::after {align-self: flex-start;width: 50%;}#sk-container-id-9 div.sk-parallel-item:only-child::after {width: 0;}#sk-container-id-9 div.sk-dashed-wrapped {border: 1px dashed gray;margin: 0 0.4em 0.5em 0.4em;box-sizing: border-box;padding-bottom: 0.4em;background-color: white;}#sk-container-id-9 div.sk-label label {font-family: monospace;font-weight: bold;display: inline-block;line-height: 1.2em;}#sk-container-id-9 div.sk-label-container {text-align: center;}#sk-container-id-9 div.sk-container {/* jupyter's `normalize.less` sets `[hidden] { display: none; }` but bootstrap.min.css set `[hidden] { display: none !important; }` so we also need the `!important` here to be able to override the default hidden behavior on the sphinx rendered scikit-learn.org. See: https://github.com/scikit-learn/scikit-learn/issues/21755 */display: inline-block !important;position: relative;}#sk-container-id-9 div.sk-text-repr-fallback {display: none;}</style><div id=\"sk-container-id-9\" class=\"sk-top-container\"><div class=\"sk-text-repr-fallback\"><pre>XGBRegressor(base_score=None, booster=None, callbacks=None,\n",
              "             colsample_bylevel=None, colsample_bynode=None,\n",
              "             colsample_bytree=None, device=None, early_stopping_rounds=None,\n",
              "             enable_categorical=False, eval_metric=None, feature_types=None,\n",
              "             gamma=None, grow_policy=None, importance_type=None,\n",
              "             interaction_constraints=None, learning_rate=None, max_bin=None,\n",
              "             max_cat_threshold=None, max_cat_to_onehot=None,\n",
              "             max_delta_step=None, max_depth=None, max_leaves=None,\n",
              "             min_child_weight=None, missing=nan, monotone_constraints=None,\n",
              "             multi_strategy=None, n_estimators=1000, n_jobs=None,\n",
              "             num_parallel_tree=None, random_state=None, ...)</pre><b>In a Jupyter environment, please rerun this cell to show the HTML representation or trust the notebook. <br />On GitHub, the HTML representation is unable to render, please try loading this page with nbviewer.org.</b></div><div class=\"sk-container\" hidden><div class=\"sk-item\"><div class=\"sk-estimator sk-toggleable\"><input class=\"sk-toggleable__control sk-hidden--visually\" id=\"sk-estimator-id-9\" type=\"checkbox\" checked><label for=\"sk-estimator-id-9\" class=\"sk-toggleable__label sk-toggleable__label-arrow\">XGBRegressor</label><div class=\"sk-toggleable__content\"><pre>XGBRegressor(base_score=None, booster=None, callbacks=None,\n",
              "             colsample_bylevel=None, colsample_bynode=None,\n",
              "             colsample_bytree=None, device=None, early_stopping_rounds=None,\n",
              "             enable_categorical=False, eval_metric=None, feature_types=None,\n",
              "             gamma=None, grow_policy=None, importance_type=None,\n",
              "             interaction_constraints=None, learning_rate=None, max_bin=None,\n",
              "             max_cat_threshold=None, max_cat_to_onehot=None,\n",
              "             max_delta_step=None, max_depth=None, max_leaves=None,\n",
              "             min_child_weight=None, missing=nan, monotone_constraints=None,\n",
              "             multi_strategy=None, n_estimators=1000, n_jobs=None,\n",
              "             num_parallel_tree=None, random_state=None, ...)</pre></div></div></div></div></div>"
            ]
          },
          "metadata": {},
          "execution_count": 142
        }
      ]
    },
    {
      "cell_type": "markdown",
      "source": [
        "Kode di atas adalah contoh penggunaan XGBoost Regressor dalam pemodelan machine learning dengan beberapa parameter yang disetel:\n",
        "\n",
        "1. `my_model_0 = XGBRegressor(n_estimators=1000)`: Di sini, kita membuat sebuah objek model `my_model_0` menggunakan kelas `XGBRegressor` dari pustaka XGBoost. Parameter `n_estimators` diatur menjadi 1000, yang berarti model ini akan menggunakan 1000 pohon keputusan dalam ansambelnya. Pohon keputusan adalah komponen dasar dari model XGBoost yang digunakan untuk melakukan prediksi.\n",
        "\n",
        "2. `my_model_0.fit(X_train, y_train)`: Dalam baris ini, model yang telah dibuat (`my_model_0`) dilatih menggunakan data pelatihan `X_train` dan label `y_train`. Ini adalah tahap pelatihan di mana model belajar dari data pelatihan untuk membuat prediksi yang lebih baik di masa depan. Model XGBoost akan melakukan serangkaian iterasi atau langkah-langkah untuk mengoptimalkan pohon keputusan dan parameter lainnya berdasarkan data pelatihan.\n",
        "\n",
        "Selain dari itu, kode tersebut juga mencantumkan beberapa parameter dan argumen default lainnya yang tidak diubah dari nilai defaultnya. Ini adalah parameter bawaan XGBoost yang dapat disesuaikan sesuai kebutuhan untuk meningkatkan kinerja model. Contoh parameter yang dapat diubah mencakup tingkat pembelajaran (`learning_rate`), kedalaman maksimum pohon (`max_depth`), dan lainnya.\n",
        "\n",
        "Jadi, keseluruhan tujuan dari kode di atas adalah untuk membuat dan melatih model XGBoost Regressor dengan 1000 pohon keputusan sebagai bagian dari ansambelnya untuk memprediksi nilai berdasarkan data pelatihan yang diberikan. Model ini akan digunakan untuk tugas regresi, yaitu memprediksi nilai berkelanjutan."
      ],
      "metadata": {
        "id": "-EmH4sp2Y2xN"
      }
    },
    {
      "cell_type": "code",
      "source": [
        "# Melakukan prediksi menggunakan model 'my_model_0' pada data validasi 'X_valid'\n",
        "predictions_0 = my_model_0.predict(X_valid)\n",
        "\n",
        "# Menghitung Mean Absolute Error (MAE) antara prediksi dan target sebenarnya 'y_valid'\n",
        "mae = mean_absolute_error(predictions_0, y_valid)\n",
        "\n",
        "# Menampilkan MAE ke layar\n",
        "print(\"Mean Absolute Error: \" + str(mae))\n"
      ],
      "metadata": {
        "colab": {
          "base_uri": "https://localhost:8080/"
        },
        "id": "WYct2XppRwEm",
        "outputId": "5b8c09f4-ff08-4539-c376-b8b1be71351c"
      },
      "execution_count": 143,
      "outputs": [
        {
          "output_type": "stream",
          "name": "stdout",
          "text": [
            "Mean Absolute Error: 0.24468636732835045\n"
          ]
        }
      ]
    },
    {
      "cell_type": "markdown",
      "source": [
        "Kode di atas melakukan beberapa langkah sebagai berikut:\n",
        "\n",
        "1. `my_model_0.predict(X_valid)`: Menggunakan model yang disebut \"my_model_0\", kode ini melakukan prediksi pada data validasi yang disimpan dalam variabel 'X_valid'. Model ini adalah model yang telah dilatih sebelumnya, dan saat ini digunakan untuk melakukan prediksi pada data yang belum dilihat sebelumnya.\n",
        "\n",
        "2. `mean_absolute_error(predictions_0, y_valid)`: Kode ini menghitung Mean Absolute Error (MAE) antara hasil prediksi yang dihasilkan oleh model ('predictions_0') dan target sebenarnya yang disimpan dalam variabel 'y_valid'. MAE adalah metrik evaluasi yang mengukur seberapa dekat prediksi model dengan nilai sebenarnya. MAE dihitung dengan cara mengambil selisih absolut antara setiap prediksi dan nilai sebenarnya, dan kemudian menghitung rata-rata dari seluruh selisih ini.\n",
        "\n",
        "3. `print(\"Mean Absolute Error: \" + str(mae))`: Kode ini mencetak hasil MAE yang telah dihitung ke layar, sehingga kita dapat mengetahui seberapa baik model 'my_model_0' dalam melakukan prediksi terhadap data validasi. Dalam contoh ini, MAE yang dicetak adalah sekitar 0.24468636732835045, yang merupakan nilai rata-rata dari selisih absolut antara prediksi dan nilai sebenarnya. Semakin rendah nilai MAE, semakin baik model tersebut dalam melakukan prediksi."
      ],
      "metadata": {
        "id": "BgcVGchXY9j_"
      }
    },
    {
      "cell_type": "code",
      "source": [
        "from sklearn.model_selection import GridSearchCV\n",
        "\n",
        "# Tentukan model XGBoost\n",
        "model_grid = XGBRegressor()\n",
        "\n",
        "# Tentukan parameter grid\n",
        "param_grid = {\n",
        "    'n_estimators': [250, 300, 450, 500, 1100]  # Ganti dengan rentang nilai yang ingin Anda coba\n",
        "}\n",
        "\n",
        "# Inisialisasi GridSearchCV\n",
        "grid_search = GridSearchCV(estimator=model_grid, param_grid=param_grid, cv=5, scoring='neg_mean_absolute_error')\n",
        "\n",
        "# Lakukan fitting menggunakan data training\n",
        "grid_search.fit(X_train, y_train)\n",
        "\n",
        "# Dapatkan parameter terbaik\n",
        "best_n_estimators = grid_search.best_params_['n_estimators']\n",
        "\n",
        "print(\"Nilai n_estimators terbaik:\", best_n_estimators)\n",
        "# Tentukan range nilai n_estimators yang akan diuji\n",
        "n_estimators_list = [100, 150, 200, 250, 300]\n",
        "\n",
        "# Inisialisasi sebuah list untuk menyimpan hasil MAE\n",
        "mae_results = []\n",
        "\n",
        "# Loop melalui setiap nilai n_estimators\n",
        "for n_estimators in n_estimators_list:\n",
        "    # Inisialisasi model dengan n_estimators tertentu\n",
        "    model_grid = XGBRegressor(n_estimators=n_estimators)\n",
        "\n",
        "    # Fitting model menggunakan data training\n",
        "    model_grid.fit(X_train, y_train)\n",
        "\n",
        "    # Lakukan prediksi pada data validasi\n",
        "    predictions = model_grid.predict(X_valid)\n",
        "\n",
        "    # Hitung Mean Absolute Error\n",
        "    mae = mean_absolute_error(predictions, y_valid)\n",
        "\n",
        "    # Tampilkan nilai n_estimators dan MAE\n",
        "    print(f\"n_estimators: {n_estimators}, Mean Absolute Error: {mae}\")\n",
        "\n",
        "    # Tambahkan nilai MAE ke dalam list\n",
        "    mae_results.append(mae)"
      ],
      "metadata": {
        "colab": {
          "base_uri": "https://localhost:8080/"
        },
        "id": "a5vzkSp7S-Sl",
        "outputId": "08bf54b8-8cd2-4c28-8bb9-e82856b2dce6"
      },
      "execution_count": 144,
      "outputs": [
        {
          "output_type": "stream",
          "name": "stdout",
          "text": [
            "Nilai n_estimators terbaik: 250\n",
            "n_estimators: 100, Mean Absolute Error: 0.24468636732835045\n",
            "n_estimators: 150, Mean Absolute Error: 0.24468636732835045\n",
            "n_estimators: 200, Mean Absolute Error: 0.24468636732835045\n",
            "n_estimators: 250, Mean Absolute Error: 0.24468636732835045\n",
            "n_estimators: 300, Mean Absolute Error: 0.24468636732835045\n"
          ]
        }
      ]
    },
    {
      "cell_type": "markdown",
      "source": [
        "Kode di atas adalah contoh penggunaan GridSearchCV dari library scikit-learn (sklearn) untuk mencari nilai terbaik dari parameter 'n_estimators' pada model XGBoost (XGBRegressor) dalam konteks regresi. Berikut adalah penjelasan singkat untuk setiap bagian kode:\n",
        "\n",
        "1. Import GridSearchCV:\n",
        "   Baris pertama mengimpor GridSearchCV dari modul `sklearn.model_selection`. GridSearchCV adalah alat untuk melakukan pencarian parameter terbaik dengan berbagai kombinasi parameter yang telah ditentukan.\n",
        "\n",
        "2. Tentukan model XGBoost:\n",
        "   Baris kedua menginisialisasi model XGBoost sebagai `model_grid` dengan parameter default.\n",
        "\n",
        "3. Tentukan parameter grid:\n",
        "   Baris keempat mendefinisikan parameter grid `param_grid` yang akan digunakan dalam pencarian parameter terbaik. Dalam contoh ini, hanya satu parameter yang akan dicari, yaitu 'n_estimators', dan beberapa nilai yang mungkin.\n",
        "\n",
        "4. Inisialisasi GridSearchCV:\n",
        "   Baris keenam menginisialisasi objek GridSearchCV dengan model `model_grid`, parameter grid `param_grid`, metode validasi silang (cross-validation) sebanyak 5 kali (cv=5), dan menggunakan 'neg_mean_absolute_error' sebagai metrik penilaian.\n",
        "\n",
        "5. Lakukan fitting menggunakan data training:\n",
        "   Baris kedelapan melakukan fitting model dengan data training `X_train` dan target `y_train` menggunakan GridSearchCV. Ini akan melakukan pencarian parameter terbaik berdasarkan parameter grid yang telah ditentukan.\n",
        "\n",
        "6. Dapatkan parameter terbaik:\n",
        "   Baris kesepuluh mengekstrak nilai terbaik dari parameter 'n_estimators' yang ditemukan oleh GridSearchCV dan menyimpannya dalam variabel `best_n_estimators`.\n",
        "\n",
        "7. Print nilai terbaik:\n",
        "   Baris ke-12 mencetak nilai terbaik dari parameter 'n_estimators' yang ditemukan oleh GridSearchCV.\n",
        "\n",
        "Setelah mendapatkan nilai terbaik untuk 'n_estimators', kode melanjutkan dengan mencoba beberapa nilai lain dari 'n_estimators' secara manual dalam loop:\n",
        "\n",
        "8. Tentukan range nilai n_estimators yang akan diuji:\n",
        "   Baris ke-15 mendefinisikan daftar `n_estimators_list` yang berisi beberapa nilai yang ingin diuji.\n",
        "\n",
        "9. Inisialisasi list untuk menyimpan hasil MAE:\n",
        "   Baris ke-18 membuat list kosong `mae_results` yang akan digunakan untuk menyimpan hasil Mean Absolute Error (MAE) dari setiap iterasi.\n",
        "\n",
        "10. Loop melalui setiap nilai n_estimators:\n",
        "    Baris ke-21 hingga ke-37 adalah loop yang iterasi melalui setiap nilai 'n_estimators' dalam daftar `n_estimators_list`. Di setiap iterasi, model XGBoost diinisialisasi dengan nilai 'n_estimators' tertentu, kemudian dilakukan fitting pada data training.\n",
        "\n",
        "11. Lakukan prediksi pada data validasi:\n",
        "    Baris ke-29 memprediksi hasil menggunakan model yang telah di-fit pada data validasi `X_valid`.\n",
        "\n",
        "12. Hitung Mean Absolute Error:\n",
        "    Baris ke-32 menghitung MAE dengan membandingkan prediksi dengan target sebenarnya (`y_valid`) menggunakan fungsi `mean_absolute_error`.\n",
        "\n",
        "13. Tampilkan nilai n_estimators dan MAE:\n",
        "    Baris ke-35 mencetak nilai 'n_estimators' dan MAE untuk setiap iterasi.\n",
        "\n",
        "14. Tambahkan nilai MAE ke dalam list:\n",
        "    Baris ke-38 menambahkan nilai MAE ke dalam list `mae_results`.\n",
        "\n",
        "Jadi, kode tersebut menggambarkan proses pencarian parameter terbaik untuk 'n_estimators' dengan menggunakan GridSearchCV, dan kemudian mengevaluasi beberapa nilai 'n_estimators' secara manual untuk model XGBoost. Hasil MAE dari setiap iterasi manual juga dicetak untuk dianalisis."
      ],
      "metadata": {
        "id": "9YqjNZBnZHWM"
      }
    },
    {
      "cell_type": "code",
      "source": [
        "# Membuat model XGBoost Regressor dengan 100 pohon keputusan (n_estimators=100)\n",
        "my_model_2 = XGBRegressor(n_estimators=100)\n",
        "\n",
        "# Melatih model menggunakan data pelatihan (X_train, y_train) dengan early stopping\n",
        "# untuk menghentikan pelatihan jika tidak ada perbaikan dalam 5 iterasi\n",
        "# dan menggunakan data validasi (X_valid, y_valid) untuk evaluasi\n",
        "my_model_2.fit(X_train, y_train, early_stopping_rounds=5, eval_set=[(X_valid, y_valid)], verbose=False)\n",
        "\n",
        "# Melakukan prediksi pada data validasi menggunakan model yang telah dilatih\n",
        "predictions_2 = my_model_2.predict(X_valid)\n",
        "\n",
        "# Menghitung Mean Absolute Error (MAE) antara prediksi dan nilai sebenarnya pada data validasi\n",
        "print(\"Mean Absolute Error: \" + str(mean_absolute_error(predictions_2, y_valid)))\n"
      ],
      "metadata": {
        "colab": {
          "base_uri": "https://localhost:8080/"
        },
        "id": "5Wx-gk6eUEKm",
        "outputId": "1a14e17d-57b5-430e-d612-861718ba324d"
      },
      "execution_count": 145,
      "outputs": [
        {
          "output_type": "stream",
          "name": "stdout",
          "text": [
            "Mean Absolute Error: 0.269834254704989\n"
          ]
        },
        {
          "output_type": "stream",
          "name": "stderr",
          "text": [
            "/usr/local/lib/python3.10/dist-packages/xgboost/sklearn.py:885: UserWarning: `early_stopping_rounds` in `fit` method is deprecated for better compatibility with scikit-learn, use `early_stopping_rounds` in constructor or`set_params` instead.\n",
            "  warnings.warn(\n"
          ]
        }
      ]
    },
    {
      "cell_type": "markdown",
      "source": [
        "Kode di atas adalah contoh penggunaan model XGBoost Regressor untuk melakukan tugas regresi. Berikut adalah penjelasan singkat dari setiap langkah dalam kode tersebut:\n",
        "\n",
        "1. `my_model_2 = XGBRegressor(n_estimators=100)`: Di sini, model XGBoost Regressor dibuat dengan 100 pohon keputusan (n_estimators=100). Ini berarti model akan terdiri dari 100 pohon keputusan yang digunakan untuk memprediksi variabel target dalam tugas regresi.\n",
        "\n",
        "2. `my_model_2.fit(X_train, y_train, early_stopping_rounds=5, eval_set=[(X_valid, y_valid)], verbose=False)`: Model XGBoost dilatih menggunakan data pelatihan `X_train` dan target `y_train`. Parameter `early_stopping_rounds` digunakan untuk menghentikan pelatihan jika tidak ada perbaikan dalam 5 iterasi. Data validasi `(X_valid, y_valid)` digunakan untuk evaluasi model selama pelatihan. `verbose=False` mengatur agar tidak ada output pelatihan yang ditampilkan.\n",
        "\n",
        "3. `predictions_2 = my_model_2.predict(X_valid)`: Setelah pelatihan selesai, model digunakan untuk melakukan prediksi pada data validasi `X_valid`, dan hasil prediksi disimpan dalam variabel `predictions_2`.\n",
        "\n",
        "4. `print(\"Mean Absolute Error: \" + str(mean_absolute_error(predictions_2, y_valid)))`: Akhirnya, Mean Absolute Error (MAE) dihitung antara prediksi (`predictions_2`) dan nilai sebenarnya (`y_valid`) pada data validasi. MAE adalah metrik evaluasi yang mengukur seberapa dekat prediksi model dengan nilai sebenarnya, dan hasilnya dicetak ke layar.\n",
        "\n",
        "Penting untuk diingat bahwa dalam peringatan yang muncul, ada peringatan bahwa parameter `early_stopping_rounds` dalam metode `fit` telah dianggap usang, dan disarankan untuk menggunakannya dalam konstruktor atau `set_params`. Ini adalah perubahan dalam penggunaan XGBoost, tetapi kode di atas masih berfungsi dengan baik untuk tujuan demonstrasi."
      ],
      "metadata": {
        "id": "XjTYsQAPZQLH"
      }
    },
    {
      "cell_type": "code",
      "source": [
        "# Import library XGBRegressor untuk mengembangkan model XGBoost\n",
        "my_model_1 = XGBRegressor(n_estimators=100)\n",
        "\n",
        "# Melatih model menggunakan data pelatihan\n",
        "my_model_1.fit(X_train, y_train)\n",
        "\n",
        "# Membuat prediksi menggunakan model yang telah dilatih pada data validasi\n",
        "predictions_1 = my_model_1.predict(X_valid)\n",
        "\n",
        "# Menghitung dan mencetak Mean Absolute Error (MAE) dari prediksi model\n",
        "print(\"Mean Absolute Error: \" + str(mean_absolute_error(predictions_1, y_valid)))\n"
      ],
      "metadata": {
        "colab": {
          "base_uri": "https://localhost:8080/"
        },
        "id": "8C95PzlzUfst",
        "outputId": "1942522f-9d8a-4915-d831-e32bfa3b5316"
      },
      "execution_count": 146,
      "outputs": [
        {
          "output_type": "stream",
          "name": "stdout",
          "text": [
            "Mean Absolute Error: 0.24468636732835045\n"
          ]
        }
      ]
    },
    {
      "cell_type": "markdown",
      "source": [
        "Kode di atas adalah contoh implementasi pemodelan menggunakan algoritma XGBoost (Extreme Gradient Boosting) untuk tugas regresi. Berikut penjelasan singkat dari setiap bagian kode:\n",
        "\n",
        "1. `my_model_1 = XGBRegressor(n_estimators=100)`: Baris ini mengimpor kelas `XGBRegressor` dari pustaka XGBoost dan membuat sebuah objek model regresi yang disebut `my_model_1`. Model ini akan memiliki 100 pohon keputusan sebagai estimator dalam ensemble XGBoost.\n",
        "\n",
        "2. `my_model_1.fit(X_train, y_train)`: Baris ini melatih model `my_model_1` menggunakan data pelatihan. `X_train` adalah matriks fitur pelatihan, dan `y_train` adalah vektor target pelatihan.\n",
        "\n",
        "3. `predictions_1 = my_model_1.predict(X_valid)`: Baris ini menggunakan model yang telah dilatih (`my_model_1`) untuk membuat prediksi pada data validasi (`X_valid`). Hasil prediksi disimpan dalam vektor `predictions_1`.\n",
        "\n",
        "4. `print(\"Mean Absolute Error: \" + str(mean_absolute_error(predictions_1, y_valid)))`: Baris ini menghitung Mean Absolute Error (MAE) antara prediksi model (`predictions_1`) dan target sesungguhnya pada data validasi (`y_valid`). Hasil MAE kemudian dicetak ke layar.\n",
        "\n",
        "Hasil keluaran dari kode ini adalah MAE, yang merupakan metrik evaluasi untuk mengukur seberapa baik model XGBoost dalam melakukan prediksi terhadap data validasi. Semakin rendah nilai MAE, semakin baik model dalam melakukan prediksi, dengan angka yang lebih rendah menunjukkan bahwa model lebih mendekati nilai target yang sebenarnya. Dalam konteks ini, MAE sebesar 0.24468636732835045 menunjukkan bahwa model memiliki kualitas yang baik dalam melakukan prediksi pada data validasi."
      ],
      "metadata": {
        "id": "g-KXClEzZWMv"
      }
    },
    {
      "cell_type": "code",
      "source": [
        "# Membuat model XGBoost Regressor dengan 1000 pohon keputusan (n_estimators=1000).\n",
        "# Model ini akan digunakan untuk memprediksi variabel target berdasarkan fitur-fitur dalam dataset.\n",
        "my_model_3 = XGBRegressor(n_estimators=1000, learning_rate=0.10, n_jobs=10)\n",
        "\n",
        "# Melatih model dengan menggunakan data pelatihan (X_train) dan target (y_train).\n",
        "my_model_3.fit(X_train, y_train)\n",
        "\n"
      ],
      "metadata": {
        "colab": {
          "base_uri": "https://localhost:8080/",
          "height": 248
        },
        "id": "NmFlZMZWVcdo",
        "outputId": "4facd220-a0e5-4706-cca5-a0da93569454"
      },
      "execution_count": 147,
      "outputs": [
        {
          "output_type": "execute_result",
          "data": {
            "text/plain": [
              "XGBRegressor(base_score=None, booster=None, callbacks=None,\n",
              "             colsample_bylevel=None, colsample_bynode=None,\n",
              "             colsample_bytree=None, device=None, early_stopping_rounds=None,\n",
              "             enable_categorical=False, eval_metric=None, feature_types=None,\n",
              "             gamma=None, grow_policy=None, importance_type=None,\n",
              "             interaction_constraints=None, learning_rate=0.1, max_bin=None,\n",
              "             max_cat_threshold=None, max_cat_to_onehot=None,\n",
              "             max_delta_step=None, max_depth=None, max_leaves=None,\n",
              "             min_child_weight=None, missing=nan, monotone_constraints=None,\n",
              "             multi_strategy=None, n_estimators=1000, n_jobs=10,\n",
              "             num_parallel_tree=None, random_state=None, ...)"
            ],
            "text/html": [
              "<style>#sk-container-id-10 {color: black;background-color: white;}#sk-container-id-10 pre{padding: 0;}#sk-container-id-10 div.sk-toggleable {background-color: white;}#sk-container-id-10 label.sk-toggleable__label {cursor: pointer;display: block;width: 100%;margin-bottom: 0;padding: 0.3em;box-sizing: border-box;text-align: center;}#sk-container-id-10 label.sk-toggleable__label-arrow:before {content: \"▸\";float: left;margin-right: 0.25em;color: #696969;}#sk-container-id-10 label.sk-toggleable__label-arrow:hover:before {color: black;}#sk-container-id-10 div.sk-estimator:hover label.sk-toggleable__label-arrow:before {color: black;}#sk-container-id-10 div.sk-toggleable__content {max-height: 0;max-width: 0;overflow: hidden;text-align: left;background-color: #f0f8ff;}#sk-container-id-10 div.sk-toggleable__content pre {margin: 0.2em;color: black;border-radius: 0.25em;background-color: #f0f8ff;}#sk-container-id-10 input.sk-toggleable__control:checked~div.sk-toggleable__content {max-height: 200px;max-width: 100%;overflow: auto;}#sk-container-id-10 input.sk-toggleable__control:checked~label.sk-toggleable__label-arrow:before {content: \"▾\";}#sk-container-id-10 div.sk-estimator input.sk-toggleable__control:checked~label.sk-toggleable__label {background-color: #d4ebff;}#sk-container-id-10 div.sk-label input.sk-toggleable__control:checked~label.sk-toggleable__label {background-color: #d4ebff;}#sk-container-id-10 input.sk-hidden--visually {border: 0;clip: rect(1px 1px 1px 1px);clip: rect(1px, 1px, 1px, 1px);height: 1px;margin: -1px;overflow: hidden;padding: 0;position: absolute;width: 1px;}#sk-container-id-10 div.sk-estimator {font-family: monospace;background-color: #f0f8ff;border: 1px dotted black;border-radius: 0.25em;box-sizing: border-box;margin-bottom: 0.5em;}#sk-container-id-10 div.sk-estimator:hover {background-color: #d4ebff;}#sk-container-id-10 div.sk-parallel-item::after {content: \"\";width: 100%;border-bottom: 1px solid gray;flex-grow: 1;}#sk-container-id-10 div.sk-label:hover label.sk-toggleable__label {background-color: #d4ebff;}#sk-container-id-10 div.sk-serial::before {content: \"\";position: absolute;border-left: 1px solid gray;box-sizing: border-box;top: 0;bottom: 0;left: 50%;z-index: 0;}#sk-container-id-10 div.sk-serial {display: flex;flex-direction: column;align-items: center;background-color: white;padding-right: 0.2em;padding-left: 0.2em;position: relative;}#sk-container-id-10 div.sk-item {position: relative;z-index: 1;}#sk-container-id-10 div.sk-parallel {display: flex;align-items: stretch;justify-content: center;background-color: white;position: relative;}#sk-container-id-10 div.sk-item::before, #sk-container-id-10 div.sk-parallel-item::before {content: \"\";position: absolute;border-left: 1px solid gray;box-sizing: border-box;top: 0;bottom: 0;left: 50%;z-index: -1;}#sk-container-id-10 div.sk-parallel-item {display: flex;flex-direction: column;z-index: 1;position: relative;background-color: white;}#sk-container-id-10 div.sk-parallel-item:first-child::after {align-self: flex-end;width: 50%;}#sk-container-id-10 div.sk-parallel-item:last-child::after {align-self: flex-start;width: 50%;}#sk-container-id-10 div.sk-parallel-item:only-child::after {width: 0;}#sk-container-id-10 div.sk-dashed-wrapped {border: 1px dashed gray;margin: 0 0.4em 0.5em 0.4em;box-sizing: border-box;padding-bottom: 0.4em;background-color: white;}#sk-container-id-10 div.sk-label label {font-family: monospace;font-weight: bold;display: inline-block;line-height: 1.2em;}#sk-container-id-10 div.sk-label-container {text-align: center;}#sk-container-id-10 div.sk-container {/* jupyter's `normalize.less` sets `[hidden] { display: none; }` but bootstrap.min.css set `[hidden] { display: none !important; }` so we also need the `!important` here to be able to override the default hidden behavior on the sphinx rendered scikit-learn.org. See: https://github.com/scikit-learn/scikit-learn/issues/21755 */display: inline-block !important;position: relative;}#sk-container-id-10 div.sk-text-repr-fallback {display: none;}</style><div id=\"sk-container-id-10\" class=\"sk-top-container\"><div class=\"sk-text-repr-fallback\"><pre>XGBRegressor(base_score=None, booster=None, callbacks=None,\n",
              "             colsample_bylevel=None, colsample_bynode=None,\n",
              "             colsample_bytree=None, device=None, early_stopping_rounds=None,\n",
              "             enable_categorical=False, eval_metric=None, feature_types=None,\n",
              "             gamma=None, grow_policy=None, importance_type=None,\n",
              "             interaction_constraints=None, learning_rate=0.1, max_bin=None,\n",
              "             max_cat_threshold=None, max_cat_to_onehot=None,\n",
              "             max_delta_step=None, max_depth=None, max_leaves=None,\n",
              "             min_child_weight=None, missing=nan, monotone_constraints=None,\n",
              "             multi_strategy=None, n_estimators=1000, n_jobs=10,\n",
              "             num_parallel_tree=None, random_state=None, ...)</pre><b>In a Jupyter environment, please rerun this cell to show the HTML representation or trust the notebook. <br />On GitHub, the HTML representation is unable to render, please try loading this page with nbviewer.org.</b></div><div class=\"sk-container\" hidden><div class=\"sk-item\"><div class=\"sk-estimator sk-toggleable\"><input class=\"sk-toggleable__control sk-hidden--visually\" id=\"sk-estimator-id-10\" type=\"checkbox\" checked><label for=\"sk-estimator-id-10\" class=\"sk-toggleable__label sk-toggleable__label-arrow\">XGBRegressor</label><div class=\"sk-toggleable__content\"><pre>XGBRegressor(base_score=None, booster=None, callbacks=None,\n",
              "             colsample_bylevel=None, colsample_bynode=None,\n",
              "             colsample_bytree=None, device=None, early_stopping_rounds=None,\n",
              "             enable_categorical=False, eval_metric=None, feature_types=None,\n",
              "             gamma=None, grow_policy=None, importance_type=None,\n",
              "             interaction_constraints=None, learning_rate=0.1, max_bin=None,\n",
              "             max_cat_threshold=None, max_cat_to_onehot=None,\n",
              "             max_delta_step=None, max_depth=None, max_leaves=None,\n",
              "             min_child_weight=None, missing=nan, monotone_constraints=None,\n",
              "             multi_strategy=None, n_estimators=1000, n_jobs=10,\n",
              "             num_parallel_tree=None, random_state=None, ...)</pre></div></div></div></div></div>"
            ]
          },
          "metadata": {},
          "execution_count": 147
        }
      ]
    },
    {
      "cell_type": "markdown",
      "source": [
        "Kode di atas digunakan untuk membuat model XGBoost Regressor dengan 1000 pohon keputusan (n_estimators=1000) dan menggambarkan beberapa parameter serta penggunaan model tersebut. Parameter-parameter yang terlihat dalam output adalah sebagai berikut:\n",
        "\n",
        "1. `n_estimators=1000`: Ini adalah parameter yang menentukan jumlah pohon keputusan yang akan digunakan dalam model. Dalam kasus ini, model akan menggunakan 1000 pohon keputusan untuk membuat prediksi.\n",
        "\n",
        "2. `learning_rate=0.10`: Parameter ini mengatur laju pembelajaran (learning rate) yang digunakan oleh model. Laju pembelajaran mempengaruhi sejauh mana model menyesuaikan diri dengan data pelatihan pada setiap iterasi.\n",
        "\n",
        "3. `n_jobs=10`: Parameter ini mengontrol jumlah pekerjaan paralel yang dapat dilakukan oleh model. Dalam hal ini, model dapat menggunakan hingga 10 pekerjaan secara bersamaan, yang dapat meningkatkan kecepatan pelatihan pada komputer dengan banyak inti CPU.\n",
        "\n",
        "Selanjutnya, kode tersebut melatih model XGBoost Regressor dengan data pelatihan (X_train) dan target (y_train) menggunakan metode `.fit()`. Setelah pelatihan, model siap digunakan untuk membuat prediksi berdasarkan fitur-fitur dalam dataset. Model ini dapat digunakan untuk masalah regresi, di mana tujuannya adalah memprediksi variabel target numerik berdasarkan fitur-fitur yang diberikan dalam dataset."
      ],
      "metadata": {
        "id": "VujXb4lPZZuR"
      }
    },
    {
      "cell_type": "code",
      "source": [
        "# predictions_3 adalah prediksi yang dihasilkan oleh model (my_model_3) terhadap data validasi (X_valid).\n",
        "predictions_3 = my_model_3.predict(X_valid)\n",
        "\n",
        "# mean_absolute_error adalah fungsi untuk menghitung Mean Absolute Error (MAE) antara prediksi (predictions_3) dan nilai sebenarnya (y_valid).\n",
        "# Hasil MAE ini mengukur sejauh mana prediksi model berbeda dari nilai sebenarnya dalam skala absolut.\n",
        "# Hasil MAE kemudian dicetak sebagai teks.\n",
        "print(\"Mean Absolute Error: \" + str(mean_absolute_error(predictions_3, y_valid)))\n"
      ],
      "metadata": {
        "colab": {
          "base_uri": "https://localhost:8080/"
        },
        "id": "P_zhRt9FVxf1",
        "outputId": "ac79c594-3a3e-4dd2-dab6-6c5606012548"
      },
      "execution_count": 148,
      "outputs": [
        {
          "output_type": "stream",
          "name": "stdout",
          "text": [
            "Mean Absolute Error: 0.2437787261376015\n"
          ]
        }
      ]
    },
    {
      "cell_type": "markdown",
      "source": [
        "Kode di atas adalah contoh kode dalam pemrograman yang digunakan untuk menghitung Mean Absolute Error (MAE) antara prediksi model (predictions_3) dan nilai sebenarnya (y_valid) pada data validasi (X_valid). Berikut penjelasan singkat dari setiap baris kode:\n",
        "\n",
        "1. `predictions_3 = my_model_3.predict(X_valid)`: Pada baris ini, model yang disebut `my_model_3` digunakan untuk membuat prediksi terhadap data validasi yang diberikan, yang disimpan dalam variabel `X_valid`. Hasil prediksi ini disimpan dalam variabel `predictions_3`.\n",
        "\n",
        "2. `mean_absolute_error(predictions_3, y_valid)`: Pada baris ini, fungsi `mean_absolute_error` digunakan untuk menghitung MAE antara prediksi (`predictions_3`) dan nilai sebenarnya (`y_valid`). MAE mengukur sejauh mana prediksi model berbeda dari nilai sebenarnya dalam skala absolut.\n",
        "\n",
        "3. `print(\"Mean Absolute Error: \" + str(mean_absolute_error(predictions_3, y_valid)))`: Pada baris ini, hasil MAE yang telah dihitung sebelumnya dengan menggunakan fungsi `mean_absolute_error` dicetak sebagai teks. Hasil MAE ini memberikan informasi tentang sejauh mana model memiliki kesalahan dalam memprediksi data validasi. Dalam kasus ini, MAE-nya adalah sekitar 0.2438, yang menunjukkan bahwa rata-rata kesalahan prediksi model adalah sekitar 0.2438 dalam skala absolut. Semakin kecil MAE, semakin baik kinerja model dalam memprediksi data."
      ],
      "metadata": {
        "id": "ZwHbrmBwZnSh"
      }
    }
  ]
}