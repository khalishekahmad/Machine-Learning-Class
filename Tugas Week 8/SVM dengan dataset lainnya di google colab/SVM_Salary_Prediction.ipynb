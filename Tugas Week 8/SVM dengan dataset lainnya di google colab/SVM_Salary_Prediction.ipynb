{
  "nbformat": 4,
  "nbformat_minor": 0,
  "metadata": {
    "colab": {
      "provenance": [],
      "gpuType": "T4"
    },
    "kernelspec": {
      "name": "python3",
      "display_name": "Python 3"
    },
    "language_info": {
      "name": "python"
    },
    "accelerator": "GPU"
  },
  "cells": [
    {
      "cell_type": "markdown",
      "source": [
        "# **Daffa Asyqar Ahmad Khalisheka**\n",
        "\n",
        "# **1103200034**\n",
        "\n",
        "# **Machine Learning Class**\n",
        "\n",
        "# **Telkom University**"
      ],
      "metadata": {
        "id": "F7vu7_hxCpuU"
      }
    },
    {
      "cell_type": "markdown",
      "source": [
        "**Penjelasan Kode:**\n",
        "Kode tersebut adalah implementasi dari fungsi `mount` dalam modul `drive` dari pustaka `google.colab`. Fungsi `mount` digunakan untuk mengaitkan atau menghubungkan sistem file Google Drive dengan runtime Colab saat ini. Dalam kode tersebut, direktori '/content/gdrive' akan dihubungkan dengan Google Drive pengguna. Hal ini memungkinkan pengguna untuk mengakses, menyimpan, dan mengelola file di Google Drive melalui runtime Colab.\n",
        "\n",
        "Singkatnya, kode tersebut memungkinkan pengguna untuk mengakses Google Drive mereka dalam lingkungan Colab, sehingga memfasilitasi pertukaran data antara notebook Colab dan Google Drive."
      ],
      "metadata": {
        "id": "br3yg1zCBZuq"
      }
    },
    {
      "cell_type": "code",
      "execution_count": null,
      "metadata": {
        "colab": {
          "base_uri": "https://localhost:8080/"
        },
        "id": "ASyxwbxVLvwZ",
        "outputId": "f43b62ff-cdcc-4fa6-ec29-dc1f99376acf"
      },
      "outputs": [
        {
          "output_type": "stream",
          "name": "stdout",
          "text": [
            "Drive already mounted at /content/gdrive; to attempt to forcibly remount, call drive.mount(\"/content/gdrive\", force_remount=True).\n"
          ]
        }
      ],
      "source": [
        "from google.colab import drive\n",
        "\n",
        "drive.mount('/content/gdrive')"
      ]
    },
    {
      "cell_type": "markdown",
      "source": [
        "Prompt: beri kode untuk membaca dataset menjadi dataframe"
      ],
      "metadata": {
        "id": "avK3Hc6vViQH"
      }
    },
    {
      "cell_type": "markdown",
      "source": [
        "**Penjelasan Kode:**\n",
        "\n",
        "Kode tersebut merupakan contoh penggunaan modul pandas dalam bahasa pemrograman Python untuk membaca data dari file CSV ke dalam bentuk DataFrame. Berikut adalah penjelasan untuk setiap baris kode:\n",
        "\n",
        "1. `import pandas as pd`: Mengimpor modul pandas dengan alias 'pd', sehingga kita dapat menggunakan 'pd' sebagai singkatan saat memanggil fungsi atau metode dari modul tersebut.\n",
        "\n",
        "2. `file_path = '/content/gdrive/MyDrive/Dataset/SalaryPrediction.csv'`: Menyimpan jalur file CSV ke dalam variabel 'file_path'. Pastikan untuk mengganti nilai 'file_path.csv' sesuai dengan jalur sebenarnya file CSV yang ingin Anda baca.\n",
        "\n",
        "3. `df = pd.read_csv(file_path)`: Menggunakan fungsi `read_csv` dari modul pandas untuk membaca data dari file CSV yang diidentifikasi oleh 'file_path'. Data tersebut kemudian dimuat ke dalam DataFrame yang disimpan dalam variabel 'df'.\n",
        "\n",
        "4. `df`: Menampilkan DataFrame 'df', yang berisi data yang telah dibaca dari file CSV. Ini akan mencetak isi DataFrame ke output, memungkinkan Anda untuk melihat struktur dan nilai-nilai data yang terbaca.\n",
        "\n",
        "Dengan menggunakan kode ini, Anda dapat dengan mudah membaca data dari file CSV ke dalam Python dan menganalisanya menggunakan fungsionalitas pandas."
      ],
      "metadata": {
        "id": "yk6nMHUxBfUw"
      }
    },
    {
      "cell_type": "code",
      "source": [
        "import pandas as pd\n",
        "\n",
        "# Ganti 'file_path.csv' dengan jalur file CSV sesuai kebutuhan Anda\n",
        "file_path = '/content/gdrive/MyDrive/Dataset/SalaryPrediction.csv'\n",
        "\n",
        "# Membaca file CSV menjadi DataFrame\n",
        "df = pd.read_csv(file_path)\n",
        "\n",
        "# Tampilkan DataFrame\n",
        "df"
      ],
      "metadata": {
        "colab": {
          "base_uri": "https://localhost:8080/",
          "height": 423
        },
        "id": "_r4gDW0cVnfL",
        "outputId": "c8697561-d3c8-45a1-e975-698d1b5a0f06"
      },
      "execution_count": null,
      "outputs": [
        {
          "output_type": "execute_result",
          "data": {
            "text/plain": [
              "            Wage  Age       Club             League Nation    Position  Apps  \\\n",
              "0     46,427,000   23        PSG  Ligue 1 Uber Eats    FRA     Forward   190   \n",
              "1     42,125,000   30        PSG  Ligue 1 Uber Eats    BRA   Midfilder   324   \n",
              "2     34,821,000   35        PSG  Ligue 1 Uber Eats    ARG     Forward   585   \n",
              "3     19,959,000   31  R. Madrid            La Liga    BEL     Forward   443   \n",
              "4     19,500,000   31    Man UFC     Premier League    ESP  Goalkeeper   480   \n",
              "...          ...  ...        ...                ...    ...         ...   ...   \n",
              "3902       3,400   19       Vigo            La Liga    ESP    Defender     0   \n",
              "3903       3,200   18  Famalicao      Primiera Liga    BRA  Goalkeeper     0   \n",
              "3904       2,900   18       Vigo            La Liga    ESP     Forward     0   \n",
              "3905       2,700   18       Vigo            La Liga    ESP    Defender     0   \n",
              "3906       1,400   18       Vigo            La Liga    ESP    Defender     0   \n",
              "\n",
              "      Caps  \n",
              "0       57  \n",
              "1      119  \n",
              "2      162  \n",
              "3      120  \n",
              "4       45  \n",
              "...    ...  \n",
              "3902     0  \n",
              "3903     0  \n",
              "3904     0  \n",
              "3905     0  \n",
              "3906     0  \n",
              "\n",
              "[3907 rows x 8 columns]"
            ],
            "text/html": [
              "\n",
              "  <div id=\"df-59f70732-d139-4328-916f-6bbf61178381\" class=\"colab-df-container\">\n",
              "    <div>\n",
              "<style scoped>\n",
              "    .dataframe tbody tr th:only-of-type {\n",
              "        vertical-align: middle;\n",
              "    }\n",
              "\n",
              "    .dataframe tbody tr th {\n",
              "        vertical-align: top;\n",
              "    }\n",
              "\n",
              "    .dataframe thead th {\n",
              "        text-align: right;\n",
              "    }\n",
              "</style>\n",
              "<table border=\"1\" class=\"dataframe\">\n",
              "  <thead>\n",
              "    <tr style=\"text-align: right;\">\n",
              "      <th></th>\n",
              "      <th>Wage</th>\n",
              "      <th>Age</th>\n",
              "      <th>Club</th>\n",
              "      <th>League</th>\n",
              "      <th>Nation</th>\n",
              "      <th>Position</th>\n",
              "      <th>Apps</th>\n",
              "      <th>Caps</th>\n",
              "    </tr>\n",
              "  </thead>\n",
              "  <tbody>\n",
              "    <tr>\n",
              "      <th>0</th>\n",
              "      <td>46,427,000</td>\n",
              "      <td>23</td>\n",
              "      <td>PSG</td>\n",
              "      <td>Ligue 1 Uber Eats</td>\n",
              "      <td>FRA</td>\n",
              "      <td>Forward</td>\n",
              "      <td>190</td>\n",
              "      <td>57</td>\n",
              "    </tr>\n",
              "    <tr>\n",
              "      <th>1</th>\n",
              "      <td>42,125,000</td>\n",
              "      <td>30</td>\n",
              "      <td>PSG</td>\n",
              "      <td>Ligue 1 Uber Eats</td>\n",
              "      <td>BRA</td>\n",
              "      <td>Midfilder</td>\n",
              "      <td>324</td>\n",
              "      <td>119</td>\n",
              "    </tr>\n",
              "    <tr>\n",
              "      <th>2</th>\n",
              "      <td>34,821,000</td>\n",
              "      <td>35</td>\n",
              "      <td>PSG</td>\n",
              "      <td>Ligue 1 Uber Eats</td>\n",
              "      <td>ARG</td>\n",
              "      <td>Forward</td>\n",
              "      <td>585</td>\n",
              "      <td>162</td>\n",
              "    </tr>\n",
              "    <tr>\n",
              "      <th>3</th>\n",
              "      <td>19,959,000</td>\n",
              "      <td>31</td>\n",
              "      <td>R. Madrid</td>\n",
              "      <td>La Liga</td>\n",
              "      <td>BEL</td>\n",
              "      <td>Forward</td>\n",
              "      <td>443</td>\n",
              "      <td>120</td>\n",
              "    </tr>\n",
              "    <tr>\n",
              "      <th>4</th>\n",
              "      <td>19,500,000</td>\n",
              "      <td>31</td>\n",
              "      <td>Man UFC</td>\n",
              "      <td>Premier League</td>\n",
              "      <td>ESP</td>\n",
              "      <td>Goalkeeper</td>\n",
              "      <td>480</td>\n",
              "      <td>45</td>\n",
              "    </tr>\n",
              "    <tr>\n",
              "      <th>...</th>\n",
              "      <td>...</td>\n",
              "      <td>...</td>\n",
              "      <td>...</td>\n",
              "      <td>...</td>\n",
              "      <td>...</td>\n",
              "      <td>...</td>\n",
              "      <td>...</td>\n",
              "      <td>...</td>\n",
              "    </tr>\n",
              "    <tr>\n",
              "      <th>3902</th>\n",
              "      <td>3,400</td>\n",
              "      <td>19</td>\n",
              "      <td>Vigo</td>\n",
              "      <td>La Liga</td>\n",
              "      <td>ESP</td>\n",
              "      <td>Defender</td>\n",
              "      <td>0</td>\n",
              "      <td>0</td>\n",
              "    </tr>\n",
              "    <tr>\n",
              "      <th>3903</th>\n",
              "      <td>3,200</td>\n",
              "      <td>18</td>\n",
              "      <td>Famalicao</td>\n",
              "      <td>Primiera Liga</td>\n",
              "      <td>BRA</td>\n",
              "      <td>Goalkeeper</td>\n",
              "      <td>0</td>\n",
              "      <td>0</td>\n",
              "    </tr>\n",
              "    <tr>\n",
              "      <th>3904</th>\n",
              "      <td>2,900</td>\n",
              "      <td>18</td>\n",
              "      <td>Vigo</td>\n",
              "      <td>La Liga</td>\n",
              "      <td>ESP</td>\n",
              "      <td>Forward</td>\n",
              "      <td>0</td>\n",
              "      <td>0</td>\n",
              "    </tr>\n",
              "    <tr>\n",
              "      <th>3905</th>\n",
              "      <td>2,700</td>\n",
              "      <td>18</td>\n",
              "      <td>Vigo</td>\n",
              "      <td>La Liga</td>\n",
              "      <td>ESP</td>\n",
              "      <td>Defender</td>\n",
              "      <td>0</td>\n",
              "      <td>0</td>\n",
              "    </tr>\n",
              "    <tr>\n",
              "      <th>3906</th>\n",
              "      <td>1,400</td>\n",
              "      <td>18</td>\n",
              "      <td>Vigo</td>\n",
              "      <td>La Liga</td>\n",
              "      <td>ESP</td>\n",
              "      <td>Defender</td>\n",
              "      <td>0</td>\n",
              "      <td>0</td>\n",
              "    </tr>\n",
              "  </tbody>\n",
              "</table>\n",
              "<p>3907 rows × 8 columns</p>\n",
              "</div>\n",
              "    <div class=\"colab-df-buttons\">\n",
              "\n",
              "  <div class=\"colab-df-container\">\n",
              "    <button class=\"colab-df-convert\" onclick=\"convertToInteractive('df-59f70732-d139-4328-916f-6bbf61178381')\"\n",
              "            title=\"Convert this dataframe to an interactive table.\"\n",
              "            style=\"display:none;\">\n",
              "\n",
              "  <svg xmlns=\"http://www.w3.org/2000/svg\" height=\"24px\" viewBox=\"0 -960 960 960\">\n",
              "    <path d=\"M120-120v-720h720v720H120Zm60-500h600v-160H180v160Zm220 220h160v-160H400v160Zm0 220h160v-160H400v160ZM180-400h160v-160H180v160Zm440 0h160v-160H620v160ZM180-180h160v-160H180v160Zm440 0h160v-160H620v160Z\"/>\n",
              "  </svg>\n",
              "    </button>\n",
              "\n",
              "  <style>\n",
              "    .colab-df-container {\n",
              "      display:flex;\n",
              "      gap: 12px;\n",
              "    }\n",
              "\n",
              "    .colab-df-convert {\n",
              "      background-color: #E8F0FE;\n",
              "      border: none;\n",
              "      border-radius: 50%;\n",
              "      cursor: pointer;\n",
              "      display: none;\n",
              "      fill: #1967D2;\n",
              "      height: 32px;\n",
              "      padding: 0 0 0 0;\n",
              "      width: 32px;\n",
              "    }\n",
              "\n",
              "    .colab-df-convert:hover {\n",
              "      background-color: #E2EBFA;\n",
              "      box-shadow: 0px 1px 2px rgba(60, 64, 67, 0.3), 0px 1px 3px 1px rgba(60, 64, 67, 0.15);\n",
              "      fill: #174EA6;\n",
              "    }\n",
              "\n",
              "    .colab-df-buttons div {\n",
              "      margin-bottom: 4px;\n",
              "    }\n",
              "\n",
              "    [theme=dark] .colab-df-convert {\n",
              "      background-color: #3B4455;\n",
              "      fill: #D2E3FC;\n",
              "    }\n",
              "\n",
              "    [theme=dark] .colab-df-convert:hover {\n",
              "      background-color: #434B5C;\n",
              "      box-shadow: 0px 1px 3px 1px rgba(0, 0, 0, 0.15);\n",
              "      filter: drop-shadow(0px 1px 2px rgba(0, 0, 0, 0.3));\n",
              "      fill: #FFFFFF;\n",
              "    }\n",
              "  </style>\n",
              "\n",
              "    <script>\n",
              "      const buttonEl =\n",
              "        document.querySelector('#df-59f70732-d139-4328-916f-6bbf61178381 button.colab-df-convert');\n",
              "      buttonEl.style.display =\n",
              "        google.colab.kernel.accessAllowed ? 'block' : 'none';\n",
              "\n",
              "      async function convertToInteractive(key) {\n",
              "        const element = document.querySelector('#df-59f70732-d139-4328-916f-6bbf61178381');\n",
              "        const dataTable =\n",
              "          await google.colab.kernel.invokeFunction('convertToInteractive',\n",
              "                                                    [key], {});\n",
              "        if (!dataTable) return;\n",
              "\n",
              "        const docLinkHtml = 'Like what you see? Visit the ' +\n",
              "          '<a target=\"_blank\" href=https://colab.research.google.com/notebooks/data_table.ipynb>data table notebook</a>'\n",
              "          + ' to learn more about interactive tables.';\n",
              "        element.innerHTML = '';\n",
              "        dataTable['output_type'] = 'display_data';\n",
              "        await google.colab.output.renderOutput(dataTable, element);\n",
              "        const docLink = document.createElement('div');\n",
              "        docLink.innerHTML = docLinkHtml;\n",
              "        element.appendChild(docLink);\n",
              "      }\n",
              "    </script>\n",
              "  </div>\n",
              "\n",
              "\n",
              "<div id=\"df-a8321c67-b7b4-47d0-b187-721efed46d7a\">\n",
              "  <button class=\"colab-df-quickchart\" onclick=\"quickchart('df-a8321c67-b7b4-47d0-b187-721efed46d7a')\"\n",
              "            title=\"Suggest charts\"\n",
              "            style=\"display:none;\">\n",
              "\n",
              "<svg xmlns=\"http://www.w3.org/2000/svg\" height=\"24px\"viewBox=\"0 0 24 24\"\n",
              "     width=\"24px\">\n",
              "    <g>\n",
              "        <path d=\"M19 3H5c-1.1 0-2 .9-2 2v14c0 1.1.9 2 2 2h14c1.1 0 2-.9 2-2V5c0-1.1-.9-2-2-2zM9 17H7v-7h2v7zm4 0h-2V7h2v10zm4 0h-2v-4h2v4z\"/>\n",
              "    </g>\n",
              "</svg>\n",
              "  </button>\n",
              "\n",
              "<style>\n",
              "  .colab-df-quickchart {\n",
              "      --bg-color: #E8F0FE;\n",
              "      --fill-color: #1967D2;\n",
              "      --hover-bg-color: #E2EBFA;\n",
              "      --hover-fill-color: #174EA6;\n",
              "      --disabled-fill-color: #AAA;\n",
              "      --disabled-bg-color: #DDD;\n",
              "  }\n",
              "\n",
              "  [theme=dark] .colab-df-quickchart {\n",
              "      --bg-color: #3B4455;\n",
              "      --fill-color: #D2E3FC;\n",
              "      --hover-bg-color: #434B5C;\n",
              "      --hover-fill-color: #FFFFFF;\n",
              "      --disabled-bg-color: #3B4455;\n",
              "      --disabled-fill-color: #666;\n",
              "  }\n",
              "\n",
              "  .colab-df-quickchart {\n",
              "    background-color: var(--bg-color);\n",
              "    border: none;\n",
              "    border-radius: 50%;\n",
              "    cursor: pointer;\n",
              "    display: none;\n",
              "    fill: var(--fill-color);\n",
              "    height: 32px;\n",
              "    padding: 0;\n",
              "    width: 32px;\n",
              "  }\n",
              "\n",
              "  .colab-df-quickchart:hover {\n",
              "    background-color: var(--hover-bg-color);\n",
              "    box-shadow: 0 1px 2px rgba(60, 64, 67, 0.3), 0 1px 3px 1px rgba(60, 64, 67, 0.15);\n",
              "    fill: var(--button-hover-fill-color);\n",
              "  }\n",
              "\n",
              "  .colab-df-quickchart-complete:disabled,\n",
              "  .colab-df-quickchart-complete:disabled:hover {\n",
              "    background-color: var(--disabled-bg-color);\n",
              "    fill: var(--disabled-fill-color);\n",
              "    box-shadow: none;\n",
              "  }\n",
              "\n",
              "  .colab-df-spinner {\n",
              "    border: 2px solid var(--fill-color);\n",
              "    border-color: transparent;\n",
              "    border-bottom-color: var(--fill-color);\n",
              "    animation:\n",
              "      spin 1s steps(1) infinite;\n",
              "  }\n",
              "\n",
              "  @keyframes spin {\n",
              "    0% {\n",
              "      border-color: transparent;\n",
              "      border-bottom-color: var(--fill-color);\n",
              "      border-left-color: var(--fill-color);\n",
              "    }\n",
              "    20% {\n",
              "      border-color: transparent;\n",
              "      border-left-color: var(--fill-color);\n",
              "      border-top-color: var(--fill-color);\n",
              "    }\n",
              "    30% {\n",
              "      border-color: transparent;\n",
              "      border-left-color: var(--fill-color);\n",
              "      border-top-color: var(--fill-color);\n",
              "      border-right-color: var(--fill-color);\n",
              "    }\n",
              "    40% {\n",
              "      border-color: transparent;\n",
              "      border-right-color: var(--fill-color);\n",
              "      border-top-color: var(--fill-color);\n",
              "    }\n",
              "    60% {\n",
              "      border-color: transparent;\n",
              "      border-right-color: var(--fill-color);\n",
              "    }\n",
              "    80% {\n",
              "      border-color: transparent;\n",
              "      border-right-color: var(--fill-color);\n",
              "      border-bottom-color: var(--fill-color);\n",
              "    }\n",
              "    90% {\n",
              "      border-color: transparent;\n",
              "      border-bottom-color: var(--fill-color);\n",
              "    }\n",
              "  }\n",
              "</style>\n",
              "\n",
              "  <script>\n",
              "    async function quickchart(key) {\n",
              "      const quickchartButtonEl =\n",
              "        document.querySelector('#' + key + ' button');\n",
              "      quickchartButtonEl.disabled = true;  // To prevent multiple clicks.\n",
              "      quickchartButtonEl.classList.add('colab-df-spinner');\n",
              "      try {\n",
              "        const charts = await google.colab.kernel.invokeFunction(\n",
              "            'suggestCharts', [key], {});\n",
              "      } catch (error) {\n",
              "        console.error('Error during call to suggestCharts:', error);\n",
              "      }\n",
              "      quickchartButtonEl.classList.remove('colab-df-spinner');\n",
              "      quickchartButtonEl.classList.add('colab-df-quickchart-complete');\n",
              "    }\n",
              "    (() => {\n",
              "      let quickchartButtonEl =\n",
              "        document.querySelector('#df-a8321c67-b7b4-47d0-b187-721efed46d7a button');\n",
              "      quickchartButtonEl.style.display =\n",
              "        google.colab.kernel.accessAllowed ? 'block' : 'none';\n",
              "    })();\n",
              "  </script>\n",
              "</div>\n",
              "    </div>\n",
              "  </div>\n"
            ]
          },
          "metadata": {},
          "execution_count": 2
        }
      ]
    },
    {
      "cell_type": "markdown",
      "source": [
        "**Penjelasan Kode:**\n",
        "\n",
        "Kode `df.info()` digunakan untuk memberikan informasi ringkas tentang struktur dan karakteristik dari DataFrame yang disebut `df`. Informasi ini meliputi jumlah baris dan kolom, tipe data untuk setiap kolom, serta jumlah nilai non-null dan penggunaan memori."
      ],
      "metadata": {
        "id": "fvNV5xZFCCn0"
      }
    },
    {
      "cell_type": "code",
      "source": [
        "df.info()"
      ],
      "metadata": {
        "colab": {
          "base_uri": "https://localhost:8080/"
        },
        "id": "IohkCkV8cEE8",
        "outputId": "31322290-ce99-4ee1-d9bf-bba050cb0608"
      },
      "execution_count": null,
      "outputs": [
        {
          "output_type": "stream",
          "name": "stdout",
          "text": [
            "<class 'pandas.core.frame.DataFrame'>\n",
            "RangeIndex: 3907 entries, 0 to 3906\n",
            "Data columns (total 8 columns):\n",
            " #   Column    Non-Null Count  Dtype \n",
            "---  ------    --------------  ----- \n",
            " 0   Wage      3907 non-null   object\n",
            " 1   Age       3907 non-null   int64 \n",
            " 2   Club      3907 non-null   object\n",
            " 3   League    3907 non-null   object\n",
            " 4   Nation    3907 non-null   object\n",
            " 5   Position  3907 non-null   object\n",
            " 6   Apps      3907 non-null   int64 \n",
            " 7   Caps      3907 non-null   int64 \n",
            "dtypes: int64(3), object(5)\n",
            "memory usage: 244.3+ KB\n"
          ]
        }
      ]
    },
    {
      "cell_type": "markdown",
      "source": [
        "**Penjelasan Kode:**\n",
        "\n",
        "Kode di atas digunakan untuk mengubah tipe data kolom 'Apps' dan 'Caps' pada DataFrame (df) menjadi tipe data float. Dua baris kode pertama menggunakan metode `astype(float)` untuk melakukan konversi tipe data. Konversi ini berguna ketika kita ingin memastikan bahwa nilai di dalam kolom tersebut direpresentasikan sebagai bilangan desimal (float) daripada sebagai tipe data lainnya."
      ],
      "metadata": {
        "id": "jawz2AKhCF3I"
      }
    },
    {
      "cell_type": "code",
      "source": [
        "# Mengubah tipe data kolom 'Apps' dan 'Caps' menjadi float\n",
        "df['Apps'] = df['Apps'].astype(float)\n",
        "df['Caps'] = df['Caps'].astype(float)"
      ],
      "metadata": {
        "id": "wXtvlPIRPlL4"
      },
      "execution_count": null,
      "outputs": []
    },
    {
      "cell_type": "markdown",
      "source": [
        "**Penjelasan Kode:**\n",
        "\n",
        "`df.info()` memberikan informasi ringkas tentang DataFrame `df`. Ini mencakup jumlah baris, jumlah kolom, tipe data setiap kolom, dan jumlah nilai non-null dalam setiap kolom."
      ],
      "metadata": {
        "id": "iwtEiavjCTPu"
      }
    },
    {
      "cell_type": "code",
      "source": [
        "df.info()"
      ],
      "metadata": {
        "colab": {
          "base_uri": "https://localhost:8080/"
        },
        "id": "P3R6HD2ZPmT3",
        "outputId": "367ac98d-a3d4-474f-e393-2b9831ababfd"
      },
      "execution_count": null,
      "outputs": [
        {
          "output_type": "stream",
          "name": "stdout",
          "text": [
            "<class 'pandas.core.frame.DataFrame'>\n",
            "RangeIndex: 3907 entries, 0 to 3906\n",
            "Data columns (total 8 columns):\n",
            " #   Column    Non-Null Count  Dtype  \n",
            "---  ------    --------------  -----  \n",
            " 0   Wage      3907 non-null   object \n",
            " 1   Age       3907 non-null   int64  \n",
            " 2   Club      3907 non-null   object \n",
            " 3   League    3907 non-null   object \n",
            " 4   Nation    3907 non-null   object \n",
            " 5   Position  3907 non-null   object \n",
            " 6   Apps      3907 non-null   float64\n",
            " 7   Caps      3907 non-null   float64\n",
            "dtypes: float64(2), int64(1), object(5)\n",
            "memory usage: 244.3+ KB\n"
          ]
        }
      ]
    },
    {
      "cell_type": "markdown",
      "source": [
        "**Penjelasan Kode:**\n",
        "\n",
        "Kode yang diberikan merupakan skrip Python untuk mengimplementasikan model regresi vektor dukungan linear (LinearSVR) menggunakan pustaka scikit-learn. Berikut adalah penjelasan singkat dari kode tersebut:\n",
        "\n",
        "1. **Impor Pustaka:**\n",
        "   - Mengimpor pustaka yang diperlukan, termasuk LinearSVR untuk regresi vektor dukungan, train_test_split untuk membagi dataset, mean_squared_error untuk mengevaluasi model, SimpleImputer untuk menangani nilai yang hilang, dan numpy.\n",
        "\n",
        "2. **Cek DataFrame Kosong:**\n",
        "   - Skrip dimulai dengan memeriksa apakah DataFrame (`df`) kosong. Jika kosong, pesan kesalahan akan dicetak; sebaliknya, skrip akan melanjutkan.\n",
        "\n",
        "3. **Informasi DataFrame:**\n",
        "   - Mencetak informasi tentang DataFrame menggunakan metode `info()`.\n",
        "\n",
        "4. **Periksa Nilai yang Hilang:**\n",
        "   - Memeriksa apakah DataFrame mengandung nilai yang hilang. Jika nilai yang hilang ada, pesan kesalahan dicetak, dan skrip dihentikan.\n",
        "\n",
        "5. **Penanganan Nilai yang Hilang pada Kolom 'Apps':**\n",
        "   - Mengasumsikan bahwa kolom 'Apps' berisi fitur. Mengekstrak nilai dari kolom 'Apps' dan mencetak informasi tentang kolom tersebut (bentuk dan ukuran).\n",
        "\n",
        "6. **Imputasi Nilai yang Hilang:**\n",
        "   - Menggunakan SimpleImputer untuk menangani nilai yang hilang dalam kolom 'Apps'. Strategi yang digunakan untuk imputasi adalah rata-rata. Nilai yang diimputasi disimpan dalam variabel `X`.\n",
        "\n",
        "7. **Membagi Data menjadi Set Pelatihan dan Pengujian:**\n",
        "   - Memisahkan data menjadi set pelatihan dan pengujian menggunakan fungsi `train_test_split`.\n",
        "\n",
        "8. **Inisialisasi dan Latih Model LinearSVR:**\n",
        "   - Menginisialisasi model LinearSVR dengan hiperparameter tertentu (`C=1.0`, `epsilon=0.1`) dan melatih model menggunakan data pelatihan.\n",
        "\n",
        "9. **Membuat Prediksi dan Evaluasi Model:**\n",
        "   - Menggunakan model yang dilatih untuk membuat prediksi pada set pengujian dan menghitung mean squared error (MSE) sebagai ukuran kinerja model.\n",
        "\n",
        "10. **Mencetak Mean Squared Error:**\n",
        "    - Mencetak nilai mean squared error yang dihitung.\n",
        "\n",
        "11. **Catatan Akhir:**\n",
        "    - Menyediakan komentar yang menunjukkan bahwa model LinearSVR sekarang telah dilatih dan diuji, dan dapat digunakan untuk membuat prediksi pada data baru.\n",
        "\n",
        "12. **Penanganan Kasus Terbatas - Tidak Ada Sampel Setelah Imputasi:**\n",
        "    - Memeriksa apakah ada setidaknya satu sampel setelah imputasi. Jika tidak, pesan kesalahan dicetak."
      ],
      "metadata": {
        "id": "Ry7OJ1D1CbDZ"
      }
    },
    {
      "cell_type": "code",
      "source": [
        "# Import library\n",
        "from sklearn.svm import LinearSVR\n",
        "from sklearn.model_selection import train_test_split\n",
        "from sklearn.metrics import mean_squared_error\n",
        "from sklearn.impute import SimpleImputer\n",
        "import numpy as np\n",
        "\n",
        "# Check if the dataframe is empty\n",
        "if df.empty:\n",
        "    print(\"Error: DataFrame is empty.\")\n",
        "else:\n",
        "    print(\"DataFrame information:\")\n",
        "    print(df.info())  # Print information about the DataFrame\n",
        "\n",
        "    # Check for missing values in the dataframe\n",
        "    if df.isnull().values.any():\n",
        "        print(\"Error: DataFrame contains missing values. Please handle missing values before proceeding.\")\n",
        "    else:\n",
        "        # Assuming 'Apps' column contains the features\n",
        "        apps_values = df['Apps'].values\n",
        "\n",
        "        # Print information about the 'Apps' column\n",
        "        print(\"Apps column information:\")\n",
        "        print(f\"Shape: {apps_values.shape}\")\n",
        "        print(f\"Size: {apps_values.size}\")\n",
        "\n",
        "        # Handle missing values in the data\n",
        "        # You can choose another strategy like 'mean', 'median', or 'most_frequent' based on your data\n",
        "        imputer = SimpleImputer(strategy='mean')\n",
        "\n",
        "        # Reshape the 'Apps' column, considering the appropriate shape based on your data structure\n",
        "        # Modify the reshape dimensions based on your understanding of the data\n",
        "        X = imputer.fit_transform(apps_values.reshape(-1, 1))  # Adjust the reshape dimensions as needed\n",
        "\n",
        "        y = df['Caps'].values\n",
        "\n",
        "        # Ensure there is at least one sample after imputation\n",
        "        if X.shape[0] > 0:\n",
        "            # Modify test_size to a reasonable value\n",
        "            X_train, X_test, y_train, y_test = train_test_split(X, y, test_size=0.2, random_state=42)\n",
        "\n",
        "            # Initialize LinearSVR model with hyperparameters\n",
        "            linear_svr_model = LinearSVR(C=1.0, epsilon=0.1)\n",
        "\n",
        "            # Train the model\n",
        "            linear_svr_model.fit(X_train, y_train)\n",
        "\n",
        "            # Make predictions on the test set\n",
        "            y_pred = linear_svr_model.predict(X_test)\n",
        "\n",
        "            # Evaluate the model\n",
        "            mse = mean_squared_error(y_test, y_pred)\n",
        "            print(f'Mean Squared Error: {mse}')\n",
        "\n",
        "            # Now the LinearSVR model with specified hyperparameters is trained and tested.\n",
        "            # You can use it to make predictions on new data.\n",
        "        else:\n",
        "            print(\"Error: No samples after imputation.\")\n",
        "\n",
        "\n"
      ],
      "metadata": {
        "colab": {
          "base_uri": "https://localhost:8080/"
        },
        "id": "Xd1ly3hwclg3",
        "outputId": "4408b865-a304-4b97-f5d4-cc50a3bd8bc6"
      },
      "execution_count": null,
      "outputs": [
        {
          "output_type": "stream",
          "name": "stdout",
          "text": [
            "DataFrame information:\n",
            "<class 'pandas.core.frame.DataFrame'>\n",
            "RangeIndex: 3907 entries, 0 to 3906\n",
            "Data columns (total 8 columns):\n",
            " #   Column    Non-Null Count  Dtype  \n",
            "---  ------    --------------  -----  \n",
            " 0   Wage      3907 non-null   object \n",
            " 1   Age       3907 non-null   int64  \n",
            " 2   Club      3907 non-null   object \n",
            " 3   League    3907 non-null   object \n",
            " 4   Nation    3907 non-null   object \n",
            " 5   Position  3907 non-null   object \n",
            " 6   Apps      3907 non-null   float64\n",
            " 7   Caps      3907 non-null   float64\n",
            "dtypes: float64(2), int64(1), object(5)\n",
            "memory usage: 244.3+ KB\n",
            "None\n",
            "Apps column information:\n",
            "Shape: (3907,)\n",
            "Size: 3907\n",
            "Mean Squared Error: 577.9078803717919\n"
          ]
        },
        {
          "output_type": "stream",
          "name": "stderr",
          "text": [
            "/usr/local/lib/python3.10/dist-packages/sklearn/svm/_base.py:1244: ConvergenceWarning: Liblinear failed to converge, increase the number of iterations.\n",
            "  warnings.warn(\n"
          ]
        }
      ]
    },
    {
      "cell_type": "markdown",
      "source": [
        "**Penjelasan Kode:**\n",
        "\n",
        "Kode di atas adalah implementasi model Support Vector Regression (SVR) menggunakan linear kernel dari pustaka scikit-learn di Python. Berikut penjelasan setiap bagian kode:\n",
        "\n",
        "1. **Import Library:**\n",
        "   - `LinearSVR` diimpor dari modul `sklearn.svm` untuk mendefinisikan model Support Vector Regression dengan kernel linear.\n",
        "   - `train_test_split` diimpor dari modul `sklearn.model_selection` untuk membagi data menjadi set pelatihan dan pengujian.\n",
        "   - `mean_squared_error` diimpor dari modul `sklearn.metrics` untuk mengukur kinerja model dengan menggunakan metrik Mean Squared Error (MSE).\n",
        "   - `numpy` diimpor sebagai `np` untuk operasi-operasi numerik.\n",
        "\n",
        "2. **Data:**\n",
        "   - Data diinisialisasi menggunakan variabel `X` untuk fitur 'Apps' dan `y` untuk target 'Caps'. Data dimasukkan ke dalam model dalam bentuk array numpy.\n",
        "\n",
        "3. **Pembagian Data:**\n",
        "   - Data dibagi menjadi set pelatihan dan pengujian menggunakan fungsi `train_test_split`. Sebanyak 80% data digunakan untuk pelatihan (`X_train` dan `y_train`), sementara 20% digunakan untuk pengujian (`X_test` dan `y_test`).\n",
        "\n",
        "4. **Inisialisasi Model:**\n",
        "   - Model Support Vector Regression (SVR) dengan kernel linear diinisialisasi sebagai `linear_svr_model`. Hyperparameter yang digunakan adalah `C=1.0` dan `epsilon=0.1`.\n",
        "\n",
        "5. **Pelatihan Model:**\n",
        "   - Model dilatih menggunakan metode `.fit()` pada data pelatihan (`X_train` dan `y_train`).\n",
        "\n",
        "6. **Prediksi:**\n",
        "   - Model yang sudah dilatih digunakan untuk membuat prediksi pada data pengujian (`X_test`). Hasil prediksi disimpan dalam variabel `y_pred`.\n",
        "\n",
        "7. **Evaluasi Model:**\n",
        "   - Performa model dievaluasi dengan menghitung Mean Squared Error (MSE) antara nilai yang diprediksi (`y_pred`) dan nilai aktual (`y_test`). MSE mengukur seberapa baik model dapat memprediksi nilai target.\n",
        "\n",
        "8. **Output:**\n",
        "   - Hasil MSE dicetak sebagai output untuk memberikan gambaran tentang sejauh mana model berhasil dalam memprediksi data pengujian.\n",
        "\n",
        "Kode tersebut menciptakan dan mengevaluasi model LinearSVR dengan kernel linear menggunakan data yang diberikan. Model ini dapat digunakan untuk membuat prediksi pada data baru setelah dilatih."
      ],
      "metadata": {
        "id": "D3V1rQ9pCm2T"
      }
    },
    {
      "cell_type": "code",
      "source": [
        "# Import library\n",
        "from sklearn.svm import LinearSVR\n",
        "from sklearn.model_selection import train_test_split\n",
        "from sklearn.metrics import mean_squared_error\n",
        "import numpy as np\n",
        "\n",
        "# Data\n",
        "# Gantilah bagian ini dengan data Anda\n",
        "X = df['Apps'].values.reshape(-1, 1)\n",
        "y = df['Caps'].values\n",
        "\n",
        "# Bagi data menjadi set pelatihan dan pengujian\n",
        "X_train, X_test, y_train, y_test = train_test_split(X, y, test_size=0.2)\n",
        "\n",
        "# Inisialisasi model LinearSVR dengan hyperparameter tertentu\n",
        "linear_svr_model = LinearSVR(C=1.0, epsilon=0.1)\n",
        "\n",
        "# Melatih model\n",
        "linear_svr_model.fit(X_train, y_train)\n",
        "\n",
        "# Melakukan prediksi pada set pengujian\n",
        "y_pred = linear_svr_model.predict(X_test)\n",
        "\n",
        "# Evaluasi model\n",
        "mse = mean_squared_error(y_test, y_pred)\n",
        "print(f'Mean Squared Error: {mse}')\n",
        "\n",
        "# Sekarang model LinearSVR dengan hyperparameter yang telah ditentukan sudah dilatih dan diuji.\n",
        "# Anda dapat menggunakannya untuk membuat prediksi pada data baru.\n"
      ],
      "metadata": {
        "colab": {
          "base_uri": "https://localhost:8080/"
        },
        "outputId": "96239f58-6ad0-4281-ffdb-56bf0f5a6d56",
        "id": "A1584CNaOVkV"
      },
      "execution_count": null,
      "outputs": [
        {
          "output_type": "stream",
          "name": "stdout",
          "text": [
            "Mean Squared Error: 537.2710861358319\n"
          ]
        },
        {
          "output_type": "stream",
          "name": "stderr",
          "text": [
            "/usr/local/lib/python3.10/dist-packages/sklearn/svm/_base.py:1244: ConvergenceWarning: Liblinear failed to converge, increase the number of iterations.\n",
            "  warnings.warn(\n"
          ]
        }
      ]
    },
    {
      "cell_type": "markdown",
      "source": [
        "**Penjelasan Kode:**\n",
        "\n",
        "Kode ini menggunakan pustaka matplotlib dan model Linear Support Vector Regression (LinearSVR) dari pustaka scikit-learn untuk melatih dan memvisualisasikan model regresi. Prosesnya melibatkan pembagian data menjadi set pelatihan dan pengujian, melatih model menggunakan set pelatihan, dan kemudian memvisualisasikan hasil prediksi model pada set pengujian.\n",
        "\n",
        "Langkah-langkahnya secara umum sebagai berikut:\n",
        "\n",
        "1. **Pengecekan Data**: Kode ini memulai dengan memeriksa apakah data yang dimasukkan (diasumsikan sebagai DataFrame `df`) memiliki cukup baris untuk membuat set pelatihan dan pengujian. Jika tidak, mencetak pesan kesalahan.\n",
        "\n",
        "2. **Pembagian Data**: Jika data cukup, kode ini menggunakan fungsi `train_test_split` dari scikit-learn untuk membagi data menjadi set pelatihan (`X_train` dan `y_train`) dan set pengujian (`X_test` dan `y_test`). Proporsi pengujian diatur ke 20% dari total data dengan parameter `test_size=0.2`, dan `random_state` digunakan untuk hasil yang dapat direproduksi.\n",
        "\n",
        "3. **Inisialisasi Model**: Model LinearSVR diinisialisasi dengan hyperparameter tertentu (`C=1.0` dan `epsilon=0.1`).\n",
        "\n",
        "4. **Pelatihan Model**: Model LinearSVR dilatih menggunakan set pelatihan (`X_train` dan `y_train`) dengan menggunakan metode `fit`.\n",
        "\n",
        "5. **Visualisasi Data dan Model**: Setelah melatih model, kode ini membuat scatter plot dari data aktual (`X_test` dan `y_test`) dan garis merah yang merepresentasikan hasil prediksi model pada set pengujian (`linear_svr_model.predict(X_test)`).\n",
        "\n",
        "6. **Penyetingan Plot**: Kode ini menyertakan label sumbu x dan y, menambahkan judul, dan menampilkan legenda untuk menjelaskan elemen-elemen dalam plot.\n",
        "\n",
        "7. **Menampilkan Plot**: Terakhir, kode ini menggunakan `plt.show()` untuk menampilkan plot secara keseluruhan.\n",
        "\n",
        "Ini adalah proses umum untuk memvisualisasikan hasil prediksi dari model regresi menggunakan matplotlib dan model LinearSVR dari scikit-learn."
      ],
      "metadata": {
        "id": "ACsks2rvC_pi"
      }
    },
    {
      "cell_type": "code",
      "source": [
        "import matplotlib.pyplot as plt\n",
        "\n",
        "# Ensure df has enough rows\n",
        "if len(df) < 2:\n",
        "    print(\"Error: Not enough data for training and testing sets.\")\n",
        "else:\n",
        "    # Modify test_size to a reasonable value\n",
        "    X_train, X_test, y_train, y_test = train_test_split(X, y, test_size=0.2, random_state=42)\n",
        "\n",
        "    # Inisialisasi model LinearSVR dengan hyperparameter tertentu\n",
        "    linear_svr_model = LinearSVR(C=1.0, epsilon=0.1)\n",
        "\n",
        "    # Melatih model\n",
        "    linear_svr_model.fit(X_train, y_train)\n",
        "\n",
        "    # Visualisasi data dan model\n",
        "    plt.scatter(X_test, y_test, label='Actual Data')  # Use X_test and y_test for visualization\n",
        "    plt.plot(X_test, linear_svr_model.predict(X_test), color='red', label='LinearSVR Regression')\n",
        "\n",
        "    # Label sumbu\n",
        "    plt.xlabel('Apps')\n",
        "    plt.ylabel('Caps')\n",
        "\n",
        "    # Menambahkan judul\n",
        "    plt.title('LinearSVR Regression')\n",
        "\n",
        "    # Menampilkan legenda\n",
        "    plt.legend()\n",
        "\n",
        "    # Menampilkan plot\n",
        "    plt.show()\n",
        "\n"
      ],
      "metadata": {
        "colab": {
          "base_uri": "https://localhost:8080/",
          "height": 527
        },
        "id": "Z9U25I9mc_qi",
        "outputId": "79658db1-dbc1-44e5-f2eb-7c52bd192826"
      },
      "execution_count": null,
      "outputs": [
        {
          "output_type": "stream",
          "name": "stderr",
          "text": [
            "/usr/local/lib/python3.10/dist-packages/sklearn/svm/_base.py:1244: ConvergenceWarning: Liblinear failed to converge, increase the number of iterations.\n",
            "  warnings.warn(\n"
          ]
        },
        {
          "output_type": "display_data",
          "data": {
            "text/plain": [
              "<Figure size 640x480 with 1 Axes>"
            ],
            "image/png": "[encoded data removed]"
          },
          "metadata": {}
        }
      ]
    },
    {
      "cell_type": "markdown",
      "source": [
        "**Penjelasan Kode:**\n",
        "\n",
        "Kode yang diberikan mengimplementasikan model Support Vector Regression (SVR) menggunakan pustaka Scikit-Learn di Python. Tujuannya adalah untuk menemukan parameter terbaik untuk model SVR menggunakan GridSearchCV, yang melakukan pencarian parameter secara lintas-validasi pada suatu grid parameter yang telah ditentukan. Proses tersebut melibatkan langkah-langkah berikut:\n",
        "\n",
        "1. **Impor Pustaka:**\n",
        "   - Modul-modul yang diperlukan dari Scikit-Learn diimpor, termasuk `SVR` untuk Regresi Vector Dukungan, `GridSearchCV` untuk penyetelan parameter, dan `mean_squared_error` untuk mengevaluasi model.\n",
        "\n",
        "2. **Membuat Model SVR:**\n",
        "   - Sebuah model SVR dibuat dengan parameter bawaan. Model ini akan dituning nanti menggunakan pencarian grid.\n",
        "\n",
        "3. **Menentukan Grid Parameter:**\n",
        "   - Sebuah grid parameter didefinisikan menggunakan kamus yang disebut `param_grid`. Parameter-parameter ini melibatkan jenis kernel ('rbf'), parameter regularisasi 'C', dan koefisien kernel 'gamma'. Berbagai nilai untuk 'C' dan 'gamma' ditentukan untuk mencari kombinasi terbaik.\n",
        "\n",
        "4. **GridSearchCV:**\n",
        "   - Objek `GridSearchCV` dibuat dengan model SVR, grid parameter, validasi lintas-5 (`cv=5`), dan pemrosesan paralel (`n_jobs=-1`). Metode `fit` kemudian dipanggil untuk melakukan pencarian grid dan menemukan kombinasi parameter terbaik.\n",
        "\n",
        "5. **Menampilkan Parameter Terbaik:**\n",
        "   - Parameter terbaik yang diperoleh dari pencarian grid disimpan dalam variabel `best_params` dan dicetak ke konsol.\n",
        "\n",
        "6. **Menggunakan Model Terbaik untuk Prediksi:**\n",
        "   - Model terbaik yang diperoleh dari pencarian grid disimpan dalam variabel `best_model`. Model ini kemudian digunakan untuk membuat prediksi (`y_pred`) pada set data uji.\n",
        "\n",
        "7. **Evaluasi Model:**\n",
        "   - Mean Squared Error (MSE) dihitung dengan membandingkan nilai prediksi (`y_pred`) dengan nilai target aktual (`y_test`). MSE dicetak ke konsol, memberikan ukuran kuantitatif terhadap kinerja model pada set data uji."
      ],
      "metadata": {
        "id": "ZxHcCGxxDLTt"
      }
    },
    {
      "cell_type": "code",
      "source": [
        "from sklearn.svm import SVR\n",
        "from sklearn.model_selection import GridSearchCV\n",
        "from sklearn.metrics import mean_squared_error\n",
        "\n",
        "# Instantiate your SVR model\n",
        "svr_model = SVR()\n",
        "\n",
        "# Define the hyperparameter grid\n",
        "param_grid = {\n",
        "    'kernel': ['rbf'],\n",
        "    'C': [10, 100, 1000],\n",
        "    'gamma': [0.5, 0.05, 0.005]\n",
        "}\n",
        "\n",
        "# Use GridSearchCV to find the best parameters\n",
        "grid_search = GridSearchCV(svr_model, param_grid, cv=5, n_jobs=-1)\n",
        "grid_search.fit(X_train, y_train)\n",
        "\n",
        "# Display the best parameters\n",
        "best_params = grid_search.best_params_\n",
        "print(f'Best Parameters: {best_params}')\n",
        "\n",
        "# Use the best model for predictions\n",
        "best_model = grid_search.best_estimator_\n",
        "y_pred = best_model.predict(X_test)\n",
        "\n",
        "# Evaluate the model\n",
        "mse = mean_squared_error(y_test, y_pred)\n",
        "print(f'Mean Squared Error on Test Set: {mse}')\n"
      ],
      "metadata": {
        "colab": {
          "base_uri": "https://localhost:8080/"
        },
        "outputId": "cd795556-2e0a-4418-fd03-b427761a6e5e",
        "id": "h9NCAhEKqlaH"
      },
      "execution_count": null,
      "outputs": [
        {
          "output_type": "stream",
          "name": "stdout",
          "text": [
            "Best Parameters: {'C': 10, 'gamma': 0.005, 'kernel': 'rbf'}\n",
            "Mean Squared Error on Test Set: 453.5018816722126\n"
          ]
        }
      ]
    },
    {
      "cell_type": "markdown",
      "source": [
        "**Penjelasan Kode:**\n",
        "\n",
        "Kode di atas membuat objek model baru dengan menggunakan Support Vector Regression (SVR) dari pustaka scikit-learn. Model ini dikonfigurasi dengan parameter C sebesar 10, gamma sebesar 0.005, dan kernel 'rbf' (Radial Basis Function). Setelah objek model dibuat, ia kemudian dipelajari dari data yang diberikan (X dan y) menggunakan metode fit()."
      ],
      "metadata": {
        "id": "SQH1IBIkDftB"
      }
    },
    {
      "cell_type": "code",
      "source": [
        "model_baru = SVR(C=10, gamma=0.005, kernel='rbf')\n",
        "model_baru.fit(X,y)"
      ],
      "metadata": {
        "colab": {
          "base_uri": "https://localhost:8080/",
          "height": 74
        },
        "id": "qMJi1VQyl7CX",
        "outputId": "6e7a1357-f71f-437f-b876-051edf4e73ed"
      },
      "execution_count": null,
      "outputs": [
        {
          "output_type": "execute_result",
          "data": {
            "text/plain": [
              "SVR(C=10, gamma=0.005)"
            ],
            "text/html": [
              "<style>#sk-container-id-1 {color: black;background-color: white;}#sk-container-id-1 pre{padding: 0;}#sk-container-id-1 div.sk-toggleable {background-color: white;}#sk-container-id-1 label.sk-toggleable__label {cursor: pointer;display: block;width: 100%;margin-bottom: 0;padding: 0.3em;box-sizing: border-box;text-align: center;}#sk-container-id-1 label.sk-toggleable__label-arrow:before {content: \"▸\";float: left;margin-right: 0.25em;color: #696969;}#sk-container-id-1 label.sk-toggleable__label-arrow:hover:before {color: black;}#sk-container-id-1 div.sk-estimator:hover label.sk-toggleable__label-arrow:before {color: black;}#sk-container-id-1 div.sk-toggleable__content {max-height: 0;max-width: 0;overflow: hidden;text-align: left;background-color: #f0f8ff;}#sk-container-id-1 div.sk-toggleable__content pre {margin: 0.2em;color: black;border-radius: 0.25em;background-color: #f0f8ff;}#sk-container-id-1 input.sk-toggleable__control:checked~div.sk-toggleable__content {max-height: 200px;max-width: 100%;overflow: auto;}#sk-container-id-1 input.sk-toggleable__control:checked~label.sk-toggleable__label-arrow:before {content: \"▾\";}#sk-container-id-1 div.sk-estimator input.sk-toggleable__control:checked~label.sk-toggleable__label {background-color: #d4ebff;}#sk-container-id-1 div.sk-label input.sk-toggleable__control:checked~label.sk-toggleable__label {background-color: #d4ebff;}#sk-container-id-1 input.sk-hidden--visually {border: 0;clip: rect(1px 1px 1px 1px);clip: rect(1px, 1px, 1px, 1px);height: 1px;margin: -1px;overflow: hidden;padding: 0;position: absolute;width: 1px;}#sk-container-id-1 div.sk-estimator {font-family: monospace;background-color: #f0f8ff;border: 1px dotted black;border-radius: 0.25em;box-sizing: border-box;margin-bottom: 0.5em;}#sk-container-id-1 div.sk-estimator:hover {background-color: #d4ebff;}#sk-container-id-1 div.sk-parallel-item::after {content: \"\";width: 100%;border-bottom: 1px solid gray;flex-grow: 1;}#sk-container-id-1 div.sk-label:hover label.sk-toggleable__label {background-color: #d4ebff;}#sk-container-id-1 div.sk-serial::before {content: \"\";position: absolute;border-left: 1px solid gray;box-sizing: border-box;top: 0;bottom: 0;left: 50%;z-index: 0;}#sk-container-id-1 div.sk-serial {display: flex;flex-direction: column;align-items: center;background-color: white;padding-right: 0.2em;padding-left: 0.2em;position: relative;}#sk-container-id-1 div.sk-item {position: relative;z-index: 1;}#sk-container-id-1 div.sk-parallel {display: flex;align-items: stretch;justify-content: center;background-color: white;position: relative;}#sk-container-id-1 div.sk-item::before, #sk-container-id-1 div.sk-parallel-item::before {content: \"\";position: absolute;border-left: 1px solid gray;box-sizing: border-box;top: 0;bottom: 0;left: 50%;z-index: -1;}#sk-container-id-1 div.sk-parallel-item {display: flex;flex-direction: column;z-index: 1;position: relative;background-color: white;}#sk-container-id-1 div.sk-parallel-item:first-child::after {align-self: flex-end;width: 50%;}#sk-container-id-1 div.sk-parallel-item:last-child::after {align-self: flex-start;width: 50%;}#sk-container-id-1 div.sk-parallel-item:only-child::after {width: 0;}#sk-container-id-1 div.sk-dashed-wrapped {border: 1px dashed gray;margin: 0 0.4em 0.5em 0.4em;box-sizing: border-box;padding-bottom: 0.4em;background-color: white;}#sk-container-id-1 div.sk-label label {font-family: monospace;font-weight: bold;display: inline-block;line-height: 1.2em;}#sk-container-id-1 div.sk-label-container {text-align: center;}#sk-container-id-1 div.sk-container {/* jupyter's `normalize.less` sets `[hidden] { display: none; }` but bootstrap.min.css set `[hidden] { display: none !important; }` so we also need the `!important` here to be able to override the default hidden behavior on the sphinx rendered scikit-learn.org. See: https://github.com/scikit-learn/scikit-learn/issues/21755 */display: inline-block !important;position: relative;}#sk-container-id-1 div.sk-text-repr-fallback {display: none;}</style><div id=\"sk-container-id-1\" class=\"sk-top-container\"><div class=\"sk-text-repr-fallback\"><pre>SVR(C=10, gamma=0.005)</pre><b>In a Jupyter environment, please rerun this cell to show the HTML representation or trust the notebook. <br />On GitHub, the HTML representation is unable to render, please try loading this page with nbviewer.org.</b></div><div class=\"sk-container\" hidden><div class=\"sk-item\"><div class=\"sk-estimator sk-toggleable\"><input class=\"sk-toggleable__control sk-hidden--visually\" id=\"sk-estimator-id-1\" type=\"checkbox\" checked><label for=\"sk-estimator-id-1\" class=\"sk-toggleable__label sk-toggleable__label-arrow\">SVR</label><div class=\"sk-toggleable__content\"><pre>SVR(C=10, gamma=0.005)</pre></div></div></div></div></div>"
            ]
          },
          "metadata": {},
          "execution_count": 10
        }
      ]
    },
    {
      "cell_type": "markdown",
      "source": [
        "**Penjelasan Kode:**\n",
        "\n",
        "Kode tersebut menggunakan pustaka matplotlib untuk membuat visualisasi scatter plot dari data X dan y. Selanjutnya, dilakukan plotting hasil prediksi model baru terhadap data X. Plot ini memberikan gambaran visual tentang sejauh mana model mampu memodelkan hubungan antara variabel input (X) dan output (y)."
      ],
      "metadata": {
        "id": "dxpzmfWGDnq3"
      }
    },
    {
      "cell_type": "code",
      "source": [
        "#visualisasikan model\n",
        "import matplotlib.pyplot as plt\n",
        "plt.scatter(X, y)\n",
        "plt.plot(X, model_baru.predict(X))"
      ],
      "metadata": {
        "colab": {
          "base_uri": "https://localhost:8080/",
          "height": 447
        },
        "id": "2SmltoSyoTmL",
        "outputId": "5ebb877f-8e70-44dc-d33f-8eb83300ee5a"
      },
      "execution_count": null,
      "outputs": [
        {
          "output_type": "execute_result",
          "data": {
            "text/plain": [
              "[<matplotlib.lines.Line2D at 0x79f6106661d0>]"
            ]
          },
          "metadata": {},
          "execution_count": 11
        },
        {
          "output_type": "display_data",
          "data": {
            "text/plain": [
              "<Figure size 640x480 with 1 Axes>"
            ],
            "image/png": "[encoded data removed]"
          },
          "metadata": {}
        }
      ]
    }
  ]
}