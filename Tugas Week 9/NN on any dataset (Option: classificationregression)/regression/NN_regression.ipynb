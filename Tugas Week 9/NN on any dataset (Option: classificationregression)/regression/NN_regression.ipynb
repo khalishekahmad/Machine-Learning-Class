{
  "nbformat": 4,
  "nbformat_minor": 0,
  "metadata": {
    "colab": {
      "provenance": []
    },
    "kernelspec": {
      "name": "python3",
      "display_name": "Python 3"
    },
    "language_info": {
      "name": "python"
    }
  },
  "cells": [
    {
      "cell_type": "markdown",
      "source": [
        "# **Daffa Asyqar Ahmad Khalisheka**\n",
        "\n",
        "# **1103200034**\n",
        "\n",
        "# **Machine Learning Class**\n",
        "\n",
        "# **Telkom University**"
      ],
      "metadata": {
        "id": "o6ascclg0MBW"
      }
    },
    {
      "cell_type": "markdown",
      "source": [
        "Kode ini menggunakan library Google Colab untuk mengakses Google Drive. Dengan menggunakan fungsi `drive.mount('/content/drive')`, Google Drive dapat di-\"mount\" (dipasang) pada direktori `/content/drive` di lingkungan Google Colab. Hal ini memungkinkan pengguna untuk mengakses dan bekerja dengan file yang ada di Google Drive mereka langsung dari notebook Google Colab tersebut."
      ],
      "metadata": {
        "id": "0kz6K4KfXprK"
      }
    },
    {
      "cell_type": "code",
      "execution_count": 23,
      "metadata": {
        "colab": {
          "base_uri": "https://localhost:8080/"
        },
        "id": "f3jbvl9_E5by",
        "outputId": "a7d70c8d-f405-446e-e143-1cb1bf23cf63"
      },
      "outputs": [
        {
          "output_type": "stream",
          "name": "stdout",
          "text": [
            "Drive already mounted at /content/drive; to attempt to forcibly remount, call drive.mount(\"/content/drive\", force_remount=True).\n"
          ]
        }
      ],
      "source": [
        "# Import library Google Colab untuk mengakses Google Drive\n",
        "from google.colab import drive\n",
        "\n",
        "# Mount (pasang) Google Drive pada direktori /content/drive\n",
        "drive.mount('/content/drive')"
      ]
    },
    {
      "cell_type": "markdown",
      "source": [
        "Kode tersebut adalah implementasi sederhana untuk membangun, melatih, dan mengevaluasi sebuah model jaringan saraf menggunakan TensorFlow di lingkungan Google Colab. Berikut penjelasan dari setiap baris kode:\n",
        "\n",
        "1. **Import Library**: Mengimpor library yang diperlukan untuk analisis data dan pembangunan model jaringan saraf, seperti Pandas untuk manipulasi data, NumPy untuk operasi numerik, train_test_split untuk membagi data menjadi set pelatihan dan pengujian, StandardScaler untuk penskalaan fitur, dan TensorFlow untuk membangun dan melatih model jaringan saraf.\n",
        "\n",
        "```python\n",
        "import pandas as pd\n",
        "import numpy as np\n",
        "from sklearn.model_selection import train_test_split\n",
        "from sklearn.preprocessing import StandardScaler\n",
        "import tensorflow as tf\n",
        "from tensorflow.keras.models import Sequential\n",
        "from tensorflow.keras.layers import Dense\n",
        "```\n",
        "\n",
        "2. **Load Data**: Kode ini tidak menyertakan langkah-langkah untuk memuat data, yang diasumsikan sebelumnya. Penting untuk memuat data yang akan digunakan dalam model. Data tersebut kemungkinan besar berupa dataframe Pandas.\n",
        "\n",
        "3. **Data Preprocessing**: Langkah ini mencakup pemisahan data menjadi fitur (X) dan target (y), serta pembagian data menjadi set pelatihan dan pengujian menggunakan `train_test_split`. Selanjutnya, fitur dinormalisasi menggunakan `StandardScaler`.\n",
        "\n",
        "4. **Build Neural Network Model**: Membangun model jaringan saraf menggunakan Sequential API dari TensorFlow. Model ini memiliki satu lapisan input dan satu lapisan output dengan beberapa lapisan tersembunyi di antaranya.\n",
        "\n",
        "5. **Compile Model**: Mengkompilasi model dengan mengtentukan optimizer, fungsi kerugian (loss function), dan metrik evaluasi yang akan digunakan selama pelatihan.\n",
        "\n",
        "6. **Training Model**: Melatih model pada data pelatihan dengan menentukan jumlah epoche dan ukuran batch.\n",
        "\n",
        "7. **Evaluate Model**: Menggunakan set pengujian untuk mengevaluasi kinerja model yang telah dilatih.\n",
        "\n",
        "Catatan: Kode tersebut tidak menyertakan detail data, struktur model, atau konfigurasi pelatihan yang lebih spesifik. Oleh karena itu, penting untuk memuat data yang sesuai dan menyesuaikan konfigurasi model sesuai dengan kebutuhan aplikasi."
      ],
      "metadata": {
        "id": "MenGLXXKX4ap"
      }
    },
    {
      "cell_type": "code",
      "source": [
        "# Import library yang diperlukan\n",
        "import pandas as pd\n",
        "import numpy as np\n",
        "from sklearn.model_selection import train_test_split\n",
        "from sklearn.preprocessing import StandardScaler\n",
        "import tensorflow as tf\n",
        "from tensorflow.keras.models import Sequential\n",
        "from tensorflow.keras.layers import Dense"
      ],
      "metadata": {
        "id": "gnhsc-XkI4G-"
      },
      "execution_count": 58,
      "outputs": []
    },
    {
      "cell_type": "markdown",
      "source": [
        "Kode tersebut digunakan untuk membaca file CSV yang berisi data cuaca ke dalam sebuah DataFrame menggunakan pustaka Pandas di lingkungan Google Colab. Langkah-langkahnya adalah sebagai berikut:\n",
        "\n",
        "1. `import pandas as pd`: Mengimpor pustaka Pandas dengan alias `pd`.\n",
        "\n",
        "2. `data = pd.read_csv('/content/drive/MyDrive/Dataset/Weather_Data.csv')`: Membaca file CSV yang berada di path '/content/drive/MyDrive/Dataset/Weather_Data.csv' dan menyimpannya ke dalam variabel `data`. File CSV tersebut berisi data cuaca.\n",
        "\n",
        "Penjelasan tambahan:\n",
        "- `pd`: Alias untuk pustaka Pandas, mempermudah penggunaan fungsi dan metode dari Pandas.\n",
        "- `read_csv()`: Fungsi Pandas untuk membaca file CSV dan mengonversinya menjadi DataFrame.\n",
        "- `'/content/drive/MyDrive/Dataset/Weather_Data.csv'`: Lokasi file CSV yang akan dibaca. Path tersebut sesuai dengan struktur direktori Google Colab.\n",
        "- `data`: Variabel yang menampung DataFrame hasil pembacaan file CSV, sehingga dapat digunakan untuk analisis data lebih lanjut."
      ],
      "metadata": {
        "id": "LX2fzrxsX-7p"
      }
    },
    {
      "cell_type": "code",
      "source": [
        "#Membaca file CSV yang berisi data ke dalam sebuah DataFrame\n",
        "data = pd.read_csv('/content/drive/MyDrive/Dataset/Weather_Data.csv')"
      ],
      "metadata": {
        "id": "crHGgnnZI6Qk"
      },
      "execution_count": 24,
      "outputs": []
    },
    {
      "cell_type": "markdown",
      "source": [
        "Kode tersebut adalah perintah untuk menampilkan lima baris pertama dari dataset yang disimpan dalam variabel 'data'. Fungsi 'head()' digunakan untuk itu, dan kode ini umumnya digunakan ketika Anda ingin dengan cepat melihat struktur dan konten awal dari dataset yang sedang Anda kerjakan. Kode ini sering digunakan dalam lingkungan Google Colab, yang merupakan platform penelitian dan pengembangan berbasis cloud yang menggunakan notebook Jupyter."
      ],
      "metadata": {
        "id": "upn8wQpJYGAo"
      }
    },
    {
      "cell_type": "code",
      "source": [
        "#Menampilkan isi dari dataset\n",
        "data.head()"
      ],
      "metadata": {
        "colab": {
          "base_uri": "https://localhost:8080/",
          "height": 429
        },
        "id": "G_h47prp_5pC",
        "outputId": "ddca1be7-530f-48f2-c879-1d222bb494ae"
      },
      "execution_count": 25,
      "outputs": [
        {
          "output_type": "execute_result",
          "data": {
            "text/plain": [
              "       Date  Temp9am  Temp3pm  MinTemp  MaxTemp  Rainfall RainToday  \\\n",
              "0  01-02-13     20.7     20.9     19.5     22.4      15.6       Yes   \n",
              "1  02-02-13     22.4     24.8     19.5     25.6       6.0       Yes   \n",
              "2  03-02-13     23.5     23.0     21.6     24.5       6.6       Yes   \n",
              "3  04-02-13     21.4     20.9     20.2     22.8      18.8       Yes   \n",
              "4  05-02-13     22.5     25.5     19.7     25.7      77.4       Yes   \n",
              "\n",
              "   Evaporation  Sunshine WindGustDir  ...  WindDir9am WindDir3pm WindSpeed9am  \\\n",
              "0          6.2       0.0           W  ...           S        SSW           17   \n",
              "1          3.4       2.7           W  ...           W          E            9   \n",
              "2          2.4       0.1           W  ...         ESE        ESE           17   \n",
              "3          2.2       0.0           W  ...         NNE          E           22   \n",
              "4          4.8       0.0           W  ...         NNE          W           11   \n",
              "\n",
              "   WindSpeed3pm  Humidity9am  Humidity3pm  Pressure9am  Pressure3pm  Cloud9am  \\\n",
              "0            20           92           84       1017.6       1017.4         8   \n",
              "1            13           83           73       1017.9       1016.4         7   \n",
              "2             2           88           86       1016.7       1015.6         7   \n",
              "3            20           83           90       1014.2       1011.8         8   \n",
              "4             6           88           74       1008.3       1004.8         8   \n",
              "\n",
              "   Cloud3pm  \n",
              "0         8  \n",
              "1         7  \n",
              "2         8  \n",
              "3         8  \n",
              "4         8  \n",
              "\n",
              "[5 rows x 21 columns]"
            ],
            "text/html": [
              "\n",
              "  <div id=\"df-8073b458-32d6-4c80-994a-4b0c04db4cdd\" class=\"colab-df-container\">\n",
              "    <div>\n",
              "<style scoped>\n",
              "    .dataframe tbody tr th:only-of-type {\n",
              "        vertical-align: middle;\n",
              "    }\n",
              "\n",
              "    .dataframe tbody tr th {\n",
              "        vertical-align: top;\n",
              "    }\n",
              "\n",
              "    .dataframe thead th {\n",
              "        text-align: right;\n",
              "    }\n",
              "</style>\n",
              "<table border=\"1\" class=\"dataframe\">\n",
              "  <thead>\n",
              "    <tr style=\"text-align: right;\">\n",
              "      <th></th>\n",
              "      <th>Date</th>\n",
              "      <th>Temp9am</th>\n",
              "      <th>Temp3pm</th>\n",
              "      <th>MinTemp</th>\n",
              "      <th>MaxTemp</th>\n",
              "      <th>Rainfall</th>\n",
              "      <th>RainToday</th>\n",
              "      <th>Evaporation</th>\n",
              "      <th>Sunshine</th>\n",
              "      <th>WindGustDir</th>\n",
              "      <th>...</th>\n",
              "      <th>WindDir9am</th>\n",
              "      <th>WindDir3pm</th>\n",
              "      <th>WindSpeed9am</th>\n",
              "      <th>WindSpeed3pm</th>\n",
              "      <th>Humidity9am</th>\n",
              "      <th>Humidity3pm</th>\n",
              "      <th>Pressure9am</th>\n",
              "      <th>Pressure3pm</th>\n",
              "      <th>Cloud9am</th>\n",
              "      <th>Cloud3pm</th>\n",
              "    </tr>\n",
              "  </thead>\n",
              "  <tbody>\n",
              "    <tr>\n",
              "      <th>0</th>\n",
              "      <td>01-02-13</td>\n",
              "      <td>20.7</td>\n",
              "      <td>20.9</td>\n",
              "      <td>19.5</td>\n",
              "      <td>22.4</td>\n",
              "      <td>15.6</td>\n",
              "      <td>Yes</td>\n",
              "      <td>6.2</td>\n",
              "      <td>0.0</td>\n",
              "      <td>W</td>\n",
              "      <td>...</td>\n",
              "      <td>S</td>\n",
              "      <td>SSW</td>\n",
              "      <td>17</td>\n",
              "      <td>20</td>\n",
              "      <td>92</td>\n",
              "      <td>84</td>\n",
              "      <td>1017.6</td>\n",
              "      <td>1017.4</td>\n",
              "      <td>8</td>\n",
              "      <td>8</td>\n",
              "    </tr>\n",
              "    <tr>\n",
              "      <th>1</th>\n",
              "      <td>02-02-13</td>\n",
              "      <td>22.4</td>\n",
              "      <td>24.8</td>\n",
              "      <td>19.5</td>\n",
              "      <td>25.6</td>\n",
              "      <td>6.0</td>\n",
              "      <td>Yes</td>\n",
              "      <td>3.4</td>\n",
              "      <td>2.7</td>\n",
              "      <td>W</td>\n",
              "      <td>...</td>\n",
              "      <td>W</td>\n",
              "      <td>E</td>\n",
              "      <td>9</td>\n",
              "      <td>13</td>\n",
              "      <td>83</td>\n",
              "      <td>73</td>\n",
              "      <td>1017.9</td>\n",
              "      <td>1016.4</td>\n",
              "      <td>7</td>\n",
              "      <td>7</td>\n",
              "    </tr>\n",
              "    <tr>\n",
              "      <th>2</th>\n",
              "      <td>03-02-13</td>\n",
              "      <td>23.5</td>\n",
              "      <td>23.0</td>\n",
              "      <td>21.6</td>\n",
              "      <td>24.5</td>\n",
              "      <td>6.6</td>\n",
              "      <td>Yes</td>\n",
              "      <td>2.4</td>\n",
              "      <td>0.1</td>\n",
              "      <td>W</td>\n",
              "      <td>...</td>\n",
              "      <td>ESE</td>\n",
              "      <td>ESE</td>\n",
              "      <td>17</td>\n",
              "      <td>2</td>\n",
              "      <td>88</td>\n",
              "      <td>86</td>\n",
              "      <td>1016.7</td>\n",
              "      <td>1015.6</td>\n",
              "      <td>7</td>\n",
              "      <td>8</td>\n",
              "    </tr>\n",
              "    <tr>\n",
              "      <th>3</th>\n",
              "      <td>04-02-13</td>\n",
              "      <td>21.4</td>\n",
              "      <td>20.9</td>\n",
              "      <td>20.2</td>\n",
              "      <td>22.8</td>\n",
              "      <td>18.8</td>\n",
              "      <td>Yes</td>\n",
              "      <td>2.2</td>\n",
              "      <td>0.0</td>\n",
              "      <td>W</td>\n",
              "      <td>...</td>\n",
              "      <td>NNE</td>\n",
              "      <td>E</td>\n",
              "      <td>22</td>\n",
              "      <td>20</td>\n",
              "      <td>83</td>\n",
              "      <td>90</td>\n",
              "      <td>1014.2</td>\n",
              "      <td>1011.8</td>\n",
              "      <td>8</td>\n",
              "      <td>8</td>\n",
              "    </tr>\n",
              "    <tr>\n",
              "      <th>4</th>\n",
              "      <td>05-02-13</td>\n",
              "      <td>22.5</td>\n",
              "      <td>25.5</td>\n",
              "      <td>19.7</td>\n",
              "      <td>25.7</td>\n",
              "      <td>77.4</td>\n",
              "      <td>Yes</td>\n",
              "      <td>4.8</td>\n",
              "      <td>0.0</td>\n",
              "      <td>W</td>\n",
              "      <td>...</td>\n",
              "      <td>NNE</td>\n",
              "      <td>W</td>\n",
              "      <td>11</td>\n",
              "      <td>6</td>\n",
              "      <td>88</td>\n",
              "      <td>74</td>\n",
              "      <td>1008.3</td>\n",
              "      <td>1004.8</td>\n",
              "      <td>8</td>\n",
              "      <td>8</td>\n",
              "    </tr>\n",
              "  </tbody>\n",
              "</table>\n",
              "<p>5 rows × 21 columns</p>\n",
              "</div>\n",
              "    <div class=\"colab-df-buttons\">\n",
              "\n",
              "  <div class=\"colab-df-container\">\n",
              "    <button class=\"colab-df-convert\" onclick=\"convertToInteractive('df-8073b458-32d6-4c80-994a-4b0c04db4cdd')\"\n",
              "            title=\"Convert this dataframe to an interactive table.\"\n",
              "            style=\"display:none;\">\n",
              "\n",
              "  <svg xmlns=\"http://www.w3.org/2000/svg\" height=\"24px\" viewBox=\"0 -960 960 960\">\n",
              "    <path d=\"M120-120v-720h720v720H120Zm60-500h600v-160H180v160Zm220 220h160v-160H400v160Zm0 220h160v-160H400v160ZM180-400h160v-160H180v160Zm440 0h160v-160H620v160ZM180-180h160v-160H180v160Zm440 0h160v-160H620v160Z\"/>\n",
              "  </svg>\n",
              "    </button>\n",
              "\n",
              "  <style>\n",
              "    .colab-df-container {\n",
              "      display:flex;\n",
              "      gap: 12px;\n",
              "    }\n",
              "\n",
              "    .colab-df-convert {\n",
              "      background-color: #E8F0FE;\n",
              "      border: none;\n",
              "      border-radius: 50%;\n",
              "      cursor: pointer;\n",
              "      display: none;\n",
              "      fill: #1967D2;\n",
              "      height: 32px;\n",
              "      padding: 0 0 0 0;\n",
              "      width: 32px;\n",
              "    }\n",
              "\n",
              "    .colab-df-convert:hover {\n",
              "      background-color: #E2EBFA;\n",
              "      box-shadow: 0px 1px 2px rgba(60, 64, 67, 0.3), 0px 1px 3px 1px rgba(60, 64, 67, 0.15);\n",
              "      fill: #174EA6;\n",
              "    }\n",
              "\n",
              "    .colab-df-buttons div {\n",
              "      margin-bottom: 4px;\n",
              "    }\n",
              "\n",
              "    [theme=dark] .colab-df-convert {\n",
              "      background-color: #3B4455;\n",
              "      fill: #D2E3FC;\n",
              "    }\n",
              "\n",
              "    [theme=dark] .colab-df-convert:hover {\n",
              "      background-color: #434B5C;\n",
              "      box-shadow: 0px 1px 3px 1px rgba(0, 0, 0, 0.15);\n",
              "      filter: drop-shadow(0px 1px 2px rgba(0, 0, 0, 0.3));\n",
              "      fill: #FFFFFF;\n",
              "    }\n",
              "  </style>\n",
              "\n",
              "    <script>\n",
              "      const buttonEl =\n",
              "        document.querySelector('#df-8073b458-32d6-4c80-994a-4b0c04db4cdd button.colab-df-convert');\n",
              "      buttonEl.style.display =\n",
              "        google.colab.kernel.accessAllowed ? 'block' : 'none';\n",
              "\n",
              "      async function convertToInteractive(key) {\n",
              "        const element = document.querySelector('#df-8073b458-32d6-4c80-994a-4b0c04db4cdd');\n",
              "        const dataTable =\n",
              "          await google.colab.kernel.invokeFunction('convertToInteractive',\n",
              "                                                    [key], {});\n",
              "        if (!dataTable) return;\n",
              "\n",
              "        const docLinkHtml = 'Like what you see? Visit the ' +\n",
              "          '<a target=\"_blank\" href=https://colab.research.google.com/notebooks/data_table.ipynb>data table notebook</a>'\n",
              "          + ' to learn more about interactive tables.';\n",
              "        element.innerHTML = '';\n",
              "        dataTable['output_type'] = 'display_data';\n",
              "        await google.colab.output.renderOutput(dataTable, element);\n",
              "        const docLink = document.createElement('div');\n",
              "        docLink.innerHTML = docLinkHtml;\n",
              "        element.appendChild(docLink);\n",
              "      }\n",
              "    </script>\n",
              "  </div>\n",
              "\n",
              "\n",
              "<div id=\"df-07cfec89-5831-4eb7-a5e1-66837baed010\">\n",
              "  <button class=\"colab-df-quickchart\" onclick=\"quickchart('df-07cfec89-5831-4eb7-a5e1-66837baed010')\"\n",
              "            title=\"Suggest charts\"\n",
              "            style=\"display:none;\">\n",
              "\n",
              "<svg xmlns=\"http://www.w3.org/2000/svg\" height=\"24px\"viewBox=\"0 0 24 24\"\n",
              "     width=\"24px\">\n",
              "    <g>\n",
              "        <path d=\"M19 3H5c-1.1 0-2 .9-2 2v14c0 1.1.9 2 2 2h14c1.1 0 2-.9 2-2V5c0-1.1-.9-2-2-2zM9 17H7v-7h2v7zm4 0h-2V7h2v10zm4 0h-2v-4h2v4z\"/>\n",
              "    </g>\n",
              "</svg>\n",
              "  </button>\n",
              "\n",
              "<style>\n",
              "  .colab-df-quickchart {\n",
              "      --bg-color: #E8F0FE;\n",
              "      --fill-color: #1967D2;\n",
              "      --hover-bg-color: #E2EBFA;\n",
              "      --hover-fill-color: #174EA6;\n",
              "      --disabled-fill-color: #AAA;\n",
              "      --disabled-bg-color: #DDD;\n",
              "  }\n",
              "\n",
              "  [theme=dark] .colab-df-quickchart {\n",
              "      --bg-color: #3B4455;\n",
              "      --fill-color: #D2E3FC;\n",
              "      --hover-bg-color: #434B5C;\n",
              "      --hover-fill-color: #FFFFFF;\n",
              "      --disabled-bg-color: #3B4455;\n",
              "      --disabled-fill-color: #666;\n",
              "  }\n",
              "\n",
              "  .colab-df-quickchart {\n",
              "    background-color: var(--bg-color);\n",
              "    border: none;\n",
              "    border-radius: 50%;\n",
              "    cursor: pointer;\n",
              "    display: none;\n",
              "    fill: var(--fill-color);\n",
              "    height: 32px;\n",
              "    padding: 0;\n",
              "    width: 32px;\n",
              "  }\n",
              "\n",
              "  .colab-df-quickchart:hover {\n",
              "    background-color: var(--hover-bg-color);\n",
              "    box-shadow: 0 1px 2px rgba(60, 64, 67, 0.3), 0 1px 3px 1px rgba(60, 64, 67, 0.15);\n",
              "    fill: var(--button-hover-fill-color);\n",
              "  }\n",
              "\n",
              "  .colab-df-quickchart-complete:disabled,\n",
              "  .colab-df-quickchart-complete:disabled:hover {\n",
              "    background-color: var(--disabled-bg-color);\n",
              "    fill: var(--disabled-fill-color);\n",
              "    box-shadow: none;\n",
              "  }\n",
              "\n",
              "  .colab-df-spinner {\n",
              "    border: 2px solid var(--fill-color);\n",
              "    border-color: transparent;\n",
              "    border-bottom-color: var(--fill-color);\n",
              "    animation:\n",
              "      spin 1s steps(1) infinite;\n",
              "  }\n",
              "\n",
              "  @keyframes spin {\n",
              "    0% {\n",
              "      border-color: transparent;\n",
              "      border-bottom-color: var(--fill-color);\n",
              "      border-left-color: var(--fill-color);\n",
              "    }\n",
              "    20% {\n",
              "      border-color: transparent;\n",
              "      border-left-color: var(--fill-color);\n",
              "      border-top-color: var(--fill-color);\n",
              "    }\n",
              "    30% {\n",
              "      border-color: transparent;\n",
              "      border-left-color: var(--fill-color);\n",
              "      border-top-color: var(--fill-color);\n",
              "      border-right-color: var(--fill-color);\n",
              "    }\n",
              "    40% {\n",
              "      border-color: transparent;\n",
              "      border-right-color: var(--fill-color);\n",
              "      border-top-color: var(--fill-color);\n",
              "    }\n",
              "    60% {\n",
              "      border-color: transparent;\n",
              "      border-right-color: var(--fill-color);\n",
              "    }\n",
              "    80% {\n",
              "      border-color: transparent;\n",
              "      border-right-color: var(--fill-color);\n",
              "      border-bottom-color: var(--fill-color);\n",
              "    }\n",
              "    90% {\n",
              "      border-color: transparent;\n",
              "      border-bottom-color: var(--fill-color);\n",
              "    }\n",
              "  }\n",
              "</style>\n",
              "\n",
              "  <script>\n",
              "    async function quickchart(key) {\n",
              "      const quickchartButtonEl =\n",
              "        document.querySelector('#' + key + ' button');\n",
              "      quickchartButtonEl.disabled = true;  // To prevent multiple clicks.\n",
              "      quickchartButtonEl.classList.add('colab-df-spinner');\n",
              "      try {\n",
              "        const charts = await google.colab.kernel.invokeFunction(\n",
              "            'suggestCharts', [key], {});\n",
              "      } catch (error) {\n",
              "        console.error('Error during call to suggestCharts:', error);\n",
              "      }\n",
              "      quickchartButtonEl.classList.remove('colab-df-spinner');\n",
              "      quickchartButtonEl.classList.add('colab-df-quickchart-complete');\n",
              "    }\n",
              "    (() => {\n",
              "      let quickchartButtonEl =\n",
              "        document.querySelector('#df-07cfec89-5831-4eb7-a5e1-66837baed010 button');\n",
              "      quickchartButtonEl.style.display =\n",
              "        google.colab.kernel.accessAllowed ? 'block' : 'none';\n",
              "    })();\n",
              "  </script>\n",
              "</div>\n",
              "    </div>\n",
              "  </div>\n"
            ]
          },
          "metadata": {},
          "execution_count": 25
        }
      ]
    },
    {
      "cell_type": "markdown",
      "source": [
        "Output di atas adalah tampilan lima baris pertama dari dataset yang terdiri dari 21 kolom. Setiap baris mewakili data cuaca pada tanggal tertentu. Berikut adalah penjelasan singkat untuk setiap kolom:\n",
        "\n",
        "1. **Date**: Tanggal pengamatan cuaca.\n",
        "2. **Temp9am**: Suhu pada pukul 9 pagi.\n",
        "3. **Temp3pm**: Suhu pada pukul 3 sore.\n",
        "4. **MinTemp**: Suhu minimum pada hari tersebut.\n",
        "5. **MaxTemp**: Suhu maksimum pada hari tersebut.\n",
        "6. **Rainfall**: Jumlah curah hujan dalam milimeter.\n",
        "7. **RainToday**: Apakah hujan terjadi hari itu (Yes/No).\n",
        "8. **Evaporation**: Penguapan kelas A (milimeter) dalam 24 jam hingga pukul 9 pagi.\n",
        "9. **Sunshine**: Jumlah jam sinar matahari dalam sehari.\n",
        "10. **WindGustDir**: Arah angin puncak kecepatan.\n",
        "11. ... (dan seterusnya): Kolom-kolom lainnya termasuk arah angin pada pukul 9 pagi dan 3 sore, kecepatan angin pada pukul 9 pagi dan 3 sore, kelembaban pada pukul 9 pagi dan 3 sore, tekanan atmosfer pada pukul 9 pagi dan 3 sore, serta kondisi awan pada pukul 9 pagi dan 3 sore.\n",
        "\n",
        "Informasi ini memberikan gambaran awal tentang variabel-variabel yang terdapat dalam dataset dan kondisi cuaca pada lima hari pertama dalam data tersebut."
      ],
      "metadata": {
        "id": "CUHbMrUEYS59"
      }
    },
    {
      "cell_type": "markdown",
      "source": [
        "Kode tersebut digunakan untuk menampilkan fitur atau kolom-kolom yang ada dalam suatu dataset. Di dalam kode tersebut, `data.columns` mengacu pada atribut columns dari objek DataFrame yang disebut `data`. DataFrame ini adalah struktur data tabular yang digunakan dalam library pandas, yang umumnya digunakan untuk manipulasi dan analisis data di Python.\n",
        "\n",
        "Jadi, `print(data.columns)` akan mencetak daftar nama kolom-kolom yang ada dalam dataset yang disimpan dalam variabel `data`. Ini berguna untuk memahami struktur dataset dan mengidentifikasi variabel-variabel atau fitur-fitur yang tersedia untuk analisis lebih lanjut.\n",
        "\n",
        "Kode ini umumnya digunakan di lingkungan seperti Google Colab, yang merupakan lingkungan penulisan kode berbasis web yang berjalan di atas server Google, memungkinkan untuk melakukan analisis data menggunakan Python di cloud."
      ],
      "metadata": {
        "id": "3G5ZyxYlYUD1"
      }
    },
    {
      "cell_type": "code",
      "source": [
        "# Tampilkan fitur dalam dataset\n",
        "print(data.columns)"
      ],
      "metadata": {
        "colab": {
          "base_uri": "https://localhost:8080/"
        },
        "id": "5Mm7enIR-9NA",
        "outputId": "2e7f5329-5c5d-41c7-dc69-b9ef5ce9b85b"
      },
      "execution_count": 26,
      "outputs": [
        {
          "output_type": "stream",
          "name": "stdout",
          "text": [
            "Index(['Date', 'Temp9am', 'Temp3pm', 'MinTemp', 'MaxTemp', 'Rainfall',\n",
            "       'RainToday', 'Evaporation', 'Sunshine', 'WindGustDir', 'WindGustSpeed',\n",
            "       'WindDir9am', 'WindDir3pm', 'WindSpeed9am', 'WindSpeed3pm',\n",
            "       'Humidity9am', 'Humidity3pm', 'Pressure9am', 'Pressure3pm', 'Cloud9am',\n",
            "       'Cloud3pm'],\n",
            "      dtype='object')\n"
          ]
        }
      ]
    },
    {
      "cell_type": "markdown",
      "source": [
        "Output di atas merupakan daftar nama kolom atau fitur-fitur yang ada dalam dataset. Setiap nama kolom menggambarkan jenis data atau informasi yang disimpan di dalamnya. Berikut adalah penjelasan singkat untuk setiap kolom:\n",
        "\n",
        "1. **Date**: Tanggal pengamatan cuaca.\n",
        "2. **Temp9am**: Suhu pada pukul 9 pagi.\n",
        "3. **Temp3pm**: Suhu pada pukul 3 sore.\n",
        "4. **MinTemp**: Suhu minimum dalam sehari.\n",
        "5. **MaxTemp**: Suhu maksimum dalam sehari.\n",
        "6. **Rainfall**: Jumlah curah hujan.\n",
        "7. **RainToday**: Apakah hujan terjadi hari ini (Yes/No).\n",
        "8. **Evaporation**: Penguapan.\n",
        "9. **Sunshine**: Durasi sinar matahari.\n",
        "10. **WindGustDir**: Arah angin puncak kecepatan.\n",
        "11. **WindGustSpeed**: Kecepatan angin puncak.\n",
        "12. **WindDir9am**: Arah angin pada pukul 9 pagi.\n",
        "13. **WindDir3pm**: Arah angin pada pukul 3 sore.\n",
        "14. **WindSpeed9am**: Kecepatan angin pada pukul 9 pagi.\n",
        "15. **WindSpeed3pm**: Kecepatan angin pada pukul 3 sore.\n",
        "16. **Humidity9am**: Kelembaban pada pukul 9 pagi.\n",
        "17. **Humidity3pm**: Kelembaban pada pukul 3 sore.\n",
        "18. **Pressure9am**: Tekanan udara pada pukul 9 pagi.\n",
        "19. **Pressure3pm**: Tekanan udara pada pukul 3 sore.\n",
        "20. **Cloud9am**: Tutupan awan pada pukul 9 pagi.\n",
        "21. **Cloud3pm**: Tutupan awan pada pukul 3 sore.\n",
        "\n",
        "Kolom-kolom ini mengandung informasi terkait cuaca yang dapat digunakan untuk analisis dan pemodelan prediktif terkait kondisi cuaca di waktu dan lokasi tertentu."
      ],
      "metadata": {
        "id": "N7Wd4wnCYYW6"
      }
    },
    {
      "cell_type": "markdown",
      "source": [
        "Kode tersebut digunakan untuk menampilkan informasi tentang objek 'data'. Ini dapat memberikan pemahaman lebih lanjut tentang struktur dan karakteristik data yang ada. Pada kode tersebut, diasumsikan bahwa 'data' adalah suatu objek yang memiliki metode `info()`, yang umumnya digunakan pada platform seperti Google Colab yang menggunakan bahasa pemrograman Python dengan library pandas untuk manipulasi dan analisis data.\n",
        "\n",
        "Penjelasan singkat:\n",
        "1. `data`: Nama objek atau variabel yang berisi data yang ingin ditampilkan informasinya.\n",
        "2. `.info()`: Metode dari objek 'data' yang digunakan untuk menampilkan informasi tentang struktur data seperti jumlah baris, jumlah kolom, tipe data setiap kolom, dan jumlah nilai non-null pada setiap kolom.\n",
        "\n",
        "Keterangan tambahan:\n",
        "- Kode ini dapat membantu dalam pemahaman awal tentang data yang digunakan, termasuk apakah terdapat nilai null, tipe data kolom, dan jumlah total baris dan kolom.\n",
        "- Output dari metode `info()` biasanya berisi ringkasan informasi yang mencakup nama kolom, tipe data, dan jumlah non-null values untuk masing-masing kolom.\n",
        "\n",
        "Pastikan untuk menjalankan kode di lingkungan yang sesuai dengan bahasa pemrograman dan library yang digunakan, seperti Python dan pandas di Google Colab."
      ],
      "metadata": {
        "id": "OFXBwdBZYiKN"
      }
    },
    {
      "cell_type": "code",
      "source": [
        "# Ini adalah kode untuk menampilkan informasi tentang objek 'data'\n",
        "data.info()"
      ],
      "metadata": {
        "colab": {
          "base_uri": "https://localhost:8080/"
        },
        "id": "Di9QIcbm_g_T",
        "outputId": "b0153a31-f86c-410f-bbdf-99943d09908f"
      },
      "execution_count": 27,
      "outputs": [
        {
          "output_type": "stream",
          "name": "stdout",
          "text": [
            "<class 'pandas.core.frame.DataFrame'>\n",
            "RangeIndex: 3271 entries, 0 to 3270\n",
            "Data columns (total 21 columns):\n",
            " #   Column         Non-Null Count  Dtype  \n",
            "---  ------         --------------  -----  \n",
            " 0   Date           3271 non-null   object \n",
            " 1   Temp9am        3271 non-null   float64\n",
            " 2   Temp3pm        3271 non-null   float64\n",
            " 3   MinTemp        3271 non-null   float64\n",
            " 4   MaxTemp        3271 non-null   float64\n",
            " 5   Rainfall       3271 non-null   float64\n",
            " 6   RainToday      3271 non-null   object \n",
            " 7   Evaporation    3271 non-null   float64\n",
            " 8   Sunshine       3271 non-null   float64\n",
            " 9   WindGustDir    3271 non-null   object \n",
            " 10  WindGustSpeed  3271 non-null   int64  \n",
            " 11  WindDir9am     3271 non-null   object \n",
            " 12  WindDir3pm     3271 non-null   object \n",
            " 13  WindSpeed9am   3271 non-null   int64  \n",
            " 14  WindSpeed3pm   3271 non-null   int64  \n",
            " 15  Humidity9am    3271 non-null   int64  \n",
            " 16  Humidity3pm    3271 non-null   int64  \n",
            " 17  Pressure9am    3271 non-null   float64\n",
            " 18  Pressure3pm    3271 non-null   float64\n",
            " 19  Cloud9am       3271 non-null   int64  \n",
            " 20  Cloud3pm       3271 non-null   int64  \n",
            "dtypes: float64(9), int64(7), object(5)\n",
            "memory usage: 536.8+ KB\n"
          ]
        }
      ]
    },
    {
      "cell_type": "markdown",
      "source": [
        "Output tersebut adalah hasil dari pemanggilan metode `info()` pada suatu objek DataFrame dengan nama 'data'. Berikut adalah penjelasan dari setiap bagian output:\n",
        "\n",
        "1. **Kelas DataFrame:**\n",
        "   - Jenis: `pandas.core.frame.DataFrame`\n",
        "   - Deskripsi: Menunjukkan bahwa objek 'data' adalah suatu DataFrame, yang merupakan struktur data tabular dua dimensi pada pandas.\n",
        "\n",
        "2. **RangeIndex:**\n",
        "   - Jenis: `RangeIndex`\n",
        "   - Ukuran: 3271 entries, dari 0 sampai 3270\n",
        "   - Deskripsi: Indeks default untuk DataFrame, dimulai dari 0 hingga 3270 dengan total 3271 entries.\n",
        "\n",
        "3. **Data columns (total 21 columns):**\n",
        "   - Deskripsi: Menunjukkan bahwa DataFrame 'data' memiliki 21 kolom.\n",
        "\n",
        "4. **Detail Kolom:**\n",
        "   - **Column**: Nama setiap kolom pada DataFrame.\n",
        "   - **Non-Null Count**: Jumlah nilai non-null pada setiap kolom.\n",
        "   - **Dtype**: Tipe data dari setiap kolom.\n",
        "\n",
        "5. **Tipe Data Kolom (dtypes):**\n",
        "   - Terdapat tiga jenis tipe data pada DataFrame:\n",
        "     - **float64**: Tipe data untuk kolom yang berisi nilai desimal.\n",
        "     - **int64**: Tipe data untuk kolom yang berisi nilai bilangan bulat.\n",
        "     - **object**: Tipe data untuk kolom yang berisi nilai objek atau teks.\n",
        "\n",
        "6. **Memory Usage:**\n",
        "   - Ukuran: 536.8+ KB\n",
        "   - Deskripsi: Menunjukkan perkiraan penggunaan memori oleh DataFrame 'data'.\n",
        "\n",
        "Ringkasan:\n",
        "- Data memiliki 21 kolom dan 3271 baris.\n",
        "- Tidak ada nilai null pada setiap kolom.\n",
        "- Tipe data meliputi float64, int64, dan object.\n",
        "- Output ini memberikan gambaran umum tentang struktur dan sifat data yang sedang digunakan."
      ],
      "metadata": {
        "id": "BxzChJcJYoMC"
      }
    },
    {
      "cell_type": "markdown",
      "source": [
        "Kode tersebut menghapus baris dari suatu DataFrame yang memiliki nilai null. DataFrame adalah struktur data tabular dua dimensi yang umumnya digunakan dalam analisis data menggunakan library seperti pandas di Python. `data` dalam kode tersebut adalah nama DataFrame yang sedang dioperasikan.\n",
        "\n",
        "Pada baris pertama, `data.dropna()` digunakan untuk menghapus semua baris yang mengandung setidaknya satu nilai null dalam DataFrame `data`. Fungsi `dropna()` adalah metode bawaan dari pandas yang digunakan untuk menghilangkan baris atau kolom yang berisi nilai null.\n",
        "\n",
        "Kode tersebut efektif membersihkan DataFrame dari baris yang tidak memiliki nilai lengkap atau tidak ada data yang hilang. Penting untuk memperhatikan bahwa perubahan ini dilakukan pada DataFrame yang ada di memori, dan jika Anda ingin menyimpan perubahan tersebut, Anda perlu mengonfirmasinya dengan menyimpan DataFrame yang telah diubah ke variabel baru atau pada variabel yang sama."
      ],
      "metadata": {
        "id": "V-u3FK6VYwx3"
      }
    },
    {
      "cell_type": "code",
      "source": [
        "# Menghapus baris yang memiliki nilai null\n",
        "data= data.dropna()"
      ],
      "metadata": {
        "id": "Wfwy0UqeC4Xj"
      },
      "execution_count": 48,
      "outputs": []
    },
    {
      "cell_type": "markdown",
      "source": [
        "Kode tersebut mendefinisikan sebuah list yang disebut `features` yang berisi beberapa string yang mewakili nama-nama fitur. Setiap string dalam list ini mencerminkan jenis data atau informasi yang terkait dengan kondisi cuaca, seperti suhu pada pukul 9 pagi (`Temp9am`), suhu pada pukul 3 sore (`Temp3pm`), suhu minimum (`MinTemp`), suhu maksimum (`MaxTemp`), curah hujan (`Rainfall`), evaporasi (`Evaporation`), jumlah sinar matahari (`Sunshine`), kecepatan angin puncak (`WindGustSpeed`), kecepatan angin pada pukul 9 pagi (`WindSpeed9am`), kecepatan angin pada pukul 3 sore (`WindSpeed3pm`), kelembaban pada pukul 9 pagi (`Humidity9am`), kelembaban pada pukul 3 sore (`Humidity3pm`), tekanan udara pada pukul 9 pagi (`Pressure9am`), tekanan udara pada pukul 3 sore (`Pressure3pm`), jumlah awan pada pukul 9 pagi (`Cloud9am`), dan jumlah awan pada pukul 3 sore (`Cloud3pm`).\n",
        "\n",
        "Kode ini kemungkinan besar digunakan untuk pemrosesan atau analisis data cuaca, di mana fitur-fitur ini akan digunakan sebagai variabel input atau atribut dalam suatu model atau analisis statistik. List `features` ini dapat digunakan di berbagai macam konteks, seperti dalam pengembangan model prediksi cuaca, analisis tren cuaca, atau tugas-tugas lain yang melibatkan data cuaca."
      ],
      "metadata": {
        "id": "mcpqCTtuY18p"
      }
    },
    {
      "cell_type": "code",
      "source": [
        "# Memilih fitur yang akan digunakan\n",
        "features = ['Temp9am', 'Temp3pm', 'MinTemp', 'MaxTemp', 'Rainfall', 'Evaporation', 'Sunshine',\n",
        "            'WindGustSpeed', 'WindSpeed9am', 'WindSpeed3pm', 'Humidity9am', 'Humidity3pm',\n",
        "            'Pressure9am', 'Pressure3pm', 'Cloud9am', 'Cloud3pm']"
      ],
      "metadata": {
        "id": "8ZZCzo1xC9pz"
      },
      "execution_count": 49,
      "outputs": []
    },
    {
      "cell_type": "markdown",
      "source": [
        "Kode tersebut mendefinisikan variabel dengan nama \"target\" dan memberinya nilai string 'Rainfall'. Variabel ini kemungkinan besar digunakan sebagai suatu target atau tujuan dalam konteks program atau analisis data yang menggunakan kode tersebut. Penjelasan lebih lanjut tentang penggunaan variabel \"target\" ini dapat ditemukan di bagian-bagian selanjutnya dari kode atau program yang lebih luas. Perlu diingat bahwa informasi yang diberikan disesuaikan dengan konteks yang diberikan dan tidak memberikan detail tentang bagaimana variabel ini digunakan dalam konteks yang lebih besar. Selain itu, tidak ada informasi tentang lingkungan pengembangan yang digunakan, tetapi disebutkan bahwa kode ini ditulis atau dijalankan di Google Colab, yang merupakan platform berbasis cloud untuk pengembangan dan eksekusi kode Python."
      ],
      "metadata": {
        "id": "ADjiFF-lY721"
      }
    },
    {
      "cell_type": "code",
      "source": [
        "# Memilih target\n",
        "target = 'Rainfall'"
      ],
      "metadata": {
        "id": "VA5CQxplC_v8"
      },
      "execution_count": 50,
      "outputs": []
    },
    {
      "cell_type": "markdown",
      "source": [
        "Kode tersebut digunakan untuk memisahkan dataset menjadi dua bagian utama: satu untuk fitur (X) dan satu untuk target (y). Pemisahan ini umumnya dilakukan dalam konteks pembelajaran mesin, di mana X akan berisi variabel-variabel independen atau fitur-fitur yang akan digunakan untuk membuat prediksi, dan y akan berisi variabel dependen atau target yang ingin diprediksi.\n",
        "\n",
        "Berikut adalah penjelasan untuk setiap baris kode:\n",
        "\n",
        "1. `X = data[features]`: Dari dataset `data`, kita mengambil subset fitur-fitur yang akan digunakan untuk pembelajaran mesin. Variabel `features` berisi nama-nama fitur yang ingin dimasukkan ke dalam X. Jadi, X menjadi subset dari data yang hanya berisi kolom-kolom yang sesuai dengan fitur-fitur yang telah ditentukan.\n",
        "\n",
        "2. `y = data[target]`: Dari dataset `data` juga, kita mengambil kolom yang sesuai dengan target yang ingin diprediksi. Variabel `target` berisi nama target yang ingin diprediksi. Sehingga, y menjadi subset dari data yang hanya berisi kolom target.\n",
        "\n",
        "Pemisahan ini memungkinkan kita untuk dengan mudah mengakses fitur-fitur yang akan digunakan dalam pembelajaran mesin serta target yang akan diprediksi. Dengan cara ini, kita dapat menyusun data ke dalam bentuk yang sesuai untuk proses pelatihan dan evaluasi model pembelajaran mesin."
      ],
      "metadata": {
        "id": "jVz19IYYZBG9"
      }
    },
    {
      "cell_type": "code",
      "source": [
        "# Memisahkan fitur dan target\n",
        "X = data[features]\n",
        "y = data[target]\n"
      ],
      "metadata": {
        "id": "_cGVGrysDBur"
      },
      "execution_count": 51,
      "outputs": []
    },
    {
      "cell_type": "markdown",
      "source": [
        "Kode tersebut menggunakan fungsi `train_test_split` dari suatu pustaka (sepertinya scikit-learn) untuk membagi dataset menjadi data latih (X_train, y_train) dan data uji (X_test, y_test). Proses pembagian dilakukan dengan menggunakan parameter `test_size=0.2`, yang berarti data uji akan menyusun 20% dari keseluruhan dataset. Selain itu, parameter `random_state=42` digunakan untuk menghasilkan pembagian yang konsisten setiap kali kode dijalankan, sehingga hasilnya dapat direproduksi dengan mudah.\n",
        "\n",
        "Pada umumnya, X adalah matriks fitur atau input, dan y adalah vektor target atau output yang sesuai. Proses ini umumnya digunakan dalam pembelajaran mesin untuk mengevaluasi kinerja model pada data yang tidak terlihat selama pelatihan."
      ],
      "metadata": {
        "id": "6-2lM5E2ZGpq"
      }
    },
    {
      "cell_type": "code",
      "source": [
        "# Memisahkan data menjadi data latih dan data uji\n",
        "X_train, X_test, y_train, y_test = train_test_split(X, y, test_size=0.2, random_state=42)\n"
      ],
      "metadata": {
        "id": "cGHO_FXtDEwI"
      },
      "execution_count": 52,
      "outputs": []
    },
    {
      "cell_type": "markdown",
      "source": [
        "Kode tersebut merupakan implementasi dari sebuah model neural network menggunakan library Keras di Google Colab. Model ini memiliki tiga lapisan (layers) dengan jumlah neuron tertentu pada setiap lapisan. Berikut adalah penjelasan rinci dari setiap bagian kode:\n",
        "\n",
        "1. `model = Sequential()`: Membuat model neural network dengan urutan lapisan sekuensial.\n",
        "\n",
        "2. `model.add(Dense(64, input_dim=len(features), activation='relu'))`: Menambahkan lapisan Dense pertama dengan 64 neuron, mengambil input dengan jumlah dimensi yang sesuai dengan panjang fitur (features). Fungsi aktivasi yang digunakan adalah ReLU.\n",
        "\n",
        "3. `model.add(Dense(32, activation='relu'))`: Menambahkan lapisan Dense kedua dengan 32 neuron dan menggunakan fungsi aktivasi ReLU.\n",
        "\n",
        "4. `model.add(Dense(1, activation='linear'))`: Menambahkan lapisan Dense ketiga dengan satu neuron untuk output dan menggunakan fungsi aktivasi linear.\n",
        "\n",
        "Penjelasan singkat mengenai setiap lapisan:\n",
        "   - Lapisan pertama (`Dense(64, input_dim=len(features), activation='relu')`): Lapisan input dengan 64 neuron, menerima input sesuai dengan panjang fitur, dan menggunakan fungsi aktivasi ReLU.\n",
        "   - Lapisan kedua (`Dense(32, activation='relu')`): Lapisan tersembunyi dengan 32 neuron dan fungsi aktivasi ReLU.\n",
        "   - Lapisan ketiga (`Dense(1, activation='linear')`): Lapisan output dengan satu neuron dan fungsi aktivasi linear.\n",
        "\n",
        "Model ini dirancang untuk tugas regresi, di mana outputnya berupa nilai kontinu. Fungsi aktivasi ReLU digunakan di lapisan tersembunyi untuk memperkenalkan non-linearitas, sedangkan fungsi aktivasi linear pada lapisan output sesuai untuk tugas regresi."
      ],
      "metadata": {
        "id": "ncuYUVyrZLCJ"
      }
    },
    {
      "cell_type": "code",
      "source": [
        "# Membangun model neural network\n",
        "model = Sequential()\n",
        "model.add(Dense(64, input_dim=len(features), activation='relu'))\n",
        "model.add(Dense(32, activation='relu'))\n",
        "model.add(Dense(1, activation='linear'))"
      ],
      "metadata": {
        "id": "TjGZNbPjDGsT"
      },
      "execution_count": 53,
      "outputs": []
    },
    {
      "cell_type": "markdown",
      "source": [
        "Kode tersebut merupakan bagian dari proses kompilasi model dalam pembelajaran mesin menggunakan library Keras, yang mana Keras merupakan antarmuka tingkat tinggi untuk membangun dan melatih model neural networks.\n",
        "\n",
        "Pada kode di atas, model neural network dikompilasi dengan menggunaan optimizer 'adam' dan fungsi kerugian (loss function) 'mean_squared_error'. Optimizer dan fungsi kerugian ini adalah dua komponen kunci dalam proses pelatihan model.\n",
        "\n",
        "- Optimizer 'adam' digunakan untuk mengoptimalkan model dengan meminimalkan nilai fungsi kerugian. 'Adam' merupakan salah satu optimizer populer yang menggabungkan konsep dari metode-metode optimasi lainnya.\n",
        "  \n",
        "- Fungsi kerugian 'mean_squared_error' (MSE) digunakan untuk mengukur seberapa baik model memprediksi nilai target dengan membandingkan nilai prediksi dengan nilai sebenarnya dan menghitung rata-rata kuadrat dari selisihnya. Fungsi ini cocok untuk masalah regresi di mana tujuannya adalah untuk memprediksi nilai numerik.\n",
        "\n",
        "Dengan mengkompilasi model dengan optimizer dan fungsi kerugian yang sesuai, model siap untuk dilatih pada data pelatihan menggunakan metode backpropagation dan algoritma optimasi yang telah dipilih."
      ],
      "metadata": {
        "id": "2jS4-g6FZR16"
      }
    },
    {
      "cell_type": "code",
      "source": [
        "# Kompilasi model\n",
        "model.compile(optimizer='adam', loss='mean_squared_error')"
      ],
      "metadata": {
        "id": "NI3o8XXDDKge"
      },
      "execution_count": 54,
      "outputs": []
    },
    {
      "cell_type": "markdown",
      "source": [
        "Kode tersebut merupakan implementasi pelatihan (training) model menggunakan metode pembelajaran mesin (machine learning) dengan menggunakan library atau framework tertentu, mungkin dalam konteks ini menggunakan TensorFlow atau Keras. Berikut adalah penjelasan dari setiap bagian kode:\n",
        "\n",
        "1. `model.fit`: Ini adalah metode untuk melatih model. Melibatkan proses iteratif di mana model diperbarui berdasarkan data latih (training data) untuk meningkatkan performanya.\n",
        "\n",
        "2. `X_train` dan `y_train`: Merupakan data latih (features dan labels) yang digunakan untuk melatih model.\n",
        "\n",
        "3. `epochs=100`: Menunjukkan berapa kali seluruh dataset akan digunakan untuk melatih model. Dalam konteks ini, model akan dilatih sebanyak 100 kali.\n",
        "\n",
        "4. `batch_size=32`: Menentukan jumlah sampel data yang digunakan dalam satu iterasi. Dalam hal ini, model akan diperbarui setiap kali telah melihat 32 sampel data.\n",
        "\n",
        "5. `validation_data=(X_test, y_test)`: Data validasi digunakan untuk mengevaluasi model pada setiap epoch. Ini membantu memantau apakah model overfitting atau tidak.\n",
        "\n",
        "Selanjutnya, secara keseluruhan, kode tersebut mengindikasikan bahwa model akan dilatih menggunakan data latih `X_train` dan `y_train` sebanyak 100 epoch, dengan ukuran batch sebesar 32, dan akan dievaluasi menggunakan data validasi `X_test` dan `y_test` setiap epoch. Ini adalah bagian dari proses pengembangan dan penyesuaian model untuk mencapai kinerja yang baik pada data yang belum pernah dilihat sebelumnya (data validasi)."
      ],
      "metadata": {
        "id": "fwxwBzBAZXDJ"
      }
    },
    {
      "cell_type": "code",
      "source": [
        "# Melatih model\n",
        "model.fit(X_train, y_train, epochs=100, batch_size=32, validation_data=(X_test, y_test))"
      ],
      "metadata": {
        "colab": {
          "base_uri": "https://localhost:8080/"
        },
        "id": "SZQJwLnMDMMi",
        "outputId": "b98411d5-e56d-4844-bf43-22ef5b697d45"
      },
      "execution_count": 56,
      "outputs": [
        {
          "output_type": "stream",
          "name": "stdout",
          "text": [
            "Epoch 1/100\n",
            "82/82 [==============================] - 1s 6ms/step - loss: 0.1005 - val_loss: 0.0404\n",
            "Epoch 2/100\n",
            "82/82 [==============================] - 0s 5ms/step - loss: 0.1080 - val_loss: 0.0647\n",
            "Epoch 3/100\n",
            "82/82 [==============================] - 0s 5ms/step - loss: 0.0690 - val_loss: 0.0392\n",
            "Epoch 4/100\n",
            "82/82 [==============================] - 0s 5ms/step - loss: 0.1234 - val_loss: 0.2254\n",
            "Epoch 5/100\n",
            "82/82 [==============================] - 0s 5ms/step - loss: 0.2301 - val_loss: 0.0565\n",
            "Epoch 6/100\n",
            "82/82 [==============================] - 0s 5ms/step - loss: 0.0890 - val_loss: 0.1676\n",
            "Epoch 7/100\n",
            "82/82 [==============================] - 0s 4ms/step - loss: 0.0964 - val_loss: 1.1215\n",
            "Epoch 8/100\n",
            "82/82 [==============================] - 0s 3ms/step - loss: 0.3871 - val_loss: 0.0275\n",
            "Epoch 9/100\n",
            "82/82 [==============================] - 0s 3ms/step - loss: 0.0683 - val_loss: 0.0342\n",
            "Epoch 10/100\n",
            "82/82 [==============================] - 0s 3ms/step - loss: 0.1103 - val_loss: 0.0292\n",
            "Epoch 11/100\n",
            "82/82 [==============================] - 0s 4ms/step - loss: 0.1329 - val_loss: 0.2373\n",
            "Epoch 12/100\n",
            "82/82 [==============================] - 0s 3ms/step - loss: 0.1022 - val_loss: 0.0768\n",
            "Epoch 13/100\n",
            "82/82 [==============================] - 0s 3ms/step - loss: 0.0848 - val_loss: 0.0843\n",
            "Epoch 14/100\n",
            "82/82 [==============================] - 0s 3ms/step - loss: 0.4292 - val_loss: 3.5640\n",
            "Epoch 15/100\n",
            "82/82 [==============================] - 0s 3ms/step - loss: 3.1268 - val_loss: 0.0510\n",
            "Epoch 16/100\n",
            "82/82 [==============================] - 0s 3ms/step - loss: 0.0592 - val_loss: 0.0254\n",
            "Epoch 17/100\n",
            "82/82 [==============================] - 0s 3ms/step - loss: 0.0823 - val_loss: 0.0827\n",
            "Epoch 18/100\n",
            "82/82 [==============================] - 0s 4ms/step - loss: 0.0562 - val_loss: 0.1380\n",
            "Epoch 19/100\n",
            "82/82 [==============================] - 0s 3ms/step - loss: 0.0592 - val_loss: 0.0365\n",
            "Epoch 20/100\n",
            "82/82 [==============================] - 0s 3ms/step - loss: 0.0351 - val_loss: 0.0643\n",
            "Epoch 21/100\n",
            "82/82 [==============================] - 0s 3ms/step - loss: 0.0417 - val_loss: 0.0562\n",
            "Epoch 22/100\n",
            "82/82 [==============================] - 0s 3ms/step - loss: 0.0267 - val_loss: 0.0798\n",
            "Epoch 23/100\n",
            "82/82 [==============================] - 0s 3ms/step - loss: 0.0453 - val_loss: 0.0135\n",
            "Epoch 24/100\n",
            "82/82 [==============================] - 0s 3ms/step - loss: 0.0374 - val_loss: 0.0106\n",
            "Epoch 25/100\n",
            "82/82 [==============================] - 0s 4ms/step - loss: 0.0335 - val_loss: 0.0291\n",
            "Epoch 26/100\n",
            "82/82 [==============================] - 0s 3ms/step - loss: 0.1088 - val_loss: 0.0950\n",
            "Epoch 27/100\n",
            "82/82 [==============================] - 0s 3ms/step - loss: 0.1369 - val_loss: 0.0331\n",
            "Epoch 28/100\n",
            "82/82 [==============================] - 0s 3ms/step - loss: 0.1033 - val_loss: 0.0121\n",
            "Epoch 29/100\n",
            "82/82 [==============================] - 0s 3ms/step - loss: 0.1398 - val_loss: 0.1371\n",
            "Epoch 30/100\n",
            "82/82 [==============================] - 0s 4ms/step - loss: 0.1233 - val_loss: 0.0257\n",
            "Epoch 31/100\n",
            "82/82 [==============================] - 0s 5ms/step - loss: 0.1714 - val_loss: 0.0151\n",
            "Epoch 32/100\n",
            "82/82 [==============================] - 0s 5ms/step - loss: 0.1273 - val_loss: 0.0084\n",
            "Epoch 33/100\n",
            "82/82 [==============================] - 0s 3ms/step - loss: 0.1227 - val_loss: 0.1903\n",
            "Epoch 34/100\n",
            "82/82 [==============================] - 1s 7ms/step - loss: 0.0928 - val_loss: 0.0232\n",
            "Epoch 35/100\n",
            "82/82 [==============================] - 0s 3ms/step - loss: 0.2225 - val_loss: 0.0308\n",
            "Epoch 36/100\n",
            "82/82 [==============================] - 1s 6ms/step - loss: 0.0691 - val_loss: 0.1066\n",
            "Epoch 37/100\n",
            "82/82 [==============================] - 0s 4ms/step - loss: 0.1585 - val_loss: 0.3261\n",
            "Epoch 38/100\n",
            "82/82 [==============================] - 0s 3ms/step - loss: 0.1622 - val_loss: 0.0251\n",
            "Epoch 39/100\n",
            "82/82 [==============================] - 0s 3ms/step - loss: 0.0840 - val_loss: 0.0079\n",
            "Epoch 40/100\n",
            "82/82 [==============================] - 0s 5ms/step - loss: 0.1664 - val_loss: 0.0345\n",
            "Epoch 41/100\n",
            "82/82 [==============================] - 0s 4ms/step - loss: 0.1041 - val_loss: 0.3441\n",
            "Epoch 42/100\n",
            "82/82 [==============================] - 0s 4ms/step - loss: 0.1466 - val_loss: 0.0987\n",
            "Epoch 43/100\n",
            "82/82 [==============================] - 0s 5ms/step - loss: 0.0941 - val_loss: 0.0087\n",
            "Epoch 44/100\n",
            "82/82 [==============================] - 0s 5ms/step - loss: 0.2035 - val_loss: 0.0058\n",
            "Epoch 45/100\n",
            "82/82 [==============================] - 0s 4ms/step - loss: 0.1639 - val_loss: 0.1070\n",
            "Epoch 46/100\n",
            "82/82 [==============================] - 0s 4ms/step - loss: 0.1064 - val_loss: 0.0382\n",
            "Epoch 47/100\n",
            "82/82 [==============================] - 0s 4ms/step - loss: 0.0719 - val_loss: 0.0705\n",
            "Epoch 48/100\n",
            "82/82 [==============================] - 0s 5ms/step - loss: 0.1268 - val_loss: 0.1253\n",
            "Epoch 49/100\n",
            "82/82 [==============================] - 0s 5ms/step - loss: 0.1498 - val_loss: 0.0355\n",
            "Epoch 50/100\n",
            "82/82 [==============================] - 0s 5ms/step - loss: 0.1969 - val_loss: 0.1297\n",
            "Epoch 51/100\n",
            "82/82 [==============================] - 0s 5ms/step - loss: 0.0589 - val_loss: 0.0057\n",
            "Epoch 52/100\n",
            "82/82 [==============================] - 0s 5ms/step - loss: 0.1347 - val_loss: 0.1600\n",
            "Epoch 53/100\n",
            "82/82 [==============================] - 0s 5ms/step - loss: 0.1268 - val_loss: 0.3148\n",
            "Epoch 54/100\n",
            "82/82 [==============================] - 0s 5ms/step - loss: 0.1843 - val_loss: 0.0444\n",
            "Epoch 55/100\n",
            "82/82 [==============================] - 0s 5ms/step - loss: 0.1337 - val_loss: 0.1430\n",
            "Epoch 56/100\n",
            "82/82 [==============================] - 0s 5ms/step - loss: 0.0505 - val_loss: 0.0846\n",
            "Epoch 57/100\n",
            "82/82 [==============================] - 0s 4ms/step - loss: 0.1510 - val_loss: 0.1317\n",
            "Epoch 58/100\n",
            "82/82 [==============================] - 0s 3ms/step - loss: 0.1488 - val_loss: 0.1087\n",
            "Epoch 59/100\n",
            "82/82 [==============================] - 0s 3ms/step - loss: 0.1348 - val_loss: 0.0353\n",
            "Epoch 60/100\n",
            "82/82 [==============================] - 0s 3ms/step - loss: 0.1049 - val_loss: 0.1394\n",
            "Epoch 61/100\n",
            "82/82 [==============================] - 0s 3ms/step - loss: 0.0929 - val_loss: 0.0041\n",
            "Epoch 62/100\n",
            "82/82 [==============================] - 0s 3ms/step - loss: 0.1296 - val_loss: 0.5041\n",
            "Epoch 63/100\n",
            "82/82 [==============================] - 0s 4ms/step - loss: 0.1312 - val_loss: 0.1643\n",
            "Epoch 64/100\n",
            "82/82 [==============================] - 0s 3ms/step - loss: 0.0826 - val_loss: 0.2319\n",
            "Epoch 65/100\n",
            "82/82 [==============================] - 0s 3ms/step - loss: 0.1884 - val_loss: 0.0254\n",
            "Epoch 66/100\n",
            "82/82 [==============================] - 0s 3ms/step - loss: 0.1032 - val_loss: 0.0031\n",
            "Epoch 67/100\n",
            "82/82 [==============================] - 0s 3ms/step - loss: 0.1168 - val_loss: 0.2064\n",
            "Epoch 68/100\n",
            "82/82 [==============================] - 0s 3ms/step - loss: 0.1212 - val_loss: 0.0046\n",
            "Epoch 69/100\n",
            "82/82 [==============================] - 0s 3ms/step - loss: 0.1569 - val_loss: 0.4249\n",
            "Epoch 70/100\n",
            "82/82 [==============================] - 0s 3ms/step - loss: 0.0771 - val_loss: 0.0186\n",
            "Epoch 71/100\n",
            "82/82 [==============================] - 0s 3ms/step - loss: 0.0875 - val_loss: 0.0051\n",
            "Epoch 72/100\n",
            "82/82 [==============================] - 0s 3ms/step - loss: 0.2009 - val_loss: 0.0329\n",
            "Epoch 73/100\n",
            "82/82 [==============================] - 0s 3ms/step - loss: 0.0628 - val_loss: 0.0210\n",
            "Epoch 74/100\n",
            "82/82 [==============================] - 0s 3ms/step - loss: 0.1304 - val_loss: 0.1163\n",
            "Epoch 75/100\n",
            "82/82 [==============================] - 0s 3ms/step - loss: 0.0510 - val_loss: 0.1311\n",
            "Epoch 76/100\n",
            "82/82 [==============================] - 0s 3ms/step - loss: 0.2632 - val_loss: 0.1197\n",
            "Epoch 77/100\n",
            "82/82 [==============================] - 0s 3ms/step - loss: 0.0638 - val_loss: 0.0033\n",
            "Epoch 78/100\n",
            "82/82 [==============================] - 0s 3ms/step - loss: 0.1091 - val_loss: 0.0128\n",
            "Epoch 79/100\n",
            "82/82 [==============================] - 0s 3ms/step - loss: 0.0822 - val_loss: 0.0682\n",
            "Epoch 80/100\n",
            "82/82 [==============================] - 0s 3ms/step - loss: 0.0888 - val_loss: 0.0209\n",
            "Epoch 81/100\n",
            "82/82 [==============================] - 0s 3ms/step - loss: 0.1584 - val_loss: 0.0088\n",
            "Epoch 82/100\n",
            "82/82 [==============================] - 0s 3ms/step - loss: 0.1632 - val_loss: 0.0478\n",
            "Epoch 83/100\n",
            "82/82 [==============================] - 0s 3ms/step - loss: 0.0544 - val_loss: 0.0948\n",
            "Epoch 84/100\n",
            "82/82 [==============================] - 0s 3ms/step - loss: 0.0993 - val_loss: 0.0692\n",
            "Epoch 85/100\n",
            "82/82 [==============================] - 0s 3ms/step - loss: 0.1511 - val_loss: 0.0125\n",
            "Epoch 86/100\n",
            "82/82 [==============================] - 0s 3ms/step - loss: 0.0993 - val_loss: 0.0675\n",
            "Epoch 87/100\n",
            "82/82 [==============================] - 0s 3ms/step - loss: 0.0869 - val_loss: 0.7072\n",
            "Epoch 88/100\n",
            "82/82 [==============================] - 0s 3ms/step - loss: 0.0789 - val_loss: 0.4328\n",
            "Epoch 89/100\n",
            "82/82 [==============================] - 0s 3ms/step - loss: 0.1699 - val_loss: 0.0598\n",
            "Epoch 90/100\n",
            "82/82 [==============================] - 0s 4ms/step - loss: 0.0949 - val_loss: 0.0074\n",
            "Epoch 91/100\n",
            "82/82 [==============================] - 0s 3ms/step - loss: 0.0715 - val_loss: 0.0606\n",
            "Epoch 92/100\n",
            "82/82 [==============================] - 0s 3ms/step - loss: 0.1095 - val_loss: 0.0246\n",
            "Epoch 93/100\n",
            "82/82 [==============================] - 0s 3ms/step - loss: 0.3024 - val_loss: 0.0534\n",
            "Epoch 94/100\n",
            "82/82 [==============================] - 0s 4ms/step - loss: 0.0227 - val_loss: 0.0061\n",
            "Epoch 95/100\n",
            "82/82 [==============================] - 0s 5ms/step - loss: 0.0083 - val_loss: 0.0059\n",
            "Epoch 96/100\n",
            "82/82 [==============================] - 0s 5ms/step - loss: 0.0935 - val_loss: 0.0622\n",
            "Epoch 97/100\n",
            "82/82 [==============================] - 0s 5ms/step - loss: 0.1374 - val_loss: 0.0051\n",
            "Epoch 98/100\n",
            "82/82 [==============================] - 0s 5ms/step - loss: 0.1202 - val_loss: 0.0268\n",
            "Epoch 99/100\n",
            "82/82 [==============================] - 0s 5ms/step - loss: 0.0739 - val_loss: 0.6111\n",
            "Epoch 100/100\n",
            "82/82 [==============================] - 0s 5ms/step - loss: 0.1690 - val_loss: 0.0100\n"
          ]
        },
        {
          "output_type": "execute_result",
          "data": {
            "text/plain": [
              "<keras.src.callbacks.History at 0x79d26061d540>"
            ]
          },
          "metadata": {},
          "execution_count": 56
        }
      ]
    },
    {
      "cell_type": "markdown",
      "source": [
        "Output tersebut merupakan hasil dari pelatihan (training) model dengan 100 epoch. Setiap epoch menunjukkan nilai loss pada data pelatihan (`loss`) dan data validasi (`val_loss`). Berikut adalah penjelasan dari setiap baris output:\n",
        "\n",
        "- `Epoch 1/100`: Ini menunjukkan bahwa model sedang berada pada epoch pertama dari total 100 epoch yang telah ditentukan.\n",
        "- `82/82 [==============================]`: Ini memberikan informasi tentang progress pelatihan. Jumlah 82 mengindikasikan iterasi atau batch yang telah diproses, dan [==============================] adalah tanda visual yang menunjukkan seberapa banyak pelatihan telah selesai.\n",
        "- `- 1s 6ms/step - loss: 0.1005 - val_loss: 0.0404`: Informasi ini menyajikan metrik pelatihan. `loss: 0.1005` adalah nilai loss pada data pelatihan pada epoch tersebut, dan `val_loss: 0.0404` adalah nilai loss pada data validasi pada epoch tersebut.\n",
        "- `Epoch 2/100`: Ini menunjukkan bahwa model telah memasuki epoch kedua dari total 100 epoch.\n",
        "- `82/82 [==============================] - 0s 5ms/step - loss: 0.1080 - val_loss: 0.0647`: Seperti sebelumnya, ini memberikan informasi tentang progress dan metrik pelatihan pada epoch kedua.\n",
        "- Output serupa untuk setiap epoch selanjutnya, hingga epoch ke-100.\n",
        "\n",
        "Setelah pelatihan selesai, output terakhir menunjukkan bahwa model telah selesai dilatih dengan nilai loss terakhir pada data pelatihan sekitar 0.1690 dan nilai loss pada data validasi sekitar 0.0100. Itu ditunjukkan oleh bagian `Epoch 100/100 - ... - loss: 0.1690 - val_loss: 0.0100`. Model yang telah dilatih kemudian dapat digunakan untuk membuat prediksi pada data baru."
      ],
      "metadata": {
        "id": "V2BS_sWHZcu4"
      }
    },
    {
      "cell_type": "markdown",
      "source": [
        "Kode ini dimaksudkan untuk membuat prediksi menggunakan model yang telah dilatih sebelumnya untuk memprediksi curah hujan berdasarkan data cuaca. Berikut adalah penjelasan langkah demi langkah dari kode tersebut:\n",
        "\n",
        "1. **Import Library**: Memasukkan library yang diperlukan, dalam hal ini, numpy untuk manipulasi array dan model machine learning, serta StandardScaler dari scikit-learn untuk normalisasi data.\n",
        "\n",
        "```python\n",
        "import numpy as np\n",
        "from sklearn.preprocessing import StandardScaler\n",
        "```\n",
        "\n",
        "2. **Data Baru**: Membuat array numpy yang merepresentasikan data baru yang akan diprediksi. Data ini memiliki 16 fitur.\n",
        "\n",
        "```python\n",
        "new_data = np.array([[-0.5, 0.3, -1.0, 1.5, 0.0, 2.0, 8.0, 30.0, 10.0, 15.0, 70.0, 40.0, 1010.0, 1005.0, 5.0, 4.0]])\n",
        "```\n",
        "\n",
        "3. **Objek Scaler Baru**: Membuat objek StandardScaler baru yang akan digunakan untuk normalisasi data baru.\n",
        "\n",
        "```python\n",
        "new_scaler = StandardScaler()\n",
        "```\n",
        "\n",
        "4. **Pelatihan Scaler**: Melatih scaler baru dengan menggunakan data pelatihan (X_train).\n",
        "\n",
        "```python\n",
        "new_scaler.fit(X_train)\n",
        "```\n",
        "\n",
        "5. **Normalisasi Data Baru**: Melakukan normalisasi terhadap data baru menggunakan scaler yang telah dilatih.\n",
        "\n",
        "```python\n",
        "scaled_new_data = new_scaler.transform(new_data)\n",
        "```\n",
        "\n",
        "6. **Prediksi**: Menggunakan model yang telah dilatih sebelumnya untuk membuat prediksi terhadap data baru yang sudah dinormalisasi.\n",
        "\n",
        "```python\n",
        "prediction = model.predict(scaled_new_data)\n",
        "```\n",
        "\n",
        "7. **Output**: Menampilkan hasil prediksi.\n",
        "\n",
        "```python\n",
        "print(f'Predicted Rainfall: {prediction[0][0]}')\n",
        "```\n",
        "\n",
        "Dengan menggunakan langkah-langkah tersebut, kode ini mengilustrasikan proses mempersiapkan data baru, normalisasi data, dan akhirnya membuat prediksi menggunakan model machine learning yang telah dilatih sebelumnya."
      ],
      "metadata": {
        "id": "BYevu0WeZlrK"
      }
    },
    {
      "cell_type": "code",
      "source": [
        "# Contoh prediksi untuk data baru\n",
        "new_data = np.array([[-0.5, 0.3, -1.0, 1.5, 0.0, 2.0, 8.0, 30.0, 10.0, 15.0, 70.0, 40.0, 1010.0, 1005.0, 5.0, 4.0]])\n",
        "\n",
        "# Membuat objek scaler baru\n",
        "new_scaler = StandardScaler()\n",
        "\n",
        "# Melatih scaler baru dengan data pelatihan\n",
        "new_scaler.fit(X_train)\n",
        "\n",
        "# Normalisasi data baru\n",
        "scaled_new_data = new_scaler.transform(new_data)\n",
        "\n",
        "# Prediksi menggunakan model\n",
        "prediction = model.predict(scaled_new_data)\n",
        "print(f'Predicted Rainfall: {prediction[0][0]}')\n"
      ],
      "metadata": {
        "colab": {
          "base_uri": "https://localhost:8080/"
        },
        "id": "IdPyv8gsDtvP",
        "outputId": "b81f1370-1465-42a7-eb0b-39af7d9a387f"
      },
      "execution_count": 60,
      "outputs": [
        {
          "output_type": "stream",
          "name": "stderr",
          "text": [
            "/usr/local/lib/python3.10/dist-packages/sklearn/base.py:439: UserWarning: X does not have valid feature names, but StandardScaler was fitted with feature names\n",
            "  warnings.warn(\n"
          ]
        },
        {
          "output_type": "stream",
          "name": "stdout",
          "text": [
            "1/1 [==============================] - 0s 240ms/step\n",
            "Predicted Rainfall: 0.742160439491272\n"
          ]
        }
      ]
    },
    {
      "cell_type": "markdown",
      "source": [
        "Output tersebut terdiri dari dua bagian: pesan peringatan (warning) yang berasal dari scikit-learn dan hasil prediksi curah hujan.\n",
        "\n",
        "1. **Pesan Peringatan (Warning)**:\n",
        "\n",
        "   ```\n",
        "   /usr/local/lib/python3.10/dist-packages/sklearn/base.py:439: UserWarning: X does not have valid feature names, but StandardScaler was fitted with feature names\n",
        "     warnings.warn(\n",
        "   ```\n",
        "\n",
        "   Pesan ini memberikan peringatan kepada pengguna bahwa data yang digunakan untuk normalisasi (X_train) tidak memiliki nama fitur yang valid. Dalam konteks ini, StandardScaler dapat diinstruksikan dengan nama fitur untuk setiap kolom pada data, namun, karena data yang digunakan untuk pelatihan (X_train) tidak memiliki nama fitur yang valid, peringatan ini dihasilkan. Peringatan ini sendiri tidak mempengaruhi proses prediksi secara langsung, tetapi dapat diabaikan jika nama fitur tidak kritis dalam analisis.\n",
        "\n",
        "2. **Hasil Prediksi**:\n",
        "\n",
        "   ```\n",
        "   1/1 [==============================] - 0s 240ms/step\n",
        "   Predicted Rainfall: 0.742160439491272\n",
        "   ```\n",
        "\n",
        "   Bagian ini menunjukkan hasil prediksi dari model terhadap data baru setelah normalisasi. Dalam kasus ini, hasil prediksi curah hujan adalah sekitar 0.742. Nilai ini sesuai dengan apa yang dicetak dalam kode:\n",
        "\n",
        "   ```python\n",
        "   print(f'Predicted Rainfall: {prediction[0][0]}')\n",
        "   ```\n",
        "\n",
        "   Hasil ini menunjukkan jumlah curah hujan yang diprediksi oleh model untuk data baru yang diberikan setelah melalui proses normalisasi."
      ],
      "metadata": {
        "id": "dQyNJ1CKZtbJ"
      }
    }
  ]
}