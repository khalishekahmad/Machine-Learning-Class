{
  "nbformat": 4,
  "nbformat_minor": 0,
  "metadata": {
    "colab": {
      "provenance": []
    },
    "kernelspec": {
      "name": "python3",
      "display_name": "Python 3"
    },
    "language_info": {
      "name": "python"
    }
  },
  "cells": [
    {
      "cell_type": "markdown",
      "source": [
        "# **Daffa Asyqar Ahmad Khalisheka**\n",
        "\n",
        "# **1103200034**\n",
        "\n",
        "# **Machine Learning Class**\n",
        "\n",
        "# **Telkom University**"
      ],
      "metadata": {
        "id": "o6ascclg0MBW"
      }
    },
    {
      "cell_type": "markdown",
      "source": [
        "Code di atas digunakan untuk mengimpor library dari Google Colab yang memungkinkan akses ke Google Drive. Selanjutnya, drive.mount('/content/drive') digunakan untuk memasang Google Drive pada direktori /content/drive di lingkungan Google Colab."
      ],
      "metadata": {
        "id": "AGOf1kLbJH81"
      }
    },
    {
      "cell_type": "code",
      "execution_count": 1,
      "metadata": {
        "colab": {
          "base_uri": "https://localhost:8080/"
        },
        "id": "f3jbvl9_E5by",
        "outputId": "a927e97f-6ac1-431c-93af-b51c0d88c029"
      },
      "outputs": [
        {
          "output_type": "stream",
          "name": "stdout",
          "text": [
            "Mounted at /content/drive\n"
          ]
        }
      ],
      "source": [
        "# Import library Google Colab untuk mengakses Google Drive\n",
        "from google.colab import drive\n",
        "\n",
        "# Mount (pasang) Google Drive pada direktori /content/drive\n",
        "drive.mount('/content/drive')"
      ]
    },
    {
      "cell_type": "markdown",
      "source": [
        "Code ini adalah sebuah script Python yang digunakan untuk melakukan pemrosesan data dan pembuatan model menggunakan algoritma Neural Network (MLP) untuk klasifikasi. Berikut adalah penjelasan langkah-langkahnya:\n",
        "\n",
        "1. Mengimpor library yang diperlukan: pandas untuk manipulasi data, train_test_split untuk membagi dataset menjadi data latih dan data uji, StandardScaler untuk penskalaan fitur, LabelEncoder untuk mengubah label kategori menjadi bilangan bulat, accuracy_score untuk mengukur akurasi model, dan MLPClassifier sebagai implementasi Multi-Layer Perceptron untuk klasifikasi.\n",
        "\n",
        "2. Langkah pertama adalah mengimpor dataset atau data yang akan digunakan untuk pelatihan dan pengujian model. Dataset tersebut kemungkinan besar berupa data yang telah disimpan dalam format yang dapat diolah oleh pandas, seperti CSV atau Excel.\n",
        "\n",
        "3. Membagi dataset menjadi data latih dan data uji menggunakan fungsi train_test_split. Data latih digunakan untuk melatih model, sedangkan data uji digunakan untuk menguji kinerja model yang telah dilatih.\n",
        "\n",
        "4. Melakukan penskalaan fitur menggunakan StandardScaler. Hal ini penting untuk memastikan bahwa semua fitur memiliki skala yang seragam, sehingga model dapat belajar dengan baik.\n",
        "\n",
        "5. Menggunakan LabelEncoder untuk mengubah label kategori menjadi bilangan bulat. Ini diperlukan karena sebagian besar algoritma machine learning memerlukan input label dalam bentuk numerik.\n",
        "\n",
        "6. Membuat objek MLPClassifier sebagai model Neural Network untuk klasifikasi.\n",
        "\n",
        "7. Melakukan pelatihan model menggunakan data latih yang telah diproses sebelumnya.\n",
        "\n",
        "8. Menggunakan model yang telah dilatih untuk melakukan prediksi pada data uji.\n",
        "\n",
        "9. Mengukur akurasi model dengan membandingkan prediksi model dengan label sebenarnya menggunakan accuracy_score.\n",
        "\n",
        "Secara keseluruhan, code ini digunakan untuk membangun, melatih, dan menguji model Neural Network untuk tugas klasifikasi pada dataset tertentu."
      ],
      "metadata": {
        "id": "6kI7XiAHJJKa"
      }
    },
    {
      "cell_type": "code",
      "source": [
        "# Import library yang diperlukan\n",
        "import pandas as pd\n",
        "from sklearn.model_selection import train_test_split\n",
        "from sklearn.preprocessing import StandardScaler, LabelEncoder\n",
        "from sklearn.metrics import accuracy_score\n",
        "from sklearn.neural_network import MLPClassifier"
      ],
      "metadata": {
        "id": "gnhsc-XkI4G-"
      },
      "execution_count": 3,
      "outputs": []
    },
    {
      "cell_type": "markdown",
      "source": [
        "Code di atas membaca file CSV yang berisi data dan menyimpannya ke dalam sebuah DataFrame menggunakan library pandas. Path file CSV yang dibaca adalah '/content/drive/MyDrive/Dataset/Weather_Data.csv'. Data tersebut kemudian dimuat ke dalam variabel `data`."
      ],
      "metadata": {
        "id": "ZbKytncTJqHX"
      }
    },
    {
      "cell_type": "code",
      "source": [
        "#Membaca file CSV yang berisi data ke dalam sebuah DataFrame\n",
        "data = pd.read_csv('/content/drive/MyDrive/Dataset/Weather_Data.csv')"
      ],
      "metadata": {
        "id": "crHGgnnZI6Qk"
      },
      "execution_count": 4,
      "outputs": []
    },
    {
      "cell_type": "markdown",
      "source": [
        "Code ini digunakan untuk menampilkan lima baris pertama dari dataset yang disimpan dalam variabel bernama \"data.\" Pemanggilan fungsi \"head()\" digunakan untuk mengambil sejumlah baris pertama dari dataset tersebut, dan outputnya ditampilkan sebagai hasil eksekusi code."
      ],
      "metadata": {
        "id": "ACK0HuraJxK4"
      }
    },
    {
      "cell_type": "code",
      "source": [
        "#Menampilkan isi dari dataset\n",
        "data.head()"
      ],
      "metadata": {
        "colab": {
          "base_uri": "https://localhost:8080/",
          "height": 429
        },
        "id": "G_h47prp_5pC",
        "outputId": "a747078e-69ab-47a6-b5f8-08e40e6253e9"
      },
      "execution_count": 5,
      "outputs": [
        {
          "output_type": "execute_result",
          "data": {
            "text/plain": [
              "       Date  Temp9am  Temp3pm  MinTemp  MaxTemp  Rainfall RainToday  \\\n",
              "0  01-02-13     20.7     20.9     19.5     22.4      15.6       Yes   \n",
              "1  02-02-13     22.4     24.8     19.5     25.6       6.0       Yes   \n",
              "2  03-02-13     23.5     23.0     21.6     24.5       6.6       Yes   \n",
              "3  04-02-13     21.4     20.9     20.2     22.8      18.8       Yes   \n",
              "4  05-02-13     22.5     25.5     19.7     25.7      77.4       Yes   \n",
              "\n",
              "   Evaporation  Sunshine WindGustDir  ...  WindDir9am WindDir3pm WindSpeed9am  \\\n",
              "0          6.2       0.0           W  ...           S        SSW           17   \n",
              "1          3.4       2.7           W  ...           W          E            9   \n",
              "2          2.4       0.1           W  ...         ESE        ESE           17   \n",
              "3          2.2       0.0           W  ...         NNE          E           22   \n",
              "4          4.8       0.0           W  ...         NNE          W           11   \n",
              "\n",
              "   WindSpeed3pm  Humidity9am  Humidity3pm  Pressure9am  Pressure3pm  Cloud9am  \\\n",
              "0            20           92           84       1017.6       1017.4         8   \n",
              "1            13           83           73       1017.9       1016.4         7   \n",
              "2             2           88           86       1016.7       1015.6         7   \n",
              "3            20           83           90       1014.2       1011.8         8   \n",
              "4             6           88           74       1008.3       1004.8         8   \n",
              "\n",
              "   Cloud3pm  \n",
              "0         8  \n",
              "1         7  \n",
              "2         8  \n",
              "3         8  \n",
              "4         8  \n",
              "\n",
              "[5 rows x 21 columns]"
            ],
            "text/html": [
              "\n",
              "  <div id=\"df-f5bf6953-3a34-403f-a96e-74d2b01fb1ff\" class=\"colab-df-container\">\n",
              "    <div>\n",
              "<style scoped>\n",
              "    .dataframe tbody tr th:only-of-type {\n",
              "        vertical-align: middle;\n",
              "    }\n",
              "\n",
              "    .dataframe tbody tr th {\n",
              "        vertical-align: top;\n",
              "    }\n",
              "\n",
              "    .dataframe thead th {\n",
              "        text-align: right;\n",
              "    }\n",
              "</style>\n",
              "<table border=\"1\" class=\"dataframe\">\n",
              "  <thead>\n",
              "    <tr style=\"text-align: right;\">\n",
              "      <th></th>\n",
              "      <th>Date</th>\n",
              "      <th>Temp9am</th>\n",
              "      <th>Temp3pm</th>\n",
              "      <th>MinTemp</th>\n",
              "      <th>MaxTemp</th>\n",
              "      <th>Rainfall</th>\n",
              "      <th>RainToday</th>\n",
              "      <th>Evaporation</th>\n",
              "      <th>Sunshine</th>\n",
              "      <th>WindGustDir</th>\n",
              "      <th>...</th>\n",
              "      <th>WindDir9am</th>\n",
              "      <th>WindDir3pm</th>\n",
              "      <th>WindSpeed9am</th>\n",
              "      <th>WindSpeed3pm</th>\n",
              "      <th>Humidity9am</th>\n",
              "      <th>Humidity3pm</th>\n",
              "      <th>Pressure9am</th>\n",
              "      <th>Pressure3pm</th>\n",
              "      <th>Cloud9am</th>\n",
              "      <th>Cloud3pm</th>\n",
              "    </tr>\n",
              "  </thead>\n",
              "  <tbody>\n",
              "    <tr>\n",
              "      <th>0</th>\n",
              "      <td>01-02-13</td>\n",
              "      <td>20.7</td>\n",
              "      <td>20.9</td>\n",
              "      <td>19.5</td>\n",
              "      <td>22.4</td>\n",
              "      <td>15.6</td>\n",
              "      <td>Yes</td>\n",
              "      <td>6.2</td>\n",
              "      <td>0.0</td>\n",
              "      <td>W</td>\n",
              "      <td>...</td>\n",
              "      <td>S</td>\n",
              "      <td>SSW</td>\n",
              "      <td>17</td>\n",
              "      <td>20</td>\n",
              "      <td>92</td>\n",
              "      <td>84</td>\n",
              "      <td>1017.6</td>\n",
              "      <td>1017.4</td>\n",
              "      <td>8</td>\n",
              "      <td>8</td>\n",
              "    </tr>\n",
              "    <tr>\n",
              "      <th>1</th>\n",
              "      <td>02-02-13</td>\n",
              "      <td>22.4</td>\n",
              "      <td>24.8</td>\n",
              "      <td>19.5</td>\n",
              "      <td>25.6</td>\n",
              "      <td>6.0</td>\n",
              "      <td>Yes</td>\n",
              "      <td>3.4</td>\n",
              "      <td>2.7</td>\n",
              "      <td>W</td>\n",
              "      <td>...</td>\n",
              "      <td>W</td>\n",
              "      <td>E</td>\n",
              "      <td>9</td>\n",
              "      <td>13</td>\n",
              "      <td>83</td>\n",
              "      <td>73</td>\n",
              "      <td>1017.9</td>\n",
              "      <td>1016.4</td>\n",
              "      <td>7</td>\n",
              "      <td>7</td>\n",
              "    </tr>\n",
              "    <tr>\n",
              "      <th>2</th>\n",
              "      <td>03-02-13</td>\n",
              "      <td>23.5</td>\n",
              "      <td>23.0</td>\n",
              "      <td>21.6</td>\n",
              "      <td>24.5</td>\n",
              "      <td>6.6</td>\n",
              "      <td>Yes</td>\n",
              "      <td>2.4</td>\n",
              "      <td>0.1</td>\n",
              "      <td>W</td>\n",
              "      <td>...</td>\n",
              "      <td>ESE</td>\n",
              "      <td>ESE</td>\n",
              "      <td>17</td>\n",
              "      <td>2</td>\n",
              "      <td>88</td>\n",
              "      <td>86</td>\n",
              "      <td>1016.7</td>\n",
              "      <td>1015.6</td>\n",
              "      <td>7</td>\n",
              "      <td>8</td>\n",
              "    </tr>\n",
              "    <tr>\n",
              "      <th>3</th>\n",
              "      <td>04-02-13</td>\n",
              "      <td>21.4</td>\n",
              "      <td>20.9</td>\n",
              "      <td>20.2</td>\n",
              "      <td>22.8</td>\n",
              "      <td>18.8</td>\n",
              "      <td>Yes</td>\n",
              "      <td>2.2</td>\n",
              "      <td>0.0</td>\n",
              "      <td>W</td>\n",
              "      <td>...</td>\n",
              "      <td>NNE</td>\n",
              "      <td>E</td>\n",
              "      <td>22</td>\n",
              "      <td>20</td>\n",
              "      <td>83</td>\n",
              "      <td>90</td>\n",
              "      <td>1014.2</td>\n",
              "      <td>1011.8</td>\n",
              "      <td>8</td>\n",
              "      <td>8</td>\n",
              "    </tr>\n",
              "    <tr>\n",
              "      <th>4</th>\n",
              "      <td>05-02-13</td>\n",
              "      <td>22.5</td>\n",
              "      <td>25.5</td>\n",
              "      <td>19.7</td>\n",
              "      <td>25.7</td>\n",
              "      <td>77.4</td>\n",
              "      <td>Yes</td>\n",
              "      <td>4.8</td>\n",
              "      <td>0.0</td>\n",
              "      <td>W</td>\n",
              "      <td>...</td>\n",
              "      <td>NNE</td>\n",
              "      <td>W</td>\n",
              "      <td>11</td>\n",
              "      <td>6</td>\n",
              "      <td>88</td>\n",
              "      <td>74</td>\n",
              "      <td>1008.3</td>\n",
              "      <td>1004.8</td>\n",
              "      <td>8</td>\n",
              "      <td>8</td>\n",
              "    </tr>\n",
              "  </tbody>\n",
              "</table>\n",
              "<p>5 rows × 21 columns</p>\n",
              "</div>\n",
              "    <div class=\"colab-df-buttons\">\n",
              "\n",
              "  <div class=\"colab-df-container\">\n",
              "    <button class=\"colab-df-convert\" onclick=\"convertToInteractive('df-f5bf6953-3a34-403f-a96e-74d2b01fb1ff')\"\n",
              "            title=\"Convert this dataframe to an interactive table.\"\n",
              "            style=\"display:none;\">\n",
              "\n",
              "  <svg xmlns=\"http://www.w3.org/2000/svg\" height=\"24px\" viewBox=\"0 -960 960 960\">\n",
              "    <path d=\"M120-120v-720h720v720H120Zm60-500h600v-160H180v160Zm220 220h160v-160H400v160Zm0 220h160v-160H400v160ZM180-400h160v-160H180v160Zm440 0h160v-160H620v160ZM180-180h160v-160H180v160Zm440 0h160v-160H620v160Z\"/>\n",
              "  </svg>\n",
              "    </button>\n",
              "\n",
              "  <style>\n",
              "    .colab-df-container {\n",
              "      display:flex;\n",
              "      gap: 12px;\n",
              "    }\n",
              "\n",
              "    .colab-df-convert {\n",
              "      background-color: #E8F0FE;\n",
              "      border: none;\n",
              "      border-radius: 50%;\n",
              "      cursor: pointer;\n",
              "      display: none;\n",
              "      fill: #1967D2;\n",
              "      height: 32px;\n",
              "      padding: 0 0 0 0;\n",
              "      width: 32px;\n",
              "    }\n",
              "\n",
              "    .colab-df-convert:hover {\n",
              "      background-color: #E2EBFA;\n",
              "      box-shadow: 0px 1px 2px rgba(60, 64, 67, 0.3), 0px 1px 3px 1px rgba(60, 64, 67, 0.15);\n",
              "      fill: #174EA6;\n",
              "    }\n",
              "\n",
              "    .colab-df-buttons div {\n",
              "      margin-bottom: 4px;\n",
              "    }\n",
              "\n",
              "    [theme=dark] .colab-df-convert {\n",
              "      background-color: #3B4455;\n",
              "      fill: #D2E3FC;\n",
              "    }\n",
              "\n",
              "    [theme=dark] .colab-df-convert:hover {\n",
              "      background-color: #434B5C;\n",
              "      box-shadow: 0px 1px 3px 1px rgba(0, 0, 0, 0.15);\n",
              "      filter: drop-shadow(0px 1px 2px rgba(0, 0, 0, 0.3));\n",
              "      fill: #FFFFFF;\n",
              "    }\n",
              "  </style>\n",
              "\n",
              "    <script>\n",
              "      const buttonEl =\n",
              "        document.querySelector('#df-f5bf6953-3a34-403f-a96e-74d2b01fb1ff button.colab-df-convert');\n",
              "      buttonEl.style.display =\n",
              "        google.colab.kernel.accessAllowed ? 'block' : 'none';\n",
              "\n",
              "      async function convertToInteractive(key) {\n",
              "        const element = document.querySelector('#df-f5bf6953-3a34-403f-a96e-74d2b01fb1ff');\n",
              "        const dataTable =\n",
              "          await google.colab.kernel.invokeFunction('convertToInteractive',\n",
              "                                                    [key], {});\n",
              "        if (!dataTable) return;\n",
              "\n",
              "        const docLinkHtml = 'Like what you see? Visit the ' +\n",
              "          '<a target=\"_blank\" href=https://colab.research.google.com/notebooks/data_table.ipynb>data table notebook</a>'\n",
              "          + ' to learn more about interactive tables.';\n",
              "        element.innerHTML = '';\n",
              "        dataTable['output_type'] = 'display_data';\n",
              "        await google.colab.output.renderOutput(dataTable, element);\n",
              "        const docLink = document.createElement('div');\n",
              "        docLink.innerHTML = docLinkHtml;\n",
              "        element.appendChild(docLink);\n",
              "      }\n",
              "    </script>\n",
              "  </div>\n",
              "\n",
              "\n",
              "<div id=\"df-7215bea0-10c4-4244-9069-43ff01c8b4e1\">\n",
              "  <button class=\"colab-df-quickchart\" onclick=\"quickchart('df-7215bea0-10c4-4244-9069-43ff01c8b4e1')\"\n",
              "            title=\"Suggest charts\"\n",
              "            style=\"display:none;\">\n",
              "\n",
              "<svg xmlns=\"http://www.w3.org/2000/svg\" height=\"24px\"viewBox=\"0 0 24 24\"\n",
              "     width=\"24px\">\n",
              "    <g>\n",
              "        <path d=\"M19 3H5c-1.1 0-2 .9-2 2v14c0 1.1.9 2 2 2h14c1.1 0 2-.9 2-2V5c0-1.1-.9-2-2-2zM9 17H7v-7h2v7zm4 0h-2V7h2v10zm4 0h-2v-4h2v4z\"/>\n",
              "    </g>\n",
              "</svg>\n",
              "  </button>\n",
              "\n",
              "<style>\n",
              "  .colab-df-quickchart {\n",
              "      --bg-color: #E8F0FE;\n",
              "      --fill-color: #1967D2;\n",
              "      --hover-bg-color: #E2EBFA;\n",
              "      --hover-fill-color: #174EA6;\n",
              "      --disabled-fill-color: #AAA;\n",
              "      --disabled-bg-color: #DDD;\n",
              "  }\n",
              "\n",
              "  [theme=dark] .colab-df-quickchart {\n",
              "      --bg-color: #3B4455;\n",
              "      --fill-color: #D2E3FC;\n",
              "      --hover-bg-color: #434B5C;\n",
              "      --hover-fill-color: #FFFFFF;\n",
              "      --disabled-bg-color: #3B4455;\n",
              "      --disabled-fill-color: #666;\n",
              "  }\n",
              "\n",
              "  .colab-df-quickchart {\n",
              "    background-color: var(--bg-color);\n",
              "    border: none;\n",
              "    border-radius: 50%;\n",
              "    cursor: pointer;\n",
              "    display: none;\n",
              "    fill: var(--fill-color);\n",
              "    height: 32px;\n",
              "    padding: 0;\n",
              "    width: 32px;\n",
              "  }\n",
              "\n",
              "  .colab-df-quickchart:hover {\n",
              "    background-color: var(--hover-bg-color);\n",
              "    box-shadow: 0 1px 2px rgba(60, 64, 67, 0.3), 0 1px 3px 1px rgba(60, 64, 67, 0.15);\n",
              "    fill: var(--button-hover-fill-color);\n",
              "  }\n",
              "\n",
              "  .colab-df-quickchart-complete:disabled,\n",
              "  .colab-df-quickchart-complete:disabled:hover {\n",
              "    background-color: var(--disabled-bg-color);\n",
              "    fill: var(--disabled-fill-color);\n",
              "    box-shadow: none;\n",
              "  }\n",
              "\n",
              "  .colab-df-spinner {\n",
              "    border: 2px solid var(--fill-color);\n",
              "    border-color: transparent;\n",
              "    border-bottom-color: var(--fill-color);\n",
              "    animation:\n",
              "      spin 1s steps(1) infinite;\n",
              "  }\n",
              "\n",
              "  @keyframes spin {\n",
              "    0% {\n",
              "      border-color: transparent;\n",
              "      border-bottom-color: var(--fill-color);\n",
              "      border-left-color: var(--fill-color);\n",
              "    }\n",
              "    20% {\n",
              "      border-color: transparent;\n",
              "      border-left-color: var(--fill-color);\n",
              "      border-top-color: var(--fill-color);\n",
              "    }\n",
              "    30% {\n",
              "      border-color: transparent;\n",
              "      border-left-color: var(--fill-color);\n",
              "      border-top-color: var(--fill-color);\n",
              "      border-right-color: var(--fill-color);\n",
              "    }\n",
              "    40% {\n",
              "      border-color: transparent;\n",
              "      border-right-color: var(--fill-color);\n",
              "      border-top-color: var(--fill-color);\n",
              "    }\n",
              "    60% {\n",
              "      border-color: transparent;\n",
              "      border-right-color: var(--fill-color);\n",
              "    }\n",
              "    80% {\n",
              "      border-color: transparent;\n",
              "      border-right-color: var(--fill-color);\n",
              "      border-bottom-color: var(--fill-color);\n",
              "    }\n",
              "    90% {\n",
              "      border-color: transparent;\n",
              "      border-bottom-color: var(--fill-color);\n",
              "    }\n",
              "  }\n",
              "</style>\n",
              "\n",
              "  <script>\n",
              "    async function quickchart(key) {\n",
              "      const quickchartButtonEl =\n",
              "        document.querySelector('#' + key + ' button');\n",
              "      quickchartButtonEl.disabled = true;  // To prevent multiple clicks.\n",
              "      quickchartButtonEl.classList.add('colab-df-spinner');\n",
              "      try {\n",
              "        const charts = await google.colab.kernel.invokeFunction(\n",
              "            'suggestCharts', [key], {});\n",
              "      } catch (error) {\n",
              "        console.error('Error during call to suggestCharts:', error);\n",
              "      }\n",
              "      quickchartButtonEl.classList.remove('colab-df-spinner');\n",
              "      quickchartButtonEl.classList.add('colab-df-quickchart-complete');\n",
              "    }\n",
              "    (() => {\n",
              "      let quickchartButtonEl =\n",
              "        document.querySelector('#df-7215bea0-10c4-4244-9069-43ff01c8b4e1 button');\n",
              "      quickchartButtonEl.style.display =\n",
              "        google.colab.kernel.accessAllowed ? 'block' : 'none';\n",
              "    })();\n",
              "  </script>\n",
              "</div>\n",
              "    </div>\n",
              "  </div>\n"
            ]
          },
          "metadata": {},
          "execution_count": 5
        }
      ]
    },
    {
      "cell_type": "markdown",
      "source": [
        "Output di atas merupakan tampilan dari lima baris pertama dari dataset. Setiap baris mewakili data yang terkait dengan pengamatan pada tanggal tertentu. Kolom-kolom tersebut mencakup informasi seperti tanggal, suhu pada pukul 9 pagi (Temp9am) dan 3 sore (Temp3pm), suhu minimal (MinTemp) dan maksimal (MaxTemp), jumlah curah hujan (Rainfall), apakah hujan hari ini (RainToday), evaporasi (Evaporation), jumlah jam matahari (Sunshine), arah dan kecepatan angin pada pukul 9 pagi dan 3 sore, kelembaban pada pukul 9 pagi dan 3 sore, tekanan udara pada pukul 9 pagi dan 3 sore, dan informasi awan pada pukul 9 pagi dan 3 sore (Cloud9am dan Cloud3pm)."
      ],
      "metadata": {
        "id": "fRDPrWAKJ_JD"
      }
    },
    {
      "cell_type": "markdown",
      "source": [
        "Code tersebut digunakan untuk menampilkan fitur atau kolom-kolom yang ada dalam dataset. `data.columns` mengembalikan daftar dengan nama-nama kolom yang ada dalam dataset, dan kemudian hasilnya dicetak menggunakan fungsi `print`."
      ],
      "metadata": {
        "id": "1KqoTUGBKAV3"
      }
    },
    {
      "cell_type": "code",
      "source": [
        "# Tampilkan fitur dalam dataset\n",
        "print(data.columns)"
      ],
      "metadata": {
        "colab": {
          "base_uri": "https://localhost:8080/"
        },
        "id": "5Mm7enIR-9NA",
        "outputId": "3441d96b-8165-4015-c1df-40f7702d1c04"
      },
      "execution_count": 6,
      "outputs": [
        {
          "output_type": "stream",
          "name": "stdout",
          "text": [
            "Index(['Date', 'Temp9am', 'Temp3pm', 'MinTemp', 'MaxTemp', 'Rainfall',\n",
            "       'RainToday', 'Evaporation', 'Sunshine', 'WindGustDir', 'WindGustSpeed',\n",
            "       'WindDir9am', 'WindDir3pm', 'WindSpeed9am', 'WindSpeed3pm',\n",
            "       'Humidity9am', 'Humidity3pm', 'Pressure9am', 'Pressure3pm', 'Cloud9am',\n",
            "       'Cloud3pm'],\n",
            "      dtype='object')\n"
          ]
        }
      ]
    },
    {
      "cell_type": "markdown",
      "source": [
        "Output di atas menunjukkan nama-nama kolom atau fitur dalam dataset. Berikut adalah penjelasan singkat untuk setiap kolom:\n",
        "\n",
        "1. **Date**: Menunjukkan tanggal pengamatan.\n",
        "2. **Temp9am**: Suhu pada pukul 9 pagi.\n",
        "3. **Temp3pm**: Suhu pada pukul 3 sore.\n",
        "4. **MinTemp**: Suhu minimum pada hari itu.\n",
        "5. **MaxTemp**: Suhu maksimum pada hari itu.\n",
        "6. **Rainfall**: Jumlah curah hujan dalam milimeter.\n",
        "7. **RainToday**: Menunjukkan apakah hujan terjadi hari itu (Yes/No).\n",
        "8. **Evaporation**: Penguapan dalam milimeter.\n",
        "9. **Sunshine**: Jumlah jam sinar matahari.\n",
        "10. **WindGustDir**: Arah angin pada kejadian angin kencang.\n",
        "11. **WindGustSpeed**: Kecepatan angin saat terjadi angin kencang.\n",
        "12. **WindDir9am**: Arah angin pada pukul 9 pagi.\n",
        "13. **WindDir3pm**: Arah angin pada pukul 3 sore.\n",
        "14. **WindSpeed9am**: Kecepatan angin pada pukul 9 pagi.\n",
        "15. **WindSpeed3pm**: Kecepatan angin pada pukul 3 sore.\n",
        "16. **Humidity9am**: Kelembapan pada pukul 9 pagi.\n",
        "17. **Humidity3pm**: Kelembapan pada pukul 3 sore.\n",
        "18. **Pressure9am**: Tekanan udara pada pukul 9 pagi.\n",
        "19. **Pressure3pm**: Tekanan udara pada pukul 3 sore.\n",
        "20. **Cloud9am**: Jumlah awan pada pukul 9 pagi.\n",
        "21. **Cloud3pm**: Jumlah awan pada pukul 3 sore.\n",
        "\n",
        "Jenis data (dtype) untuk setiap kolom tidak ditampilkan dalam output tersebut. Dalam analisis data yang lebih mendalam, informasi tersebut dapat penting untuk memahami dan memanipulasi data dengan benar."
      ],
      "metadata": {
        "id": "biYi9KMEKEvE"
      }
    },
    {
      "cell_type": "markdown",
      "source": [
        "Kode tersebut mengakses metode `info()` pada objek yang disebut 'data'. Metode ini digunakan untuk memberikan informasi yang lengkap tentang struktur dan karakteristik objek data tersebut. Metode `info()` biasanya digunakan pada objek data seperti DataFrame dalam library pandas pada bahasa pemrograman Python. Kode ini akan memberikan output yang mencakup informasi seperti jumlah kolom, nama kolom, tipe data setiap kolom, jumlah nilai non-null, dan penggunaan memori oleh objek data tersebut. Informasi ini sangat bermanfaat untuk memahami dan menganalisis data yang sedang diproses."
      ],
      "metadata": {
        "id": "0kR32AjqKP5O"
      }
    },
    {
      "cell_type": "code",
      "source": [
        "# Ini adalah kode untuk menampilkan informasi tentang objek 'data'\n",
        "data.info()"
      ],
      "metadata": {
        "colab": {
          "base_uri": "https://localhost:8080/"
        },
        "id": "Di9QIcbm_g_T",
        "outputId": "5569166c-1cf2-40f4-f001-c590c16cb9af"
      },
      "execution_count": 7,
      "outputs": [
        {
          "output_type": "stream",
          "name": "stdout",
          "text": [
            "<class 'pandas.core.frame.DataFrame'>\n",
            "RangeIndex: 3271 entries, 0 to 3270\n",
            "Data columns (total 21 columns):\n",
            " #   Column         Non-Null Count  Dtype  \n",
            "---  ------         --------------  -----  \n",
            " 0   Date           3271 non-null   object \n",
            " 1   Temp9am        3271 non-null   float64\n",
            " 2   Temp3pm        3271 non-null   float64\n",
            " 3   MinTemp        3271 non-null   float64\n",
            " 4   MaxTemp        3271 non-null   float64\n",
            " 5   Rainfall       3271 non-null   float64\n",
            " 6   RainToday      3271 non-null   object \n",
            " 7   Evaporation    3271 non-null   float64\n",
            " 8   Sunshine       3271 non-null   float64\n",
            " 9   WindGustDir    3271 non-null   object \n",
            " 10  WindGustSpeed  3271 non-null   int64  \n",
            " 11  WindDir9am     3271 non-null   object \n",
            " 12  WindDir3pm     3271 non-null   object \n",
            " 13  WindSpeed9am   3271 non-null   int64  \n",
            " 14  WindSpeed3pm   3271 non-null   int64  \n",
            " 15  Humidity9am    3271 non-null   int64  \n",
            " 16  Humidity3pm    3271 non-null   int64  \n",
            " 17  Pressure9am    3271 non-null   float64\n",
            " 18  Pressure3pm    3271 non-null   float64\n",
            " 19  Cloud9am       3271 non-null   int64  \n",
            " 20  Cloud3pm       3271 non-null   int64  \n",
            "dtypes: float64(9), int64(7), object(5)\n",
            "memory usage: 536.8+ KB\n"
          ]
        }
      ]
    },
    {
      "cell_type": "markdown",
      "source": [
        "Output di atas memberikan informasi rinci tentang sebuah DataFrame dalam library pandas pada bahasa pemrograman Python. Berikut adalah penjelasan dari setiap bagian output tersebut:\n",
        "\n",
        "1. **Class 'pandas.core.frame.DataFrame':**\n",
        "   - Menunjukkan bahwa objek ini adalah suatu DataFrame dalam library pandas.\n",
        "\n",
        "2. **RangeIndex: 3271 entries, 0 to 3270:**\n",
        "   - Menunjukkan bahwa DataFrame ini memiliki RangeIndex dengan total 3271 baris, dimulai dari indeks 0 hingga 3270.\n",
        "\n",
        "3. **Data columns (total 21 columns):**\n",
        "   - Memberikan informasi bahwa DataFrame ini memiliki 21 kolom.\n",
        "\n",
        "4. **Column Information:**\n",
        "   - Setiap kolom dijelaskan dengan detail sebagai berikut:\n",
        "     - **Column:** Nama kolom.\n",
        "     - **Non-Null Count:** Jumlah nilai non-null dalam kolom.\n",
        "     - **Dtype:** Tipe data kolom.\n",
        "\n",
        "5. **dtypes:**\n",
        "   - Memberikan informasi tentang tipe data dari keseluruhan DataFrame, termasuk jumlah kolom untuk setiap tipe data.\n",
        "\n",
        "6. **memory usage: 536.8+ KB:**\n",
        "   - Menunjukkan penggunaan memori oleh DataFrame, dalam hal ini sekitar 536.8 kilobyte.\n",
        "\n",
        "Ringkasnya, output ini memberikan gambaran lengkap tentang struktur DataFrame, termasuk jumlah baris dan kolom, informasi tentang setiap kolom seperti nama, jumlah nilai non-null, dan tipe datanya, serta penggunaan memori oleh DataFrame tersebut. Output ini berguna untuk memahami dan menganalisis data yang dimuat dalam DataFrame."
      ],
      "metadata": {
        "id": "hKSMdVHAKUnO"
      }
    },
    {
      "cell_type": "markdown",
      "source": [
        "```python\n",
        "# Menghapus baris yang memiliki nilai null\n",
        "data = data.dropna()\n",
        "```\n",
        "\n",
        "Code tersebut berfungsi untuk menghapus baris atau entri dalam dataset yang mengandung nilai null atau NaN (Not a Number). `data` merupakan nama variabel yang menampung dataset, dan fungsi `dropna()` digunakan untuk menghapus baris yang mengandung setidaknya satu nilai null. Operasi ini bertujuan untuk membersihkan dataset dari data yang tidak lengkap atau tidak tersedia sehingga analisis atau pemrosesan data selanjutnya dapat dilakukan dengan data yang lebih lengkap dan akurat."
      ],
      "metadata": {
        "id": "45arf8vfKfI0"
      }
    },
    {
      "cell_type": "code",
      "source": [
        "# Menghapus baris yang memiliki nilai null\n",
        "data= data.dropna()"
      ],
      "metadata": {
        "id": "Wfwy0UqeC4Xj"
      },
      "execution_count": 8,
      "outputs": []
    },
    {
      "cell_type": "markdown",
      "source": [
        "Code tersebut digunakan untuk memisahkan fitur (X) dan target (y) dari suatu dataset. Variabel `X` akan berisi data yang tidak termasuk kolom yang disebutkan dalam fungsi `drop` (dalam hal ini, kolom 'Rainfall'), sementara variabel `y` akan berisi data dari kolom yang disebutkan (dalam hal ini, 'RainToday'). Hal ini berguna dalam persiapan data untuk pemodelan, di mana fitur-fitur akan digunakan untuk memprediksi target. Code tersebut mengasumsikan penggunaan Google Colab, suatu lingkungan komputasi berbasis cloud untuk pemrograman Python."
      ],
      "metadata": {
        "id": "DZIrxMtuKkrK"
      }
    },
    {
      "cell_type": "code",
      "source": [
        "# Pisahkan fitur (X) dan target (y)\n",
        "X = data.drop('Rainfall', axis=1)  # Ganti 'RainTomorrow' dengan nama kolom target yang sesuai\n",
        "y = data['RainToday']\n"
      ],
      "metadata": {
        "id": "Bh-FDkaXFbqA"
      },
      "execution_count": 13,
      "outputs": []
    },
    {
      "cell_type": "markdown",
      "source": [
        "Potongan kode yang diberikan menggunakan kelas `LabelEncoder` dari scikit-learn untuk melakukan encoding pada variabel kategori dalam DataFrame `X`. Secara khusus, variabel 'RainToday', 'WindGustDir', 'WindDir9am', dan 'WindDir3pm' di-encode. Metode `fit_transform` diterapkan pada setiap kolom untuk mengonfigurasi encoder dan mengubah nilai kategori menjadi label numerik. Proses ini umumnya digunakan dalam pembelajaran mesin untuk mengonversi data kategori ke dalam format yang dapat digunakan oleh algoritma pembelajaran mesin, karena banyak algoritma bekerja dengan input numerik. Nilai-nilai yang telah diencode kemudian diberikan kembali ke kolom-kolom mereka yang sesuai dalam DataFrame. Kode ini berguna untuk mempersiapkan data kategori agar dapat digunakan oleh model pembelajaran mesin."
      ],
      "metadata": {
        "id": "ID7wrV0TKrMd"
      }
    },
    {
      "cell_type": "code",
      "source": [
        "# Lakukan encoding untuk variabel kategori\n",
        "le = LabelEncoder()\n",
        "X['RainToday'] = le.fit_transform(X['RainToday'])\n",
        "X['WindGustDir'] = le.fit_transform(X['WindGustDir'])\n",
        "X['WindDir9am'] = le.fit_transform(X['WindDir9am'])\n",
        "X['WindDir3pm'] = le.fit_transform(X['WindDir3pm'])"
      ],
      "metadata": {
        "id": "9YPzbHKOF2qo"
      },
      "execution_count": 14,
      "outputs": []
    },
    {
      "cell_type": "markdown",
      "source": [
        "Kode tersebut menggunakan fungsi `train_test_split` dari pustaka scikit-learn untuk membagi suatu dataset menjadi dua bagian: data latih dan data uji. Dataset ini terdiri dari fitur (X) dan label (y). Pembagian dilakukan dengan ukuran data uji sebesar 20%, yang berarti 80% data akan digunakan untuk melatih model, dan 20% untuk menguji model. Parameter `random_state` digunakan untuk memastikan reproduktibilitas dengan menetapkan seed untuk generator angka acak. Hasil pemisahan disimpan dalam variabel `X_train`, `X_test`, `y_train`, dan `y_test`. Ini merupakan praktik umum dalam pembelajaran mesin untuk mengevaluasi kinerja model pada data yang tidak terlihat selama pelatihan. Kode tersebut diasumsikan dijalankan di lingkungan Google Colab."
      ],
      "metadata": {
        "id": "BR3TsrDvKwdG"
      }
    },
    {
      "cell_type": "code",
      "source": [
        "# Bagi dataset menjadi data latih dan data uji\n",
        "X_train, X_test, y_train, y_test = train_test_split(X, y, test_size=0.2, random_state=42)\n"
      ],
      "metadata": {
        "id": "NGZy0Xr2F4sp"
      },
      "execution_count": 15,
      "outputs": []
    },
    {
      "cell_type": "markdown",
      "source": [
        "```python\n",
        "print(X_train.dtypes)\n",
        "```\n",
        "\n",
        "Code ini digunakan untuk mencetak jenis data (tipe data) dari setiap kolom dalam DataFrame `X_train`. Ini membantu dalam memahami tipe data yang digunakan dalam setiap kolom, seperti apakah itu integer, float, string, atau tipe data lainnya. Output dari code ini akan memberikan informasi tentang jenis data yang ada dalam setiap kolom dari DataFrame tersebut."
      ],
      "metadata": {
        "id": "SdLSG3IbK2-3"
      }
    },
    {
      "cell_type": "code",
      "source": [
        "print(X_train.dtypes)\n"
      ],
      "metadata": {
        "colab": {
          "base_uri": "https://localhost:8080/"
        },
        "id": "66iwBGloGm-W",
        "outputId": "f4ca7150-9a7f-4085-d8a8-7bfb0fd8757f"
      },
      "execution_count": 23,
      "outputs": [
        {
          "output_type": "stream",
          "name": "stdout",
          "text": [
            "Temp9am          float64\n",
            "Temp3pm          float64\n",
            "MinTemp          float64\n",
            "MaxTemp          float64\n",
            "RainToday          int64\n",
            "Evaporation      float64\n",
            "Sunshine         float64\n",
            "WindGustDir       object\n",
            "WindGustSpeed      int64\n",
            "WindDir9am        object\n",
            "WindDir3pm        object\n",
            "WindSpeed9am       int64\n",
            "WindSpeed3pm       int64\n",
            "Humidity9am        int64\n",
            "Humidity3pm        int64\n",
            "Pressure9am      float64\n",
            "Pressure3pm      float64\n",
            "Cloud9am           int64\n",
            "Cloud3pm           int64\n",
            "dtype: object\n"
          ]
        }
      ]
    },
    {
      "cell_type": "markdown",
      "source": [
        "Output di atas adalah hasil dari pemanggilan `print(X_train.dtypes)` pada suatu DataFrame, yang menunjukkan jenis data (tipe data) dari setiap kolom dalam DataFrame tersebut. Berikut adalah penjelasan singkat untuk setiap kolom:\n",
        "\n",
        "1. `Temp9am`, `Temp3pm`, `MinTemp`, `MaxTemp`, `Evaporation`, `Sunshine`, `Pressure9am`, `Pressure3pm`: Kolom-kolom ini memiliki tipe data float64, yang menunjukkan bahwa nilai-nilai dalam kolom tersebut berupa bilangan pecahan.\n",
        "\n",
        "2. `RainToday`, `WindGustSpeed`, `WindSpeed9am`, `WindSpeed3pm`, `Humidity9am`, `Humidity3pm`, `Cloud9am`, `Cloud3pm`: Kolom-kolom ini memiliki tipe data int64, yang menunjukkan bahwa nilai-nilai dalam kolom tersebut berupa bilangan bulat.\n",
        "\n",
        "3. `WindGustDir`, `WindDir9am`, `WindDir3pm`: Kolom-kolom ini memiliki tipe data object, yang mungkin menunjukkan bahwa nilai-nilai dalam kolom tersebut adalah string atau data kategorikal.\n",
        "\n",
        "Dengan mengetahui jenis data setiap kolom, kita dapat memahami format data apa yang diharapkan dan melakukan pengolahan data yang sesuai. Misalnya, kolom-kolom dengan tipe data object mungkin perlu diubah menjadi tipe data kategorikal atau diolah lebih lanjut untuk analisis data."
      ],
      "metadata": {
        "id": "zt0ge75YLCQA"
      }
    },
    {
      "cell_type": "markdown",
      "source": [
        "Kode tersebut menggunakan pustaka pandas untuk membuat DataFrames dari array NumPy X_train dan X_test dengan nama kolom yang dibuat secara dinamis. Kolom kategorikal diidentifikasi dan di-encode dengan one-hot encoding. Set uji kemudian dimodifikasi agar memiliki kolom yang sama dengan set pelatihan setelah one-hot encoding. Terakhir, fitur-fitur dinormalisasi menggunakan StandardScaler dari scikit-learn."
      ],
      "metadata": {
        "id": "kW1RuLV4LDyP"
      }
    },
    {
      "cell_type": "code",
      "source": [
        "import pandas as pd\n",
        "from sklearn.preprocessing import StandardScaler\n",
        "\n",
        "# Assuming you have X_train and X_test as NumPy arrays\n",
        "column_names = [f\"Feature_{i}\" for i in range(X_train.shape[1])]\n",
        "\n",
        "# Convert X_train and X_test to DataFrames with dynamically generated column names\n",
        "X_train_df = pd.DataFrame(X_train, columns=column_names)\n",
        "X_test_df = pd.DataFrame(X_test, columns=column_names)  # Ensure the same columns as X_train\n",
        "\n",
        "# Identify and one-hot encode categorical columns\n",
        "categorical_cols = X_train_df.select_dtypes(include=['object']).columns\n",
        "X_train_df = pd.get_dummies(X_train_df, columns=categorical_cols, drop_first=True)\n",
        "X_test_df = pd.get_dummies(X_test_df, columns=categorical_cols, drop_first=True)\n",
        "\n",
        "# Ensure that the test set has the same columns as the training set after one-hot encoding\n",
        "missing_cols = set(X_train_df.columns) - set(X_test_df.columns)\n",
        "for col in missing_cols:\n",
        "    X_test_df[col] = 0\n",
        "\n",
        "# Standardize the features\n",
        "scaler = StandardScaler()\n",
        "X_train_scaled = scaler.fit_transform(X_train_df)\n",
        "X_test_scaled = scaler.transform(X_test_df)\n",
        "\n"
      ],
      "metadata": {
        "id": "CfhdoQmSGpzE"
      },
      "execution_count": 29,
      "outputs": []
    },
    {
      "cell_type": "markdown",
      "source": [
        "Kode yang diberikan adalah sebuah skrip Python yang menggunakan pustaka scikit-learn untuk pra-pemrosesan data dalam suatu pipa garis pembelajaran mesin. Berikut adalah penjelasan rinci dari setiap bagian:\n",
        "\n",
        "1. Mengimpor pustaka yang diperlukan:\n",
        "   - `LabelEncoder` dan `StandardScaler` dari `sklearn.preprocessing`\n",
        "   - `train_test_split` dari `sklearn.model_selection`\n",
        "\n",
        "2. Memilih kolom numerik untuk distandardisasi:\n",
        "   - Mengidentifikasi kolom numerik dalam data masukan `X` menggunakan `select_dtypes`.\n",
        "   - Membuat DataFrame baru `X_numeric` yang hanya berisi kolom numerik.\n",
        "\n",
        "3. Membagi dataset menjadi set pelatihan dan pengujian:\n",
        "   - Menggunakan `train_test_split` untuk membagi data menjadi set pelatihan dan pengujian (`X_train`, `X_test`, `y_train`, `y_test`).\n",
        "   - Rasio pembagian adalah 80% untuk pelatihan dan 20% untuk pengujian, dan `random_state` diatur agar hasil dapat direproduksi.\n",
        "\n",
        "4. Mengkodekan nilai kategorikal dalam kolom 'RainToday':\n",
        "   - Menggunakan `LabelEncoder` (`le`) untuk mentransformasi nilai kategorikal dalam kolom 'RainToday' dari set pelatihan dan pengujian menjadi nilai numerik.\n",
        "   - Transformasi diterapkan pada set pelatihan dan pengujian secara terpisah.\n",
        "\n",
        "5. Menstandardisasi fitur numerik:\n",
        "   - Menggunakan `StandardScaler` (`scaler`) untuk menstandardisasi fitur numerik dari set pelatihan dan pengujian.\n",
        "   - `fit_transform` digunakan pada set pelatihan untuk menghitung rata-rata dan deviasi standar untuk standardisasi dan menerapkan transformasi.\n",
        "   - `transform` digunakan pada set pengujian untuk menerapkan transformasi yang sama menggunakan parameter yang dipelajari dari set pelatihan.\n",
        "\n",
        "Catatan: Kode mengasumsikan bahwa data masukan (`X`) memiliki kolom bernama 'RainToday' yang berisi nilai kategorikal. Pastikan data yang diperlukan sudah dimuat sebelum menjalankan kode ini. Selain itu, tampaknya ada masalah dengan mengubah `X_train` dan `X_test` langsung saat mengkodekan nilai kategorikal. Lebih aman untuk membuat salinan DataFrame sebelum melakukan modifikasi tersebut untuk menghindari efek samping potensial."
      ],
      "metadata": {
        "id": "yMk2EaXdLIug"
      }
    },
    {
      "cell_type": "code",
      "source": [
        "from sklearn.preprocessing import LabelEncoder, StandardScaler\n",
        "from sklearn.model_selection import train_test_split\n",
        "\n",
        "# Exclude non-numeric columns from standardization\n",
        "numeric_cols = X.select_dtypes(include='number').columns\n",
        "X_numeric = X[numeric_cols]\n",
        "\n",
        "# Split the dataset into training and testing sets\n",
        "X_train, X_test, y_train, y_test = train_test_split(X_numeric, y, test_size=0.2, random_state=42)\n",
        "\n",
        "# Encode categorical values in 'RainToday' column\n",
        "le = LabelEncoder()\n",
        "X_train['RainToday'] = le.fit_transform(X_train['RainToday'])\n",
        "X_test['RainToday'] = le.transform(X_test['RainToday'])\n",
        "\n",
        "# Standardize the numeric features\n",
        "scaler = StandardScaler()\n",
        "X_train_scaled = scaler.fit_transform(X_train)\n",
        "X_test_scaled = scaler.transform(X_test)\n"
      ],
      "metadata": {
        "id": "4Ejn9orzGILN"
      },
      "execution_count": 31,
      "outputs": []
    },
    {
      "cell_type": "markdown",
      "source": [
        "Kode yang diberikan menggunakan pustaka scikit-learn untuk melakukan pra-pemrosesan data dan pembagian data latih dan uji untuk model pembelajaran mesin. Kode tersebut mengasumsikan adanya DataFrame dengan nama 'data' yang berisi fitur dan variabel target ('RainToday'). Tujuannya adalah untuk mempersiapkan data untuk melatih model pembelajaran mesin dengan menghapus kolom non-numerik, membagi data menjadi set latih dan uji, serta menstandarisasi fitur numerik menggunakan StandardScaler dari scikit-learn. Parameter random_state diatur untuk reproduksibilitas. Harap dicatat bahwa kode ini dimaksudkan untuk dieksekusi di lingkungan seperti Jupyter notebook atau Google Colab."
      ],
      "metadata": {
        "id": "0sDlQ-_gLS0K"
      }
    },
    {
      "cell_type": "code",
      "source": [
        "from sklearn.preprocessing import StandardScaler\n",
        "from sklearn.model_selection import train_test_split\n",
        "\n",
        "# Assuming you have a DataFrame 'data' with features and target\n",
        "# Exclude non-numeric columns ('Date') from features\n",
        "X = data.drop(['Rainfall', 'Date'], axis=1)\n",
        "y = data['RainToday']\n",
        "\n",
        "# Split the dataset into training and testing sets\n",
        "X_train, X_test, y_train, y_test = train_test_split(X, y, test_size=0.2, random_state=42)\n",
        "\n",
        "# Identify numeric columns and standardize them\n",
        "numeric_cols = X_train.select_dtypes(include='number').columns\n",
        "scaler = StandardScaler()\n",
        "X_train[numeric_cols] = scaler.fit_transform(X_train[numeric_cols])\n",
        "X_test[numeric_cols] = scaler.transform(X_test[numeric_cols])\n"
      ],
      "metadata": {
        "id": "B1iln399F7om"
      },
      "execution_count": 32,
      "outputs": []
    },
    {
      "cell_type": "markdown",
      "source": [
        "Kode tersebut mengimpor pustaka dan modul yang diperlukan dari scikit-learn dan pandas. Kode mengasumsikan adanya DataFrame yang dinamai 'data' yang berisi fitur dan variabel target. Kolom non-numerik ('Date') dikecualikan dari fitur. Kolom kategorikal diidentifikasi, dan one-hot encoding diterapkan pada mereka. Dataset kemudian dibagi menjadi set pelatihan dan pengujian. Terakhir, model jaringan saraf (MLPClassifier) diinisialisasi dan dilatih menggunakan data pelatihan. Model memiliki satu lapisan tersembunyi dengan 100 neuron, maksimum 1000 iterasi, dan seed acak untuk reproduktibilitas."
      ],
      "metadata": {
        "id": "mXhHoONQLZ0B"
      }
    },
    {
      "cell_type": "code",
      "source": [
        "from sklearn.preprocessing import OneHotEncoder\n",
        "from sklearn.neural_network import MLPClassifier\n",
        "from sklearn.model_selection import train_test_split\n",
        "import pandas as pd\n",
        "\n",
        "# Assuming you have a DataFrame 'data' with features and target\n",
        "# Exclude non-numeric columns ('Date') from features\n",
        "X = data.drop(['Rainfall', 'Date'], axis=1)\n",
        "y = data['RainToday']\n",
        "\n",
        "# Identify and one-hot encode categorical columns\n",
        "categorical_cols = X.select_dtypes(include=['object']).columns\n",
        "X = pd.get_dummies(X, columns=categorical_cols, drop_first=True)\n",
        "\n",
        "# Split the dataset into training and testing sets\n",
        "X_train, X_test, y_train, y_test = train_test_split(X, y, test_size=0.2, random_state=42)\n",
        "\n",
        "# Inisialisasi dan latih model Neural Network\n",
        "model = MLPClassifier(hidden_layer_sizes=(100,), max_iter=1000, random_state=42)\n",
        "model.fit(X_train, y_train)\n",
        "\n"
      ],
      "metadata": {
        "colab": {
          "base_uri": "https://localhost:8080/",
          "height": 74
        },
        "id": "y7crqLdiHr0W",
        "outputId": "56d82df2-77c2-435b-a29d-1581aa8f78ec"
      },
      "execution_count": 35,
      "outputs": [
        {
          "output_type": "execute_result",
          "data": {
            "text/plain": [
              "MLPClassifier(max_iter=1000, random_state=42)"
            ],
            "text/html": [
              "<style>#sk-container-id-1 {color: black;background-color: white;}#sk-container-id-1 pre{padding: 0;}#sk-container-id-1 div.sk-toggleable {background-color: white;}#sk-container-id-1 label.sk-toggleable__label {cursor: pointer;display: block;width: 100%;margin-bottom: 0;padding: 0.3em;box-sizing: border-box;text-align: center;}#sk-container-id-1 label.sk-toggleable__label-arrow:before {content: \"▸\";float: left;margin-right: 0.25em;color: #696969;}#sk-container-id-1 label.sk-toggleable__label-arrow:hover:before {color: black;}#sk-container-id-1 div.sk-estimator:hover label.sk-toggleable__label-arrow:before {color: black;}#sk-container-id-1 div.sk-toggleable__content {max-height: 0;max-width: 0;overflow: hidden;text-align: left;background-color: #f0f8ff;}#sk-container-id-1 div.sk-toggleable__content pre {margin: 0.2em;color: black;border-radius: 0.25em;background-color: #f0f8ff;}#sk-container-id-1 input.sk-toggleable__control:checked~div.sk-toggleable__content {max-height: 200px;max-width: 100%;overflow: auto;}#sk-container-id-1 input.sk-toggleable__control:checked~label.sk-toggleable__label-arrow:before {content: \"▾\";}#sk-container-id-1 div.sk-estimator input.sk-toggleable__control:checked~label.sk-toggleable__label {background-color: #d4ebff;}#sk-container-id-1 div.sk-label input.sk-toggleable__control:checked~label.sk-toggleable__label {background-color: #d4ebff;}#sk-container-id-1 input.sk-hidden--visually {border: 0;clip: rect(1px 1px 1px 1px);clip: rect(1px, 1px, 1px, 1px);height: 1px;margin: -1px;overflow: hidden;padding: 0;position: absolute;width: 1px;}#sk-container-id-1 div.sk-estimator {font-family: monospace;background-color: #f0f8ff;border: 1px dotted black;border-radius: 0.25em;box-sizing: border-box;margin-bottom: 0.5em;}#sk-container-id-1 div.sk-estimator:hover {background-color: #d4ebff;}#sk-container-id-1 div.sk-parallel-item::after {content: \"\";width: 100%;border-bottom: 1px solid gray;flex-grow: 1;}#sk-container-id-1 div.sk-label:hover label.sk-toggleable__label {background-color: #d4ebff;}#sk-container-id-1 div.sk-serial::before {content: \"\";position: absolute;border-left: 1px solid gray;box-sizing: border-box;top: 0;bottom: 0;left: 50%;z-index: 0;}#sk-container-id-1 div.sk-serial {display: flex;flex-direction: column;align-items: center;background-color: white;padding-right: 0.2em;padding-left: 0.2em;position: relative;}#sk-container-id-1 div.sk-item {position: relative;z-index: 1;}#sk-container-id-1 div.sk-parallel {display: flex;align-items: stretch;justify-content: center;background-color: white;position: relative;}#sk-container-id-1 div.sk-item::before, #sk-container-id-1 div.sk-parallel-item::before {content: \"\";position: absolute;border-left: 1px solid gray;box-sizing: border-box;top: 0;bottom: 0;left: 50%;z-index: -1;}#sk-container-id-1 div.sk-parallel-item {display: flex;flex-direction: column;z-index: 1;position: relative;background-color: white;}#sk-container-id-1 div.sk-parallel-item:first-child::after {align-self: flex-end;width: 50%;}#sk-container-id-1 div.sk-parallel-item:last-child::after {align-self: flex-start;width: 50%;}#sk-container-id-1 div.sk-parallel-item:only-child::after {width: 0;}#sk-container-id-1 div.sk-dashed-wrapped {border: 1px dashed gray;margin: 0 0.4em 0.5em 0.4em;box-sizing: border-box;padding-bottom: 0.4em;background-color: white;}#sk-container-id-1 div.sk-label label {font-family: monospace;font-weight: bold;display: inline-block;line-height: 1.2em;}#sk-container-id-1 div.sk-label-container {text-align: center;}#sk-container-id-1 div.sk-container {/* jupyter's `normalize.less` sets `[hidden] { display: none; }` but bootstrap.min.css set `[hidden] { display: none !important; }` so we also need the `!important` here to be able to override the default hidden behavior on the sphinx rendered scikit-learn.org. See: https://github.com/scikit-learn/scikit-learn/issues/21755 */display: inline-block !important;position: relative;}#sk-container-id-1 div.sk-text-repr-fallback {display: none;}</style><div id=\"sk-container-id-1\" class=\"sk-top-container\"><div class=\"sk-text-repr-fallback\"><pre>MLPClassifier(max_iter=1000, random_state=42)</pre><b>In a Jupyter environment, please rerun this cell to show the HTML representation or trust the notebook. <br />On GitHub, the HTML representation is unable to render, please try loading this page with nbviewer.org.</b></div><div class=\"sk-container\" hidden><div class=\"sk-item\"><div class=\"sk-estimator sk-toggleable\"><input class=\"sk-toggleable__control sk-hidden--visually\" id=\"sk-estimator-id-1\" type=\"checkbox\" checked><label for=\"sk-estimator-id-1\" class=\"sk-toggleable__label sk-toggleable__label-arrow\">MLPClassifier</label><div class=\"sk-toggleable__content\"><pre>MLPClassifier(max_iter=1000, random_state=42)</pre></div></div></div></div></div>"
            ]
          },
          "metadata": {},
          "execution_count": 35
        }
      ]
    },
    {
      "cell_type": "markdown",
      "source": [
        "`MLPClassifier` adalah kelas dalam pustaka scikit-learn yang mewakili implementasi dari jaringan saraf dengan pembelajaran yang mendalam atau lebih dikenal sebagai Multi-Layer Perceptron (MLP). Di sini, ada dua parameter yang diberikan saat menginisialisasi objek MLPClassifier:\n",
        "\n",
        "1. `max_iter=1000`: Ini adalah parameter yang menentukan jumlah maksimum iterasi (epoch) yang akan dilakukan oleh optimizer ketika melatih model. Dalam konteks ini, proses pelatihan akan dihentikan setelah 1000 iterasi atau epoch. Jumlah iterasi ini dapat mempengaruhi kualitas dan konvergensi model.\n",
        "\n",
        "2. `random_state=42`: Ini adalah parameter yang menetapkan seed untuk generator angka acak. Menetapkan seed acak memastikan bahwa proses pelatihan jaringan saraf dapat direproduksi dengan hasil yang sama setiap kali kode dijalankan. Dengan kata lain, jika Anda menjalankan kode ini beberapa kali dengan seed acak yang sama, Anda akan mendapatkan hasil yang konsisten. Ini berguna untuk tujuan reproduktibilitas dan pemecahan masalah.\n",
        "\n",
        "Jadi, output di atas menciptakan objek MLPClassifier dengan konfigurasi tersebut untuk digunakan dalam pelatihan model jaringan saraf."
      ],
      "metadata": {
        "id": "RI1pRfLxLp00"
      }
    },
    {
      "cell_type": "markdown",
      "source": [
        "```python\n",
        "# Lakukan prediksi pada data uji\n",
        "y_pred = model.predict(X_test)\n",
        "```\n",
        "\n",
        "Code tersebut melakukan prediksi menggunakan model yang telah di-train pada data uji (`X_test`). Hasil prediksi disimpan dalam variabel `y_pred`."
      ],
      "metadata": {
        "id": "sP2xy_LHLuNJ"
      }
    },
    {
      "cell_type": "code",
      "source": [
        "# Lakukan prediksi pada data uji\n",
        "y_pred = model.predict(X_test)"
      ],
      "metadata": {
        "id": "5W9aTuIFIDlR"
      },
      "execution_count": 36,
      "outputs": []
    },
    {
      "cell_type": "markdown",
      "source": [
        "```python\n",
        "# Menghitung akurasi model dengan menggunakan fungsi accuracy_score dari library scikit-learn\n",
        "accuracy = accuracy_score(y_test, y_pred)\n",
        "\n",
        "# Menampilkan hasil akurasi model dalam bentuk persentase dengan dua angka desimal di belakang koma\n",
        "print(f'Akurasi Model: {accuracy * 100:.2f}%')\n",
        "```\n",
        "\n",
        "Code tersebut menghitung akurasi dari model machine learning dengan menggunakan fungsi `accuracy_score` dari library scikit-learn. Akurasi dihitung dengan membandingkan nilai yang diprediksi oleh model (`y_pred`) dengan nilai sebenarnya (`y_test`). Hasil akurasi kemudian ditampilkan dalam bentuk persentase dengan dua angka desimal di belakang koma menggunakan fungsi `print`."
      ],
      "metadata": {
        "id": "KtDRoSpSLvH-"
      }
    },
    {
      "cell_type": "code",
      "source": [
        "# Evaluasi model\n",
        "accuracy = accuracy_score(y_test, y_pred)\n",
        "print(f'Akurasi Model: {accuracy * 100:.2f}%')"
      ],
      "metadata": {
        "colab": {
          "base_uri": "https://localhost:8080/"
        },
        "id": "pl8IEhi5IFqP",
        "outputId": "688d35ad-dbe4-4c95-dac8-bc0cdacc0b61"
      },
      "execution_count": 37,
      "outputs": [
        {
          "output_type": "stream",
          "name": "stdout",
          "text": [
            "Akurasi Model: 100.00%\n"
          ]
        }
      ]
    },
    {
      "cell_type": "markdown",
      "source": [
        "Output \"Akurasi Model: 100.00%\" menunjukkan bahwa model machine learning yang telah dibuat memberikan prediksi yang sempurna atau tepat sesuai dengan nilai sebenarnya pada data uji (`y_test`). Dengan kata lain, setiap prediksi yang dihasilkan oleh model sama dengan nilai sebenarnya, sehingga akurasi model mencapai 100%.\n",
        "\n",
        "Akurasi merupakan metrik evaluasi yang mengukur sejauh mana model dapat membuat prediksi yang benar. Dalam konteks ini, akurasi sebesar 100% menunjukkan bahwa tidak ada satu pun sampel di data uji yang memiliki prediksi yang salah oleh model. Meskipun hasil ini terlihat sangat baik, perlu diingat bahwa mencapai akurasi 100% juga dapat menimbulkan kecurigaan, terutama jika tidak ada langkah-langkah pengujian yang memadai dan jika model belum diuji dengan dataset yang lebih luas.\n",
        "\n",
        "Penting untuk memeriksa performa model secara menyeluruh menggunakan berbagai metrik evaluasi dan menguji model pada dataset yang berbeda untuk memastikan kehandalan dan generalitasnya. Akurasi sendiri mungkin tidak mencukupi dalam beberapa kasus, terutama jika data tidak seimbang atau jika terdapat kelas minoritas yang penting untuk diidentifikasi dengan akurat."
      ],
      "metadata": {
        "id": "JT_7UPiZL7Il"
      }
    }
  ]
}