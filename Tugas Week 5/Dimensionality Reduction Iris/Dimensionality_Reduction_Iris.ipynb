{
  "nbformat": 4,
  "nbformat_minor": 0,
  "metadata": {
    "colab": {
      "provenance": []
    },
    "kernelspec": {
      "name": "python3",
      "display_name": "Python 3"
    },
    "language_info": {
      "name": "python"
    }
  },
  "cells": [
    {
      "cell_type": "markdown",
      "source": [
        "# Daffa Asyqar Ahmad Khalisheka\n",
        "\n",
        "# 1103200034\n",
        "\n",
        "# Machine Learning Class\n",
        "\n",
        "# Telkom University"
      ],
      "metadata": {
        "id": "4EsyspaVeZo_"
      }
    },
    {
      "cell_type": "code",
      "metadata": {
        "id": "Ot6aDmFNv93n"
      },
      "source": [
        "# Import library sklearn.datasets untuk mengambil dataset Iris\n",
        "from sklearn import datasets\n",
        "# Import library sklearn.model_selection untuk membagi dataset menjadi train set dan test set\n",
        "from sklearn.model_selection import train_test_split\n",
        "\n",
        "# Load dataset Iris\n",
        "iris = datasets.load_iris()\n",
        "# Menyimpan atribut dataset ke dalam variabel 'atribut'\n",
        "atribut = iris.data\n",
        "# Menyimpan label dataset ke dalam variabel 'label'\n",
        "label = iris.target\n",
        "\n",
        "# Memisahkan dataset menjadi train set dan test set dengan perbandingan 80:20\n",
        "X_train, X_test, y_train, y_test = train_test_split(\n",
        "    atribut, label, test_size=0.2)\n"
      ],
      "execution_count": 7,
      "outputs": []
    },
    {
      "cell_type": "markdown",
      "source": [
        "Kode di atas digunakan untuk mengimpor dataset Iris menggunakan library sklearn.datasets. Dataset Iris berisi atribut dan label dari bunga iris. Kemudian, kode tersebut membagi dataset ini menjadi dua bagian: train set (X_train dan y_train) dan test set (X_test dan y_test) dengan perbandingan 80:20 menggunakan library sklearn.model_selection.train_test_split. Dengan pemisahan ini, Anda dapat menggunakan train set untuk melatih model dan test set untuk menguji kinerja model tersebut."
      ],
      "metadata": {
        "id": "q1w7uuxMxqrG"
      }
    },
    {
      "cell_type": "markdown",
      "metadata": {
        "id": "1HJmS20kwZwF"
      },
      "source": [
        "Hasil akurasi tanpa PCA"
      ]
    },
    {
      "cell_type": "code",
      "metadata": {
        "id": "wVDWbBAiwJrl"
      },
      "source": [
        "# Mengimpor kelas DecisionTreeClassifier dari modul tree di library scikit-learn\n",
        "from sklearn import tree\n",
        "\n",
        "# Membuat objek DecisionTreeClassifier\n",
        "decision_tree = tree.DecisionTreeClassifier()\n",
        "\n",
        "# Melatih model pertama menggunakan data pelatihan (X_train dan y_train)\n",
        "model_pertama = decision_tree.fit(X_train, y_train)\n",
        "\n",
        "# Menghitung akurasi model pertama menggunakan data pengujian (X_test dan y_test)\n",
        "akurasi_model_pertama = model_pertama.score(X_test, y_test)\n"
      ],
      "execution_count": 8,
      "outputs": []
    },
    {
      "cell_type": "markdown",
      "source": [
        "Kode di atas mengilustrasikan penggunaan DecisionTreeClassifier dari library scikit-learn. Langkah-langkahnya adalah sebagai berikut:\n",
        "\n",
        "1. Mengimpor kelas DecisionTreeClassifier dari modul tree di library scikit-learn.\n",
        "2. Membuat objek DecisionTreeClassifier dengan nama `decision_tree`.\n",
        "3. Melatih model pertama dengan menggunakan data pelatihan (X_train dan y_train) menggunakan metode `fit()`.\n",
        "4. Menghitung akurasi model pertama dengan menggunakan data pengujian (X_test dan y_test) menggunakan metode `score()`. Akurasi ini mengukur sejauh mana model pertama mampu memprediksi dengan benar berdasarkan data pengujian yang diberikan."
      ],
      "metadata": {
        "id": "LrkrBd05xxBV"
      }
    },
    {
      "cell_type": "code",
      "metadata": {
        "colab": {
          "base_uri": "https://localhost:8080/"
        },
        "id": "-NITYKznwZKw",
        "outputId": "0703681b-324f-480c-d6ae-fd64a3691ad7"
      },
      "source": [
        "from sklearn.decomposition import PCA\n",
        "\n",
        "#membuat objek PCA dengan 4 principal component\n",
        "pca = PCA(n_components=4)\n",
        "\n",
        "#mengaplikasikan PCA pada dataset\n",
        "pca_attributes = pca.fit_transform(X_train)\n",
        "\n",
        "#melihat variance dari setiap atribut\n",
        "pca.explained_variance_ratio_"
      ],
      "execution_count": 4,
      "outputs": [
        {
          "output_type": "execute_result",
          "data": {
            "text/plain": [
              "array([0.9233377 , 0.05444316, 0.01704481, 0.00517433])"
            ]
          },
          "metadata": {},
          "execution_count": 4
        }
      ]
    },
    {
      "cell_type": "markdown",
      "source": [
        "Kode di atas mengilustrasikan penggunaan PCA (Principal Component Analysis) dalam machine learning dengan library scikit-learn (sklearn) di Python. PCA adalah metode untuk mengurangi dimensi data dengan memproyeksikannya ke komponen utama yang paling penting. Dalam contoh ini:\n",
        "\n",
        "1. Mengimpor modul PCA dari sklearn.\n",
        "2. Membuat objek PCA dengan spesifikasi bahwa kita ingin menghasilkan 4 komponen utama dari data.\n",
        "3. Mengaplikasikan PCA pada data pelatihan (X_train) dengan menggunakan metode `fit_transform()`.\n",
        "4. Menghitung variance yang dijelaskan oleh setiap komponen utama dengan menggunakan atribut `explained_variance_ratio_`. Hasilnya adalah array yang menunjukkan bahwa komponen utama pertama (PC1) menjelaskan sebagian besar variasi dalam data (sekitar 92.3%), diikuti oleh PC2 (sekitar 5.4%), PC3 (sekitar 1.7%), dan PC4 (sekitar 0.5%). Ini membantu kita memahami kontribusi masing-masing komponen utama terhadap variasi data."
      ],
      "metadata": {
        "id": "dKMzNGQoxYoh"
      }
    },
    {
      "cell_type": "markdown",
      "metadata": {
        "id": "7LzQ_YOPZElS"
      },
      "source": [
        "Ambil atribut yang memiliki variance 0.921 dan 0.05"
      ]
    },
    {
      "cell_type": "code",
      "metadata": {
        "id": "Hl-cweoGZBk4"
      },
      "source": [
        "#PCA dengan 2 principal component\n",
        "pca = PCA(n_components=2)\n",
        "X_train_pca = pca.fit_transform(X_train)\n",
        "X_test_pca = pca.fit_transform(X_test)"
      ],
      "execution_count": 5,
      "outputs": []
    },
    {
      "cell_type": "markdown",
      "source": [
        "Kode di atas menggunakan metode Principal Component Analysis (PCA) untuk mengurangi dimensi data menjadi dua komponen utama. Ini dilakukan dengan menggunakan objek PCA dengan n_components=2, yang berarti kita ingin menghasilkan dua komponen utama dari data asli. Data pelatihan (X_train) dan data pengujian (X_test) diubah ke dalam representasi yang lebih sederhana dengan hanya dua komponen utama menggunakan metode fit_transform."
      ],
      "metadata": {
        "id": "iEwVfuyvx2mX"
      }
    },
    {
      "cell_type": "code",
      "metadata": {
        "colab": {
          "base_uri": "https://localhost:8080/"
        },
        "id": "Z0_iYlb2ZYEq",
        "outputId": "12b34fe8-b840-4a0f-f2fb-d0fc5f55e304"
      },
      "source": [
        "#uji akurasi classifier\n",
        "model2 = decision_tree.fit(X_train_pca, y_train)\n",
        "model2.score(X_test_pca, y_test)"
      ],
      "execution_count": 6,
      "outputs": [
        {
          "output_type": "execute_result",
          "data": {
            "text/plain": [
              "0.9333333333333333"
            ]
          },
          "metadata": {},
          "execution_count": 6
        }
      ]
    },
    {
      "cell_type": "markdown",
      "source": [
        "Akurasi dari classifier model yang digunakan adalah sekitar 93.33%."
      ],
      "metadata": {
        "id": "rPzj0ab2xgxW"
      }
    },
    {
      "cell_type": "markdown",
      "metadata": {
        "id": "YuimgqhZZmnb"
      },
      "source": [
        "Keterangan: Hanya dengan dua atribut kita telah mendapatkan akurasi yang tinggi. Denan atribut yang lebih sedikit, proses yang dijalankan menjadi singkat."
      ]
    }
  ]
}